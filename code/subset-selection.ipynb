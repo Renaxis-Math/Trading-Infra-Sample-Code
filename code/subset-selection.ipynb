{
 "cells": [
  {
   "cell_type": "markdown",
   "metadata": {},
   "source": [
    "# Author: Ryan Butler\n",
    "\n",
    "Goal: Figure out how to implement subset selection"
   ]
  },
  {
   "cell_type": "code",
   "execution_count": 2,
   "metadata": {},
   "outputs": [],
   "source": [
    "import consts, test_helper\n",
    "import helper\n",
    "import importlib\n",
    "import pandas as pd\n",
    "import numpy as np\n",
    "import re\n",
    "import matplotlib.pyplot as plt\n",
    "import sklearn, scipy, requests\n",
    "import random"
   ]
  },
  {
   "cell_type": "code",
   "execution_count": 3,
   "metadata": {},
   "outputs": [],
   "source": [
    "# General Constants\n",
    "USER = \"RYAN\"\n",
    "FILE_PATH = consts.PATH_MAP[USER]\n",
    "\n",
    "RESPONSE_NAME = consts.RESPONSE_NAME\n",
    "\n",
    "LASSO = \"LASSO\"\n",
    "XGBOOST = \"XGBOOST\"\n",
    "\n",
    "ALPHA = 0.05 # Set significance level"
   ]
  },
  {
   "cell_type": "code",
   "execution_count": 4,
   "metadata": {},
   "outputs": [],
   "source": [
    "TEST_START  = \"20180201\"\n",
    "TRAIN_TEST_GAP = 31"
   ]
  },
  {
   "cell_type": "code",
   "execution_count": 5,
   "metadata": {},
   "outputs": [
    {
     "name": "stdout",
     "output_type": "stream",
     "text": [
      "No YYYYMMDD datetime matched.\n",
      "\n",
      "Filtered File Dates: ['data.20170103_1200', 'data.20170104_1200', 'data.20170105_1200', 'data.20170106_1200', 'data.20170109_1200', 'data.20170110_1200', 'data.20170111_1200', 'data.20170112_1200', 'data.20170113_1200', 'data.20170117_1200', 'data.20170118_1200', 'data.20170119_1200', 'data.20170120_1200', 'data.20170123_1200', 'data.20170124_1200', 'data.20170125_1200', 'data.20170126_1200', 'data.20170127_1200', 'data.20170130_1200', 'data.20170131_1200', 'data.20170201_1200', 'data.20170202_1200', 'data.20170203_1200', 'data.20170206_1200', 'data.20170207_1200', 'data.20170208_1200', 'data.20170209_1200', 'data.20170210_1200', 'data.20170213_1200', 'data.20170214_1200', 'data.20170215_1200', 'data.20170216_1200', 'data.20170217_1200', 'data.20170221_1200', 'data.20170222_1200', 'data.20170223_1200', 'data.20170224_1200', 'data.20170227_1200', 'data.20170228_1200', 'data.20170301_1200', 'data.20170302_1200', 'data.20170303_1200', 'data.20170306_1200', 'data.20170307_1200', 'data.20170308_1200', 'data.20170309_1200', 'data.20170310_1200', 'data.20170313_1200', 'data.20170314_1200', 'data.20170315_1200', 'data.20170316_1200', 'data.20170317_1200', 'data.20170320_1200', 'data.20170321_1200', 'data.20170322_1200', 'data.20170323_1200', 'data.20170324_1200', 'data.20170327_1200', 'data.20170328_1200', 'data.20170329_1200', 'data.20170330_1200', 'data.20170331_1200', 'data.20170403_1200', 'data.20170404_1200', 'data.20170405_1200', 'data.20170406_1200', 'data.20170407_1200', 'data.20170410_1200', 'data.20170411_1200', 'data.20170412_1200', 'data.20170413_1200', 'data.20170417_1200', 'data.20170418_1200', 'data.20170419_1200', 'data.20170420_1200', 'data.20170421_1200', 'data.20170424_1200', 'data.20170425_1200', 'data.20170426_1200', 'data.20170427_1200', 'data.20170428_1200', 'data.20170501_1200', 'data.20170502_1200', 'data.20170503_1200', 'data.20170504_1200', 'data.20170505_1200', 'data.20170508_1200', 'data.20170509_1200', 'data.20170510_1200', 'data.20170511_1200', 'data.20170512_1200', 'data.20170515_1200', 'data.20170516_1200', 'data.20170517_1200', 'data.20170518_1200', 'data.20170519_1200', 'data.20170522_1200', 'data.20170523_1200', 'data.20170524_1200', 'data.20170525_1200', 'data.20170526_1200', 'data.20170530_1200', 'data.20170531_1200', 'data.20170601_1200', 'data.20170602_1200', 'data.20170605_1200', 'data.20170606_1200', 'data.20170607_1200', 'data.20170608_1200', 'data.20170609_1200', 'data.20170612_1200', 'data.20170613_1200', 'data.20170614_1200', 'data.20170615_1200', 'data.20170616_1200', 'data.20170619_1200', 'data.20170620_1200', 'data.20170621_1200', 'data.20170622_1200', 'data.20170623_1200', 'data.20170626_1200', 'data.20170627_1200', 'data.20170628_1200', 'data.20170629_1200', 'data.20170630_1200', 'data.20170703_1200', 'data.20170705_1200', 'data.20170706_1200', 'data.20170707_1200', 'data.20170710_1200', 'data.20170711_1200', 'data.20170712_1200', 'data.20170713_1200', 'data.20170714_1200', 'data.20170717_1200', 'data.20170718_1200', 'data.20170719_1200', 'data.20170720_1200', 'data.20170721_1200', 'data.20170724_1200', 'data.20170725_1200', 'data.20170726_1200', 'data.20170727_1200', 'data.20170728_1200', 'data.20170731_1200', 'data.20170801_1200', 'data.20170802_1200', 'data.20170803_1200', 'data.20170804_1200', 'data.20170807_1200', 'data.20170808_1200', 'data.20170809_1200', 'data.20170810_1200', 'data.20170811_1200', 'data.20170814_1200', 'data.20170815_1200', 'data.20170816_1200', 'data.20170817_1200', 'data.20170818_1200', 'data.20170821_1200', 'data.20170822_1200', 'data.20170823_1200', 'data.20170824_1200', 'data.20170825_1200', 'data.20170828_1200', 'data.20170829_1200', 'data.20170830_1200', 'data.20170831_1200', 'data.20170901_1200', 'data.20170905_1200', 'data.20170906_1200', 'data.20170907_1200', 'data.20170908_1200', 'data.20170911_1200', 'data.20170912_1200', 'data.20170913_1200', 'data.20170914_1200', 'data.20170915_1200', 'data.20170918_1200', 'data.20170919_1200', 'data.20170920_1200', 'data.20170921_1200', 'data.20170922_1200', 'data.20170925_1200', 'data.20170926_1200', 'data.20170927_1200', 'data.20170928_1200', 'data.20170929_1200', 'data.20171002_1200', 'data.20171003_1200', 'data.20171004_1200', 'data.20171005_1200', 'data.20171006_1200', 'data.20171009_1200', 'data.20171010_1200', 'data.20171011_1200', 'data.20171012_1200', 'data.20171013_1200', 'data.20171016_1200', 'data.20171017_1200', 'data.20171018_1200', 'data.20171019_1200', 'data.20171020_1200', 'data.20171023_1200', 'data.20171024_1200', 'data.20171025_1200', 'data.20171026_1200', 'data.20171027_1200', 'data.20171030_1200', 'data.20171031_1200', 'data.20171101_1200', 'data.20171102_1200', 'data.20171103_1200', 'data.20171106_1200', 'data.20171107_1200', 'data.20171108_1200', 'data.20171109_1200', 'data.20171110_1200', 'data.20171113_1200', 'data.20171114_1200', 'data.20171115_1200', 'data.20171116_1200', 'data.20171117_1200', 'data.20171120_1200', 'data.20171121_1200', 'data.20171122_1200', 'data.20171124_1200', 'data.20171127_1200', 'data.20171128_1200', 'data.20171129_1200', 'data.20171130_1200', 'data.20171201_1200', 'data.20171204_1200', 'data.20171205_1200', 'data.20171206_1200', 'data.20171207_1200', 'data.20171208_1200', 'data.20171211_1200', 'data.20171212_1200', 'data.20171213_1200', 'data.20171214_1200', 'data.20171215_1200', 'data.20171218_1200', 'data.20171219_1200', 'data.20171220_1200', 'data.20171221_1200', 'data.20171222_1200', 'data.20171226_1200', 'data.20171227_1200', 'data.20171228_1200', 'data.20171229_1200']\n",
      "\n",
      "Filtered File Dates: ['data.20150701_1200', 'data.20150702_1200', 'data.20150706_1200', 'data.20150707_1200', 'data.20150708_1200', 'data.20150709_1200', 'data.20150710_1200', 'data.20150713_1200', 'data.20150714_1200', 'data.20150715_1200', 'data.20150716_1200', 'data.20150717_1200', 'data.20150720_1200', 'data.20150721_1200', 'data.20150722_1200', 'data.20150723_1200', 'data.20150724_1200', 'data.20150727_1200', 'data.20150728_1200', 'data.20150729_1200', 'data.20150730_1200', 'data.20150731_1200']\n",
      "\n"
     ]
    }
   ],
   "source": [
    "importlib.reload(test_helper)\n",
    "data = test_helper.Data(FILE_PATH)\n",
    "train_df = data.update_and_get_train_df(FILE_PATH, TEST_START, movingBack_dayCount=TRAIN_TEST_GAP, years_count=1)\n",
    "test_dfs = data.get_df_between_date(data_path = FILE_PATH, start_date=\"20150701\", end_date=\"20150801\")"
   ]
  },
  {
   "cell_type": "code",
   "execution_count": 5,
   "metadata": {},
   "outputs": [],
   "source": [
    "# Get test DFs\n"
   ]
  },
  {
   "cell_type": "markdown",
   "metadata": {},
   "source": [
    "### Predictors we cannot use: \n",
    "- Equity ID (eqid): Arbitrarily Chosen\n",
    "- tonight: Response var"
   ]
  },
  {
   "cell_type": "code",
   "execution_count": null,
   "metadata": {},
   "outputs": [],
   "source": []
  },
  {
   "cell_type": "code",
   "execution_count": 6,
   "metadata": {},
   "outputs": [],
   "source": [
    "# all_cols = list(train_df.columns)\n",
    "# group = (list(filter(lambda c: re.match(\"relntrds70tr_.*\",c),all_cols)))\n",
    "# group_corr_matrix = train_df[group].corr()\n",
    "# min_coer_predictors(group_corr_matrix, group)"
   ]
  },
  {
   "cell_type": "code",
   "execution_count": 7,
   "metadata": {},
   "outputs": [],
   "source": [
    "# all_cols = list(train_df.columns)\n",
    "# group = (list(filter(lambda c: re.match(\"relvol_.*\",c),all_cols)))\n",
    "# group_corr_matrix = train_df[group].corr()\n",
    "# min_coer_predictors(group_corr_matrix, group)"
   ]
  },
  {
   "cell_type": "markdown",
   "metadata": {},
   "source": [
    "2 functions to get the minimally correlated predictors"
   ]
  },
  {
   "cell_type": "code",
   "execution_count": 6,
   "metadata": {},
   "outputs": [],
   "source": [
    "def min_coer_predictors(df, group):\n",
    "    pred1 = None\n",
    "    pred2 = None\n",
    "    min_corr = 1\n",
    "    for predictor1 in group:\n",
    "        for predictor2 in group: \n",
    "            corr = abs(df.loc[predictor1, predictor2])\n",
    "            if corr < min_corr:\n",
    "                pred1 = predictor1\n",
    "                pred2 = predictor2\n",
    "                min_corr = corr\n",
    "    return pred1, pred2\n",
    "\n",
    "def group_cols(regex: re, all_cols_df:pd.DataFrame):\n",
    "    all_cols = list(all_cols_df.columns)\n",
    "    group = (list(filter(lambda c: re.match(regex,c),all_cols)))\n",
    "    group_corr_matrix = train_df[group].corr()\n",
    "    return min_coer_predictors(group_corr_matrix, group)"
   ]
  },
  {
   "cell_type": "code",
   "execution_count": 7,
   "metadata": {},
   "outputs": [],
   "source": [
    "best_columns = []\n",
    "for regex in [r\"(cft).*|momr.*\", r\"qe_\", r\"moorelvol_open_\", r\"mocrelvol_open_.*\",r\"relntrds70tr_.*\",r\"relvol_.*\", r\"relavgts70tr_.*\", r\"rel2retcfrtxm_.*\",r\"rrretstr_.*\",r\"rvdelta_.*\", r\"rrirpnxm_l.*\",r\"llirpnxm.*\", r\"tr_.*\",r\"nnetticksrelmultstdev.*\", r\"nnetticksrelrrsign\",r\"nsameticksrelmultstdev\",r\"nsameticksrelrrsign_\" ]:\n",
    "    p1, p2 = group_cols(regex, train_df)\n",
    "    best_columns.append(p1)\n",
    "    best_columns.append(p2)"
   ]
  },
  {
   "cell_type": "code",
   "execution_count": 8,
   "metadata": {},
   "outputs": [],
   "source": [
    "# 34 minimally correlated columns and 34 random columns\n",
    "FEATURE_COL_NAMES = best_columns\n",
    "column_names = list(train_df.columns)\n",
    "RANDOM_COLUMN_NAMES = random.sample(column_names[8:], 34) # 8 cols before are response. Can't use them"
   ]
  },
  {
   "cell_type": "code",
   "execution_count": 11,
   "metadata": {},
   "outputs": [
    {
     "name": "stdout",
     "output_type": "stream",
     "text": [
      "No YYYYMMDD datetime matched.\n",
      "\n",
      "You're using: OLS.\n",
      "\n",
      "Features being used: ['cftorrrelstd_open_0', 'momr10d_open_0', 'qe_nt0_open_0', 'qe_prv2_open_0', 'moorelvol_open_0', 'moorelvol_open_17to21', 'mocrelvol_open_1', 'mocrelvol_open_18to22', 'relntrds70tr_dy_7to11', 'relntrds70tr_md_1', 'relvol_lst15_0', 'relvol_nt_12to16', 'relavgts70tr_close_12to16', 'relavgts70tr_close_1to3', 'rel2retcfrtxm_lst15_0', 'rel2retcfrtxm_nt_1', 'rrretstr_dy_7to11', 'rrretstr_nt_1to3', 'rvdelta_am_1', 'rvdelta_lsthrx15_0', 'rrirpnxm_lst15_0', 'rrirpnxm_lsthrx15_0', 'llirpnxm_am_1', 'llirpnxm_lsthrx15_0', 'tr_nt_0', 'tr_nt_12to16', 'nnetticksrelmultstdev_lsthrx15_0', 'nnetticksrelmultstdev_nt_4to6', 'nnetticksrelrrsign_nt_17to21', 'nnetticksrelrrsign_pm_1', 'nsameticksrelmultstdev_nt_17to21', 'nsameticksrelmultstdev_pm_1', 'nsameticksrelrrsign_dy_12to16', 'nsameticksrelrrsign_lst15_0']\n",
      "response_corr = 0.02317092359060354\n",
      "mean_return = 0.00022756024780829908\n",
      "scale factor = 0.9648677776859903\n",
      "response_corr = 0.02317092359060354\n",
      "mean_return = 0.00022756024780829908\n",
      "scale factor = 0.9648677776859903\n"
     ]
    },
    {
     "data": {
      "text/plain": [
       "(0.02317092359060354, 0.00022756024780829908, 0.9648677776859903)"
      ]
     },
     "execution_count": 11,
     "metadata": {},
     "output_type": "execute_result"
    }
   ],
   "source": [
    "ols_model = test_helper.Regression(data_path = FILE_PATH)\n",
    "ols_model.train(train_df, feature_col_names = FEATURE_COL_NAMES)\n",
    "ols_model.get_metric(dataframes = test_dfs)"
   ]
  },
  {
   "cell_type": "code",
   "execution_count": 12,
   "metadata": {},
   "outputs": [
    {
     "name": "stdout",
     "output_type": "stream",
     "text": [
      "No YYYYMMDD datetime matched.\n",
      "\n",
      "You're using: OLS.\n",
      "\n",
      "Features being used: ['rvdelta_am_1', 'rrretstr_dy_4to6', 'nsameticksrelrrsign_nt_17to21', 'relntrds70tr_md_1', 'rrirpnxm_nt_0', 'relntrds70tr_lst15_0', 'llirpnxm_nt_17to21', 'nsameticksrelmultstdev_dy_17to21', 'nsameticksrelmultstdev_pm_1', 'tr_lsthrx15_0', 'rvdelta_dy_7to11', 'rrirpnxm_md_1', 'rrretstr_am_1', 'relntrds70tr_toxhr_0', 'tr_nt_4to6', 'rvdelta_nt_1to3', 'relntrds70tr_dy_4to6', 'rvdelta_nt_1', 'rrretstr_nt_1to3', 'rrirpnxm_dy_7to11', 'rvdelta_lst15_0', 'rrretstr_nt_7to11', 'llirpnxm_nt_1', 'relvol_nt_0', 'rvdelta_lsthrx15_0', 'llirpnxm_nt_4to6', 'rrirpnxm_dy_4to6', 'nsameticksrelmultstdev_md_1', 'nsameticksrelrrsign_nt_1to3', 'nnetticksrelrrsign_am_1', 'relntrds70tr_nt_0', 'liqlog_open_0', 'rrretstr_pm_1', 'nnetticksrelrrsign_nt_1to3']\n",
      "response_corr = 0.044583569514859915\n",
      "mean_return = 0.0003009560742270175\n",
      "scale factor = 0.8980192318304716\n",
      "response_corr = 0.044583569514859915\n",
      "mean_return = 0.0003009560742270175\n",
      "scale factor = 0.8980192318304716\n"
     ]
    },
    {
     "data": {
      "text/plain": [
       "(0.044583569514859915, 0.0003009560742270175, 0.8980192318304716)"
      ]
     },
     "execution_count": 12,
     "metadata": {},
     "output_type": "execute_result"
    }
   ],
   "source": [
    "ols_model = test_helper.Regression(data_path = FILE_PATH)\n",
    "ols_model.train(train_df, feature_col_names = RANDOM_COLUMN_NAMES)\n",
    "ols_model.get_metric(dataframes = test_dfs)"
   ]
  },
  {
   "cell_type": "code",
   "execution_count": 13,
   "metadata": {},
   "outputs": [
    {
     "name": "stdout",
     "output_type": "stream",
     "text": [
      "No YYYYMMDD datetime matched.\n",
      "\n",
      "You're using: LASSO.\n",
      "\n",
      "Features being used: ['cftorrrelstd_open_0', 'momr10d_open_0', 'qe_nt0_open_0', 'qe_prv2_open_0', 'moorelvol_open_0', 'moorelvol_open_17to21', 'mocrelvol_open_1', 'mocrelvol_open_18to22', 'relntrds70tr_dy_7to11', 'relntrds70tr_md_1', 'relvol_lst15_0', 'relvol_nt_12to16', 'relavgts70tr_close_12to16', 'relavgts70tr_close_1to3', 'rel2retcfrtxm_lst15_0', 'rel2retcfrtxm_nt_1', 'rrretstr_dy_7to11', 'rrretstr_nt_1to3', 'rvdelta_am_1', 'rvdelta_lsthrx15_0', 'rrirpnxm_lst15_0', 'rrirpnxm_lsthrx15_0', 'llirpnxm_am_1', 'llirpnxm_lsthrx15_0', 'tr_nt_0', 'tr_nt_12to16', 'nnetticksrelmultstdev_lsthrx15_0', 'nnetticksrelmultstdev_nt_4to6', 'nnetticksrelrrsign_nt_17to21', 'nnetticksrelrrsign_pm_1', 'nsameticksrelmultstdev_nt_17to21', 'nsameticksrelmultstdev_pm_1', 'nsameticksrelrrsign_dy_12to16', 'nsameticksrelrrsign_lst15_0']\n",
      "response_corr = -0.0008448045417282249\n",
      "mean_return = -3.192025374517135e-05\n",
      "scale factor = -0.05616739885540533\n",
      "response_corr = -0.0008448045417282249\n",
      "mean_return = -3.192025374517135e-05\n",
      "scale factor = -0.05616739885540533\n"
     ]
    },
    {
     "data": {
      "text/plain": [
       "(-0.0008448045417282249, -3.192025374517135e-05, -0.05616739885540533)"
      ]
     },
     "execution_count": 13,
     "metadata": {},
     "output_type": "execute_result"
    }
   ],
   "source": [
    "lasso_model = test_helper.Regression(regression_type=\"Lasso\", data_path=FILE_PATH)\n",
    "lasso_model.train(train_df, feature_col_names = FEATURE_COL_NAMES)\n",
    "lasso_model.get_metric(dataframes = test_dfs)"
   ]
  },
  {
   "cell_type": "code",
   "execution_count": 14,
   "metadata": {},
   "outputs": [
    {
     "name": "stdout",
     "output_type": "stream",
     "text": [
      "No YYYYMMDD datetime matched.\n",
      "\n",
      "You're using: LASSO.\n",
      "\n",
      "Features being used: ['rvdelta_am_1', 'rrretstr_dy_4to6', 'nsameticksrelrrsign_nt_17to21', 'relntrds70tr_md_1', 'rrirpnxm_nt_0', 'relntrds70tr_lst15_0', 'llirpnxm_nt_17to21', 'nsameticksrelmultstdev_dy_17to21', 'nsameticksrelmultstdev_pm_1', 'tr_lsthrx15_0', 'rvdelta_dy_7to11', 'rrirpnxm_md_1', 'rrretstr_am_1', 'relntrds70tr_toxhr_0', 'tr_nt_4to6', 'rvdelta_nt_1to3', 'relntrds70tr_dy_4to6', 'rvdelta_nt_1', 'rrretstr_nt_1to3', 'rrirpnxm_dy_7to11', 'rvdelta_lst15_0', 'rrretstr_nt_7to11', 'llirpnxm_nt_1', 'relvol_nt_0', 'rvdelta_lsthrx15_0', 'llirpnxm_nt_4to6', 'rrirpnxm_dy_4to6', 'nsameticksrelmultstdev_md_1', 'nsameticksrelrrsign_nt_1to3', 'nnetticksrelrrsign_am_1', 'relntrds70tr_nt_0', 'liqlog_open_0', 'rrretstr_pm_1', 'nnetticksrelrrsign_nt_1to3']\n",
      "response_corr = 0.04217455044187878\n",
      "mean_return = 0.00029171788379682905\n",
      "scale factor = 1.2291349808739915\n",
      "response_corr = 0.04217455044187878\n",
      "mean_return = 0.00029171788379682905\n",
      "scale factor = 1.2291349808739915\n"
     ]
    },
    {
     "data": {
      "text/plain": [
       "(0.04217455044187878, 0.00029171788379682905, 1.2291349808739915)"
      ]
     },
     "execution_count": 14,
     "metadata": {},
     "output_type": "execute_result"
    }
   ],
   "source": [
    "lasso_model = test_helper.Regression(regression_type=\"Lasso\", data_path=FILE_PATH)\n",
    "lasso_model.train(train_df, feature_col_names = RANDOM_COLUMN_NAMES)\n",
    "lasso_model.get_metric(dataframes = test_dfs)"
   ]
  },
  {
   "cell_type": "code",
   "execution_count": 11,
   "metadata": {},
   "outputs": [
    {
     "name": "stdout",
     "output_type": "stream",
     "text": [
      "No YYYYMMDD datetime matched.\n",
      "\n",
      "You're using: XGBOOST.\n",
      "\n",
      "Features being used: ['cftorrrelstd_open_0', 'momr10d_open_0', 'qe_nt0_open_0', 'qe_prv2_open_0', 'moorelvol_open_0', 'moorelvol_open_17to21', 'mocrelvol_open_1', 'mocrelvol_open_18to22', 'relntrds70tr_dy_7to11', 'relntrds70tr_md_1', 'relvol_lst15_0', 'relvol_nt_12to16', 'relavgts70tr_close_12to16', 'relavgts70tr_close_1to3', 'rel2retcfrtxm_lst15_0', 'rel2retcfrtxm_nt_1', 'rrretstr_dy_7to11', 'rrretstr_nt_1to3', 'rvdelta_am_1', 'rvdelta_lsthrx15_0', 'rrirpnxm_lst15_0', 'rrirpnxm_lsthrx15_0', 'llirpnxm_am_1', 'llirpnxm_lsthrx15_0', 'tr_nt_0', 'tr_nt_12to16', 'nnetticksrelmultstdev_lsthrx15_0', 'nnetticksrelmultstdev_nt_4to6', 'nnetticksrelrrsign_nt_17to21', 'nnetticksrelrrsign_pm_1', 'nsameticksrelmultstdev_nt_17to21', 'nsameticksrelmultstdev_pm_1', 'nsameticksrelrrsign_dy_12to16', 'nsameticksrelrrsign_lst15_0']\n",
      " Mean Return: 7.131090243368708e-05\n"
     ]
    }
   ],
   "source": [
    "xgb_model = test_helper.Regression(regression_type=\"XGBoost\", data_path=FILE_PATH)\n",
    "xgb_model.train(train_df, feature_col_names = FEATURE_COL_NAMES)\n",
    "corr,mr,sf = xgb_model.get_metric(test_dfs, printMetrics=False)\n",
    "print(f\" Mean Return: {mr}\")"
   ]
  },
  {
   "cell_type": "code",
   "execution_count": 10,
   "metadata": {},
   "outputs": [
    {
     "name": "stdout",
     "output_type": "stream",
     "text": [
      "No YYYYMMDD datetime matched.\n",
      "\n",
      "You're using: XGBOOST.\n",
      "\n",
      "Features being used: ['nsameticksrelmultstdev_lsthrx15_0', 'nsameticksrelmultstdev_nt_0', 'nnetticksrelmultstdev_lst15_0', 'rrretstr_nt_1', 'rel2retcfrtxm_pm_1', 'nnetticksrelmultstdev_nt_17to21', 'rrretstr_nt_0', 'llirpnxm_dy_12to16', 'rvdelta_toxhr_0', 'tr_lst15_0', 'rrirpnxm_toxhr_0', 'tr_dy_12to16', 'relvol_dy_4to6', 'rel2retcfrtxm_toxhr_0', 'relvol_nt_1', 'llirpnxm_nt_4to6', 'rrirpnxm_lst15_0', 'rrirpnxm_nt_17to21', 'nsameticksrelrrsign_dy_12to16', 'rrretstr_pm_1', 'rvdelta_am_1', 'nnetticksrelmultstdev_dy_1to3', 'nsameticksrelmultstdev_md_1', 'nnetticksrelmultstdev_nt_12to16', 'rrretstr_dy_17to21', 'tr_nt_7to11', 'mocrelvol_open_13to17', 'rrretstr_nt_17to21', 'relntrds70tr_dy_7to11', 'nnetticksrelrrsign_am_1', 'nsameticksrelrrsign_lst15_0', 'tr_nt_17to21', 'rel2retcfrtxm_dy_1to3', 'nnetticksrelrrsign_pm_1']\n"
     ]
    },
    {
     "data": {
      "text/plain": [
       "(0.00874143268130256, 9.869090818199318e-05, 0.06824858)"
      ]
     },
     "execution_count": 10,
     "metadata": {},
     "output_type": "execute_result"
    }
   ],
   "source": [
    "xgb_model = test_helper.Regression(regression_type=\"XGBoost\", data_path=FILE_PATH)\n",
    "xgb_model.train(train_df, feature_col_names = RANDOM_COLUMN_NAMES)\n",
    "xgb_model.get_metric(test_dfs, printMetrics=False)"
   ]
  },
  {
   "cell_type": "markdown",
   "metadata": {},
   "source": [
    "## Null Hypothesis:  \n",
    "Using my feature method results in higher mean returns than random features. \n",
    "## Alternative Hypothesis: \n",
    "There is no difference in mean returns between the model using our method of feature selection and using 34 random features\n",
    "\n",
    "If we fail to reject the null hypothesis then it means that my method of feature selection may result in higher mean returns. \n"
   ]
  },
  {
   "cell_type": "code",
   "execution_count": 13,
   "metadata": {},
   "outputs": [],
   "source": [
    "def random_feats(model_type, *, numFeats = 10):\n",
    "    # Collect Data: \n",
    "    column_names = list(train_df.columns)\n",
    "    mean_returns = []\n",
    "    for trial in range(30):\n",
    "        rand_feats = random.sample(column_names[8:], numFeats)     \n",
    "        model = test_helper.Regression(regression_type=model_type, data_path=FILE_PATH)\n",
    "        model.train(train_df, feature_col_names = rand_feats)\n",
    "        corr,mr,sf = model.get_metric(test_dfs, printMetrics=False)\n",
    "        mean_returns.append(mr)\n",
    "    return mean_returns\n",
    "\n",
    "    "
   ]
  },
  {
   "cell_type": "code",
   "execution_count": 14,
   "metadata": {},
   "outputs": [
    {
     "name": "stdout",
     "output_type": "stream",
     "text": [
      "No YYYYMMDD datetime matched.\n",
      "\n",
      "You're using: LASSO.\n",
      "\n",
      "Features being used: ['cftorrrelstd_open_0', 'momr10d_open_0', 'qe_nt0_open_0', 'qe_prv2_open_0', 'moorelvol_open_0', 'moorelvol_open_17to21', 'mocrelvol_open_1', 'mocrelvol_open_18to22', 'relntrds70tr_dy_7to11', 'relntrds70tr_md_1', 'relvol_lst15_0', 'relvol_nt_12to16', 'relavgts70tr_close_12to16', 'relavgts70tr_close_1to3', 'rel2retcfrtxm_lst15_0', 'rel2retcfrtxm_nt_1', 'rrretstr_dy_7to11', 'rrretstr_nt_1to3', 'rvdelta_am_1', 'rvdelta_lsthrx15_0', 'rrirpnxm_lst15_0', 'rrirpnxm_lsthrx15_0', 'llirpnxm_am_1', 'llirpnxm_lsthrx15_0', 'tr_nt_0', 'tr_nt_12to16', 'nnetticksrelmultstdev_lsthrx15_0', 'nnetticksrelmultstdev_nt_4to6', 'nnetticksrelrrsign_nt_17to21', 'nnetticksrelrrsign_pm_1', 'nsameticksrelmultstdev_nt_17to21', 'nsameticksrelmultstdev_pm_1', 'nsameticksrelrrsign_dy_12to16', 'nsameticksrelrrsign_lst15_0']\n",
      "response_corr = -0.0008448045417282249\n",
      "mean_return = -3.192025374517135e-05\n",
      "scale factor = -0.05616739885540533\n",
      "response_corr = -0.0008448045417282249\n",
      "mean_return = -3.192025374517135e-05\n",
      "scale factor = -0.05616739885540533\n",
      "No YYYYMMDD datetime matched.\n",
      "\n",
      "You're using: LASSO.\n",
      "\n",
      "Features being used: ['nsameticksrelmultstdev_nt_0', 'nnetticksrelmultstdev_lst15_0', 'nsameticksrelmultstdev_lsthrx15_0', 'moorelvol_open_12to16', 'tr_nt_12to16', 'rel2retcfrtxm_nt_1to3', 'rel2retcfrtxm_dy_7to11', 'rel2retcfrtxm_md_1', 'nsameticksrelrrsign_dy_17to21', 'tr_nt_4to6', 'nnetticksrelrrsign_lst15_0', 'nsameticksrelrrsign_dy_12to16', 'nsameticksrelmultstdev_dy_17to21', 'nnetticksrelmultstdev_nt_1', 'relvol_nt_0', 'rrirpnxm_nt_0', 'nsameticksrelrrsign_nt_12to16', 'rel2retcfrtxm_nt_17to21', 'rel2retcfrtxm_nt_7to11', 'nsameticksrelrrsign_nt_1to3', 'rrirpnxm_lsthrx15_0', 'nnetticksrelmultstdev_toxhr_0', 'momr10d_open_0', 'llirpnxm_dy_4to6', 'rel2retcfrtxm_toxhr_0', 'rel2retcfrtxm_lsthrx15_0', 'llirpnxm_nt_1to3', 'relntrds70tr_dy_12to16', 'llirpnxm_md_1', 'rrretstr_dy_17to21', 'nnetticksrelmultstdev_nt_4to6', 'relntrds70tr_nt_4to6', 'rvdelta_nt_1', 'llirpnxm_dy_1to3']\n",
      "No YYYYMMDD datetime matched.\n",
      "\n",
      "You're using: LASSO.\n",
      "\n",
      "Features being used: ['nnetticksrelmultstdev_dy_17to21', 'rel2retcfrtxm_lst15_0', 'rrretstr_toxhr_0', 'nnetticksrelrrsign_pm_1', 'relntrds70tr_md_1', 'nnetticksrelmultstdev_dy_1to3', 'rrretstr_nt_1', 'rel2retcfrtxm_nt_0', 'rrirpnxm_dy_12to16', 'rrirpnxm_pm_1', 'llirpnxm_dy_17to21', 'nnetticksrelmultstdev_nt_1to3', 'nsameticksrelmultstdev_lst15_0', 'llirpnxm_nt_1to3', 'rrirpnxm_nt_12to16', 'relntrds70tr_nt_17to21', 'totrisklog_open_0', 'rvdelta_nt_7to11', 'nnetticksrelmultstdev_dy_7to11', 'nnetticksrelrrsign_dy_7to11', 'nnetticksrelmultstdev_nt_1', 'nnetticksrelrrsign_lsthrx15_0', 'relntrds70tr_lsthrx15_0', 'llirpnxm_nt_4to6', 'nnetticksrelrrsign_nt_7to11', 'rel2retcfrtxm_nt_4to6', 'nnetticksrelrrsign_toxhr_0', 'tr_lsthrx15_0', 'rrirpnxm_toxhr_0', 'rvdelta_nt_12to16', 'rrretstr_nt_4to6', 'relavgts70tr_close_1', 'nsameticksrelmultstdev_nt_1', 'relavgts70tr_close_7to11']\n",
      "No YYYYMMDD datetime matched.\n",
      "\n",
      "You're using: LASSO.\n",
      "\n",
      "Features being used: ['relntrds70tr_nt_7to11', 'nsameticksrelmultstdev_md_1', 'nnetticksrelrrsign_nt_1to3', 'rvdelta_nt_0', 'tr_dy_12to16', 'totrisklog_open_0', 'rrirpnxm_dy_4to6', 'tr_lst15_0', 'rel2retcfrtxm_dy_17to21', 'rrretstr_nt_1', 'nnetticksrelmultstdev_toxhr_0', 'mocrelvol_open_18to22', 'nsameticksrelrrsign_nt_7to11', 'rel2retcfrtxm_dy_12to16', 'rrretstr_lsthrx15_0', 'nnetticksrelrrsign_nt_17to21', 'rrretstr_nt_4to6', 'rel2retcfrtxm_nt_0', 'rel2retcfrtxm_nt_17to21', 'llirpnxm_lst15_0', 'rrretstr_dy_4to6', 'nsameticksrelrrsign_dy_7to11', 'nsameticksrelrrsign_nt_12to16', 'cftorrrelstd_open_0', 'relvol_md_1', 'tr_nt_12to16', 'qe_prv1_open_0', 'nnetticksrelrrsign_nt_12to16', 'qe_fwd1_open_0', 'nsameticksrelrrsign_dy_1to3', 'tr_toxhr_0', 'rrirpnxm_md_1', 'relntrds70tr_dy_12to16', 'llirpnxm_pm_1']\n",
      "No YYYYMMDD datetime matched.\n",
      "\n",
      "You're using: LASSO.\n",
      "\n",
      "Features being used: ['rvdelta_nt_17to21', 'nnetticksrelmultstdev_lst15_0', 'nnetticksrelmultstdev_dy_7to11', 'relntrds70tr_dy_1to3', 'llirpnxm_toxhr_0', 'nsameticksrelrrsign_dy_1to3', 'llirpnxm_lst15_0', 'rrirpnxm_dy_7to11', 'rvdelta_dy_4to6', 'relavgts70tr_close_7to11', 'nnetticksrelmultstdev_dy_1to3', 'nnetticksrelrrsign_dy_4to6', 'rrretstr_dy_17to21', 'llirpnxm_nt_4to6', 'rel2retcfrtxm_pm_1', 'rrirpnxm_lst15_0', 'rvdelta_pm_1', 'llirpnxm_dy_12to16', 'nsameticksrelmultstdev_pm_1', 'nsameticksrelrrsign_nt_0', 'rvdelta_nt_7to11', 'rrretstr_dy_1to3', 'nsameticksrelmultstdev_nt_12to16', 'nsameticksrelmultstdev_dy_17to21', 'rel2retcfrtxm_dy_17to21', 'nsameticksrelrrsign_toxhr_0', 'mocrelvol_open_1', 'momr50dx10d_open_0', 'rel2retcfrtxm_nt_1', 'relvol_dy_17to21', 'nnetticksrelrrsign_toxhr_0', 'rel2retcfrtxm_dy_4to6', 'relntrds70tr_nt_1to3', 'rrretstr_nt_4to6']\n",
      "No YYYYMMDD datetime matched.\n",
      "\n",
      "You're using: LASSO.\n",
      "\n",
      "Features being used: ['rrirpnxm_am_1', 'nnetticksrelmultstdev_dy_7to11', 'nnetticksrelrrsign_nt_0', 'nnetticksrelrrsign_am_1', 'relvol_nt_0', 'nsameticksrelmultstdev_lst15_0', 'nnetticksrelrrsign_nt_12to16', 'rrretstr_dy_12to16', 'nsameticksrelrrsign_nt_17to21', 'relntrds70tr_dy_4to6', 'nsameticksrelmultstdev_nt_12to16', 'llirpnxm_md_1', 'nnetticksrelmultstdev_nt_7to11', 'nnetticksrelmultstdev_lsthrx15_0', 'relntrds70tr_nt_4to6', 'nnetticksrelmultstdev_nt_12to16', 'nsameticksrelmultstdev_lsthrx15_0', 'relntrds70tr_lst15_0', 'relvol_dy_12to16', 'nnetticksrelrrsign_lst15_0', 'relntrds70tr_nt_0', 'tr_nt_12to16', 'mocrelvol_open_8to12', 'totrisklog_open_0', 'cftorrrelstd_open_0', 'relntrds70tr_pm_1', 'llirpnxm_dy_17to21', 'tr_nt_4to6', 'relvol_lst15_0', 'rrirpnxm_dy_1to3', 'nnetticksrelrrsign_nt_1', 'nsameticksrelrrsign_nt_7to11', 'relavgts70tr_now_0', 'relavgts70tr_close_1to3']\n",
      "No YYYYMMDD datetime matched.\n",
      "\n",
      "You're using: LASSO.\n",
      "\n",
      "Features being used: ['llirpnxm_dy_7to11', 'momr50dx10d_open_0', 'relavgts70tr_close_1to3', 'relvol_nt_17to21', 'nnetticksrelrrsign_md_1', 'rel2retcfrtxm_dy_17to21', 'relntrds70tr_am_1', 'nsameticksrelrrsign_nt_12to16', 'nsameticksrelmultstdev_md_1', 'nnetticksrelrrsign_toxhr_0', 'llirpnxm_dy_12to16', 'relntrds70tr_nt_4to6', 'rrirpnxm_dy_1to3', 'llirpnxm_nt_1', 'rel2retcfrtxm_dy_12to16', 'relntrds70tr_nt_17to21', 'nnetticksrelmultstdev_dy_4to6', 'relntrds70tr_pm_1', 'rvdelta_dy_12to16', 'nnetticksrelmultstdev_lst15_0', 'nnetticksrelmultstdev_toxhr_0', 'rrretstr_md_1', 'rel2retcfrtxm_am_1', 'nnetticksrelrrsign_dy_7to11', 'tr_nt_7to11', 'relvol_dy_7to11', 'relvol_dy_4to6', 'nnetticksrelrrsign_nt_12to16', 'nnetticksrelmultstdev_dy_1to3', 'rrirpnxm_nt_12to16', 'llirpnxm_pm_1', 'tr_pm_1', 'nnetticksrelmultstdev_nt_12to16', 'mocrelvol_open_5to7']\n",
      "No YYYYMMDD datetime matched.\n",
      "\n",
      "You're using: LASSO.\n",
      "\n",
      "Features being used: ['relavgts70tr_close_1', 'totrisklog_open_0', 'nnetticksrelmultstdev_nt_17to21', 'moorelvol_open_12to16', 'relavgts70tr_close_7to11', 'nsameticksrelmultstdev_nt_1', 'nsameticksrelmultstdev_dy_4to6', 'nnetticksrelrrsign_toxhr_0', 'rrretstr_lst15_0', 'rel2retcfrtxm_dy_4to6', 'rrirpnxm_dy_4to6', 'relntrds70tr_lst15_0', 'tr_nt_4to6', 'relvol_dy_17to21', 'llirpnxm_nt_1to3', 'momr50dx10d_open_0', 'rrretstr_md_1', 'tr_nt_1', 'rvdelta_am_1', 'nnetticksrelmultstdev_pm_1', 'nsameticksrelrrsign_nt_12to16', 'nnetticksrelrrsign_lst15_0', 'nnetticksrelrrsign_lsthrx15_0', 'tr_pm_1', 'nsameticksrelrrsign_dy_17to21', 'rvdelta_nt_4to6', 'moorelvol_open_1to3', 'relntrds70tr_nt_1', 'rrretstr_pm_1', 'relntrds70tr_nt_0', 'rrretstr_dy_12to16', 'nnetticksrelrrsign_dy_17to21', 'mocrelvol_open_2to4', 'tr_dy_1to3']\n",
      "No YYYYMMDD datetime matched.\n",
      "\n",
      "You're using: LASSO.\n",
      "\n",
      "Features being used: ['relvol_nt_0', 'nsameticksrelrrsign_toxhr_0', 'relntrds70tr_dy_17to21', 'relvol_nt_1', 'nsameticksrelmultstdev_nt_17to21', 'tr_nt_1', 'relntrds70tr_lsthrx15_0', 'relavgts70tr_now_0', 'llirpnxm_nt_1', 'nsameticksrelrrsign_pm_1', 'relvol_dy_12to16', 'relvol_lsthrx15_0', 'relvol_dy_17to21', 'relntrds70tr_md_1', 'rrretstr_dy_12to16', 'rrirpnxm_dy_4to6', 'relntrds70tr_nt_0', 'rel2retcfrtxm_dy_1to3', 'tr_dy_7to11', 'nnetticksrelrrsign_pm_1', 'rrirpnxm_pm_1', 'relvol_pm_1', 'nsameticksrelmultstdev_dy_12to16', 'nsameticksrelrrsign_am_1', 'qe_prv2_open_0', 'nsameticksrelrrsign_dy_7to11', 'rvdelta_dy_7to11', 'nnetticksrelmultstdev_dy_12to16', 'rvdelta_nt_1to3', 'tr_dy_4to6', 'nnetticksrelrrsign_nt_1to3', 'moorelvol_open_4to6', 'nnetticksrelrrsign_dy_7to11', 'nnetticksrelmultstdev_nt_4to6']\n",
      "No YYYYMMDD datetime matched.\n",
      "\n",
      "You're using: LASSO.\n",
      "\n",
      "Features being used: ['rrretstr_md_1', 'relntrds70tr_md_1', 'rvdelta_dy_7to11', 'nsameticksrelmultstdev_lsthrx15_0', 'rrretstr_nt_1', 'rrirpnxm_nt_12to16', 'llirpnxm_am_1', 'nsameticksrelrrsign_lsthrx15_0', 'rel2retcfrtxm_nt_1to3', 'rrretstr_toxhr_0', 'cftorrrelstd_open_0', 'nsameticksrelmultstdev_nt_17to21', 'rel2retcfrtxm_pm_1', 'nsameticksrelmultstdev_lst15_0', 'nsameticksrelmultstdev_nt_7to11', 'qe_prv1_open_0', 'rel2retcfrtxm_dy_1to3', 'rrirpnxm_am_1', 'rrirpnxm_pm_1', 'llirpnxm_lsthrx15_0', 'llirpnxm_dy_4to6', 'llirpnxm_toxhr_0', 'mocrelvol_open_5to7', 'rrretstr_nt_4to6', 'rel2retcfrtxm_lst15_0', 'qe_prv2_open_0', 'rvdelta_nt_1', 'nnetticksrelmultstdev_dy_4to6', 'nsameticksrelmultstdev_toxhr_0', 'moorelvol_open_7to11', 'relavgts70tr_close_12to16', 'tr_nt_1', 'rrirpnxm_nt_1', 'relvol_nt_4to6']\n",
      "No YYYYMMDD datetime matched.\n",
      "\n",
      "You're using: LASSO.\n",
      "\n",
      "Features being used: ['nnetticksrelrrsign_dy_7to11', 'nsameticksrelmultstdev_dy_12to16', 'mocrelvol_open_5to7', 'relntrds70tr_lsthrx15_0', 'rvdelta_pm_1', 'rel2retcfrtxm_nt_4to6', 'nsameticksrelmultstdev_toxhr_0', 'rvdelta_nt_1to3', 'nnetticksrelmultstdev_lst15_0', 'relavgts70tr_close_4to6', 'nsameticksrelmultstdev_dy_1to3', 'tr_nt_1', 'nnetticksrelrrsign_nt_4to6', 'rrretstr_am_1', 'relavgts70tr_close_1', 'rrirpnxm_nt_4to6', 'rrretstr_nt_1', 'relntrds70tr_dy_17to21', 'relntrds70tr_nt_17to21', 'liqlog_open_0', 'nsameticksrelrrsign_nt_0', 'llirpnxm_dy_1to3', 'moorelvol_open_1to3', 'rvdelta_dy_17to21', 'rel2retcfrtxm_dy_4to6', 'llirpnxm_dy_7to11', 'tr_dy_17to21', 'momr10d_open_0', 'llirpnxm_nt_12to16', 'rel2retcfrtxm_dy_12to16', 'nnetticksrelrrsign_nt_17to21', 'rel2retcfrtxm_nt_12to16', 'nnetticksrelmultstdev_nt_1to3', 'rrirpnxm_lst15_0']\n",
      "No YYYYMMDD datetime matched.\n",
      "\n",
      "You're using: LASSO.\n",
      "\n",
      "Features being used: ['liqlog_open_0', 'rrretstr_nt_17to21', 'rrirpnxm_nt_4to6', 'nnetticksrelrrsign_dy_17to21', 'nnetticksrelmultstdev_md_1', 'tr_nt_4to6', 'rrretstr_nt_0', 'nsameticksrelmultstdev_pm_1', 'nnetticksrelrrsign_nt_7to11', 'nnetticksrelmultstdev_nt_1', 'nnetticksrelmultstdev_pm_1', 'nnetticksrelrrsign_nt_0', 'rvdelta_pm_1', 'rrirpnxm_nt_17to21', 'nsameticksrelrrsign_nt_4to6', 'relntrds70tr_dy_12to16', 'momr50dx10d_open_0', 'qe_prv1_open_0', 'cftorrrelstd_open_0', 'nsameticksrelrrsign_dy_17to21', 'llirpnxm_nt_0', 'nnetticksrelrrsign_nt_12to16', 'relntrds70tr_dy_1to3', 'relntrds70tr_nt_1to3', 'nsameticksrelmultstdev_md_1', 'rrirpnxm_dy_1to3', 'rel2retcfrtxm_toxhr_0', 'llirpnxm_toxhr_0', 'qe_fwd1_open_0', 'qe_prv2_open_0', 'tr_dy_1to3', 'nsameticksrelrrsign_dy_1to3', 'nnetticksrelmultstdev_toxhr_0', 'rrretstr_md_1']\n",
      "No YYYYMMDD datetime matched.\n",
      "\n",
      "You're using: LASSO.\n",
      "\n",
      "Features being used: ['tr_nt_7to11', 'nnetticksrelmultstdev_pm_1', 'relntrds70tr_nt_0', 'nnetticksrelmultstdev_nt_0', 'llirpnxm_lsthrx15_0', 'tr_toxhr_0', 'relntrds70tr_nt_1to3', 'llirpnxm_nt_12to16', 'qe_fwd1_open_0', 'tr_nt_4to6', 'nsameticksrelmultstdev_lst15_0', 'nnetticksrelmultstdev_dy_12to16', 'tr_am_1', 'rrirpnxm_dy_4to6', 'rrirpnxm_lst15_0', 'rvdelta_am_1', 'rrirpnxm_dy_7to11', 'rrretstr_lst15_0', 'rel2retcfrtxm_nt_1', 'relvol_md_1', 'rvdelta_nt_1', 'tr_nt_1', 'rvdelta_dy_12to16', 'nsameticksrelrrsign_toxhr_0', 'rvdelta_md_1', 'relvol_nt_12to16', 'llirpnxm_dy_7to11', 'relvol_nt_4to6', 'nsameticksrelmultstdev_nt_1to3', 'mocrelvol_open_18to22', 'rel2retcfrtxm_nt_1to3', 'nsameticksrelrrsign_nt_4to6', 'rrirpnxm_nt_7to11', 'nsameticksrelmultstdev_dy_1to3']\n",
      "No YYYYMMDD datetime matched.\n",
      "\n",
      "You're using: LASSO.\n",
      "\n",
      "Features being used: ['rrirpnxm_nt_12to16', 'tr_lst15_0', 'tr_nt_1to3', 'tr_am_1', 'rvdelta_nt_17to21', 'rvdelta_md_1', 'relntrds70tr_toxhr_0', 'llirpnxm_nt_17to21', 'relvol_nt_7to11', 'relvol_am_1', 'tr_pm_1', 'rel2retcfrtxm_nt_4to6', 'tr_nt_1', 'relntrds70tr_dy_4to6', 'nnetticksrelrrsign_nt_0', 'nnetticksrelrrsign_dy_1to3', 'llirpnxm_dy_7to11', 'nnetticksrelrrsign_nt_1', 'rrretstr_lst15_0', 'rrirpnxm_nt_4to6', 'cftorrrelstd_open_0', 'nsameticksrelmultstdev_dy_12to16', 'relvol_dy_12to16', 'rel2retcfrtxm_dy_7to11', 'tr_nt_17to21', 'relntrds70tr_dy_12to16', 'relntrds70tr_dy_7to11', 'tr_nt_0', 'rel2retcfrtxm_nt_1', 'relvol_pm_1', 'relntrds70tr_nt_12to16', 'relvol_nt_1', 'nsameticksrelrrsign_nt_12to16', 'rvdelta_pm_1']\n",
      "No YYYYMMDD datetime matched.\n",
      "\n",
      "You're using: LASSO.\n",
      "\n",
      "Features being used: ['nsameticksrelmultstdev_nt_0', 'relntrds70tr_toxhr_0', 'llirpnxm_lsthrx15_0', 'relntrds70tr_nt_1', 'nnetticksrelrrsign_nt_1to3', 'rrretstr_nt_1to3', 'tr_dy_12to16', 'rvdelta_nt_1', 'rel2retcfrtxm_dy_12to16', 'rel2retcfrtxm_dy_17to21', 'nnetticksrelrrsign_dy_1to3', 'relavgts70tr_close_1', 'rrirpnxm_lsthrx15_0', 'nnetticksrelmultstdev_dy_4to6', 'rrirpnxm_dy_1to3', 'tr_lst15_0', 'rrretstr_nt_4to6', 'tr_dy_1to3', 'tr_nt_7to11', 'nnetticksrelmultstdev_lst15_0', 'nsameticksrelmultstdev_nt_17to21', 'rrretstr_nt_1', 'nsameticksrelrrsign_nt_7to11', 'rel2retcfrtxm_dy_7to11', 'mocrelvol_open_2to4', 'rrretstr_nt_17to21', 'nnetticksrelmultstdev_nt_7to11', 'llirpnxm_md_1', 'rvdelta_nt_4to6', 'relavgts70tr_close_12to16', 'tr_nt_12to16', 'rrretstr_am_1', 'nsameticksrelmultstdev_nt_7to11', 'rrretstr_dy_4to6']\n",
      "No YYYYMMDD datetime matched.\n",
      "\n",
      "You're using: LASSO.\n",
      "\n",
      "Features being used: ['relvol_dy_17to21', 'nnetticksrelrrsign_toxhr_0', 'nnetticksrelrrsign_dy_12to16', 'nsameticksrelrrsign_toxhr_0', 'tr_dy_1to3', 'nnetticksrelmultstdev_nt_7to11', 'moorelvol_open_12to16', 'mocrelvol_open_1', 'nsameticksrelmultstdev_nt_12to16', 'rel2retcfrtxm_md_1', 'nnetticksrelmultstdev_dy_12to16', 'rvdelta_lst15_0', 'moorelvol_open_0', 'relntrds70tr_nt_4to6', 'mocrelvol_open_5to7', 'mocrelvol_open_13to17', 'rvdelta_nt_1to3', 'rrirpnxm_md_1', 'rrirpnxm_dy_1to3', 'rrretstr_dy_17to21', 'tr_toxhr_0', 'relvol_toxhr_0', 'rrretstr_dy_7to11', 'nsameticksrelmultstdev_nt_17to21', 'rrirpnxm_pm_1', 'rrirpnxm_nt_0', 'relvol_nt_1', 'rvdelta_dy_4to6', 'rrirpnxm_lst15_0', 'qe_prv2_open_0', 'llirpnxm_dy_7to11', 'qe_prv1_open_0', 'llirpnxm_am_1', 'nnetticksrelmultstdev_nt_4to6']\n",
      "No YYYYMMDD datetime matched.\n",
      "\n",
      "You're using: LASSO.\n",
      "\n",
      "Features being used: ['nnetticksrelrrsign_dy_4to6', 'tr_md_1', 'totrisklog_open_0', 'llirpnxm_nt_17to21', 'rel2retcfrtxm_lst15_0', 'llirpnxm_dy_7to11', 'llirpnxm_nt_0', 'rrirpnxm_nt_0', 'nnetticksrelmultstdev_toxhr_0', 'momr50dx10d_open_0', 'relntrds70tr_dy_4to6', 'nsameticksrelrrsign_dy_7to11', 'nnetticksrelrrsign_dy_1to3', 'llirpnxm_nt_1', 'relntrds70tr_lst15_0', 'tr_dy_4to6', 'rrretstr_nt_17to21', 'relvol_nt_0', 'rvdelta_nt_7to11', 'rel2retcfrtxm_nt_7to11', 'rrirpnxm_nt_4to6', 'nnetticksrelmultstdev_dy_7to11', 'rrirpnxm_md_1', 'nsameticksrelmultstdev_am_1', 'nsameticksrelmultstdev_toxhr_0', 'rvdelta_nt_17to21', 'nsameticksrelrrsign_dy_1to3', 'tr_toxhr_0', 'nsameticksrelmultstdev_dy_17to21', 'rrretstr_dy_1to3', 'nsameticksrelmultstdev_lsthrx15_0', 'rvdelta_dy_4to6', 'moorelvol_open_0', 'llirpnxm_md_1']\n",
      "No YYYYMMDD datetime matched.\n",
      "\n",
      "You're using: LASSO.\n",
      "\n",
      "Features being used: ['cftorrrelstd_open_0', 'rrirpnxm_dy_12to16', 'tr_nt_0', 'nnetticksrelmultstdev_lsthrx15_0', 'moorelvol_open_17to21', 'qe_prv1_open_0', 'mocrelvol_open_18to22', 'nsameticksrelmultstdev_nt_17to21', 'relntrds70tr_nt_12to16', 'nsameticksrelrrsign_dy_4to6', 'rvdelta_nt_1to3', 'tr_lst15_0', 'nnetticksrelrrsign_dy_17to21', 'relvol_nt_4to6', 'nnetticksrelrrsign_md_1', 'nnetticksrelmultstdev_nt_17to21', 'moorelvol_open_12to16', 'rvdelta_md_1', 'rrirpnxm_pm_1', 'rrirpnxm_nt_4to6', 'mocrelvol_open_5to7', 'llirpnxm_toxhr_0', 'rvdelta_nt_7to11', 'relvol_dy_17to21', 'rrretstr_nt_1to3', 'rrretstr_dy_1to3', 'nsameticksrelrrsign_nt_1to3', 'mocrelvol_open_13to17', 'nnetticksrelrrsign_dy_4to6', 'relvol_nt_12to16', 'rrretstr_dy_17to21', 'nnetticksrelmultstdev_nt_7to11', 'llirpnxm_dy_17to21', 'nsameticksrelmultstdev_lsthrx15_0']\n",
      "No YYYYMMDD datetime matched.\n",
      "\n",
      "You're using: LASSO.\n",
      "\n",
      "Features being used: ['relavgts70tr_close_12to16', 'rrretstr_am_1', 'totrisklog_open_0', 'moorelvol_open_17to21', 'llirpnxm_nt_0', 'relntrds70tr_am_1', 'moorelvol_open_1to3', 'relvol_toxhr_0', 'rrirpnxm_dy_17to21', 'momr50dx10d_open_0', 'nsameticksrelmultstdev_dy_12to16', 'mocrelvol_open_18to22', 'rvdelta_nt_17to21', 'rrretstr_toxhr_0', 'rvdelta_dy_4to6', 'relavgts70tr_now_0', 'rrretstr_dy_12to16', 'relntrds70tr_nt_1to3', 'relntrds70tr_nt_17to21', 'rel2retcfrtxm_nt_12to16', 'moorelvol_open_4to6', 'nsameticksrelmultstdev_nt_0', 'relntrds70tr_nt_1', 'nnetticksrelrrsign_lst15_0', 'tr_nt_4to6', 'rrirpnxm_dy_1to3', 'nsameticksrelrrsign_lst15_0', 'nsameticksrelrrsign_nt_7to11', 'nnetticksrelmultstdev_nt_1', 'rrretstr_nt_0', 'relvol_nt_12to16', 'nnetticksrelrrsign_nt_7to11', 'nsameticksrelmultstdev_nt_1to3', 'nnetticksrelmultstdev_toxhr_0']\n",
      "No YYYYMMDD datetime matched.\n",
      "\n",
      "You're using: LASSO.\n",
      "\n",
      "Features being used: ['relntrds70tr_nt_12to16', 'rel2retcfrtxm_dy_7to11', 'rrirpnxm_nt_1to3', 'rel2retcfrtxm_nt_1to3', 'nnetticksrelmultstdev_nt_1to3', 'llirpnxm_lsthrx15_0', 'moorelvol_open_17to21', 'nnetticksrelrrsign_nt_1', 'rrretstr_dy_17to21', 'llirpnxm_dy_4to6', 'rrirpnxm_dy_1to3', 'nsameticksrelmultstdev_nt_17to21', 'llirpnxm_dy_1to3', 'rel2retcfrtxm_dy_12to16', 'nsameticksrelmultstdev_dy_12to16', 'tr_dy_17to21', 'tr_nt_1', 'relntrds70tr_nt_1to3', 'relvol_am_1', 'moorelvol_open_0', 'nsameticksrelrrsign_dy_7to11', 'rrirpnxm_nt_0', 'relvol_nt_0', 'nsameticksrelmultstdev_lst15_0', 'nsameticksrelrrsign_lsthrx15_0', 'momr50dx10d_open_0', 'rrirpnxm_lsthrx15_0', 'qe_prv1_open_0', 'nnetticksrelmultstdev_md_1', 'nsameticksrelmultstdev_md_1', 'rrirpnxm_dy_7to11', 'relvol_md_1', 'rel2retcfrtxm_dy_1to3', 'relntrds70tr_pm_1']\n",
      "No YYYYMMDD datetime matched.\n",
      "\n",
      "You're using: LASSO.\n",
      "\n",
      "Features being used: ['rvdelta_nt_4to6', 'llirpnxm_dy_1to3', 'relntrds70tr_nt_7to11', 'rvdelta_nt_17to21', 'tr_pm_1', 'rel2retcfrtxm_nt_12to16', 'relntrds70tr_nt_12to16', 'rvdelta_nt_12to16', 'rrretstr_dy_7to11', 'nnetticksrelrrsign_pm_1', 'moorelvol_open_12to16', 'rel2retcfrtxm_dy_7to11', 'tr_dy_7to11', 'relntrds70tr_dy_1to3', 'nsameticksrelrrsign_dy_1to3', 'rrirpnxm_nt_4to6', 'tr_dy_4to6', 'rel2retcfrtxm_toxhr_0', 'tr_md_1', 'nnetticksrelmultstdev_lst15_0', 'qe_prv1_open_0', 'relvol_dy_4to6', 'nsameticksrelmultstdev_nt_7to11', 'rel2retcfrtxm_am_1', 'rrretstr_md_1', 'nnetticksrelrrsign_nt_4to6', 'relvol_pm_1', 'llirpnxm_lsthrx15_0', 'nsameticksrelmultstdev_nt_4to6', 'nnetticksrelmultstdev_am_1', 'nnetticksrelrrsign_md_1', 'rvdelta_dy_1to3', 'llirpnxm_am_1', 'tr_nt_12to16']\n",
      "No YYYYMMDD datetime matched.\n",
      "\n",
      "You're using: LASSO.\n",
      "\n",
      "Features being used: ['nnetticksrelmultstdev_toxhr_0', 'tr_dy_7to11', 'rrretstr_nt_12to16', 'nsameticksrelmultstdev_dy_12to16', 'nnetticksrelmultstdev_nt_12to16', 'nnetticksrelmultstdev_lsthrx15_0', 'nnetticksrelrrsign_toxhr_0', 'rrirpnxm_am_1', 'moorelvol_open_7to11', 'relvol_nt_4to6', 'rrretstr_dy_1to3', 'nnetticksrelmultstdev_dy_1to3', 'nsameticksrelmultstdev_pm_1', 'qe_prv2_open_0', 'llirpnxm_nt_1', 'rrretstr_toxhr_0', 'rrretstr_nt_1', 'relntrds70tr_nt_1', 'rel2retcfrtxm_nt_4to6', 'rrretstr_nt_4to6', 'llirpnxm_nt_17to21', 'nnetticksrelmultstdev_dy_4to6', 'tr_dy_4to6', 'rvdelta_nt_1', 'nnetticksrelmultstdev_nt_1', 'rrretstr_nt_0', 'nnetticksrelmultstdev_md_1', 'tr_lst15_0', 'relvol_pm_1', 'nnetticksrelrrsign_nt_12to16', 'relntrds70tr_dy_1to3', 'rvdelta_dy_12to16', 'rrirpnxm_nt_1', 'nnetticksrelmultstdev_dy_12to16']\n",
      "No YYYYMMDD datetime matched.\n",
      "\n",
      "You're using: LASSO.\n",
      "\n",
      "Features being used: ['llirpnxm_pm_1', 'relvol_md_1', 'nnetticksrelmultstdev_nt_7to11', 'llirpnxm_md_1', 'rrretstr_toxhr_0', 'rvdelta_nt_1', 'rel2retcfrtxm_dy_4to6', 'nsameticksrelrrsign_md_1', 'tr_nt_1', 'rel2retcfrtxm_dy_17to21', 'relntrds70tr_nt_7to11', 'rrirpnxm_dy_17to21', 'nsameticksrelmultstdev_dy_1to3', 'relntrds70tr_pm_1', 'rvdelta_lst15_0', 'rel2retcfrtxm_lst15_0', 'nnetticksrelrrsign_dy_12to16', 'nnetticksrelrrsign_pm_1', 'nnetticksrelrrsign_dy_7to11', 'nsameticksrelrrsign_dy_1to3', 'relntrds70tr_dy_4to6', 'nsameticksrelmultstdev_lsthrx15_0', 'llirpnxm_nt_0', 'relavgts70tr_close_7to11', 'rvdelta_dy_12to16', 'nnetticksrelmultstdev_dy_4to6', 'nnetticksrelrrsign_am_1', 'rvdelta_dy_4to6', 'llirpnxm_lst15_0', 'nsameticksrelrrsign_dy_4to6', 'rrirpnxm_nt_1to3', 'relntrds70tr_nt_4to6', 'nsameticksrelrrsign_nt_12to16', 'nsameticksrelmultstdev_dy_17to21']\n",
      "No YYYYMMDD datetime matched.\n",
      "\n",
      "You're using: LASSO.\n",
      "\n",
      "Features being used: ['relvol_dy_7to11', 'rvdelta_dy_1to3', 'nsameticksrelrrsign_am_1', 'nnetticksrelrrsign_pm_1', 'relntrds70tr_nt_17to21', 'relvol_dy_12to16', 'nsameticksrelmultstdev_nt_1', 'nsameticksrelrrsign_lst15_0', 'qe_nt0_open_0', 'rrirpnxm_dy_4to6', 'relvol_nt_1to3', 'nnetticksrelmultstdev_dy_17to21', 'relavgts70tr_close_1', 'nnetticksrelmultstdev_nt_12to16', 'nsameticksrelrrsign_nt_1to3', 'rvdelta_nt_1', 'nsameticksrelrrsign_dy_7to11', 'tr_toxhr_0', 'nnetticksrelrrsign_dy_4to6', 'nsameticksrelmultstdev_pm_1', 'nnetticksrelmultstdev_am_1', 'llirpnxm_dy_12to16', 'relntrds70tr_dy_7to11', 'rel2retcfrtxm_lst15_0', 'rel2retcfrtxm_am_1', 'rrretstr_dy_7to11', 'tr_dy_1to3', 'rel2retcfrtxm_nt_7to11', 'rvdelta_nt_7to11', 'nsameticksrelrrsign_pm_1', 'relntrds70tr_toxhr_0', 'rvdelta_toxhr_0', 'rvdelta_nt_0', 'nnetticksrelrrsign_md_1']\n",
      "No YYYYMMDD datetime matched.\n",
      "\n",
      "You're using: LASSO.\n",
      "\n",
      "Features being used: ['nnetticksrelrrsign_dy_7to11', 'relvol_am_1', 'relvol_lsthrx15_0', 'nnetticksrelmultstdev_toxhr_0', 'nnetticksrelmultstdev_pm_1', 'rrirpnxm_dy_4to6', 'rvdelta_nt_12to16', 'rrretstr_nt_1to3', 'rrretstr_md_1', 'tr_nt_1', 'rel2retcfrtxm_dy_17to21', 'rvdelta_dy_7to11', 'nsameticksrelrrsign_am_1', 'rrirpnxm_dy_17to21', 'rrirpnxm_pm_1', 'nnetticksrelmultstdev_dy_4to6', 'llirpnxm_nt_17to21', 'rel2retcfrtxm_nt_4to6', 'mocrelvol_open_1', 'nsameticksrelmultstdev_dy_7to11', 'nsameticksrelmultstdev_nt_7to11', 'nnetticksrelmultstdev_dy_7to11', 'llirpnxm_dy_1to3', 'rrretstr_toxhr_0', 'relvol_nt_17to21', 'llirpnxm_nt_1', 'nsameticksrelmultstdev_md_1', 'relvol_nt_7to11', 'nsameticksrelrrsign_nt_0', 'relavgts70tr_close_1to3', 'mocrelvol_open_2to4', 'cftorrrelstd_open_0', 'rvdelta_am_1', 'relntrds70tr_nt_1to3']\n",
      "No YYYYMMDD datetime matched.\n",
      "\n",
      "You're using: LASSO.\n",
      "\n",
      "Features being used: ['nsameticksrelmultstdev_nt_17to21', 'nnetticksrelmultstdev_dy_12to16', 'rvdelta_dy_1to3', 'nsameticksrelmultstdev_nt_1to3', 'qe_prv2_open_0', 'rrretstr_dy_12to16', 'rel2retcfrtxm_dy_12to16', 'relvol_nt_12to16', 'nsameticksrelrrsign_nt_4to6', 'rvdelta_nt_1', 'relvol_nt_17to21', 'nnetticksrelrrsign_nt_0', 'nsameticksrelrrsign_nt_12to16', 'rrirpnxm_dy_7to11', 'relvol_nt_1', 'nnetticksrelrrsign_nt_17to21', 'rrirpnxm_pm_1', 'nsameticksrelrrsign_md_1', 'relvol_pm_1', 'rel2retcfrtxm_nt_1to3', 'nnetticksrelmultstdev_dy_1to3', 'relntrds70tr_lsthrx15_0', 'relntrds70tr_nt_0', 'rrirpnxm_dy_17to21', 'nnetticksrelmultstdev_nt_17to21', 'relntrds70tr_nt_12to16', 'nnetticksrelrrsign_dy_17to21', 'nnetticksrelrrsign_am_1', 'llirpnxm_md_1', 'llirpnxm_dy_7to11', 'nsameticksrelmultstdev_dy_12to16', 'rvdelta_nt_4to6', 'rel2retcfrtxm_pm_1', 'rrretstr_toxhr_0']\n",
      "No YYYYMMDD datetime matched.\n",
      "\n",
      "You're using: LASSO.\n",
      "\n",
      "Features being used: ['relntrds70tr_lst15_0', 'relavgts70tr_close_7to11', 'relntrds70tr_toxhr_0', 'llirpnxm_dy_7to11', 'tr_lsthrx15_0', 'relvol_pm_1', 'nsameticksrelmultstdev_dy_7to11', 'rrirpnxm_pm_1', 'tr_dy_1to3', 'relavgts70tr_close_1', 'llirpnxm_dy_1to3', 'rrretstr_dy_4to6', 'rel2retcfrtxm_nt_17to21', 'llirpnxm_nt_12to16', 'relntrds70tr_pm_1', 'relntrds70tr_nt_1', 'rrretstr_am_1', 'llirpnxm_nt_7to11', 'nsameticksrelrrsign_lsthrx15_0', 'relntrds70tr_nt_1to3', 'llirpnxm_lsthrx15_0', 'nnetticksrelrrsign_dy_7to11', 'llirpnxm_dy_12to16', 'tr_am_1', 'rel2retcfrtxm_dy_1to3', 'momr50dx10d_open_0', 'relvol_nt_1to3', 'relvol_lsthrx15_0', 'rrretstr_dy_12to16', 'nsameticksrelmultstdev_nt_1to3', 'rvdelta_nt_1to3', 'rrirpnxm_md_1', 'rvdelta_dy_4to6', 'nnetticksrelmultstdev_lsthrx15_0']\n",
      "No YYYYMMDD datetime matched.\n",
      "\n",
      "You're using: LASSO.\n",
      "\n",
      "Features being used: ['tr_nt_1to3', 'tr_am_1', 'tr_lst15_0', 'nsameticksrelmultstdev_dy_7to11', 'relntrds70tr_nt_1to3', 'rel2retcfrtxm_md_1', 'rrirpnxm_dy_12to16', 'relntrds70tr_am_1', 'relvol_pm_1', 'rrretstr_pm_1', 'nsameticksrelrrsign_toxhr_0', 'nsameticksrelrrsign_dy_7to11', 'tr_nt_4to6', 'moorelvol_open_7to11', 'nsameticksrelmultstdev_nt_1', 'nnetticksrelmultstdev_nt_7to11', 'llirpnxm_nt_12to16', 'relavgts70tr_close_1', 'nnetticksrelmultstdev_dy_12to16', 'relvol_nt_1', 'rvdelta_lsthrx15_0', 'rrirpnxm_nt_4to6', 'relvol_nt_17to21', 'nnetticksrelrrsign_dy_7to11', 'relvol_dy_1to3', 'llirpnxm_nt_17to21', 'relavgts70tr_close_7to11', 'rrretstr_lst15_0', 'relntrds70tr_toxhr_0', 'qe_prv2_open_0', 'rel2retcfrtxm_nt_12to16', 'rel2retcfrtxm_toxhr_0', 'rvdelta_dy_17to21', 'rvdelta_dy_12to16']\n",
      "No YYYYMMDD datetime matched.\n",
      "\n",
      "You're using: LASSO.\n",
      "\n",
      "Features being used: ['nsameticksrelrrsign_dy_17to21', 'nnetticksrelmultstdev_md_1', 'nnetticksrelmultstdev_dy_17to21', 'relntrds70tr_nt_4to6', 'nsameticksrelrrsign_nt_12to16', 'rrretstr_dy_1to3', 'nnetticksrelrrsign_dy_17to21', 'tr_nt_4to6', 'nsameticksrelrrsign_md_1', 'nnetticksrelrrsign_nt_1to3', 'nnetticksrelmultstdev_nt_0', 'rvdelta_nt_4to6', 'nnetticksrelrrsign_lst15_0', 'nsameticksrelrrsign_lsthrx15_0', 'nnetticksrelmultstdev_nt_4to6', 'rel2retcfrtxm_nt_4to6', 'nnetticksrelrrsign_dy_4to6', 'rvdelta_dy_4to6', 'nnetticksrelrrsign_dy_7to11', 'rrretstr_nt_17to21', 'rrirpnxm_dy_1to3', 'llirpnxm_nt_1to3', 'rrretstr_pm_1', 'rvdelta_dy_17to21', 'nsameticksrelrrsign_toxhr_0', 'tr_lst15_0', 'llirpnxm_dy_17to21', 'nsameticksrelmultstdev_nt_1', 'relntrds70tr_am_1', 'relntrds70tr_nt_7to11', 'nsameticksrelmultstdev_md_1', 'tr_nt_0', 'nnetticksrelmultstdev_nt_1', 'rrirpnxm_nt_1to3']\n",
      "No YYYYMMDD datetime matched.\n",
      "\n",
      "You're using: LASSO.\n",
      "\n",
      "Features being used: ['nsameticksrelrrsign_lst15_0', 'nsameticksrelmultstdev_nt_1', 'llirpnxm_pm_1', 'rel2retcfrtxm_pm_1', 'tr_lst15_0', 'rel2retcfrtxm_lst15_0', 'relvol_am_1', 'rrretstr_nt_7to11', 'relvol_md_1', 'momr50dx10d_open_0', 'relavgts70tr_close_17to21', 'rrretstr_md_1', 'relvol_nt_17to21', 'rrirpnxm_dy_1to3', 'rrretstr_dy_12to16', 'mocrelvol_open_2to4', 'nsameticksrelmultstdev_lst15_0', 'nnetticksrelmultstdev_nt_1', 'tr_nt_1to3', 'relntrds70tr_nt_17to21', 'relvol_nt_4to6', 'nnetticksrelrrsign_nt_4to6', 'relntrds70tr_nt_0', 'rel2retcfrtxm_dy_4to6', 'rrretstr_toxhr_0', 'rrirpnxm_nt_0', 'rel2retcfrtxm_md_1', 'relvol_dy_17to21', 'tr_dy_17to21', 'nnetticksrelmultstdev_dy_12to16', 'rrirpnxm_lst15_0', 'moorelvol_open_4to6', 'tr_dy_12to16', 'relntrds70tr_dy_1to3']\n",
      "No YYYYMMDD datetime matched.\n",
      "\n",
      "You're using: LASSO.\n",
      "\n",
      "Features being used: ['rvdelta_dy_4to6', 'nsameticksrelmultstdev_am_1', 'nnetticksrelrrsign_dy_7to11', 'rvdelta_md_1', 'rrirpnxm_nt_12to16', 'rrretstr_nt_17to21', 'tr_nt_4to6', 'nnetticksrelmultstdev_nt_17to21', 'rrirpnxm_am_1', 'nsameticksrelrrsign_nt_4to6', 'tr_nt_12to16', 'nsameticksrelrrsign_nt_1', 'rrirpnxm_nt_17to21', 'llirpnxm_nt_1', 'relntrds70tr_dy_7to11', 'rrirpnxm_lst15_0', 'rel2retcfrtxm_nt_7to11', 'rel2retcfrtxm_dy_17to21', 'relntrds70tr_nt_4to6', 'relntrds70tr_lst15_0', 'relavgts70tr_close_1', 'nsameticksrelmultstdev_nt_1to3', 'nnetticksrelmultstdev_dy_1to3', 'rvdelta_nt_7to11', 'nsameticksrelmultstdev_lsthrx15_0', 'llirpnxm_nt_0', 'rrirpnxm_nt_0', 'rel2retcfrtxm_lst15_0', 'relntrds70tr_am_1', 'rrretstr_am_1', 'relntrds70tr_md_1', 'relvol_dy_12to16', 'nnetticksrelmultstdev_lsthrx15_0', 'relavgts70tr_close_4to6']\n"
     ]
    }
   ],
   "source": [
    "lasso_model = test_helper.Regression(regression_type=\"Lasso\", data_path=FILE_PATH)\n",
    "lasso_model.train(train_df, feature_col_names = FEATURE_COL_NAMES)\n",
    "_, mr, _ = lasso_model.get_metric(dataframes = test_dfs)\n",
    "lasso_mean_returns = [mr for x in range(30)]\n",
    "lasso_random_feats = random_feats('LASSO', numFeats=34)\n"
   ]
  },
  {
   "cell_type": "code",
   "execution_count": null,
   "metadata": {},
   "outputs": [],
   "source": [
    "# run t-test\n"
   ]
  },
  {
   "cell_type": "markdown",
   "metadata": {},
   "source": [
    "### Key Takeaway: Taking the 2 least corellated features from each group does not work for finding a model equal to or better than picking 34 random predictors "
   ]
  },
  {
   "cell_type": "code",
   "execution_count": 20,
   "metadata": {},
   "outputs": [],
   "source": [
    "from sklearn.feature_selection import SequentialFeatureSelector"
   ]
  },
  {
   "cell_type": "code",
   "execution_count": 25,
   "metadata": {},
   "outputs": [
    {
     "name": "stdout",
     "output_type": "stream",
     "text": [
      "No YYYYMMDD datetime matched.\n",
      "\n",
      "You're using: XGBOOST.\n",
      "\n"
     ]
    },
    {
     "data": {
      "text/plain": [
       "sklearn.feature_selection._sequential.SequentialFeatureSelector"
      ]
     },
     "execution_count": 25,
     "metadata": {},
     "output_type": "execute_result"
    }
   ],
   "source": [
    "# Subset Selection: \n",
    "xgboost_regressor = test_helper.Regression(data_path=FILE_PATH, regression_type='xgboost')\n",
    "model = xgboost_regressor.saved_model\n",
    "result  = SequentialFeatureSelector(model, n_features_to_select = 20, direction = 'forward', cv=10)\n",
    "type(result)"
   ]
  }
 ],
 "metadata": {
  "kernelspec": {
   "display_name": "Python 3",
   "language": "python",
   "name": "python3"
  },
  "language_info": {
   "codemirror_mode": {
    "name": "ipython",
    "version": 3
   },
   "file_extension": ".py",
   "mimetype": "text/x-python",
   "name": "python",
   "nbconvert_exporter": "python",
   "pygments_lexer": "ipython3",
   "version": "3.10.12"
  }
 },
 "nbformat": 4,
 "nbformat_minor": 2
}
