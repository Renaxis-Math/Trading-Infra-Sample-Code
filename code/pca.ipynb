{
 "cells": [
  {
   "cell_type": "markdown",
   "metadata": {},
   "source": [
    "# Principal Component Analysis"
   ]
  },
  {
   "cell_type": "code",
   "execution_count": null,
   "metadata": {},
   "outputs": [],
   "source": [
    "import consts\n",
    "import helper\n",
    "import importlib\n",
    "import pandas as pd\n",
    "import numpy as np\n",
    "import re\n",
    "import matplotlib.pyplot as plt\n",
    "import sklearn, scipy, requests\n",
    "import random"
   ]
  },
  {
   "cell_type": "code",
   "execution_count": null,
   "metadata": {},
   "outputs": [],
   "source": [
    "FILE_PATH = consts.RAW_DATA_PATH_RYAN"
   ]
  },
  {
   "cell_type": "code",
   "execution_count": null,
   "metadata": {},
   "outputs": [],
   "source": [
    "importlib.reload(helper)\n",
    "df = pd.read_csv(FILE_PATH + 'data.20211223_1200')\n",
    "df = df[df.columns[8:]] # cut out the test data\n",
    "helper.pca_plot(df, num_components=244)"
   ]
  },
  {
   "cell_type": "code",
   "execution_count": null,
   "metadata": {},
   "outputs": [],
   "source": [
    "df = pd.read_csv(FILE_PATH + 'data.20200316_1200')\n",
    "df.columns\n",
    "df = df[df.columns[7:]] # cut out testing columns\n",
    "helper.pca_plot(df, num_components=50)"
   ]
  },
  {
   "cell_type": "markdown",
   "metadata": {},
   "source": [
    "## Regressions with PCA"
   ]
  },
  {
   "cell_type": "code",
   "execution_count": null,
   "metadata": {},
   "outputs": [],
   "source": [
    "USER = \"RYAN\"\n",
    "RESPONSE_NAME = consts.RESPONSE_NAME\n",
    "\n",
    "LASSO = \"LASSO\"\n",
    "XGBOOST = \"XGBOOST\"\n",
    "\n",
    "ALPHA = 0.05 # Set significance level\n",
    "\n",
    "TEST_START  = \"20210202\"\n",
    "TRAIN_TEST_GAP = 31 # days"
   ]
  },
  {
   "cell_type": "code",
   "execution_count": null,
   "metadata": {},
   "outputs": [],
   "source": [
    "importlib.reload(helper)\n",
    "data = helper.Data(train_data_path=FILE_PATH)\n",
    "# 6 months\n",
    "train_df = data.update_and_get_train_df(TEST_START, backward_dayCount= 31, years_count = 0, train_data_count=182)\n",
    "# Really the test_dfs are VALIDATION data\n",
    "test_dfs = data.update_and_get_test_df(data_path = FILE_PATH, start_date=TEST_START, end_date=\"20210301\")\n",
    "\n",
    "transforming_cols = train_df.columns[7:]\n",
    "y_test = train_df[RESPONSE_NAME]\n",
    "train_df = train_df[transforming_cols]"
   ]
  },
  {
   "cell_type": "code",
   "execution_count": null,
   "metadata": {},
   "outputs": [],
   "source": [
    "# Fit PCA\n",
    "pca = sklearn.decomposition.PCA(n_components=15)\n",
    "pca.fit(train_df)"
   ]
  },
  {
   "cell_type": "code",
   "execution_count": null,
   "metadata": {},
   "outputs": [],
   "source": [
    "# Fit Transform X training data\n",
    "train_df_pca = pd.DataFrame(pca.transform(train_df))\n",
    "train_df_pca[RESPONSE_NAME] = y_test.values # leave untransformed\n",
    "\n",
    "transformed_test = [pd.DataFrame(pca.transform(df[transforming_cols])) for df in test_dfs]\n",
    "test_dfs_pca = []\n",
    "for pca_df, df in zip(transformed_test, test_dfs):\n",
    "    pca_df[RESPONSE_NAME] = df[RESPONSE_NAME]\n",
    "    test_dfs_pca.append(pca_df)\n"
   ]
  },
  {
   "cell_type": "code",
   "execution_count": null,
   "metadata": {},
   "outputs": [],
   "source": [
    "importlib.reload(helper)\n",
    "full_ols_model = helper.Model('OLS')\n",
    "full_ols_model.train(pd.DataFrame(train_df_pca))\n",
    "predictions = full_ols_model.test(test_dfs_pca)"
   ]
  },
  {
   "cell_type": "code",
   "execution_count": null,
   "metadata": {},
   "outputs": [],
   "source": [
    "importlib.reload(helper)\n",
    "full_ols_model = helper.Model(LASSO)\n",
    "full_ols_model.train(pd.DataFrame(train_df_pca))\n",
    "predictions = full_ols_model.test(test_dfs_pca)"
   ]
  },
  {
   "cell_type": "code",
   "execution_count": null,
   "metadata": {},
   "outputs": [],
   "source": [
    "importlib.reload(helper)\n",
    "full_ols_model = helper.Model(XGBOOST)\n",
    "full_ols_model.train(pd.DataFrame(train_df_pca))\n",
    "predictions = full_ols_model.test(test_dfs_pca)"
   ]
  }
 ],
 "metadata": {
  "kernelspec": {
   "display_name": "Python 3",
   "language": "python",
   "name": "python3"
  },
  "language_info": {
   "codemirror_mode": {
    "name": "ipython",
    "version": 3
   },
   "file_extension": ".py",
   "mimetype": "text/x-python",
   "name": "python",
   "nbconvert_exporter": "python",
   "pygments_lexer": "ipython3",
   "version": "3.10.12"
  }
 },
 "nbformat": 4,
 "nbformat_minor": 2
}
