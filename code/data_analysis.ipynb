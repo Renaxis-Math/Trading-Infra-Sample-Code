{
 "cells": [
  {
   "cell_type": "markdown",
   "metadata": {},
   "source": [
    "### Author: Hoang Chu"
   ]
  },
  {
   "cell_type": "markdown",
   "metadata": {},
   "source": [
    "### Imports"
   ]
  },
  {
   "cell_type": "code",
   "execution_count": null,
   "metadata": {},
   "outputs": [],
   "source": [
    "%pip install -r dependencies.txt"
   ]
  },
  {
   "cell_type": "code",
   "execution_count": null,
   "metadata": {},
   "outputs": [],
   "source": [
    "import pandas as pd\n",
    "import numpy as np\n",
    "import sklearn\n",
    "import matplotlib.pyplot as plt\n",
    "import requests\n",
    "import scipy\n",
    "import importlib\n",
    "import helper, consts\n",
    "importlib.reload(consts)\n",
    "importlib.reload(helper)\n",
    "import glob"
   ]
  },
  {
   "cell_type": "markdown",
   "metadata": {},
   "source": [
    "### CONSTANTS"
   ]
  },
  {
   "cell_type": "code",
   "execution_count": null,
   "metadata": {},
   "outputs": [],
   "source": [
    "# User Specific Constants:\n",
    "USER = \"RYAN\"\n",
    "FILE_PATH = consts.PATH_MAP[USER]\n",
    "\n",
    "ROW = consts.ROW\n",
    "COL = consts.COL\n",
    "CLEANED_DATA_PATH = consts.CLEANED_DATA_PATH\n",
    "RESPONSE_NAME = consts.RESPONSE_NAME\n"
   ]
  },
  {
   "cell_type": "markdown",
   "metadata": {},
   "source": [
    "### Quick Functions"
   ]
  },
  {
   "cell_type": "markdown",
   "metadata": {},
   "source": [
    "### Read data"
   ]
  },
  {
   "cell_type": "code",
   "execution_count": null,
   "metadata": {},
   "outputs": [],
   "source": [
    "# Main Reading Script\n",
    "train_start, train_end = helper.get_train_from_testday('20150701')\n",
    "x_cols = [\"rrirpnxm_nt_0\", \"rrirpnxm_lst15_0\",\"rrirpnxm_lsthrx15_0\", \"rrirpnxm_toxhr_0\", \n",
    "          \"relvol_nt_0\", \"relvol_lst15_0\",\"relvol_lsthrx15_0\", \"relvol_toxhr_0\"\n",
    "          ]\n",
    "\n",
    "train_df = helper.get_df(train_start, train_end, x_cols, FILE_PATH)\n",
    "print(train_df.head())\n",
    "# train_df.to_csv(CLEANED_DATA_PATH, index_label=False)\n"
   ]
  },
  {
   "cell_type": "code",
   "execution_count": null,
   "metadata": {},
   "outputs": [],
   "source": [
    "list_of_interacting_terms = [[\"relvol_nt_0\",\"rrirpnxm_nt_0\" ], \n",
    "                             [\"relvol_lst15_0\",\"rrirpnxm_lst15_0\" ],\n",
    "                             [\"relvol_lsthrx15_0\",\"rrirpnxm_lsthrx15_0\" ],\n",
    "                             [\"relvol_toxhr_0\",\"rrirpnxm_toxhr_0\" ] ]\n",
    "train_df2 = helper.get_df_with_interaction_terms(train_df,list_of_interacting_terms)\n",
    "train_df2 = train_df2.drop([\"relvol_nt_0\", \"relvol_lst15_0\",\"relvol_lsthrx15_0\", \"relvol_toxhr_0\"], axis=consts.COL)\n",
    "train_df2.to_csv(CLEANED_DATA_PATH, index_label=False)\n",
    "train_df2.head()"
   ]
  }
 ],
 "metadata": {
  "kernelspec": {
   "display_name": "Python 3",
   "language": "python",
   "name": "python3"
  },
  "language_info": {
   "codemirror_mode": {
    "name": "ipython",
    "version": 3
   },
   "file_extension": ".py",
   "mimetype": "text/x-python",
   "name": "python",
   "nbconvert_exporter": "python",
   "pygments_lexer": "ipython3",
   "version": "3.10.12"
  },
  "orig_nbformat": 4,
  "vscode": {
   "interpreter": {
    "hash": "b0fa6594d8f4cbf19f97940f81e996739fb7646882a419484c72d19e05852a7e"
   }
  }
 },
 "nbformat": 4,
 "nbformat_minor": 2
}
