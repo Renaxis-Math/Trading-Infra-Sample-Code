{
 "cells": [
  {
   "cell_type": "markdown",
   "metadata": {},
   "source": [
    "### Imports"
   ]
  },
  {
   "cell_type": "code",
   "execution_count": 3,
   "metadata": {},
   "outputs": [],
   "source": [
    "import importlib\n",
    "import helper, consts\n",
    "importlib.reload(consts)\n",
    "importlib.reload(helper)\n",
    "\n",
    "import pandas as pd\n",
    "import numpy as np\n",
    "import sklearn\n",
    "import matplotlib.pyplot as plt"
   ]
  },
  {
   "cell_type": "code",
   "execution_count": 4,
   "metadata": {},
   "outputs": [],
   "source": [
    "FILEPATH = \"/Users/hoangchu/Downloads/Clinic/Clinic/data/hmc/hmc2021/hmc2015/\""
   ]
  },
  {
   "cell_type": "code",
   "execution_count": 5,
   "metadata": {},
   "outputs": [],
   "source": [
    "def distribution_plot(df, columns, bins):\n",
    "    \n",
    "    def plot(column):\n",
    "        plt.figure(figsize=(8, 6))\n",
    "        plt.hist(df[column].dropna(), bins=bins, \n",
    "                    color='skyblue', edgecolor='black', alpha=0.7)\n",
    "        plt.title(f'Distribution Plot for {column}')\n",
    "        plt.xlabel(column)\n",
    "        plt.ylabel('Frequency')\n",
    "        plt.show()\n",
    "        \n",
    "    for column in columns:\n",
    "        plot(column)"
   ]
  },
  {
   "cell_type": "markdown",
   "metadata": {},
   "source": [
    "# Train Data"
   ]
  },
  {
   "cell_type": "code",
   "execution_count": 6,
   "metadata": {},
   "outputs": [
    {
     "name": "stdout",
     "output_type": "stream",
     "text": [
      "Getting files from 2014-10-12 00:00:00 to 2015-01-20 00:00:00, inclusive.\n",
      "Filtered File Dates: ['data.20150102_1200', 'data.20150105_1200', 'data.20150106_1200', 'data.20150107_1200', 'data.20150108_1200', 'data.20150109_1200', 'data.20150112_1200', 'data.20150113_1200', 'data.20150114_1200', 'data.20150115_1200', 'data.20150116_1200', 'data.20150120_1200']\n",
      "\n"
     ]
    }
   ],
   "source": [
    "data = helper.Data(train_data_path=FILEPATH)\n",
    "orig_df = data.update_and_get_train_df(\"20150121\", backward_dayCount = 1, train_data_count = 100)\n",
    "df = orig_df.copy()"
   ]
  },
  {
   "cell_type": "markdown",
   "metadata": {},
   "source": [
    "### EDA"
   ]
  },
  {
   "cell_type": "markdown",
   "metadata": {},
   "source": [
    "#### Machine"
   ]
  },
  {
   "cell_type": "code",
   "execution_count": 7,
   "metadata": {},
   "outputs": [],
   "source": [
    "def removed_massive_null(df, percentage, can_print = False) -> 'DataFrame':\n",
    "    null_percents = df.isnull().mean() * 100\n",
    "    removed_cols = null_percents[null_percents > percentage].index\n",
    "    \n",
    "    if can_print: print(f\"Massive Null Cols: {removed_cols.tolist()}\")\n",
    "    return df.drop(removed_cols, inplace=False, axis = 1)\n",
    "\n",
    "df = removed_massive_null(df, 20)"
   ]
  },
  {
   "cell_type": "code",
   "execution_count": 8,
   "metadata": {},
   "outputs": [],
   "source": [
    "def filter_duplicatations(df, axis: int) -> 'DataFrame':\n",
    "    use_df = df if axis == 0 else df.T\n",
    "    answer_df = use_df.drop_duplicates()\n",
    "    return answer_df if axis == 0 else answer_df.T\n",
    "\n",
    "df = filter_duplicatations(df, axis = consts.COL)"
   ]
  },
  {
   "cell_type": "code",
   "execution_count": 9,
   "metadata": {},
   "outputs": [],
   "source": [
    "def transform_col(df, col_name: str, transform_func: 'Function') -> None:\n",
    "    df.loc[:, col_name] = df[col_name].apply(transform_func); return\n",
    "    \n",
    "transform_col(df, consts.RESPONSE_NAME, lambda x: 1 if x > 0 else -1)"
   ]
  },
  {
   "cell_type": "code",
   "execution_count": 10,
   "metadata": {},
   "outputs": [],
   "source": [
    "def is_responseVal_unbalanced(df: 'DataFrame', response_col_name: str) -> bool:\n",
    "    freq_map: dict = df[response_col_name].value_counts().to_dict()\n",
    "    print(freq_map)\n",
    "    sorted_by_val_keys = sorted(freq_map, key = freq_map.get, reverse = True)\n",
    "    \n",
    "    total_count = sum(freq_map.values()); major_val_count = 0\n",
    "    for key in sorted_by_val_keys:\n",
    "        major_val_count += freq_map[key]\n",
    "        if major_val_count > 0.5 * total_count: break\n",
    "    \n",
    "    distribution_plot(df, [consts.RESPONSE_NAME], bins = 10)\n",
    "    return major_val_count >= 0.7 * total_count"
   ]
  },
  {
   "cell_type": "code",
   "execution_count": 11,
   "metadata": {},
   "outputs": [
    {
     "name": "stdout",
     "output_type": "stream",
     "text": [
      "{-1.0: 15098, 1.0: 12763}\n"
     ]
    },
    {
     "data": {
      "image/png": "[encoded data removed]",
      "text/plain": [
       "<Figure size 800x600 with 1 Axes>"
      ]
     },
     "metadata": {},
     "output_type": "display_data"
    },
    {
     "data": {
      "text/plain": [
       "False"
      ]
     },
     "execution_count": 11,
     "metadata": {},
     "output_type": "execute_result"
    }
   ],
   "source": [
    "is_data_unbalanced = is_responseVal_unbalanced(df, consts.RESPONSE_NAME)\n",
    "is_data_unbalanced"
   ]
  },
  {
   "cell_type": "markdown",
   "metadata": {},
   "source": [
    "#### Human"
   ]
  },
  {
   "cell_type": "code",
   "execution_count": 12,
   "metadata": {},
   "outputs": [
    {
     "data": {
      "text/plain": [
       "0"
      ]
     },
     "execution_count": 12,
     "metadata": {},
     "output_type": "execute_result"
    }
   ],
   "source": [
    "categorical_columns = (df.dtypes == \"object\")\n",
    "categorical_columns = np.array(categorical_columns[categorical_columns].index)\n",
    "len(categorical_columns)"
   ]
  },
  {
   "cell_type": "code",
   "execution_count": 13,
   "metadata": {},
   "outputs": [
    {
     "data": {
      "text/plain": [
       "float64    246\n",
       "Name: count, dtype: int64"
      ]
     },
     "execution_count": 13,
     "metadata": {},
     "output_type": "execute_result"
    }
   ],
   "source": [
    "df.dtypes.value_counts()"
   ]
  },
  {
   "cell_type": "markdown",
   "metadata": {},
   "source": [
    "# Test Data"
   ]
  },
  {
   "cell_type": "markdown",
   "metadata": {},
   "source": [
    "#### Make sure test data has similar features to train data"
   ]
  },
  {
   "cell_type": "code",
   "execution_count": 15,
   "metadata": {},
   "outputs": [
    {
     "name": "stdout",
     "output_type": "stream",
     "text": [
      "Getting files from 2015-01-21 00:00:00 to 2015-01-21 00:00:00, inclusive.\n",
      "Filtered File Dates: ['data.20150121_1200']\n",
      "\n"
     ]
    }
   ],
   "source": [
    "test_df = data.update_and_get_test_df(data_path=FILEPATH, start_date=\"20150121\")[0]\n",
    "test_df = test_df[df.columns] # TODO: THIS IS VERY IMPORTANT\n",
    "transform_col(test_df, consts.RESPONSE_NAME, lambda x: 1 if x > 0 else -1)"
   ]
  },
  {
   "cell_type": "markdown",
   "metadata": {},
   "source": [
    "# Save"
   ]
  },
  {
   "cell_type": "code",
   "execution_count": 16,
   "metadata": {},
   "outputs": [],
   "source": [
    "def save_to_csv(df, name, is_train = True):\n",
    "    directory = \"train_data\" if is_train else \"test_data\"\n",
    "    df.to_csv(f\"/Users/hoangchu/Downloads/Clinic/Clinic/data/cleaned_data/{directory}/{name}.csv\", index = False)"
   ]
  },
  {
   "cell_type": "code",
   "execution_count": 17,
   "metadata": {},
   "outputs": [],
   "source": [
    "save_to_csv(df, \"train\")\n",
    "save_to_csv(test_df, \"test\", False)"
   ]
  }
 ],
 "metadata": {
  "kernelspec": {
   "display_name": "Python 3",
   "language": "python",
   "name": "python3"
  },
  "language_info": {
   "codemirror_mode": {
    "name": "ipython",
    "version": 3
   },
   "file_extension": ".py",
   "mimetype": "text/x-python",
   "name": "python",
   "nbconvert_exporter": "python",
   "pygments_lexer": "ipython3",
   "version": "3.11.3"
  },
  "orig_nbformat": 4,
  "vscode": {
   "interpreter": {
    "hash": "b0fa6594d8f4cbf19f97940f81e996739fb7646882a419484c72d19e05852a7e"
   }
  }
 },
 "nbformat": 4,
 "nbformat_minor": 2
}
