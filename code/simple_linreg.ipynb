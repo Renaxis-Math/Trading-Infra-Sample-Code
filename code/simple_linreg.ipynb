{
 "cells": [
  {
   "cell_type": "markdown",
   "metadata": {},
   "source": [
    "### Author: Hoang Chu"
   ]
  },
  {
   "cell_type": "markdown",
   "metadata": {},
   "source": [
    "#### Imports"
   ]
  },
  {
   "cell_type": "code",
   "execution_count": 1,
   "metadata": {},
   "outputs": [
    {
     "name": "stdout",
     "output_type": "stream",
     "text": [
      "Requirement already satisfied: absl-py==1.4.0 in /Users/hoangchu/Library/Python/3.11/lib/python/site-packages (from -r dependencies.txt (line 1)) (1.4.0)\n",
      "Requirement already satisfied: appnope==0.1.3 in /Users/hoangchu/Library/Python/3.11/lib/python/site-packages (from -r dependencies.txt (line 2)) (0.1.3)\n",
      "Requirement already satisfied: asttokens==2.2.1 in /Users/hoangchu/Library/Python/3.11/lib/python/site-packages (from -r dependencies.txt (line 3)) (2.2.1)\n",
      "Requirement already satisfied: attrs==23.1.0 in /Library/Frameworks/Python.framework/Versions/3.11/lib/python3.11/site-packages (from -r dependencies.txt (line 4)) (23.1.0)\n",
      "Requirement already satisfied: backcall==0.2.0 in /Users/hoangchu/Library/Python/3.11/lib/python/site-packages (from -r dependencies.txt (line 5)) (0.2.0)\n",
      "Requirement already satisfied: certifi==2023.5.7 in /Library/Frameworks/Python.framework/Versions/3.11/lib/python3.11/site-packages (from -r dependencies.txt (line 6)) (2023.5.7)\n",
      "Requirement already satisfied: charset-normalizer==3.2.0 in /Library/Frameworks/Python.framework/Versions/3.11/lib/python3.11/site-packages (from -r dependencies.txt (line 7)) (3.2.0)\n",
      "Requirement already satisfied: click==8.1.3 in /Library/Frameworks/Python.framework/Versions/3.11/lib/python3.11/site-packages (from -r dependencies.txt (line 8)) (8.1.3)\n",
      "Requirement already satisfied: click-plugins==1.1.1 in /Library/Frameworks/Python.framework/Versions/3.11/lib/python3.11/site-packages (from -r dependencies.txt (line 9)) (1.1.1)\n",
      "Requirement already satisfied: cligj==0.7.2 in /Library/Frameworks/Python.framework/Versions/3.11/lib/python3.11/site-packages (from -r dependencies.txt (line 10)) (0.7.2)\n",
      "Requirement already satisfied: comm==0.1.3 in /Users/hoangchu/Library/Python/3.11/lib/python/site-packages (from -r dependencies.txt (line 11)) (0.1.3)\n",
      "Requirement already satisfied: contourpy==1.1.0 in /Library/Frameworks/Python.framework/Versions/3.11/lib/python3.11/site-packages (from -r dependencies.txt (line 12)) (1.1.0)\n",
      "Requirement already satisfied: cycler==0.11.0 in /Library/Frameworks/Python.framework/Versions/3.11/lib/python3.11/site-packages (from -r dependencies.txt (line 13)) (0.11.0)\n",
      "Requirement already satisfied: debugpy==1.6.7 in /Users/hoangchu/Library/Python/3.11/lib/python/site-packages (from -r dependencies.txt (line 14)) (1.6.7)\n",
      "Requirement already satisfied: decorator==5.1.1 in /Users/hoangchu/Library/Python/3.11/lib/python/site-packages (from -r dependencies.txt (line 15)) (5.1.1)\n",
      "Requirement already satisfied: executing==1.2.0 in /Users/hoangchu/Library/Python/3.11/lib/python/site-packages (from -r dependencies.txt (line 16)) (1.2.0)\n",
      "Requirement already satisfied: Fiona==1.9.4.post1 in /Library/Frameworks/Python.framework/Versions/3.11/lib/python3.11/site-packages (from -r dependencies.txt (line 17)) (1.9.4.post1)\n",
      "Requirement already satisfied: fonttools==4.40.0 in /Library/Frameworks/Python.framework/Versions/3.11/lib/python3.11/site-packages (from -r dependencies.txt (line 18)) (4.40.0)\n",
      "Requirement already satisfied: geopandas==0.13.2 in /Library/Frameworks/Python.framework/Versions/3.11/lib/python3.11/site-packages (from -r dependencies.txt (line 19)) (0.13.2)\n",
      "Requirement already satisfied: idna==3.4 in /Library/Frameworks/Python.framework/Versions/3.11/lib/python3.11/site-packages (from -r dependencies.txt (line 20)) (3.4)\n",
      "Requirement already satisfied: ipykernel==6.23.3 in /Users/hoangchu/Library/Python/3.11/lib/python/site-packages (from -r dependencies.txt (line 21)) (6.23.3)\n",
      "Requirement already satisfied: ipython==8.14.0 in /Users/hoangchu/Library/Python/3.11/lib/python/site-packages (from -r dependencies.txt (line 22)) (8.14.0)\n",
      "Requirement already satisfied: jedi==0.18.2 in /Users/hoangchu/Library/Python/3.11/lib/python/site-packages (from -r dependencies.txt (line 23)) (0.18.2)\n",
      "Requirement already satisfied: joblib==1.3.2 in /Library/Frameworks/Python.framework/Versions/3.11/lib/python3.11/site-packages (from -r dependencies.txt (line 24)) (1.3.2)\n",
      "Requirement already satisfied: jupyter_client==8.3.0 in /Users/hoangchu/Library/Python/3.11/lib/python/site-packages (from -r dependencies.txt (line 25)) (8.3.0)\n",
      "Requirement already satisfied: jupyter_core==5.3.1 in /Users/hoangchu/Library/Python/3.11/lib/python/site-packages (from -r dependencies.txt (line 26)) (5.3.1)\n",
      "Requirement already satisfied: kiwisolver==1.4.4 in /Library/Frameworks/Python.framework/Versions/3.11/lib/python3.11/site-packages (from -r dependencies.txt (line 27)) (1.4.4)\n",
      "Requirement already satisfied: matplotlib==3.7.2 in /Library/Frameworks/Python.framework/Versions/3.11/lib/python3.11/site-packages (from -r dependencies.txt (line 28)) (3.7.2)\n",
      "Requirement already satisfied: matplotlib-inline==0.1.6 in /Users/hoangchu/Library/Python/3.11/lib/python/site-packages (from -r dependencies.txt (line 29)) (0.1.6)\n",
      "Requirement already satisfied: nest-asyncio==1.5.6 in /Users/hoangchu/Library/Python/3.11/lib/python/site-packages (from -r dependencies.txt (line 30)) (1.5.6)\n",
      "Requirement already satisfied: numpy==1.25.0 in /Library/Frameworks/Python.framework/Versions/3.11/lib/python3.11/site-packages (from -r dependencies.txt (line 31)) (1.25.0)\n",
      "Requirement already satisfied: ortools==9.7.2996 in /Users/hoangchu/Library/Python/3.11/lib/python/site-packages (from -r dependencies.txt (line 32)) (9.7.2996)\n",
      "Requirement already satisfied: packaging==23.1 in /Users/hoangchu/Library/Python/3.11/lib/python/site-packages (from -r dependencies.txt (line 33)) (23.1)\n",
      "Requirement already satisfied: pandas==2.0.2 in /Library/Frameworks/Python.framework/Versions/3.11/lib/python3.11/site-packages (from -r dependencies.txt (line 34)) (2.0.2)\n",
      "Requirement already satisfied: parso==0.8.3 in /Users/hoangchu/Library/Python/3.11/lib/python/site-packages (from -r dependencies.txt (line 35)) (0.8.3)\n",
      "Requirement already satisfied: patsy==0.5.3 in /Library/Frameworks/Python.framework/Versions/3.11/lib/python3.11/site-packages (from -r dependencies.txt (line 36)) (0.5.3)\n",
      "Requirement already satisfied: pexpect==4.8.0 in /Users/hoangchu/Library/Python/3.11/lib/python/site-packages (from -r dependencies.txt (line 37)) (4.8.0)\n",
      "Requirement already satisfied: pickleshare==0.7.5 in /Users/hoangchu/Library/Python/3.11/lib/python/site-packages (from -r dependencies.txt (line 38)) (0.7.5)\n",
      "Requirement already satisfied: Pillow==10.0.0 in /Library/Frameworks/Python.framework/Versions/3.11/lib/python3.11/site-packages (from -r dependencies.txt (line 39)) (10.0.0)\n",
      "Requirement already satisfied: platformdirs==3.8.0 in /Users/hoangchu/Library/Python/3.11/lib/python/site-packages (from -r dependencies.txt (line 40)) (3.8.0)\n",
      "Requirement already satisfied: prompt-toolkit==3.0.38 in /Users/hoangchu/Library/Python/3.11/lib/python/site-packages (from -r dependencies.txt (line 41)) (3.0.38)\n",
      "Requirement already satisfied: protobuf==4.23.4 in /Users/hoangchu/Library/Python/3.11/lib/python/site-packages (from -r dependencies.txt (line 42)) (4.23.4)\n",
      "Requirement already satisfied: psutil==5.9.5 in /Users/hoangchu/Library/Python/3.11/lib/python/site-packages (from -r dependencies.txt (line 43)) (5.9.5)\n",
      "Requirement already satisfied: ptyprocess==0.7.0 in /Users/hoangchu/Library/Python/3.11/lib/python/site-packages (from -r dependencies.txt (line 44)) (0.7.0)\n",
      "Requirement already satisfied: pure-eval==0.2.2 in /Users/hoangchu/Library/Python/3.11/lib/python/site-packages (from -r dependencies.txt (line 45)) (0.2.2)\n",
      "Requirement already satisfied: Pygments==2.15.1 in /Users/hoangchu/Library/Python/3.11/lib/python/site-packages (from -r dependencies.txt (line 46)) (2.15.1)\n",
      "Requirement already satisfied: pyparsing==3.0.9 in /Library/Frameworks/Python.framework/Versions/3.11/lib/python3.11/site-packages (from -r dependencies.txt (line 47)) (3.0.9)\n",
      "Requirement already satisfied: pyproj==3.6.0 in /Library/Frameworks/Python.framework/Versions/3.11/lib/python3.11/site-packages (from -r dependencies.txt (line 48)) (3.6.0)\n",
      "Requirement already satisfied: python-dateutil==2.8.2 in /Users/hoangchu/Library/Python/3.11/lib/python/site-packages (from -r dependencies.txt (line 49)) (2.8.2)\n",
      "Requirement already satisfied: pytz==2023.3 in /Library/Frameworks/Python.framework/Versions/3.11/lib/python3.11/site-packages (from -r dependencies.txt (line 50)) (2023.3)\n",
      "Requirement already satisfied: pyzmq==25.1.0 in /Users/hoangchu/Library/Python/3.11/lib/python/site-packages (from -r dependencies.txt (line 51)) (25.1.0)\n",
      "Requirement already satisfied: requests==2.31.0 in /Library/Frameworks/Python.framework/Versions/3.11/lib/python3.11/site-packages (from -r dependencies.txt (line 52)) (2.31.0)\n",
      "Requirement already satisfied: scikit-learn==1.3.0 in /Library/Frameworks/Python.framework/Versions/3.11/lib/python3.11/site-packages (from -r dependencies.txt (line 53)) (1.3.0)\n",
      "Requirement already satisfied: scipy==1.11.1 in /Users/hoangchu/Library/Python/3.11/lib/python/site-packages (from -r dependencies.txt (line 54)) (1.11.1)\n",
      "Requirement already satisfied: shapely==2.0.1 in /Library/Frameworks/Python.framework/Versions/3.11/lib/python3.11/site-packages (from -r dependencies.txt (line 55)) (2.0.1)\n",
      "Requirement already satisfied: six==1.16.0 in /Users/hoangchu/Library/Python/3.11/lib/python/site-packages (from -r dependencies.txt (line 56)) (1.16.0)\n",
      "Requirement already satisfied: sklearn==0.0.post9 in /Library/Frameworks/Python.framework/Versions/3.11/lib/python3.11/site-packages (from -r dependencies.txt (line 57)) (0.0.post9)\n",
      "Requirement already satisfied: stack-data==0.6.2 in /Users/hoangchu/Library/Python/3.11/lib/python/site-packages (from -r dependencies.txt (line 58)) (0.6.2)\n",
      "Requirement already satisfied: statsmodels==0.14.0 in /Library/Frameworks/Python.framework/Versions/3.11/lib/python3.11/site-packages (from -r dependencies.txt (line 59)) (0.14.0)\n",
      "Requirement already satisfied: threadpoolctl==3.2.0 in /Library/Frameworks/Python.framework/Versions/3.11/lib/python3.11/site-packages (from -r dependencies.txt (line 60)) (3.2.0)\n",
      "Requirement already satisfied: tornado==6.3.2 in /Users/hoangchu/Library/Python/3.11/lib/python/site-packages (from -r dependencies.txt (line 61)) (6.3.2)\n",
      "Requirement already satisfied: traitlets==5.9.0 in /Users/hoangchu/Library/Python/3.11/lib/python/site-packages (from -r dependencies.txt (line 62)) (5.9.0)\n",
      "Requirement already satisfied: tzdata==2023.3 in /Library/Frameworks/Python.framework/Versions/3.11/lib/python3.11/site-packages (from -r dependencies.txt (line 63)) (2023.3)\n",
      "Requirement already satisfied: urllib3==2.0.5 in /Library/Frameworks/Python.framework/Versions/3.11/lib/python3.11/site-packages (from -r dependencies.txt (line 64)) (2.0.5)\n",
      "Requirement already satisfied: wcwidth==0.2.6 in /Users/hoangchu/Library/Python/3.11/lib/python/site-packages (from -r dependencies.txt (line 65)) (0.2.6)\n",
      "Note: you may need to restart the kernel to use updated packages.\n"
     ]
    }
   ],
   "source": [
    "%pip install -r dependencies.txt"
   ]
  },
  {
   "cell_type": "code",
   "execution_count": 2,
   "metadata": {},
   "outputs": [],
   "source": [
    "import pandas as pd\n",
    "import numpy as np\n",
    "import sklearn\n",
    "import matplotlib.pyplot as plt\n",
    "import requests"
   ]
  },
  {
   "cell_type": "code",
   "execution_count": 3,
   "metadata": {},
   "outputs": [],
   "source": [
    "import importlib\n",
    "import helper, consts"
   ]
  },
  {
   "cell_type": "code",
   "execution_count": 4,
   "metadata": {},
   "outputs": [
    {
     "data": {
      "text/plain": [
       "<module 'helper' from '/Users/hoangchu/Documents/Clinic/code/helper.py'>"
      ]
     },
     "execution_count": 4,
     "metadata": {},
     "output_type": "execute_result"
    }
   ],
   "source": [
    "importlib.reload(consts)\n",
    "importlib.reload(helper)"
   ]
  },
  {
   "cell_type": "markdown",
   "metadata": {},
   "source": [
    "#### CONSTANTS"
   ]
  },
  {
   "cell_type": "code",
   "execution_count": 5,
   "metadata": {},
   "outputs": [],
   "source": [
    "ROW_AX = 0\n",
    "COL_AX = 1"
   ]
  },
  {
   "cell_type": "code",
   "execution_count": 6,
   "metadata": {},
   "outputs": [
    {
     "data": {
      "text/plain": [
       "'../data/'"
      ]
     },
     "execution_count": 6,
     "metadata": {},
     "output_type": "execute_result"
    }
   ],
   "source": [
    "DATA_PATH = consts.DATA_PATH\n",
    "DATA_PATH"
   ]
  },
  {
   "cell_type": "code",
   "execution_count": 7,
   "metadata": {},
   "outputs": [],
   "source": [
    "RESPONSE_NAME = \"rel2retcfrtxm_nt_0\"\n",
    "PREDICTOR_NAME = 'rrirpnxm_nt_0'"
   ]
  },
  {
   "cell_type": "markdown",
   "metadata": {},
   "source": [
    "#### Data Exploration"
   ]
  },
  {
   "cell_type": "code",
   "execution_count": 8,
   "metadata": {},
   "outputs": [],
   "source": [
    "# local read\n",
    "\n",
    "data_20191202_1200_df = pd.read_csv(DATA_PATH + \"data_20191202_1200.csv\")"
   ]
  },
  {
   "cell_type": "code",
   "execution_count": 9,
   "metadata": {},
   "outputs": [],
   "source": [
    "# cloud read -- TODO: NEED A PERMANET LINK!!\n",
    "\n",
    "# importlib.reload(consts)\n",
    "\n",
    "# url = ... # url in consts.py\n",
    "# assert requests.get(url).status_code == 200\n",
    "# data_20191202_1200_df = pd.read_csv(url)\n",
    "# data_20191202_1200_df.head()"
   ]
  },
  {
   "cell_type": "code",
   "execution_count": 10,
   "metadata": {},
   "outputs": [],
   "source": [
    "working_df = data_20191202_1200_df.copy() # Deep copy"
   ]
  },
  {
   "cell_type": "code",
   "execution_count": 11,
   "metadata": {},
   "outputs": [
    {
     "data": {
      "text/plain": [
       "252"
      ]
     },
     "execution_count": 11,
     "metadata": {},
     "output_type": "execute_result"
    }
   ],
   "source": [
    "sorted_columns = sorted(working_df.columns)\n",
    "len(sorted_columns)"
   ]
  },
  {
   "cell_type": "code",
   "execution_count": 12,
   "metadata": {},
   "outputs": [],
   "source": [
    "predictor_column = working_df[PREDICTOR_NAME]\n",
    "response_column = working_df[RESPONSE_NAME]"
   ]
  },
  {
   "cell_type": "code",
   "execution_count": 13,
   "metadata": {},
   "outputs": [
    {
     "data": {
      "text/plain": [
       "Text(0, 0.5, 'Response')"
      ]
     },
     "execution_count": 13,
     "metadata": {},
     "output_type": "execute_result"
    },
    {
     "data": {
      "image/png": "[encoded data removed]",
      "text/plain": [
       "<Figure size 640x480 with 1 Axes>"
      ]
     },
     "metadata": {},
     "output_type": "display_data"
    }
   ],
   "source": [
    "plt.scatter(x=working_df[[PREDICTOR_NAME]], y=response_column, color=\"orange\")\n",
    "plt.xlabel(\"Predictor\")\n",
    "plt.ylabel(\"Response\")"
   ]
  },
  {
   "cell_type": "markdown",
   "metadata": {},
   "source": [
    "#### Split data to train (80%) and test (20%)"
   ]
  },
  {
   "cell_type": "code",
   "execution_count": 14,
   "metadata": {},
   "outputs": [],
   "source": [
    "# Build a train mask and test mask\n",
    "np.random.seed(42)\n",
    "data_size = working_df.shape[0]\n",
    "testing_fraction = 0.2\n",
    "testing_size = int(data_size * testing_fraction)\n",
    "\n",
    "testing_indices = np.random.choice(np.arange(data_size), testing_size)\n",
    "testing_mask = np.zeros(data_size, dtype = bool)\n",
    "testing_mask[testing_indices] = True\n",
    "\n",
    "training_mask = ~testing_mask # if testing_mask[i] = True, training_mask[i] = False"
   ]
  },
  {
   "cell_type": "code",
   "execution_count": 15,
   "metadata": {},
   "outputs": [],
   "source": [
    "working_df['train_mask'] = training_mask\n",
    "working_df['test_mask'] = testing_mask"
   ]
  },
  {
   "cell_type": "code",
   "execution_count": 16,
   "metadata": {},
   "outputs": [
    {
     "data": {
      "text/html": [
       "<div>\n",
       "<style scoped>\n",
       "    .dataframe tbody tr th:only-of-type {\n",
       "        vertical-align: middle;\n",
       "    }\n",
       "\n",
       "    .dataframe tbody tr th {\n",
       "        vertical-align: top;\n",
       "    }\n",
       "\n",
       "    .dataframe thead th {\n",
       "        text-align: right;\n",
       "    }\n",
       "</style>\n",
       "<table border=\"1\" class=\"dataframe\">\n",
       "  <thead>\n",
       "    <tr style=\"text-align: right;\">\n",
       "      <th></th>\n",
       "      <th>rrirpnxm_nt_0</th>\n",
       "    </tr>\n",
       "  </thead>\n",
       "  <tbody>\n",
       "    <tr>\n",
       "      <th>0</th>\n",
       "      <td>0.015402</td>\n",
       "    </tr>\n",
       "    <tr>\n",
       "      <th>1</th>\n",
       "      <td>-0.006332</td>\n",
       "    </tr>\n",
       "    <tr>\n",
       "      <th>2</th>\n",
       "      <td>0.001978</td>\n",
       "    </tr>\n",
       "    <tr>\n",
       "      <th>3</th>\n",
       "      <td>0.000035</td>\n",
       "    </tr>\n",
       "    <tr>\n",
       "      <th>4</th>\n",
       "      <td>0.004667</td>\n",
       "    </tr>\n",
       "  </tbody>\n",
       "</table>\n",
       "</div>"
      ],
      "text/plain": [
       "   rrirpnxm_nt_0\n",
       "0       0.015402\n",
       "1      -0.006332\n",
       "2       0.001978\n",
       "3       0.000035\n",
       "4       0.004667"
      ]
     },
     "execution_count": 16,
     "metadata": {},
     "output_type": "execute_result"
    }
   ],
   "source": [
    "training_condition = (working_df['train_mask'] == True)\n",
    "training_df = working_df[training_condition][[PREDICTOR_NAME]].reset_index(drop=True)\n",
    "training_target_series = working_df[training_condition][RESPONSE_NAME].reset_index(drop=True)\n",
    "assert training_df.shape[0] == len(training_target_series)\n",
    "\n",
    "training_df.head()"
   ]
  },
  {
   "cell_type": "code",
   "execution_count": 17,
   "metadata": {},
   "outputs": [
    {
     "data": {
      "text/html": [
       "<div>\n",
       "<style scoped>\n",
       "    .dataframe tbody tr th:only-of-type {\n",
       "        vertical-align: middle;\n",
       "    }\n",
       "\n",
       "    .dataframe tbody tr th {\n",
       "        vertical-align: top;\n",
       "    }\n",
       "\n",
       "    .dataframe thead th {\n",
       "        text-align: right;\n",
       "    }\n",
       "</style>\n",
       "<table border=\"1\" class=\"dataframe\">\n",
       "  <thead>\n",
       "    <tr style=\"text-align: right;\">\n",
       "      <th></th>\n",
       "      <th>rrirpnxm_nt_0</th>\n",
       "    </tr>\n",
       "  </thead>\n",
       "  <tbody>\n",
       "    <tr>\n",
       "      <th>0</th>\n",
       "      <td>0.005125</td>\n",
       "    </tr>\n",
       "    <tr>\n",
       "      <th>1</th>\n",
       "      <td>0.003413</td>\n",
       "    </tr>\n",
       "    <tr>\n",
       "      <th>2</th>\n",
       "      <td>-0.001960</td>\n",
       "    </tr>\n",
       "    <tr>\n",
       "      <th>3</th>\n",
       "      <td>-0.000405</td>\n",
       "    </tr>\n",
       "    <tr>\n",
       "      <th>4</th>\n",
       "      <td>-0.001259</td>\n",
       "    </tr>\n",
       "  </tbody>\n",
       "</table>\n",
       "</div>"
      ],
      "text/plain": [
       "   rrirpnxm_nt_0\n",
       "0       0.005125\n",
       "1       0.003413\n",
       "2      -0.001960\n",
       "3      -0.000405\n",
       "4      -0.001259"
      ]
     },
     "execution_count": 17,
     "metadata": {},
     "output_type": "execute_result"
    }
   ],
   "source": [
    "testing_condition = (working_df['test_mask'] == True)\n",
    "testing_df = working_df[testing_condition][[PREDICTOR_NAME]].reset_index(drop=True)\n",
    "testing_target_series = working_df[testing_condition][RESPONSE_NAME].reset_index(drop=True)\n",
    "assert testing_df.shape[0] == len(testing_target_series)\n",
    "\n",
    "testing_df.head()"
   ]
  },
  {
   "cell_type": "markdown",
   "metadata": {},
   "source": [
    "#### Build a simple (1-variable) linear regression model"
   ]
  },
  {
   "cell_type": "markdown",
   "metadata": {},
   "source": [
    "##### Retrieve the beta"
   ]
  },
  {
   "cell_type": "code",
   "execution_count": 18,
   "metadata": {},
   "outputs": [
    {
     "data": {
      "text/plain": [
       "array([1.3475641])"
      ]
     },
     "execution_count": 18,
     "metadata": {},
     "output_type": "execute_result"
    }
   ],
   "source": [
    "import sklearn.linear_model\n",
    "\n",
    "simple_linreg = sklearn.linear_model.LinearRegression()\n",
    "simple_linreg.fit(training_df, training_target_series) # Least Square Method\n",
    "simple_linreg.coef_"
   ]
  },
  {
   "cell_type": "markdown",
   "metadata": {},
   "source": [
    "##### Make prediction"
   ]
  },
  {
   "cell_type": "code",
   "execution_count": 19,
   "metadata": {},
   "outputs": [],
   "source": [
    "predicted_responses = simple_linreg.predict(testing_df)"
   ]
  },
  {
   "cell_type": "markdown",
   "metadata": {},
   "source": [
    "#### Model evaluation"
   ]
  },
  {
   "cell_type": "code",
   "execution_count": 20,
   "metadata": {},
   "outputs": [
    {
     "data": {
      "image/png": "[encoded data removed]",
      "text/plain": [
       "<Figure size 800x600 with 1 Axes>"
      ]
     },
     "metadata": {},
     "output_type": "display_data"
    }
   ],
   "source": [
    "plt.figure(figsize=(8, 6))\n",
    "plt.scatter(y=testing_target_series, x=predicted_responses, color='orange')\n",
    "plt.ylabel(\"Actual\")\n",
    "plt.xlabel(\"Predicted\")\n",
    "plt.show()"
   ]
  },
  {
   "cell_type": "code",
   "execution_count": 21,
   "metadata": {},
   "outputs": [],
   "source": [
    "from sklearn.metrics import mean_squared_error, r2_score"
   ]
  },
  {
   "cell_type": "code",
   "execution_count": 22,
   "metadata": {},
   "outputs": [
    {
     "name": "stdout",
     "output_type": "stream",
     "text": [
      "Mean Squared Error: 1.2407019226895841\n"
     ]
    }
   ],
   "source": [
    "mse = mean_squared_error(testing_target_series, predicted_responses)\n",
    "print(f\"Mean Squared Error: {mse}\")"
   ]
  },
  {
   "cell_type": "code",
   "execution_count": 23,
   "metadata": {},
   "outputs": [
    {
     "name": "stdout",
     "output_type": "stream",
     "text": [
      "R-Squared: -0.007769543877188312\n"
     ]
    }
   ],
   "source": [
    "# Higher better. 1 is perfect prediction\n",
    "r_squared = r2_score(testing_target_series, predicted_responses)\n",
    "print(f\"R-Squared: {r_squared}\")"
   ]
  },
  {
   "cell_type": "code",
   "execution_count": 24,
   "metadata": {},
   "outputs": [],
   "source": [
    "residuals = testing_target_series - predicted_responses"
   ]
  },
  {
   "cell_type": "markdown",
   "metadata": {},
   "source": [
    "#### Check linear regression assumptions"
   ]
  },
  {
   "cell_type": "markdown",
   "metadata": {},
   "source": [
    "##### Residuals must be normally distributed w/ Q-Q plot"
   ]
  },
  {
   "cell_type": "code",
   "execution_count": 25,
   "metadata": {},
   "outputs": [
    {
     "data": {
      "image/png": "[encoded data removed]",
      "text/plain": [
       "<Figure size 640x480 with 1 Axes>"
      ]
     },
     "metadata": {},
     "output_type": "display_data"
    }
   ],
   "source": [
    "import statsmodels.api as sm\n",
    "\n",
    "sm.qqplot(np.array(residuals), line = '45'); # A semicolon to avoid 2 similar plots -- this has been the library's bug for 5 years!"
   ]
  },
  {
   "cell_type": "code",
   "execution_count": 26,
   "metadata": {},
   "outputs": [
    {
     "name": "stdout",
     "output_type": "stream",
     "text": [
      "Shapiro-Wilk Test: Residuals NOT normally distributed.\n"
     ]
    }
   ],
   "source": [
    "helper.shapiro_test(residuals)"
   ]
  },
  {
   "cell_type": "markdown",
   "metadata": {},
   "source": [
    "##### Mean of residuals should be 0"
   ]
  },
  {
   "cell_type": "code",
   "execution_count": 27,
   "metadata": {},
   "outputs": [
    {
     "data": {
      "text/plain": [
       "0.09107938559662897"
      ]
     },
     "execution_count": 27,
     "metadata": {},
     "output_type": "execute_result"
    }
   ],
   "source": [
    "np.mean(residuals)"
   ]
  },
  {
   "cell_type": "markdown",
   "metadata": {},
   "source": [
    "##### Check for multi-collinearity"
   ]
  },
  {
   "cell_type": "code",
   "execution_count": 28,
   "metadata": {},
   "outputs": [
    {
     "name": "stdout",
     "output_type": "stream",
     "text": [
      "VIF = 0.9922903565359829. This model performs worse than a horizontal line :(\n"
     ]
    }
   ],
   "source": [
    "helper.vif_test(r_squared)"
   ]
  },
  {
   "cell_type": "markdown",
   "metadata": {},
   "source": [
    "##### Residuals have a fixed variance"
   ]
  },
  {
   "cell_type": "code",
   "execution_count": 29,
   "metadata": {},
   "outputs": [
    {
     "data": {
      "image/png": "[encoded data removed]",
      "text/plain": [
       "<Figure size 640x480 with 1 Axes>"
      ]
     },
     "metadata": {},
     "output_type": "display_data"
    }
   ],
   "source": [
    "plt.scatter(x=predicted_responses, y = residuals, color = 'r')  # Replace X[:, 0] with the desired predictor variable\n",
    "plt.xlabel('Predicted Responses')  # Replace 'X' with the label of the predictor variable\n",
    "plt.ylabel('Residuals')\n",
    "plt.title('Heteroskedasticity Check\\n(yes means funnel shape)')\n",
    "plt.show()"
   ]
  },
  {
   "cell_type": "code",
   "execution_count": 30,
   "metadata": {},
   "outputs": [
    {
     "name": "stdout",
     "output_type": "stream",
     "text": [
      "White Test: Residuals DO NOT have constant variance.\n"
     ]
    }
   ],
   "source": [
    "# White test if only use 1 predictor (simple linear regression)\n",
    "# for multiple linear regression, use bp-test\n",
    "\n",
    "helper.white_test(residuals, testing_df)"
   ]
  },
  {
   "cell_type": "code",
   "execution_count": 31,
   "metadata": {},
   "outputs": [
    {
     "name": "stdout",
     "output_type": "stream",
     "text": [
      "Note: you may need to restart the kernel to use updated packages.\n"
     ]
    }
   ],
   "source": [
    "%pip freeze > dependencies.txt"
   ]
  }
 ],
 "metadata": {
  "kernelspec": {
   "display_name": "Python 3",
   "language": "python",
   "name": "python3"
  },
  "language_info": {
   "codemirror_mode": {
    "name": "ipython",
    "version": 3
   },
   "file_extension": ".py",
   "mimetype": "text/x-python",
   "name": "python",
   "nbconvert_exporter": "python",
   "pygments_lexer": "ipython3",
   "version": "3.10.10"
  },
  "orig_nbformat": 4,
  "vscode": {
   "interpreter": {
    "hash": "b0fa6594d8f4cbf19f97940f81e996739fb7646882a419484c72d19e05852a7e"
   }
  }
 },
 "nbformat": 4,
 "nbformat_minor": 2
}
