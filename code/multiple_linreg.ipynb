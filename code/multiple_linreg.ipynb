{
 "cells": [
  {
   "cell_type": "markdown",
   "metadata": {},
   "source": [
    "### Author: Hoang Chu"
   ]
  },
  {
   "cell_type": "markdown",
   "metadata": {},
   "source": [
    "#### Imports"
   ]
  },
  {
   "cell_type": "code",
   "execution_count": 52,
   "metadata": {},
   "outputs": [
    {
     "name": "stdout",
     "output_type": "stream",
     "text": [
      "Requirement already satisfied: absl-py==1.4.0 in /Users/hoangchu/Library/Python/3.11/lib/python/site-packages (from -r dependencies.txt (line 1)) (1.4.0)\n",
      "Requirement already satisfied: appnope==0.1.3 in /Users/hoangchu/Library/Python/3.11/lib/python/site-packages (from -r dependencies.txt (line 2)) (0.1.3)\n",
      "Requirement already satisfied: asttokens==2.2.1 in /Users/hoangchu/Library/Python/3.11/lib/python/site-packages (from -r dependencies.txt (line 3)) (2.2.1)\n",
      "Requirement already satisfied: attrs==23.1.0 in /Library/Frameworks/Python.framework/Versions/3.11/lib/python3.11/site-packages (from -r dependencies.txt (line 4)) (23.1.0)\n",
      "Requirement already satisfied: backcall==0.2.0 in /Users/hoangchu/Library/Python/3.11/lib/python/site-packages (from -r dependencies.txt (line 5)) (0.2.0)\n",
      "Requirement already satisfied: certifi==2023.5.7 in /Library/Frameworks/Python.framework/Versions/3.11/lib/python3.11/site-packages (from -r dependencies.txt (line 6)) (2023.5.7)\n",
      "Requirement already satisfied: charset-normalizer==3.2.0 in /Library/Frameworks/Python.framework/Versions/3.11/lib/python3.11/site-packages (from -r dependencies.txt (line 7)) (3.2.0)\n",
      "Requirement already satisfied: click==8.1.3 in /Library/Frameworks/Python.framework/Versions/3.11/lib/python3.11/site-packages (from -r dependencies.txt (line 8)) (8.1.3)\n",
      "Requirement already satisfied: click-plugins==1.1.1 in /Library/Frameworks/Python.framework/Versions/3.11/lib/python3.11/site-packages (from -r dependencies.txt (line 9)) (1.1.1)\n",
      "Requirement already satisfied: cligj==0.7.2 in /Library/Frameworks/Python.framework/Versions/3.11/lib/python3.11/site-packages (from -r dependencies.txt (line 10)) (0.7.2)\n",
      "Requirement already satisfied: comm==0.1.3 in /Users/hoangchu/Library/Python/3.11/lib/python/site-packages (from -r dependencies.txt (line 11)) (0.1.3)\n",
      "Requirement already satisfied: contourpy==1.1.0 in /Library/Frameworks/Python.framework/Versions/3.11/lib/python3.11/site-packages (from -r dependencies.txt (line 12)) (1.1.0)\n",
      "Requirement already satisfied: cycler==0.11.0 in /Library/Frameworks/Python.framework/Versions/3.11/lib/python3.11/site-packages (from -r dependencies.txt (line 13)) (0.11.0)\n",
      "Requirement already satisfied: debugpy==1.6.7 in /Users/hoangchu/Library/Python/3.11/lib/python/site-packages (from -r dependencies.txt (line 14)) (1.6.7)\n",
      "Requirement already satisfied: decorator==5.1.1 in /Users/hoangchu/Library/Python/3.11/lib/python/site-packages (from -r dependencies.txt (line 15)) (5.1.1)\n",
      "Requirement already satisfied: executing==1.2.0 in /Users/hoangchu/Library/Python/3.11/lib/python/site-packages (from -r dependencies.txt (line 16)) (1.2.0)\n",
      "Requirement already satisfied: Fiona==1.9.4.post1 in /Library/Frameworks/Python.framework/Versions/3.11/lib/python3.11/site-packages (from -r dependencies.txt (line 17)) (1.9.4.post1)\n",
      "Requirement already satisfied: fonttools==4.40.0 in /Library/Frameworks/Python.framework/Versions/3.11/lib/python3.11/site-packages (from -r dependencies.txt (line 18)) (4.40.0)\n",
      "Requirement already satisfied: geopandas==0.13.2 in /Library/Frameworks/Python.framework/Versions/3.11/lib/python3.11/site-packages (from -r dependencies.txt (line 19)) (0.13.2)\n",
      "Requirement already satisfied: idna==3.4 in /Library/Frameworks/Python.framework/Versions/3.11/lib/python3.11/site-packages (from -r dependencies.txt (line 20)) (3.4)\n",
      "Requirement already satisfied: ipykernel==6.23.3 in /Users/hoangchu/Library/Python/3.11/lib/python/site-packages (from -r dependencies.txt (line 21)) (6.23.3)\n",
      "Requirement already satisfied: ipython==8.14.0 in /Users/hoangchu/Library/Python/3.11/lib/python/site-packages (from -r dependencies.txt (line 22)) (8.14.0)\n",
      "Requirement already satisfied: jedi==0.18.2 in /Users/hoangchu/Library/Python/3.11/lib/python/site-packages (from -r dependencies.txt (line 23)) (0.18.2)\n",
      "Requirement already satisfied: joblib==1.3.2 in /Library/Frameworks/Python.framework/Versions/3.11/lib/python3.11/site-packages (from -r dependencies.txt (line 24)) (1.3.2)\n",
      "Requirement already satisfied: jupyter_client==8.3.0 in /Users/hoangchu/Library/Python/3.11/lib/python/site-packages (from -r dependencies.txt (line 25)) (8.3.0)\n",
      "Requirement already satisfied: jupyter_core==5.3.1 in /Users/hoangchu/Library/Python/3.11/lib/python/site-packages (from -r dependencies.txt (line 26)) (5.3.1)\n",
      "Requirement already satisfied: kiwisolver==1.4.4 in /Library/Frameworks/Python.framework/Versions/3.11/lib/python3.11/site-packages (from -r dependencies.txt (line 27)) (1.4.4)\n",
      "Requirement already satisfied: matplotlib==3.7.2 in /Library/Frameworks/Python.framework/Versions/3.11/lib/python3.11/site-packages (from -r dependencies.txt (line 28)) (3.7.2)\n",
      "Requirement already satisfied: matplotlib-inline==0.1.6 in /Users/hoangchu/Library/Python/3.11/lib/python/site-packages (from -r dependencies.txt (line 29)) (0.1.6)\n",
      "Requirement already satisfied: nest-asyncio==1.5.6 in /Users/hoangchu/Library/Python/3.11/lib/python/site-packages (from -r dependencies.txt (line 30)) (1.5.6)\n",
      "Requirement already satisfied: numpy==1.25.0 in /Library/Frameworks/Python.framework/Versions/3.11/lib/python3.11/site-packages (from -r dependencies.txt (line 31)) (1.25.0)\n",
      "Requirement already satisfied: ortools==9.7.2996 in /Users/hoangchu/Library/Python/3.11/lib/python/site-packages (from -r dependencies.txt (line 32)) (9.7.2996)\n",
      "Requirement already satisfied: packaging==23.1 in /Users/hoangchu/Library/Python/3.11/lib/python/site-packages (from -r dependencies.txt (line 33)) (23.1)\n",
      "Requirement already satisfied: pandas==2.0.2 in /Library/Frameworks/Python.framework/Versions/3.11/lib/python3.11/site-packages (from -r dependencies.txt (line 34)) (2.0.2)\n",
      "Requirement already satisfied: parso==0.8.3 in /Users/hoangchu/Library/Python/3.11/lib/python/site-packages (from -r dependencies.txt (line 35)) (0.8.3)\n",
      "Requirement already satisfied: patsy==0.5.3 in /Library/Frameworks/Python.framework/Versions/3.11/lib/python3.11/site-packages (from -r dependencies.txt (line 36)) (0.5.3)\n",
      "Requirement already satisfied: pexpect==4.8.0 in /Users/hoangchu/Library/Python/3.11/lib/python/site-packages (from -r dependencies.txt (line 37)) (4.8.0)\n",
      "Requirement already satisfied: pickleshare==0.7.5 in /Users/hoangchu/Library/Python/3.11/lib/python/site-packages (from -r dependencies.txt (line 38)) (0.7.5)\n",
      "Requirement already satisfied: Pillow==10.0.0 in /Library/Frameworks/Python.framework/Versions/3.11/lib/python3.11/site-packages (from -r dependencies.txt (line 39)) (10.0.0)\n",
      "Requirement already satisfied: platformdirs==3.8.0 in /Users/hoangchu/Library/Python/3.11/lib/python/site-packages (from -r dependencies.txt (line 40)) (3.8.0)\n",
      "Requirement already satisfied: prompt-toolkit==3.0.38 in /Users/hoangchu/Library/Python/3.11/lib/python/site-packages (from -r dependencies.txt (line 41)) (3.0.38)\n",
      "Requirement already satisfied: protobuf==4.23.4 in /Users/hoangchu/Library/Python/3.11/lib/python/site-packages (from -r dependencies.txt (line 42)) (4.23.4)\n",
      "Requirement already satisfied: psutil==5.9.5 in /Users/hoangchu/Library/Python/3.11/lib/python/site-packages (from -r dependencies.txt (line 43)) (5.9.5)\n",
      "Requirement already satisfied: ptyprocess==0.7.0 in /Users/hoangchu/Library/Python/3.11/lib/python/site-packages (from -r dependencies.txt (line 44)) (0.7.0)\n",
      "Requirement already satisfied: pure-eval==0.2.2 in /Users/hoangchu/Library/Python/3.11/lib/python/site-packages (from -r dependencies.txt (line 45)) (0.2.2)\n",
      "Requirement already satisfied: Pygments==2.15.1 in /Users/hoangchu/Library/Python/3.11/lib/python/site-packages (from -r dependencies.txt (line 46)) (2.15.1)\n",
      "Requirement already satisfied: pyparsing==3.0.9 in /Library/Frameworks/Python.framework/Versions/3.11/lib/python3.11/site-packages (from -r dependencies.txt (line 47)) (3.0.9)\n",
      "Requirement already satisfied: pyproj==3.6.0 in /Library/Frameworks/Python.framework/Versions/3.11/lib/python3.11/site-packages (from -r dependencies.txt (line 48)) (3.6.0)\n",
      "Requirement already satisfied: python-dateutil==2.8.2 in /Users/hoangchu/Library/Python/3.11/lib/python/site-packages (from -r dependencies.txt (line 49)) (2.8.2)\n",
      "Requirement already satisfied: pytz==2023.3 in /Library/Frameworks/Python.framework/Versions/3.11/lib/python3.11/site-packages (from -r dependencies.txt (line 50)) (2023.3)\n",
      "Requirement already satisfied: pyzmq==25.1.0 in /Users/hoangchu/Library/Python/3.11/lib/python/site-packages (from -r dependencies.txt (line 51)) (25.1.0)\n",
      "Requirement already satisfied: requests==2.31.0 in /Library/Frameworks/Python.framework/Versions/3.11/lib/python3.11/site-packages (from -r dependencies.txt (line 52)) (2.31.0)\n",
      "Requirement already satisfied: scikit-learn==1.3.0 in /Library/Frameworks/Python.framework/Versions/3.11/lib/python3.11/site-packages (from -r dependencies.txt (line 53)) (1.3.0)\n",
      "Requirement already satisfied: scipy==1.11.1 in /Users/hoangchu/Library/Python/3.11/lib/python/site-packages (from -r dependencies.txt (line 54)) (1.11.1)\n",
      "Requirement already satisfied: shapely==2.0.1 in /Library/Frameworks/Python.framework/Versions/3.11/lib/python3.11/site-packages (from -r dependencies.txt (line 55)) (2.0.1)\n",
      "Requirement already satisfied: six==1.16.0 in /Users/hoangchu/Library/Python/3.11/lib/python/site-packages (from -r dependencies.txt (line 56)) (1.16.0)\n",
      "Requirement already satisfied: sklearn==0.0.post9 in /Library/Frameworks/Python.framework/Versions/3.11/lib/python3.11/site-packages (from -r dependencies.txt (line 57)) (0.0.post9)\n",
      "Requirement already satisfied: stack-data==0.6.2 in /Users/hoangchu/Library/Python/3.11/lib/python/site-packages (from -r dependencies.txt (line 58)) (0.6.2)\n",
      "Requirement already satisfied: statsmodels==0.14.0 in /Library/Frameworks/Python.framework/Versions/3.11/lib/python3.11/site-packages (from -r dependencies.txt (line 59)) (0.14.0)\n",
      "Requirement already satisfied: threadpoolctl==3.2.0 in /Library/Frameworks/Python.framework/Versions/3.11/lib/python3.11/site-packages (from -r dependencies.txt (line 60)) (3.2.0)\n",
      "Requirement already satisfied: tornado==6.3.2 in /Users/hoangchu/Library/Python/3.11/lib/python/site-packages (from -r dependencies.txt (line 61)) (6.3.2)\n",
      "Requirement already satisfied: traitlets==5.9.0 in /Users/hoangchu/Library/Python/3.11/lib/python/site-packages (from -r dependencies.txt (line 62)) (5.9.0)\n",
      "Requirement already satisfied: tzdata==2023.3 in /Library/Frameworks/Python.framework/Versions/3.11/lib/python3.11/site-packages (from -r dependencies.txt (line 63)) (2023.3)\n",
      "Requirement already satisfied: urllib3==2.0.5 in /Library/Frameworks/Python.framework/Versions/3.11/lib/python3.11/site-packages (from -r dependencies.txt (line 64)) (2.0.5)\n",
      "Requirement already satisfied: wcwidth==0.2.6 in /Users/hoangchu/Library/Python/3.11/lib/python/site-packages (from -r dependencies.txt (line 65)) (0.2.6)\n",
      "Note: you may need to restart the kernel to use updated packages.\n"
     ]
    }
   ],
   "source": [
    "%pip install -r dependencies.txt"
   ]
  },
  {
   "cell_type": "code",
   "execution_count": 53,
   "metadata": {},
   "outputs": [],
   "source": [
    "import pandas as pd\n",
    "import numpy as np\n",
    "import sklearn\n",
    "import matplotlib.pyplot as plt\n",
    "import requests"
   ]
  },
  {
   "cell_type": "code",
   "execution_count": 54,
   "metadata": {},
   "outputs": [],
   "source": [
    "import importlib\n",
    "import helper, consts"
   ]
  },
  {
   "cell_type": "code",
   "execution_count": 55,
   "metadata": {},
   "outputs": [
    {
     "data": {
      "text/plain": [
       "<module 'helper' from '/Users/hoangchu/Documents/Clinic/code/helper.py'>"
      ]
     },
     "execution_count": 55,
     "metadata": {},
     "output_type": "execute_result"
    }
   ],
   "source": [
    "importlib.reload(consts)\n",
    "importlib.reload(helper)"
   ]
  },
  {
   "cell_type": "code",
   "execution_count": 56,
   "metadata": {},
   "outputs": [],
   "source": [
    "does_sub_df_has_Nan = lambda df, col_name: df[[col_name]].isna().any(axis=COL_AX)"
   ]
  },
  {
   "cell_type": "markdown",
   "metadata": {},
   "source": [
    "#### CONSTANTS"
   ]
  },
  {
   "cell_type": "code",
   "execution_count": 57,
   "metadata": {},
   "outputs": [],
   "source": [
    "ROW_AX = 0\n",
    "COL_AX = 1"
   ]
  },
  {
   "cell_type": "code",
   "execution_count": 58,
   "metadata": {},
   "outputs": [
    {
     "data": {
      "text/plain": [
       "'../data/'"
      ]
     },
     "execution_count": 58,
     "metadata": {},
     "output_type": "execute_result"
    }
   ],
   "source": [
    "DATA_PATH = consts.DATA_PATH\n",
    "DATA_PATH"
   ]
  },
  {
   "cell_type": "code",
   "execution_count": 59,
   "metadata": {},
   "outputs": [],
   "source": [
    "RESPONSE_NAME = \"rel2retcfrtxm_nt_0\"\n",
    "PREDICTOR_NAME = 'rrirpnxm_nt_0'"
   ]
  },
  {
   "cell_type": "markdown",
   "metadata": {},
   "source": [
    "#### Feature Selection"
   ]
  },
  {
   "cell_type": "markdown",
   "metadata": {},
   "source": [
    "##### Read the data"
   ]
  },
  {
   "cell_type": "code",
   "execution_count": 60,
   "metadata": {},
   "outputs": [],
   "source": [
    "# local read\n",
    "\n",
    "data_20191202_1200_df = pd.read_csv(DATA_PATH + \"data_20191202_1200.csv\")\n",
    "data_20191203_1200_df = pd.read_csv(DATA_PATH + \"data_20191203_1200.csv\")"
   ]
  },
  {
   "cell_type": "code",
   "execution_count": 61,
   "metadata": {},
   "outputs": [],
   "source": [
    "# cloud read -- TODO: NEED A PERMANENT LINK!!\n",
    "\n",
    "# importlib.reload(consts)\n",
    "\n",
    "# url = ... # url in consts.py\n",
    "# assert requests.get(url).status_code == 200\n",
    "# data_20191202_1200_df = pd.read_csv(url)\n",
    "# data_20191202_1200_df.head()"
   ]
  },
  {
   "cell_type": "code",
   "execution_count": 62,
   "metadata": {},
   "outputs": [
    {
     "data": {
      "text/html": [
       "<div>\n",
       "<style scoped>\n",
       "    .dataframe tbody tr th:only-of-type {\n",
       "        vertical-align: middle;\n",
       "    }\n",
       "\n",
       "    .dataframe tbody tr th {\n",
       "        vertical-align: top;\n",
       "    }\n",
       "\n",
       "    .dataframe thead th {\n",
       "        text-align: right;\n",
       "    }\n",
       "</style>\n",
       "<table border=\"1\" class=\"dataframe\">\n",
       "  <thead>\n",
       "    <tr style=\"text-align: right;\">\n",
       "      <th></th>\n",
       "      <th>eqid</th>\n",
       "      <th>wt</th>\n",
       "      <th>today</th>\n",
       "      <th>tonight</th>\n",
       "      <th>tmwam</th>\n",
       "      <th>dn3sttmwmd</th>\n",
       "      <th>dn1</th>\n",
       "      <th>dn4x1</th>\n",
       "      <th>cftorrrelstd_open_0</th>\n",
       "      <th>liqlog_open_0</th>\n",
       "      <th>...</th>\n",
       "      <th>tr_md_1</th>\n",
       "      <th>tr_nt_0</th>\n",
       "      <th>tr_nt_1</th>\n",
       "      <th>tr_nt_12to16</th>\n",
       "      <th>tr_nt_17to21</th>\n",
       "      <th>tr_nt_1to3</th>\n",
       "      <th>tr_nt_4to6</th>\n",
       "      <th>tr_nt_7to11</th>\n",
       "      <th>tr_pm_1</th>\n",
       "      <th>tr_toxhr_0</th>\n",
       "    </tr>\n",
       "  </thead>\n",
       "  <tbody>\n",
       "    <tr>\n",
       "      <th>0</th>\n",
       "      <td>2</td>\n",
       "      <td>0.000594</td>\n",
       "      <td>-0.016720</td>\n",
       "      <td>-0.015436</td>\n",
       "      <td>-0.002487</td>\n",
       "      <td>0.011511</td>\n",
       "      <td>-0.038052</td>\n",
       "      <td>0.025530</td>\n",
       "      <td>0.231635</td>\n",
       "      <td>-0.065247</td>\n",
       "      <td>...</td>\n",
       "      <td>0.0</td>\n",
       "      <td>0.0</td>\n",
       "      <td>0.0</td>\n",
       "      <td>0.0</td>\n",
       "      <td>0.000000</td>\n",
       "      <td>0.0</td>\n",
       "      <td>0.0</td>\n",
       "      <td>0.000000</td>\n",
       "      <td>0.0</td>\n",
       "      <td>0.0</td>\n",
       "    </tr>\n",
       "    <tr>\n",
       "      <th>1</th>\n",
       "      <td>24</td>\n",
       "      <td>0.001446</td>\n",
       "      <td>0.001475</td>\n",
       "      <td>-0.007683</td>\n",
       "      <td>-0.001346</td>\n",
       "      <td>0.027832</td>\n",
       "      <td>-0.006712</td>\n",
       "      <td>0.029269</td>\n",
       "      <td>-0.482915</td>\n",
       "      <td>1.571073</td>\n",
       "      <td>...</td>\n",
       "      <td>0.0</td>\n",
       "      <td>0.0</td>\n",
       "      <td>0.0</td>\n",
       "      <td>0.0</td>\n",
       "      <td>0.000000</td>\n",
       "      <td>0.0</td>\n",
       "      <td>0.0</td>\n",
       "      <td>0.000000</td>\n",
       "      <td>0.0</td>\n",
       "      <td>0.0</td>\n",
       "    </tr>\n",
       "    <tr>\n",
       "      <th>2</th>\n",
       "      <td>41</td>\n",
       "      <td>0.000069</td>\n",
       "      <td>-0.019774</td>\n",
       "      <td>-0.013203</td>\n",
       "      <td>-0.003210</td>\n",
       "      <td>-0.001507</td>\n",
       "      <td>-0.040861</td>\n",
       "      <td>0.005203</td>\n",
       "      <td>0.165615</td>\n",
       "      <td>-2.223915</td>\n",
       "      <td>...</td>\n",
       "      <td>0.0</td>\n",
       "      <td>0.0</td>\n",
       "      <td>0.0</td>\n",
       "      <td>0.0</td>\n",
       "      <td>0.000000</td>\n",
       "      <td>0.0</td>\n",
       "      <td>0.0</td>\n",
       "      <td>0.000000</td>\n",
       "      <td>0.0</td>\n",
       "      <td>0.0</td>\n",
       "    </tr>\n",
       "    <tr>\n",
       "      <th>3</th>\n",
       "      <td>52</td>\n",
       "      <td>0.000120</td>\n",
       "      <td>-0.000934</td>\n",
       "      <td>-0.002772</td>\n",
       "      <td>-0.000651</td>\n",
       "      <td>0.005818</td>\n",
       "      <td>-0.004393</td>\n",
       "      <td>0.006443</td>\n",
       "      <td>-1.229984</td>\n",
       "      <td>-1.670970</td>\n",
       "      <td>...</td>\n",
       "      <td>0.0</td>\n",
       "      <td>0.0</td>\n",
       "      <td>0.0</td>\n",
       "      <td>0.0</td>\n",
       "      <td>0.000000</td>\n",
       "      <td>0.0</td>\n",
       "      <td>0.0</td>\n",
       "      <td>0.000000</td>\n",
       "      <td>0.0</td>\n",
       "      <td>0.0</td>\n",
       "    </tr>\n",
       "    <tr>\n",
       "      <th>4</th>\n",
       "      <td>53</td>\n",
       "      <td>0.000892</td>\n",
       "      <td>0.004249</td>\n",
       "      <td>0.002662</td>\n",
       "      <td>-0.000931</td>\n",
       "      <td>-0.034163</td>\n",
       "      <td>0.007955</td>\n",
       "      <td>-0.037853</td>\n",
       "      <td>-1.326470</td>\n",
       "      <td>0.342333</td>\n",
       "      <td>...</td>\n",
       "      <td>0.0</td>\n",
       "      <td>0.0</td>\n",
       "      <td>0.0</td>\n",
       "      <td>0.0</td>\n",
       "      <td>0.012116</td>\n",
       "      <td>0.0</td>\n",
       "      <td>0.0</td>\n",
       "      <td>-0.055974</td>\n",
       "      <td>0.0</td>\n",
       "      <td>0.0</td>\n",
       "    </tr>\n",
       "  </tbody>\n",
       "</table>\n",
       "<p>5 rows × 252 columns</p>\n",
       "</div>"
      ],
      "text/plain": [
       "   eqid        wt     today   tonight     tmwam  dn3sttmwmd       dn1  \\\n",
       "0     2  0.000594 -0.016720 -0.015436 -0.002487    0.011511 -0.038052   \n",
       "1    24  0.001446  0.001475 -0.007683 -0.001346    0.027832 -0.006712   \n",
       "2    41  0.000069 -0.019774 -0.013203 -0.003210   -0.001507 -0.040861   \n",
       "3    52  0.000120 -0.000934 -0.002772 -0.000651    0.005818 -0.004393   \n",
       "4    53  0.000892  0.004249  0.002662 -0.000931   -0.034163  0.007955   \n",
       "\n",
       "      dn4x1  cftorrrelstd_open_0  liqlog_open_0  ...  tr_md_1  tr_nt_0  \\\n",
       "0  0.025530             0.231635      -0.065247  ...      0.0      0.0   \n",
       "1  0.029269            -0.482915       1.571073  ...      0.0      0.0   \n",
       "2  0.005203             0.165615      -2.223915  ...      0.0      0.0   \n",
       "3  0.006443            -1.229984      -1.670970  ...      0.0      0.0   \n",
       "4 -0.037853            -1.326470       0.342333  ...      0.0      0.0   \n",
       "\n",
       "   tr_nt_1  tr_nt_12to16  tr_nt_17to21  tr_nt_1to3  tr_nt_4to6  tr_nt_7to11  \\\n",
       "0      0.0           0.0      0.000000         0.0         0.0     0.000000   \n",
       "1      0.0           0.0      0.000000         0.0         0.0     0.000000   \n",
       "2      0.0           0.0      0.000000         0.0         0.0     0.000000   \n",
       "3      0.0           0.0      0.000000         0.0         0.0     0.000000   \n",
       "4      0.0           0.0      0.012116         0.0         0.0    -0.055974   \n",
       "\n",
       "   tr_pm_1  tr_toxhr_0  \n",
       "0      0.0         0.0  \n",
       "1      0.0         0.0  \n",
       "2      0.0         0.0  \n",
       "3      0.0         0.0  \n",
       "4      0.0         0.0  \n",
       "\n",
       "[5 rows x 252 columns]"
      ]
     },
     "execution_count": 62,
     "metadata": {},
     "output_type": "execute_result"
    }
   ],
   "source": [
    "data_20191202_1200_df.head()"
   ]
  },
  {
   "cell_type": "code",
   "execution_count": 63,
   "metadata": {},
   "outputs": [
    {
     "data": {
      "text/html": [
       "<div>\n",
       "<style scoped>\n",
       "    .dataframe tbody tr th:only-of-type {\n",
       "        vertical-align: middle;\n",
       "    }\n",
       "\n",
       "    .dataframe tbody tr th {\n",
       "        vertical-align: top;\n",
       "    }\n",
       "\n",
       "    .dataframe thead th {\n",
       "        text-align: right;\n",
       "    }\n",
       "</style>\n",
       "<table border=\"1\" class=\"dataframe\">\n",
       "  <thead>\n",
       "    <tr style=\"text-align: right;\">\n",
       "      <th></th>\n",
       "      <th>eqid</th>\n",
       "      <th>wt</th>\n",
       "      <th>today</th>\n",
       "      <th>tonight</th>\n",
       "      <th>tmwam</th>\n",
       "      <th>dn3sttmwmd</th>\n",
       "      <th>dn1</th>\n",
       "      <th>dn4x1</th>\n",
       "      <th>cftorrrelstd_open_0</th>\n",
       "      <th>liqlog_open_0</th>\n",
       "      <th>...</th>\n",
       "      <th>tr_md_1</th>\n",
       "      <th>tr_nt_0</th>\n",
       "      <th>tr_nt_1</th>\n",
       "      <th>tr_nt_12to16</th>\n",
       "      <th>tr_nt_17to21</th>\n",
       "      <th>tr_nt_1to3</th>\n",
       "      <th>tr_nt_4to6</th>\n",
       "      <th>tr_nt_7to11</th>\n",
       "      <th>tr_pm_1</th>\n",
       "      <th>tr_toxhr_0</th>\n",
       "    </tr>\n",
       "  </thead>\n",
       "  <tbody>\n",
       "    <tr>\n",
       "      <th>0</th>\n",
       "      <td>2</td>\n",
       "      <td>0.000593</td>\n",
       "      <td>-0.000483</td>\n",
       "      <td>0.003061</td>\n",
       "      <td>-0.006579</td>\n",
       "      <td>0.018780</td>\n",
       "      <td>0.003119</td>\n",
       "      <td>0.005497</td>\n",
       "      <td>0.216982</td>\n",
       "      <td>-0.066674</td>\n",
       "      <td>...</td>\n",
       "      <td>0.0</td>\n",
       "      <td>0.000000</td>\n",
       "      <td>0.0</td>\n",
       "      <td>0.0</td>\n",
       "      <td>0.0</td>\n",
       "      <td>0.0</td>\n",
       "      <td>0.0</td>\n",
       "      <td>0.000000</td>\n",
       "      <td>0.000000</td>\n",
       "      <td>0.0</td>\n",
       "    </tr>\n",
       "    <tr>\n",
       "      <th>1</th>\n",
       "      <td>24</td>\n",
       "      <td>0.001440</td>\n",
       "      <td>0.003489</td>\n",
       "      <td>0.004389</td>\n",
       "      <td>0.002297</td>\n",
       "      <td>0.016830</td>\n",
       "      <td>0.011347</td>\n",
       "      <td>0.009217</td>\n",
       "      <td>-0.427661</td>\n",
       "      <td>1.573204</td>\n",
       "      <td>...</td>\n",
       "      <td>0.0</td>\n",
       "      <td>-0.008642</td>\n",
       "      <td>0.0</td>\n",
       "      <td>0.0</td>\n",
       "      <td>0.0</td>\n",
       "      <td>0.0</td>\n",
       "      <td>0.0</td>\n",
       "      <td>0.000000</td>\n",
       "      <td>0.000000</td>\n",
       "      <td>0.0</td>\n",
       "    </tr>\n",
       "    <tr>\n",
       "      <th>2</th>\n",
       "      <td>41</td>\n",
       "      <td>0.000068</td>\n",
       "      <td>-0.010172</td>\n",
       "      <td>0.019113</td>\n",
       "      <td>-0.012536</td>\n",
       "      <td>0.013701</td>\n",
       "      <td>-0.010480</td>\n",
       "      <td>0.015336</td>\n",
       "      <td>0.174722</td>\n",
       "      <td>-2.230982</td>\n",
       "      <td>...</td>\n",
       "      <td>0.0</td>\n",
       "      <td>0.000000</td>\n",
       "      <td>0.0</td>\n",
       "      <td>0.0</td>\n",
       "      <td>0.0</td>\n",
       "      <td>0.0</td>\n",
       "      <td>0.0</td>\n",
       "      <td>0.000000</td>\n",
       "      <td>-0.001403</td>\n",
       "      <td>0.0</td>\n",
       "    </tr>\n",
       "    <tr>\n",
       "      <th>3</th>\n",
       "      <td>52</td>\n",
       "      <td>0.000119</td>\n",
       "      <td>0.005442</td>\n",
       "      <td>0.007321</td>\n",
       "      <td>-0.004481</td>\n",
       "      <td>-0.004175</td>\n",
       "      <td>0.006293</td>\n",
       "      <td>-0.001985</td>\n",
       "      <td>-1.244155</td>\n",
       "      <td>-1.679844</td>\n",
       "      <td>...</td>\n",
       "      <td>0.0</td>\n",
       "      <td>0.000000</td>\n",
       "      <td>0.0</td>\n",
       "      <td>0.0</td>\n",
       "      <td>0.0</td>\n",
       "      <td>0.0</td>\n",
       "      <td>0.0</td>\n",
       "      <td>0.000000</td>\n",
       "      <td>0.000000</td>\n",
       "      <td>0.0</td>\n",
       "    </tr>\n",
       "    <tr>\n",
       "      <th>4</th>\n",
       "      <td>53</td>\n",
       "      <td>0.000890</td>\n",
       "      <td>-0.002826</td>\n",
       "      <td>-0.013945</td>\n",
       "      <td>0.008352</td>\n",
       "      <td>-0.060023</td>\n",
       "      <td>-0.009034</td>\n",
       "      <td>-0.066470</td>\n",
       "      <td>-1.347409</td>\n",
       "      <td>0.340463</td>\n",
       "      <td>...</td>\n",
       "      <td>0.0</td>\n",
       "      <td>0.000000</td>\n",
       "      <td>0.0</td>\n",
       "      <td>0.0</td>\n",
       "      <td>0.0</td>\n",
       "      <td>0.0</td>\n",
       "      <td>0.0</td>\n",
       "      <td>-0.055974</td>\n",
       "      <td>0.000000</td>\n",
       "      <td>0.0</td>\n",
       "    </tr>\n",
       "  </tbody>\n",
       "</table>\n",
       "<p>5 rows × 252 columns</p>\n",
       "</div>"
      ],
      "text/plain": [
       "   eqid        wt     today   tonight     tmwam  dn3sttmwmd       dn1  \\\n",
       "0     2  0.000593 -0.000483  0.003061 -0.006579    0.018780  0.003119   \n",
       "1    24  0.001440  0.003489  0.004389  0.002297    0.016830  0.011347   \n",
       "2    41  0.000068 -0.010172  0.019113 -0.012536    0.013701 -0.010480   \n",
       "3    52  0.000119  0.005442  0.007321 -0.004481   -0.004175  0.006293   \n",
       "4    53  0.000890 -0.002826 -0.013945  0.008352   -0.060023 -0.009034   \n",
       "\n",
       "      dn4x1  cftorrrelstd_open_0  liqlog_open_0  ...  tr_md_1   tr_nt_0  \\\n",
       "0  0.005497             0.216982      -0.066674  ...      0.0  0.000000   \n",
       "1  0.009217            -0.427661       1.573204  ...      0.0 -0.008642   \n",
       "2  0.015336             0.174722      -2.230982  ...      0.0  0.000000   \n",
       "3 -0.001985            -1.244155      -1.679844  ...      0.0  0.000000   \n",
       "4 -0.066470            -1.347409       0.340463  ...      0.0  0.000000   \n",
       "\n",
       "   tr_nt_1  tr_nt_12to16  tr_nt_17to21  tr_nt_1to3  tr_nt_4to6  tr_nt_7to11  \\\n",
       "0      0.0           0.0           0.0         0.0         0.0     0.000000   \n",
       "1      0.0           0.0           0.0         0.0         0.0     0.000000   \n",
       "2      0.0           0.0           0.0         0.0         0.0     0.000000   \n",
       "3      0.0           0.0           0.0         0.0         0.0     0.000000   \n",
       "4      0.0           0.0           0.0         0.0         0.0    -0.055974   \n",
       "\n",
       "    tr_pm_1  tr_toxhr_0  \n",
       "0  0.000000         0.0  \n",
       "1  0.000000         0.0  \n",
       "2 -0.001403         0.0  \n",
       "3  0.000000         0.0  \n",
       "4  0.000000         0.0  \n",
       "\n",
       "[5 rows x 252 columns]"
      ]
     },
     "execution_count": 63,
     "metadata": {},
     "output_type": "execute_result"
    }
   ],
   "source": [
    "data_20191203_1200_df.head()"
   ]
  },
  {
   "cell_type": "markdown",
   "metadata": {},
   "source": [
    "##### If needed, transform the data"
   ]
  },
  {
   "cell_type": "code",
   "execution_count": 64,
   "metadata": {},
   "outputs": [],
   "source": [
    "# TODO: SIGNIFICANT ERROR IN LATER PART IF YOU DO THIS!\n",
    "\n",
    "# AVOID_DIVIDE_BY_ZERO_CONST = 1\n",
    "\n",
    "# data_20191202_1200_df.iloc[:, 1:] = data_20191202_1200_df.iloc[:, 1:] * 100 + AVOID_DIVIDE_BY_ZERO_CONST\n",
    "# data_20191203_1200_df.iloc[:, 1:] = data_20191203_1200_df.iloc[:, 1:] * 100 + AVOID_DIVIDE_BY_ZERO_CONST\n",
    "\n",
    "# data_20191202_1200_df = np.log(data_20191202_1200_df + AVOID_DIVIDE_BY_ZERO_CONST)\n",
    "# data_20191203_1200_df = np.log(data_20191203_1200_df + AVOID_DIVIDE_BY_ZERO_CONST)"
   ]
  },
  {
   "cell_type": "markdown",
   "metadata": {},
   "source": [
    "##### Get the responses columns"
   ]
  },
  {
   "cell_type": "code",
   "execution_count": 65,
   "metadata": {},
   "outputs": [],
   "source": [
    "training_responses = data_20191202_1200_df['rrirpnxm_lst15_0']\n",
    "actual_responses = data_20191203_1200_df['rrirpnxm_lst15_0']"
   ]
  },
  {
   "cell_type": "markdown",
   "metadata": {},
   "source": [
    "##### 20191202_1200 data"
   ]
  },
  {
   "cell_type": "code",
   "execution_count": 66,
   "metadata": {},
   "outputs": [
    {
     "data": {
      "text/html": [
       "<div>\n",
       "<style scoped>\n",
       "    .dataframe tbody tr th:only-of-type {\n",
       "        vertical-align: middle;\n",
       "    }\n",
       "\n",
       "    .dataframe tbody tr th {\n",
       "        vertical-align: top;\n",
       "    }\n",
       "\n",
       "    .dataframe thead th {\n",
       "        text-align: right;\n",
       "    }\n",
       "</style>\n",
       "<table border=\"1\" class=\"dataframe\">\n",
       "  <thead>\n",
       "    <tr style=\"text-align: right;\">\n",
       "      <th></th>\n",
       "      <th>eqid</th>\n",
       "      <th>wt</th>\n",
       "      <th>today</th>\n",
       "      <th>tonight</th>\n",
       "      <th>tmwam</th>\n",
       "      <th>dn3sttmwmd</th>\n",
       "      <th>dn1</th>\n",
       "      <th>dn4x1</th>\n",
       "      <th>cftorrrelstd_open_0</th>\n",
       "      <th>liqlog_open_0</th>\n",
       "      <th>...</th>\n",
       "      <th>tr_md_1</th>\n",
       "      <th>tr_nt_0</th>\n",
       "      <th>tr_nt_1</th>\n",
       "      <th>tr_nt_12to16</th>\n",
       "      <th>tr_nt_17to21</th>\n",
       "      <th>tr_nt_1to3</th>\n",
       "      <th>tr_nt_4to6</th>\n",
       "      <th>tr_nt_7to11</th>\n",
       "      <th>tr_pm_1</th>\n",
       "      <th>tr_toxhr_0</th>\n",
       "    </tr>\n",
       "  </thead>\n",
       "  <tbody>\n",
       "    <tr>\n",
       "      <th>0</th>\n",
       "      <td>2</td>\n",
       "      <td>0.000594</td>\n",
       "      <td>-0.016720</td>\n",
       "      <td>-0.015436</td>\n",
       "      <td>-0.002487</td>\n",
       "      <td>0.011511</td>\n",
       "      <td>-0.038052</td>\n",
       "      <td>0.025530</td>\n",
       "      <td>0.231635</td>\n",
       "      <td>-0.065247</td>\n",
       "      <td>...</td>\n",
       "      <td>0.0</td>\n",
       "      <td>0.0</td>\n",
       "      <td>0.0</td>\n",
       "      <td>0.0</td>\n",
       "      <td>0.000000</td>\n",
       "      <td>0.0</td>\n",
       "      <td>0.0</td>\n",
       "      <td>0.000000</td>\n",
       "      <td>0.0</td>\n",
       "      <td>0.0</td>\n",
       "    </tr>\n",
       "    <tr>\n",
       "      <th>1</th>\n",
       "      <td>24</td>\n",
       "      <td>0.001446</td>\n",
       "      <td>0.001475</td>\n",
       "      <td>-0.007683</td>\n",
       "      <td>-0.001346</td>\n",
       "      <td>0.027832</td>\n",
       "      <td>-0.006712</td>\n",
       "      <td>0.029269</td>\n",
       "      <td>-0.482915</td>\n",
       "      <td>1.571073</td>\n",
       "      <td>...</td>\n",
       "      <td>0.0</td>\n",
       "      <td>0.0</td>\n",
       "      <td>0.0</td>\n",
       "      <td>0.0</td>\n",
       "      <td>0.000000</td>\n",
       "      <td>0.0</td>\n",
       "      <td>0.0</td>\n",
       "      <td>0.000000</td>\n",
       "      <td>0.0</td>\n",
       "      <td>0.0</td>\n",
       "    </tr>\n",
       "    <tr>\n",
       "      <th>2</th>\n",
       "      <td>41</td>\n",
       "      <td>0.000069</td>\n",
       "      <td>-0.019774</td>\n",
       "      <td>-0.013203</td>\n",
       "      <td>-0.003210</td>\n",
       "      <td>-0.001507</td>\n",
       "      <td>-0.040861</td>\n",
       "      <td>0.005203</td>\n",
       "      <td>0.165615</td>\n",
       "      <td>-2.223915</td>\n",
       "      <td>...</td>\n",
       "      <td>0.0</td>\n",
       "      <td>0.0</td>\n",
       "      <td>0.0</td>\n",
       "      <td>0.0</td>\n",
       "      <td>0.000000</td>\n",
       "      <td>0.0</td>\n",
       "      <td>0.0</td>\n",
       "      <td>0.000000</td>\n",
       "      <td>0.0</td>\n",
       "      <td>0.0</td>\n",
       "    </tr>\n",
       "    <tr>\n",
       "      <th>3</th>\n",
       "      <td>52</td>\n",
       "      <td>0.000120</td>\n",
       "      <td>-0.000934</td>\n",
       "      <td>-0.002772</td>\n",
       "      <td>-0.000651</td>\n",
       "      <td>0.005818</td>\n",
       "      <td>-0.004393</td>\n",
       "      <td>0.006443</td>\n",
       "      <td>-1.229984</td>\n",
       "      <td>-1.670970</td>\n",
       "      <td>...</td>\n",
       "      <td>0.0</td>\n",
       "      <td>0.0</td>\n",
       "      <td>0.0</td>\n",
       "      <td>0.0</td>\n",
       "      <td>0.000000</td>\n",
       "      <td>0.0</td>\n",
       "      <td>0.0</td>\n",
       "      <td>0.000000</td>\n",
       "      <td>0.0</td>\n",
       "      <td>0.0</td>\n",
       "    </tr>\n",
       "    <tr>\n",
       "      <th>4</th>\n",
       "      <td>53</td>\n",
       "      <td>0.000892</td>\n",
       "      <td>0.004249</td>\n",
       "      <td>0.002662</td>\n",
       "      <td>-0.000931</td>\n",
       "      <td>-0.034163</td>\n",
       "      <td>0.007955</td>\n",
       "      <td>-0.037853</td>\n",
       "      <td>-1.326470</td>\n",
       "      <td>0.342333</td>\n",
       "      <td>...</td>\n",
       "      <td>0.0</td>\n",
       "      <td>0.0</td>\n",
       "      <td>0.0</td>\n",
       "      <td>0.0</td>\n",
       "      <td>0.012116</td>\n",
       "      <td>0.0</td>\n",
       "      <td>0.0</td>\n",
       "      <td>-0.055974</td>\n",
       "      <td>0.0</td>\n",
       "      <td>0.0</td>\n",
       "    </tr>\n",
       "  </tbody>\n",
       "</table>\n",
       "<p>5 rows × 252 columns</p>\n",
       "</div>"
      ],
      "text/plain": [
       "   eqid        wt     today   tonight     tmwam  dn3sttmwmd       dn1  \\\n",
       "0     2  0.000594 -0.016720 -0.015436 -0.002487    0.011511 -0.038052   \n",
       "1    24  0.001446  0.001475 -0.007683 -0.001346    0.027832 -0.006712   \n",
       "2    41  0.000069 -0.019774 -0.013203 -0.003210   -0.001507 -0.040861   \n",
       "3    52  0.000120 -0.000934 -0.002772 -0.000651    0.005818 -0.004393   \n",
       "4    53  0.000892  0.004249  0.002662 -0.000931   -0.034163  0.007955   \n",
       "\n",
       "      dn4x1  cftorrrelstd_open_0  liqlog_open_0  ...  tr_md_1  tr_nt_0  \\\n",
       "0  0.025530             0.231635      -0.065247  ...      0.0      0.0   \n",
       "1  0.029269            -0.482915       1.571073  ...      0.0      0.0   \n",
       "2  0.005203             0.165615      -2.223915  ...      0.0      0.0   \n",
       "3  0.006443            -1.229984      -1.670970  ...      0.0      0.0   \n",
       "4 -0.037853            -1.326470       0.342333  ...      0.0      0.0   \n",
       "\n",
       "   tr_nt_1  tr_nt_12to16  tr_nt_17to21  tr_nt_1to3  tr_nt_4to6  tr_nt_7to11  \\\n",
       "0      0.0           0.0      0.000000         0.0         0.0     0.000000   \n",
       "1      0.0           0.0      0.000000         0.0         0.0     0.000000   \n",
       "2      0.0           0.0      0.000000         0.0         0.0     0.000000   \n",
       "3      0.0           0.0      0.000000         0.0         0.0     0.000000   \n",
       "4      0.0           0.0      0.012116         0.0         0.0    -0.055974   \n",
       "\n",
       "   tr_pm_1  tr_toxhr_0  \n",
       "0      0.0         0.0  \n",
       "1      0.0         0.0  \n",
       "2      0.0         0.0  \n",
       "3      0.0         0.0  \n",
       "4      0.0         0.0  \n",
       "\n",
       "[5 rows x 252 columns]"
      ]
     },
     "execution_count": 66,
     "metadata": {},
     "output_type": "execute_result"
    }
   ],
   "source": [
    "data_20191202_1200_df.head()"
   ]
  },
  {
   "cell_type": "code",
   "execution_count": 67,
   "metadata": {},
   "outputs": [
    {
     "data": {
      "text/plain": [
       "eqid            16\n",
       "wt              16\n",
       "today           16\n",
       "tonight         16\n",
       "tmwam           16\n",
       "              ... \n",
       "tr_nt_1to3      16\n",
       "tr_nt_4to6      16\n",
       "tr_nt_7to11     16\n",
       "tr_pm_1        252\n",
       "tr_toxhr_0      16\n",
       "Length: 252, dtype: int64"
      ]
     },
     "execution_count": 67,
     "metadata": {},
     "output_type": "execute_result"
    }
   ],
   "source": [
    "data_20191202_1200_df.corr().isna().sum()"
   ]
  },
  {
   "cell_type": "code",
   "execution_count": 68,
   "metadata": {},
   "outputs": [
    {
     "name": "stdout",
     "output_type": "stream",
     "text": [
      "<class 'pandas.core.frame.DataFrame'>\n",
      "RangeIndex: 2910 entries, 0 to 2909\n",
      "Columns: 252 entries, eqid to tr_toxhr_0\n",
      "dtypes: float64(251), int64(1)\n",
      "memory usage: 5.6 MB\n"
     ]
    }
   ],
   "source": [
    "data_20191202_1200_df.info()"
   ]
  },
  {
   "cell_type": "code",
   "execution_count": 69,
   "metadata": {},
   "outputs": [
    {
     "name": "stdout",
     "output_type": "stream",
     "text": [
      "<class 'pandas.core.frame.DataFrame'>\n",
      "RangeIndex: 2910 entries, 0 to 2909\n",
      "Columns: 252 entries, eqid to tr_toxhr_0\n",
      "dtypes: float64(252)\n",
      "memory usage: 5.6 MB\n"
     ]
    }
   ],
   "source": [
    "data_20191202_1200_df = data_20191202_1200_df.astype(float)\n",
    "data_20191202_1200_df.info()"
   ]
  },
  {
   "cell_type": "markdown",
   "metadata": {},
   "source": [
    "Something going here...some column pairs have NaN correlations, despite all having compute-able data types."
   ]
  },
  {
   "cell_type": "code",
   "execution_count": 70,
   "metadata": {},
   "outputs": [],
   "source": [
    "data_20191202_1200_corr_df = data_20191202_1200_df.corr()"
   ]
  },
  {
   "cell_type": "code",
   "execution_count": 71,
   "metadata": {},
   "outputs": [
    {
     "data": {
      "text/plain": [
       "['llirpnxm_pm_1',\n",
       " 'nnetticksrelrrsign_pm_1',\n",
       " 'nsameticksrelrrsign_pm_1',\n",
       " 'rel2retcfrtxm_pm_1',\n",
       " 'relntrds70tr_pm_1',\n",
       " 'relvol_pm_1',\n",
       " 'rrirpnxm_pm_1',\n",
       " 'rrretstr_pm_1',\n",
       " 'rvdelta_nt_0',\n",
       " 'rvdelta_nt_1',\n",
       " 'rvdelta_nt_12to16',\n",
       " 'rvdelta_nt_17to21',\n",
       " 'rvdelta_nt_1to3',\n",
       " 'rvdelta_nt_4to6',\n",
       " 'rvdelta_nt_7to11',\n",
       " 'tr_pm_1']"
      ]
     },
     "execution_count": 71,
     "metadata": {},
     "output_type": "execute_result"
    }
   ],
   "source": [
    "temp0 = data_20191202_1200_corr_df[['today']][does_sub_df_has_Nan(data_20191202_1200_corr_df, 'today')]\n",
    "temp1 = data_20191202_1200_corr_df[['tonight']][does_sub_df_has_Nan(data_20191202_1200_corr_df, 'tonight')]\n",
    "temp2 = data_20191202_1200_corr_df[['wt']][does_sub_df_has_Nan(data_20191202_1200_corr_df, 'wt')]\n",
    "\n",
    "temp0 = temp0.index.to_list()\n",
    "temp1 = temp1.index.to_list()\n",
    "temp2 = temp2.index.to_list()\n",
    "\n",
    "assert temp0 == temp1\n",
    "assert temp1 == temp2\n",
    "\n",
    "temp0"
   ]
  },
  {
   "cell_type": "code",
   "execution_count": 72,
   "metadata": {},
   "outputs": [],
   "source": [
    "TOBE_REMOVED_20191202_1200_COLUMNS = [\"eqid\", \"tmwam\", \"dn3sttmwmd\", \"dn1\", \"dn4x1\"]\n",
    "TOBE_REMOVED_20191202_1200_COLUMNS.extend(temp0)"
   ]
  },
  {
   "cell_type": "code",
   "execution_count": 73,
   "metadata": {},
   "outputs": [
    {
     "data": {
      "text/plain": [
       "eqid            16\n",
       "wt              16\n",
       "today           16\n",
       "tonight         16\n",
       "tmwam           16\n",
       "              ... \n",
       "tr_nt_1to3      16\n",
       "tr_nt_4to6      16\n",
       "tr_nt_7to11     16\n",
       "tr_pm_1        252\n",
       "tr_toxhr_0      16\n",
       "Length: 252, dtype: int64"
      ]
     },
     "execution_count": 73,
     "metadata": {},
     "output_type": "execute_result"
    }
   ],
   "source": [
    "data_20191202_1200_df.corr().isnull().sum()"
   ]
  },
  {
   "cell_type": "markdown",
   "metadata": {},
   "source": [
    "##### 20191203_1200 data"
   ]
  },
  {
   "cell_type": "code",
   "execution_count": 74,
   "metadata": {},
   "outputs": [
    {
     "data": {
      "text/plain": [
       "eqid           7\n",
       "wt             7\n",
       "today          7\n",
       "tonight        7\n",
       "tmwam          7\n",
       "              ..\n",
       "tr_nt_1to3     7\n",
       "tr_nt_4to6     7\n",
       "tr_nt_7to11    7\n",
       "tr_pm_1        7\n",
       "tr_toxhr_0     7\n",
       "Length: 252, dtype: int64"
      ]
     },
     "execution_count": 74,
     "metadata": {},
     "output_type": "execute_result"
    }
   ],
   "source": [
    "data_20191203_1200_df.corr().isna().sum()"
   ]
  },
  {
   "cell_type": "code",
   "execution_count": 75,
   "metadata": {},
   "outputs": [
    {
     "name": "stdout",
     "output_type": "stream",
     "text": [
      "<class 'pandas.core.frame.DataFrame'>\n",
      "RangeIndex: 2915 entries, 0 to 2914\n",
      "Columns: 252 entries, eqid to tr_toxhr_0\n",
      "dtypes: float64(251), int64(1)\n",
      "memory usage: 5.6 MB\n"
     ]
    }
   ],
   "source": [
    "data_20191203_1200_df.info()"
   ]
  },
  {
   "cell_type": "code",
   "execution_count": 76,
   "metadata": {},
   "outputs": [
    {
     "name": "stdout",
     "output_type": "stream",
     "text": [
      "<class 'pandas.core.frame.DataFrame'>\n",
      "RangeIndex: 2915 entries, 0 to 2914\n",
      "Columns: 252 entries, eqid to tr_toxhr_0\n",
      "dtypes: float64(252)\n",
      "memory usage: 5.6 MB\n"
     ]
    }
   ],
   "source": [
    "data_20191203_1200_df = data_20191203_1200_df.astype(float)\n",
    "data_20191203_1200_df.info()"
   ]
  },
  {
   "cell_type": "code",
   "execution_count": 77,
   "metadata": {},
   "outputs": [],
   "source": [
    "data_20191203_1200_corr_df = data_20191203_1200_df.corr()"
   ]
  },
  {
   "cell_type": "code",
   "execution_count": 78,
   "metadata": {},
   "outputs": [
    {
     "name": "stdout",
     "output_type": "stream",
     "text": [
      "['rvdelta_nt_0', 'rvdelta_nt_1', 'rvdelta_nt_12to16', 'rvdelta_nt_17to21', 'rvdelta_nt_1to3', 'rvdelta_nt_4to6', 'rvdelta_nt_7to11']\n"
     ]
    }
   ],
   "source": [
    "temp0 = data_20191203_1200_corr_df[['today']][does_sub_df_has_Nan(data_20191203_1200_corr_df, 'today')]\n",
    "temp1 = data_20191203_1200_corr_df[['tonight']][does_sub_df_has_Nan(data_20191203_1200_corr_df, 'tonight')]\n",
    "temp2 = data_20191203_1200_corr_df[['wt']][does_sub_df_has_Nan(data_20191203_1200_corr_df, 'wt')]\n",
    "\n",
    "temp0 = temp0.index.to_list()\n",
    "temp1 = temp1.index.to_list()\n",
    "temp2 = temp2.index.to_list()\n",
    "\n",
    "assert temp0 == temp1\n",
    "assert temp1 == temp2\n",
    "print(temp0)"
   ]
  },
  {
   "cell_type": "code",
   "execution_count": 79,
   "metadata": {},
   "outputs": [],
   "source": [
    "TOBE_REMOVED_20191203_1200_COLUMNS = [\"eqid\", \"tmwam\", \"dn3sttmwmd\", \"dn1\", \"dn4x1\"] + [\"today\", \"tonight\"]\n",
    "TOBE_REMOVED_20191203_1200_COLUMNS.extend(temp0)"
   ]
  },
  {
   "cell_type": "code",
   "execution_count": 80,
   "metadata": {},
   "outputs": [
    {
     "data": {
      "text/plain": [
       "eqid           7\n",
       "wt             7\n",
       "today          7\n",
       "tonight        7\n",
       "tmwam          7\n",
       "              ..\n",
       "tr_nt_1to3     7\n",
       "tr_nt_4to6     7\n",
       "tr_nt_7to11    7\n",
       "tr_pm_1        7\n",
       "tr_toxhr_0     7\n",
       "Length: 252, dtype: int64"
      ]
     },
     "execution_count": 80,
     "metadata": {},
     "output_type": "execute_result"
    }
   ],
   "source": [
    "data_20191203_1200_df.corr().isna().sum()"
   ]
  },
  {
   "cell_type": "markdown",
   "metadata": {},
   "source": [
    "##### Get training_predictors_df and testing_predictors_df"
   ]
  },
  {
   "cell_type": "code",
   "execution_count": 81,
   "metadata": {},
   "outputs": [
    {
     "data": {
      "text/plain": [
       "False"
      ]
     },
     "execution_count": 81,
     "metadata": {},
     "output_type": "execute_result"
    }
   ],
   "source": [
    "TOBE_REMOVED_20191202_1200_COLUMNS_set = set(TOBE_REMOVED_20191202_1200_COLUMNS)\n",
    "TOBE_REMOVED_20191203_1200_COLUMNS_set = set(TOBE_REMOVED_20191203_1200_COLUMNS)\n",
    "TOBE_REMOVED_20191202_1200_COLUMNS_set == TOBE_REMOVED_20191203_1200_COLUMNS_set"
   ]
  },
  {
   "cell_type": "code",
   "execution_count": 82,
   "metadata": {},
   "outputs": [
    {
     "name": "stdout",
     "output_type": "stream",
     "text": [
      "{'rel2retcfrtxm_pm_1', 'relvol_pm_1', 'llirpnxm_pm_1', 'tr_pm_1', 'rrirpnxm_pm_1', 'nnetticksrelrrsign_pm_1', 'nsameticksrelrrsign_pm_1', 'rrretstr_pm_1', 'relntrds70tr_pm_1'}\n"
     ]
    }
   ],
   "source": [
    "# Appear in TOBE_REMOVED_20191202_1200_COLUMNS_set but not in TOBE_REMOVED_20191203_1200_COLUMNS_set\n",
    "print(TOBE_REMOVED_20191202_1200_COLUMNS_set - TOBE_REMOVED_20191203_1200_COLUMNS_set)"
   ]
  },
  {
   "cell_type": "code",
   "execution_count": 83,
   "metadata": {},
   "outputs": [
    {
     "name": "stdout",
     "output_type": "stream",
     "text": [
      "{'tonight', 'today'}\n"
     ]
    }
   ],
   "source": [
    "# Appear in TOBE_REMOVED_20191203_1200_COLUMNS_set but not in TOBE_REMOVED_20191202_1200_COLUMNS_set\n",
    "print(TOBE_REMOVED_20191203_1200_COLUMNS_set - TOBE_REMOVED_20191202_1200_COLUMNS_set)"
   ]
  },
  {
   "cell_type": "markdown",
   "metadata": {},
   "source": [
    "Since 'rrirpnxm_lst15_0' should be a response variable, I think we can see how regression works with ONLY 'removed_prevDay_but_notRemoved_today_columns', then that of WITHOUT 'removed_prevDay_but_notRemoved_today_columns'."
   ]
  },
  {
   "cell_type": "code",
   "execution_count": 84,
   "metadata": {},
   "outputs": [],
   "source": [
    "removed_prevDay_but_notRemoved_today_columns = TOBE_REMOVED_20191202_1200_COLUMNS_set - TOBE_REMOVED_20191203_1200_COLUMNS_set\n",
    "removed_toDay_but_notRemoved_prevday_columns = TOBE_REMOVED_20191203_1200_COLUMNS_set - TOBE_REMOVED_20191202_1200_COLUMNS_set"
   ]
  },
  {
   "cell_type": "code",
   "execution_count": 85,
   "metadata": {},
   "outputs": [],
   "source": [
    "data_20191202_1200_working_df = data_20191202_1200_df.drop(TOBE_REMOVED_20191202_1200_COLUMNS, axis=COL_AX)\n",
    "data_20191202_1200_working_df = data_20191202_1200_working_df.drop(list(removed_toDay_but_notRemoved_prevday_columns), axis = COL_AX)"
   ]
  },
  {
   "cell_type": "code",
   "execution_count": 86,
   "metadata": {},
   "outputs": [],
   "source": [
    "data_20191203_1200_working_df = data_20191203_1200_df.drop(TOBE_REMOVED_20191203_1200_COLUMNS, axis=COL_AX)\n",
    "data_20191203_1200_working_df = data_20191203_1200_working_df.drop(list(removed_prevDay_but_notRemoved_today_columns), axis=COL_AX)"
   ]
  },
  {
   "cell_type": "code",
   "execution_count": 87,
   "metadata": {},
   "outputs": [],
   "source": [
    "assert set(data_20191203_1200_working_df.columns) == set(data_20191202_1200_working_df.columns)"
   ]
  },
  {
   "cell_type": "code",
   "execution_count": 88,
   "metadata": {},
   "outputs": [],
   "source": [
    "training_predictors_df = data_20191202_1200_working_df.copy()\n",
    "testing_predictors_df = data_20191203_1200_working_df.copy()"
   ]
  },
  {
   "cell_type": "code",
   "execution_count": 89,
   "metadata": {},
   "outputs": [
    {
     "data": {
      "image/png": "[encoded data removed]",
      "text/plain": [
       "<Figure size 640x480 with 1 Axes>"
      ]
     },
     "metadata": {},
     "output_type": "display_data"
    }
   ],
   "source": [
    "# Create a box plot with outliers\n",
    "plt.boxplot(training_predictors_df[training_predictors_df.columns[0]], vert=False, whis=1.5)  # vert=False for horizontal box plot\n",
    "plt.title(\"Box Plot with Outliers\")\n",
    "plt.xlabel(\"Data Values\")\n",
    "plt.show()"
   ]
  },
  {
   "cell_type": "code",
   "execution_count": 90,
   "metadata": {},
   "outputs": [
    {
     "data": {
      "text/plain": [
       "count    229.000000\n",
       "mean            inf\n",
       "std             NaN\n",
       "min     -820.857107\n",
       "25%        5.336594\n",
       "50%        9.102537\n",
       "75%       19.604142\n",
       "max             inf\n",
       "dtype: float64"
      ]
     },
     "execution_count": 90,
     "metadata": {},
     "output_type": "execute_result"
    }
   ],
   "source": [
    "np.divide(training_predictors_df.quantile(1.0), training_predictors_df.quantile(0.75)).describe()"
   ]
  },
  {
   "cell_type": "markdown",
   "metadata": {},
   "source": [
    "INSANE OUTLIERS!\n",
    "\n",
    "I will use LASSO for the next step of feature selection because there are a lot of outliers, and LASSO works by restricting the sum of the absolute value of the coefficients to being less than a set value, so the impact of outliers is significantly curtailed."
   ]
  },
  {
   "cell_type": "code",
   "execution_count": 91,
   "metadata": {},
   "outputs": [],
   "source": [
    "# Source: https://scikit-learn.org/stable/modules/feature_selection.html"
   ]
  },
  {
   "cell_type": "code",
   "execution_count": 92,
   "metadata": {},
   "outputs": [
    {
     "name": "stdout",
     "output_type": "stream",
     "text": [
      "Shape of training observations: (2910, 229)\n",
      "Number of training responses: 2910\n",
      "\n",
      "Shape of testing observations: (2915, 229)\n",
      "Number of actual responses: 2915\n"
     ]
    }
   ],
   "source": [
    "print(f\"Shape of training observations: {training_predictors_df.shape}\")\n",
    "print(f\"Number of training responses: {len(training_responses)}\")\n",
    "print()\n",
    "print(f\"Shape of testing observations: {testing_predictors_df.shape}\")\n",
    "print(f\"Number of actual responses: {len(actual_responses)}\")"
   ]
  },
  {
   "cell_type": "markdown",
   "metadata": {},
   "source": [
    "#### Build a multiple linear regression model"
   ]
  },
  {
   "cell_type": "markdown",
   "metadata": {},
   "source": [
    "##### Retrieve the beta(s)"
   ]
  },
  {
   "cell_type": "code",
   "execution_count": 93,
   "metadata": {},
   "outputs": [
    {
     "data": {
      "text/plain": [
       "array([ 0., -0.,  0.,  0., -0.,  0.,  0., -0., -0.,  0., -0., -0.,  0.,\n",
       "        0.,  0., -0.,  0.,  0.,  0., -0.,  0., -0., -0., -0., -0., -0.,\n",
       "        0., -0.,  0., -0., -0.,  0.,  0.,  0.,  0., -0.,  0.,  0., -0.,\n",
       "        0.,  0., -0.,  0.,  0.,  0.,  0., -0.,  0., -0., -0.,  0., -0.,\n",
       "        0., -0., -0., -0.,  0., -0.,  0., -0., -0.,  0., -0., -0.,  0.,\n",
       "       -0., -0.,  0., -0.,  0., -0., -0., -0., -0., -0.,  0.,  0., -0.,\n",
       "        0.,  0., -0.,  0.,  0.,  0.,  0., -0.,  0., -0., -0.,  0.,  0.,\n",
       "        0.,  0.,  0., -0., -0.,  0.,  0.,  0.,  0.,  0., -0.,  0.,  0.,\n",
       "        0.,  0.,  0., -0., -0.,  0.,  0., -0., -0., -0., -0., -0.,  0.,\n",
       "       -0.,  0., -0., -0.,  0., -0.,  0.,  0.,  0.,  0.,  0.,  0.,  0.,\n",
       "        0.,  0.,  0., -0., -0.,  0.,  0.,  0.,  0.,  0.,  0.,  0.,  0.,\n",
       "       -0., -0.,  0.,  0.,  0.,  0.,  0., -0., -0.,  0.,  0.,  0.,  0.,\n",
       "        0.,  0.,  0., -0., -0., -0.,  0.,  0.,  0.,  0.,  0.,  0.,  0.,\n",
       "        0., -0.,  0.,  0.,  0., -0.,  0.,  0.,  0., -0.,  0., -0.,  0.,\n",
       "       -0.,  0., -0., -0.,  0.,  0.,  0.,  0., -0., -0., -0.,  0.,  0.,\n",
       "       -0.,  0.,  0.,  0., -0.,  0., -0., -0.,  0., -0., -0.,  0., -0.,\n",
       "       -0., -0., -0.,  0., -0., -0., -0.,  0., -0.,  0.,  0., -0., -0.,\n",
       "        0.,  0.,  0., -0.,  0., -0.,  0.,  0.])"
      ]
     },
     "execution_count": 93,
     "metadata": {},
     "output_type": "execute_result"
    }
   ],
   "source": [
    "import sklearn.linear_model\n",
    "\n",
    "multiple_linreg = sklearn.linear_model.Lasso(alpha=42) # any number between 0 and inf, need statistics\n",
    "multiple_linreg.fit(training_predictors_df, training_responses)\n",
    "multiple_linreg.coef_"
   ]
  },
  {
   "cell_type": "markdown",
   "metadata": {},
   "source": [
    "##### Make predictions"
   ]
  },
  {
   "cell_type": "code",
   "execution_count": 94,
   "metadata": {},
   "outputs": [],
   "source": [
    "predicted_responses = multiple_linreg.predict(testing_predictors_df)"
   ]
  },
  {
   "cell_type": "markdown",
   "metadata": {},
   "source": [
    "#### Model evaluation"
   ]
  },
  {
   "cell_type": "code",
   "execution_count": 95,
   "metadata": {},
   "outputs": [],
   "source": [
    "from sklearn.metrics import mean_squared_error, r2_score"
   ]
  },
  {
   "cell_type": "code",
   "execution_count": 96,
   "metadata": {},
   "outputs": [
    {
     "name": "stdout",
     "output_type": "stream",
     "text": [
      "Mean Squared Error: 6.467166332377552e-06\n"
     ]
    }
   ],
   "source": [
    "mse = mean_squared_error(actual_responses, predicted_responses)\n",
    "print(f\"Mean Squared Error: {mse}\")"
   ]
  },
  {
   "cell_type": "code",
   "execution_count": 97,
   "metadata": {},
   "outputs": [
    {
     "name": "stdout",
     "output_type": "stream",
     "text": [
      "R-Squared: -0.001497823494456041\n"
     ]
    }
   ],
   "source": [
    "# Higher better. 1 is perfect prediction\n",
    "r_squared = r2_score(actual_responses, predicted_responses)\n",
    "print(f\"R-Squared: {r_squared}\")"
   ]
  },
  {
   "cell_type": "code",
   "execution_count": 98,
   "metadata": {},
   "outputs": [],
   "source": [
    "residuals = actual_responses - predicted_responses"
   ]
  },
  {
   "cell_type": "markdown",
   "metadata": {},
   "source": [
    "#### Check linear regression assumptions"
   ]
  },
  {
   "cell_type": "markdown",
   "metadata": {},
   "source": [
    "##### Residuals must be normally distributed w/ Q-Q plot"
   ]
  },
  {
   "cell_type": "code",
   "execution_count": 99,
   "metadata": {},
   "outputs": [
    {
     "data": {
      "image/png": "[encoded data removed]",
      "text/plain": [
       "<Figure size 640x480 with 1 Axes>"
      ]
     },
     "metadata": {},
     "output_type": "display_data"
    }
   ],
   "source": [
    "import statsmodels.api as sm\n",
    "\n",
    "sm.qqplot(np.array(residuals), line = '45'); # A semicolon to avoid 2 similar plots -- this has been the library's bug for 5 years!"
   ]
  },
  {
   "cell_type": "code",
   "execution_count": 100,
   "metadata": {},
   "outputs": [
    {
     "name": "stdout",
     "output_type": "stream",
     "text": [
      "Shapiro-Wilk Test: Residuals NOT normally distributed.\n"
     ]
    }
   ],
   "source": [
    "helper.shapiro_test(residuals)"
   ]
  },
  {
   "cell_type": "markdown",
   "metadata": {},
   "source": [
    "##### Mean of residuals should be 0"
   ]
  },
  {
   "cell_type": "code",
   "execution_count": 101,
   "metadata": {},
   "outputs": [
    {
     "data": {
      "text/plain": [
       "9.834727473136344e-05"
      ]
     },
     "execution_count": 101,
     "metadata": {},
     "output_type": "execute_result"
    }
   ],
   "source": [
    "np.mean(residuals)"
   ]
  },
  {
   "cell_type": "markdown",
   "metadata": {},
   "source": [
    "##### Check for multi-collinearity"
   ]
  },
  {
   "cell_type": "code",
   "execution_count": 102,
   "metadata": {},
   "outputs": [
    {
     "name": "stdout",
     "output_type": "stream",
     "text": [
      "VIF = 0.9985044166254603. This model performs worse than a horizontal line :(\n"
     ]
    }
   ],
   "source": [
    "helper.vif_test(r_squared)"
   ]
  },
  {
   "cell_type": "markdown",
   "metadata": {},
   "source": [
    "##### Residuals have a fixed variance"
   ]
  },
  {
   "cell_type": "code",
   "execution_count": 103,
   "metadata": {},
   "outputs": [
    {
     "data": {
      "image/png": "[encoded data removed]",
      "text/plain": [
       "<Figure size 640x480 with 1 Axes>"
      ]
     },
     "metadata": {},
     "output_type": "display_data"
    }
   ],
   "source": [
    "plt.scatter(x=predicted_responses, y = residuals, color = 'r')  # Replace X[:, 0] with the desired predictor variable\n",
    "plt.xlabel('Predicted Responses')  # Replace 'X' with the label of the predictor variable\n",
    "plt.ylabel('Residuals')\n",
    "plt.title('Heteroskedasticity Check\\n(yes means funnel shape)')\n",
    "plt.show()"
   ]
  },
  {
   "cell_type": "code",
   "execution_count": 104,
   "metadata": {},
   "outputs": [
    {
     "name": "stdout",
     "output_type": "stream",
     "text": [
      "Breusch-Pagan Test: Residuals DO NOT have constant variance.\n"
     ]
    }
   ],
   "source": [
    "# White test if only use 1 predictor (simple linear regression)\n",
    "# for multiple linear regression, use bp-test\n",
    "\n",
    "helper.bp_test(residuals, testing_predictors_df)"
   ]
  },
  {
   "cell_type": "code",
   "execution_count": 105,
   "metadata": {},
   "outputs": [
    {
     "name": "stdout",
     "output_type": "stream",
     "text": [
      "Note: you may need to restart the kernel to use updated packages.\n"
     ]
    }
   ],
   "source": [
    "%pip freeze > dependencies.txt"
   ]
  }
 ],
 "metadata": {
  "kernelspec": {
   "display_name": "Python 3",
   "language": "python",
   "name": "python3"
  },
  "language_info": {
   "codemirror_mode": {
    "name": "ipython",
    "version": 3
   },
   "file_extension": ".py",
   "mimetype": "text/x-python",
   "name": "python",
   "nbconvert_exporter": "python",
   "pygments_lexer": "ipython3",
   "version": "3.11.3"
  },
  "orig_nbformat": 4
 },
 "nbformat": 4,
 "nbformat_minor": 2
}
