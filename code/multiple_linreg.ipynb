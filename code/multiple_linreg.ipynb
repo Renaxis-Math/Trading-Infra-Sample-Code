{
 "cells": [
  {
   "cell_type": "markdown",
   "metadata": {},
   "source": [
    "### Author: Hoang Chu"
   ]
  },
  {
   "cell_type": "markdown",
   "metadata": {},
   "source": [
    "#### Imports"
   ]
  },
  {
   "cell_type": "code",
   "execution_count": 1698,
   "metadata": {},
   "outputs": [
    {
     "name": "stdout",
     "output_type": "stream",
     "text": [
      "Requirement already satisfied: absl-py==1.4.0 in /Users/hoangchu/Library/Python/3.11/lib/python/site-packages (from -r dependencies.txt (line 1)) (1.4.0)\n",
      "Requirement already satisfied: appnope==0.1.3 in /Users/hoangchu/Library/Python/3.11/lib/python/site-packages (from -r dependencies.txt (line 2)) (0.1.3)\n",
      "Requirement already satisfied: asttokens==2.2.1 in /Users/hoangchu/Library/Python/3.11/lib/python/site-packages (from -r dependencies.txt (line 3)) (2.2.1)\n",
      "Requirement already satisfied: attrs==23.1.0 in /Library/Frameworks/Python.framework/Versions/3.11/lib/python3.11/site-packages (from -r dependencies.txt (line 4)) (23.1.0)\n",
      "Requirement already satisfied: backcall==0.2.0 in /Users/hoangchu/Library/Python/3.11/lib/python/site-packages (from -r dependencies.txt (line 5)) (0.2.0)\n",
      "Requirement already satisfied: certifi==2023.5.7 in /Library/Frameworks/Python.framework/Versions/3.11/lib/python3.11/site-packages (from -r dependencies.txt (line 6)) (2023.5.7)\n",
      "Requirement already satisfied: charset-normalizer==3.2.0 in /Library/Frameworks/Python.framework/Versions/3.11/lib/python3.11/site-packages (from -r dependencies.txt (line 7)) (3.2.0)\n",
      "Requirement already satisfied: click==8.1.3 in /Library/Frameworks/Python.framework/Versions/3.11/lib/python3.11/site-packages (from -r dependencies.txt (line 8)) (8.1.3)\n",
      "Requirement already satisfied: click-plugins==1.1.1 in /Library/Frameworks/Python.framework/Versions/3.11/lib/python3.11/site-packages (from -r dependencies.txt (line 9)) (1.1.1)\n",
      "Requirement already satisfied: cligj==0.7.2 in /Library/Frameworks/Python.framework/Versions/3.11/lib/python3.11/site-packages (from -r dependencies.txt (line 10)) (0.7.2)\n",
      "Requirement already satisfied: comm==0.1.3 in /Users/hoangchu/Library/Python/3.11/lib/python/site-packages (from -r dependencies.txt (line 11)) (0.1.3)\n",
      "Requirement already satisfied: contourpy==1.1.0 in /Library/Frameworks/Python.framework/Versions/3.11/lib/python3.11/site-packages (from -r dependencies.txt (line 12)) (1.1.0)\n",
      "Requirement already satisfied: cycler==0.11.0 in /Library/Frameworks/Python.framework/Versions/3.11/lib/python3.11/site-packages (from -r dependencies.txt (line 13)) (0.11.0)\n",
      "Requirement already satisfied: debugpy==1.6.7 in /Users/hoangchu/Library/Python/3.11/lib/python/site-packages (from -r dependencies.txt (line 14)) (1.6.7)\n",
      "Requirement already satisfied: decorator==5.1.1 in /Users/hoangchu/Library/Python/3.11/lib/python/site-packages (from -r dependencies.txt (line 15)) (5.1.1)\n",
      "Requirement already satisfied: executing==1.2.0 in /Users/hoangchu/Library/Python/3.11/lib/python/site-packages (from -r dependencies.txt (line 16)) (1.2.0)\n",
      "Requirement already satisfied: Fiona==1.9.4.post1 in /Library/Frameworks/Python.framework/Versions/3.11/lib/python3.11/site-packages (from -r dependencies.txt (line 17)) (1.9.4.post1)\n",
      "Requirement already satisfied: fonttools==4.40.0 in /Library/Frameworks/Python.framework/Versions/3.11/lib/python3.11/site-packages (from -r dependencies.txt (line 18)) (4.40.0)\n",
      "Requirement already satisfied: geopandas==0.13.2 in /Library/Frameworks/Python.framework/Versions/3.11/lib/python3.11/site-packages (from -r dependencies.txt (line 19)) (0.13.2)\n",
      "Requirement already satisfied: idna==3.4 in /Library/Frameworks/Python.framework/Versions/3.11/lib/python3.11/site-packages (from -r dependencies.txt (line 20)) (3.4)\n",
      "Requirement already satisfied: ipykernel==6.23.3 in /Users/hoangchu/Library/Python/3.11/lib/python/site-packages (from -r dependencies.txt (line 21)) (6.23.3)\n",
      "Requirement already satisfied: ipython==8.14.0 in /Users/hoangchu/Library/Python/3.11/lib/python/site-packages (from -r dependencies.txt (line 22)) (8.14.0)\n",
      "Requirement already satisfied: jedi==0.18.2 in /Users/hoangchu/Library/Python/3.11/lib/python/site-packages (from -r dependencies.txt (line 23)) (0.18.2)\n",
      "Requirement already satisfied: joblib==1.3.2 in /Library/Frameworks/Python.framework/Versions/3.11/lib/python3.11/site-packages (from -r dependencies.txt (line 24)) (1.3.2)\n",
      "Requirement already satisfied: jupyter_client==8.3.0 in /Users/hoangchu/Library/Python/3.11/lib/python/site-packages (from -r dependencies.txt (line 25)) (8.3.0)\n",
      "Requirement already satisfied: jupyter_core==5.3.1 in /Users/hoangchu/Library/Python/3.11/lib/python/site-packages (from -r dependencies.txt (line 26)) (5.3.1)\n",
      "Requirement already satisfied: kiwisolver==1.4.4 in /Library/Frameworks/Python.framework/Versions/3.11/lib/python3.11/site-packages (from -r dependencies.txt (line 27)) (1.4.4)\n",
      "Requirement already satisfied: matplotlib==3.7.2 in /Library/Frameworks/Python.framework/Versions/3.11/lib/python3.11/site-packages (from -r dependencies.txt (line 28)) (3.7.2)\n",
      "Requirement already satisfied: matplotlib-inline==0.1.6 in /Users/hoangchu/Library/Python/3.11/lib/python/site-packages (from -r dependencies.txt (line 29)) (0.1.6)\n",
      "Requirement already satisfied: nest-asyncio==1.5.6 in /Users/hoangchu/Library/Python/3.11/lib/python/site-packages (from -r dependencies.txt (line 30)) (1.5.6)\n",
      "Requirement already satisfied: numpy==1.25.0 in /Library/Frameworks/Python.framework/Versions/3.11/lib/python3.11/site-packages (from -r dependencies.txt (line 31)) (1.25.0)\n",
      "Requirement already satisfied: ortools==9.7.2996 in /Users/hoangchu/Library/Python/3.11/lib/python/site-packages (from -r dependencies.txt (line 32)) (9.7.2996)\n",
      "Requirement already satisfied: packaging==23.1 in /Users/hoangchu/Library/Python/3.11/lib/python/site-packages (from -r dependencies.txt (line 33)) (23.1)\n",
      "Requirement already satisfied: pandas==2.0.2 in /Library/Frameworks/Python.framework/Versions/3.11/lib/python3.11/site-packages (from -r dependencies.txt (line 34)) (2.0.2)\n",
      "Requirement already satisfied: parso==0.8.3 in /Users/hoangchu/Library/Python/3.11/lib/python/site-packages (from -r dependencies.txt (line 35)) (0.8.3)\n",
      "Requirement already satisfied: patsy==0.5.3 in /Library/Frameworks/Python.framework/Versions/3.11/lib/python3.11/site-packages (from -r dependencies.txt (line 36)) (0.5.3)\n",
      "Requirement already satisfied: pexpect==4.8.0 in /Users/hoangchu/Library/Python/3.11/lib/python/site-packages (from -r dependencies.txt (line 37)) (4.8.0)\n",
      "Requirement already satisfied: pickleshare==0.7.5 in /Users/hoangchu/Library/Python/3.11/lib/python/site-packages (from -r dependencies.txt (line 38)) (0.7.5)\n",
      "Requirement already satisfied: Pillow==10.0.0 in /Library/Frameworks/Python.framework/Versions/3.11/lib/python3.11/site-packages (from -r dependencies.txt (line 39)) (10.0.0)\n",
      "Requirement already satisfied: platformdirs==3.8.0 in /Users/hoangchu/Library/Python/3.11/lib/python/site-packages (from -r dependencies.txt (line 40)) (3.8.0)\n",
      "Requirement already satisfied: prompt-toolkit==3.0.38 in /Users/hoangchu/Library/Python/3.11/lib/python/site-packages (from -r dependencies.txt (line 41)) (3.0.38)\n",
      "Requirement already satisfied: protobuf==4.23.4 in /Users/hoangchu/Library/Python/3.11/lib/python/site-packages (from -r dependencies.txt (line 42)) (4.23.4)\n",
      "Requirement already satisfied: psutil==5.9.5 in /Users/hoangchu/Library/Python/3.11/lib/python/site-packages (from -r dependencies.txt (line 43)) (5.9.5)\n",
      "Requirement already satisfied: ptyprocess==0.7.0 in /Users/hoangchu/Library/Python/3.11/lib/python/site-packages (from -r dependencies.txt (line 44)) (0.7.0)\n",
      "Requirement already satisfied: pure-eval==0.2.2 in /Users/hoangchu/Library/Python/3.11/lib/python/site-packages (from -r dependencies.txt (line 45)) (0.2.2)\n",
      "Requirement already satisfied: Pygments==2.15.1 in /Users/hoangchu/Library/Python/3.11/lib/python/site-packages (from -r dependencies.txt (line 46)) (2.15.1)\n",
      "Requirement already satisfied: pyparsing==3.0.9 in /Library/Frameworks/Python.framework/Versions/3.11/lib/python3.11/site-packages (from -r dependencies.txt (line 47)) (3.0.9)\n",
      "Requirement already satisfied: pyproj==3.6.0 in /Library/Frameworks/Python.framework/Versions/3.11/lib/python3.11/site-packages (from -r dependencies.txt (line 48)) (3.6.0)\n",
      "Requirement already satisfied: python-dateutil==2.8.2 in /Users/hoangchu/Library/Python/3.11/lib/python/site-packages (from -r dependencies.txt (line 49)) (2.8.2)\n",
      "Requirement already satisfied: pytz==2023.3 in /Library/Frameworks/Python.framework/Versions/3.11/lib/python3.11/site-packages (from -r dependencies.txt (line 50)) (2023.3)\n",
      "Requirement already satisfied: pyzmq==25.1.0 in /Users/hoangchu/Library/Python/3.11/lib/python/site-packages (from -r dependencies.txt (line 51)) (25.1.0)\n",
      "Requirement already satisfied: requests==2.31.0 in /Library/Frameworks/Python.framework/Versions/3.11/lib/python3.11/site-packages (from -r dependencies.txt (line 52)) (2.31.0)\n",
      "Requirement already satisfied: scikit-learn==1.3.0 in /Library/Frameworks/Python.framework/Versions/3.11/lib/python3.11/site-packages (from -r dependencies.txt (line 53)) (1.3.0)\n",
      "Requirement already satisfied: scipy==1.11.1 in /Users/hoangchu/Library/Python/3.11/lib/python/site-packages (from -r dependencies.txt (line 54)) (1.11.1)\n",
      "Requirement already satisfied: shapely==2.0.1 in /Library/Frameworks/Python.framework/Versions/3.11/lib/python3.11/site-packages (from -r dependencies.txt (line 55)) (2.0.1)\n",
      "Requirement already satisfied: six==1.16.0 in /Users/hoangchu/Library/Python/3.11/lib/python/site-packages (from -r dependencies.txt (line 56)) (1.16.0)\n",
      "Requirement already satisfied: sklearn==0.0.post9 in /Library/Frameworks/Python.framework/Versions/3.11/lib/python3.11/site-packages (from -r dependencies.txt (line 57)) (0.0.post9)\n",
      "Requirement already satisfied: stack-data==0.6.2 in /Users/hoangchu/Library/Python/3.11/lib/python/site-packages (from -r dependencies.txt (line 58)) (0.6.2)\n",
      "Requirement already satisfied: statsmodels==0.14.0 in /Library/Frameworks/Python.framework/Versions/3.11/lib/python3.11/site-packages (from -r dependencies.txt (line 59)) (0.14.0)\n",
      "Requirement already satisfied: threadpoolctl==3.2.0 in /Library/Frameworks/Python.framework/Versions/3.11/lib/python3.11/site-packages (from -r dependencies.txt (line 60)) (3.2.0)\n",
      "Requirement already satisfied: tornado==6.3.2 in /Users/hoangchu/Library/Python/3.11/lib/python/site-packages (from -r dependencies.txt (line 61)) (6.3.2)\n",
      "Requirement already satisfied: traitlets==5.9.0 in /Users/hoangchu/Library/Python/3.11/lib/python/site-packages (from -r dependencies.txt (line 62)) (5.9.0)\n",
      "Requirement already satisfied: tzdata==2023.3 in /Library/Frameworks/Python.framework/Versions/3.11/lib/python3.11/site-packages (from -r dependencies.txt (line 63)) (2023.3)\n",
      "Requirement already satisfied: urllib3==2.0.5 in /Library/Frameworks/Python.framework/Versions/3.11/lib/python3.11/site-packages (from -r dependencies.txt (line 64)) (2.0.5)\n",
      "Requirement already satisfied: wcwidth==0.2.6 in /Users/hoangchu/Library/Python/3.11/lib/python/site-packages (from -r dependencies.txt (line 65)) (0.2.6)\n",
      "Note: you may need to restart the kernel to use updated packages.\n"
     ]
    }
   ],
   "source": [
    "%pip install -r dependencies.txt"
   ]
  },
  {
   "cell_type": "code",
   "execution_count": 1699,
   "metadata": {},
   "outputs": [],
   "source": [
    "import pandas as pd\n",
    "import numpy as np\n",
    "import sklearn\n",
    "import matplotlib.pyplot as plt\n",
    "import requests\n",
    "import scipy"
   ]
  },
  {
   "cell_type": "code",
   "execution_count": 1700,
   "metadata": {},
   "outputs": [],
   "source": [
    "import importlib\n",
    "import helper, consts"
   ]
  },
  {
   "cell_type": "code",
   "execution_count": 1701,
   "metadata": {},
   "outputs": [
    {
     "data": {
      "text/plain": [
       "<module 'helper' from '/Users/hoangchu/Documents/Clinic/code/helper.py'>"
      ]
     },
     "execution_count": 1701,
     "metadata": {},
     "output_type": "execute_result"
    }
   ],
   "source": [
    "importlib.reload(consts)\n",
    "importlib.reload(helper)"
   ]
  },
  {
   "cell_type": "code",
   "execution_count": 1702,
   "metadata": {},
   "outputs": [],
   "source": [
    "does_sub_df_has_Nan = lambda df, col_name: df[[col_name]].isna().any(axis=COL_AX)"
   ]
  },
  {
   "cell_type": "markdown",
   "metadata": {},
   "source": [
    "#### CONSTANTS"
   ]
  },
  {
   "cell_type": "code",
   "execution_count": 1703,
   "metadata": {},
   "outputs": [],
   "source": [
    "ROW_AX = 0\n",
    "COL_AX = 1"
   ]
  },
  {
   "cell_type": "code",
   "execution_count": 1704,
   "metadata": {},
   "outputs": [
    {
     "data": {
      "text/plain": [
       "'../data/'"
      ]
     },
     "execution_count": 1704,
     "metadata": {},
     "output_type": "execute_result"
    }
   ],
   "source": [
    "DATA_PATH = consts.DATA_PATH\n",
    "DATA_PATH"
   ]
  },
  {
   "cell_type": "code",
   "execution_count": 1705,
   "metadata": {},
   "outputs": [],
   "source": [
    "RESPONSE_NAME = \"rrirpnxm_nt_0\""
   ]
  },
  {
   "cell_type": "markdown",
   "metadata": {},
   "source": [
    "#### Feature Selection"
   ]
  },
  {
   "cell_type": "markdown",
   "metadata": {},
   "source": [
    "##### Read the data"
   ]
  },
  {
   "cell_type": "code",
   "execution_count": 1706,
   "metadata": {},
   "outputs": [],
   "source": [
    "# local read\n",
    "\n",
    "data_20191202_1200_df = pd.read_csv(DATA_PATH + \"data_20191202_1200.csv\")\n",
    "data_20191203_1200_df = pd.read_csv(DATA_PATH + \"data_20191203_1200.csv\")"
   ]
  },
  {
   "cell_type": "code",
   "execution_count": 1707,
   "metadata": {},
   "outputs": [],
   "source": [
    "# cloud read -- TODO: NEED A PERMANENT LINK!!\n",
    "\n",
    "# importlib.reload(consts)\n",
    "\n",
    "# url = ... # url in consts.py\n",
    "# assert requests.get(url).status_code == 200\n",
    "# data_20191202_1200_df = pd.read_csv(url)\n",
    "# data_20191202_1200_df.head()"
   ]
  },
  {
   "cell_type": "markdown",
   "metadata": {},
   "source": [
    "##### Preliminary check"
   ]
  },
  {
   "cell_type": "code",
   "execution_count": 1708,
   "metadata": {},
   "outputs": [
    {
     "data": {
      "text/plain": [
       "(2910, 252)"
      ]
     },
     "execution_count": 1708,
     "metadata": {},
     "output_type": "execute_result"
    }
   ],
   "source": [
    "data_20191202_1200_df.shape"
   ]
  },
  {
   "cell_type": "code",
   "execution_count": 1709,
   "metadata": {},
   "outputs": [
    {
     "data": {
      "text/plain": [
       "(2915, 252)"
      ]
     },
     "execution_count": 1709,
     "metadata": {},
     "output_type": "execute_result"
    }
   ],
   "source": [
    "data_20191203_1200_df.shape"
   ]
  },
  {
   "cell_type": "code",
   "execution_count": 1710,
   "metadata": {},
   "outputs": [
    {
     "name": "stdout",
     "output_type": "stream",
     "text": [
      "20191202:\n",
      "<class 'pandas.core.frame.DataFrame'>\n",
      "RangeIndex: 2910 entries, 0 to 2909\n",
      "Columns: 252 entries, eqid to tr_toxhr_0\n",
      "dtypes: float64(251), int64(1)\n",
      "memory usage: 5.6 MB\n",
      "Columns with NaN: Empty DataFrame\n",
      "Columns: [eqid, wt, today, tonight, tmwam, dn3sttmwmd, dn1, dn4x1, cftorrrelstd_open_0, liqlog_open_0, llirpnxm_am_1, llirpnxm_dy_12to16, llirpnxm_dy_17to21, llirpnxm_dy_1to3, llirpnxm_dy_4to6, llirpnxm_dy_7to11, llirpnxm_lst15_0, llirpnxm_lsthrx15_0, llirpnxm_md_1, llirpnxm_nt_0, llirpnxm_nt_1, llirpnxm_nt_12to16, llirpnxm_nt_17to21, llirpnxm_nt_1to3, llirpnxm_nt_4to6, llirpnxm_nt_7to11, llirpnxm_pm_1, llirpnxm_toxhr_0, mocrelvol_open_1, mocrelvol_open_13to17, mocrelvol_open_18to22, mocrelvol_open_2to4, mocrelvol_open_5to7, mocrelvol_open_8to12, momr10d_open_0, momr50dx10d_open_0, moorelvol_open_0, moorelvol_open_12to16, moorelvol_open_17to21, moorelvol_open_1to3, moorelvol_open_4to6, moorelvol_open_7to11, nnetticksrelmultstdev_am_1, nnetticksrelmultstdev_dy_12to16, nnetticksrelmultstdev_dy_17to21, nnetticksrelmultstdev_dy_1to3, nnetticksrelmultstdev_dy_4to6, nnetticksrelmultstdev_dy_7to11, nnetticksrelmultstdev_lst15_0, nnetticksrelmultstdev_lsthrx15_0, nnetticksrelmultstdev_md_1, nnetticksrelmultstdev_nt_0, nnetticksrelmultstdev_nt_1, nnetticksrelmultstdev_nt_12to16, nnetticksrelmultstdev_nt_17to21, nnetticksrelmultstdev_nt_1to3, nnetticksrelmultstdev_nt_4to6, nnetticksrelmultstdev_nt_7to11, nnetticksrelmultstdev_pm_1, nnetticksrelmultstdev_toxhr_0, nnetticksrelrrsign_am_1, nnetticksrelrrsign_dy_12to16, nnetticksrelrrsign_dy_17to21, nnetticksrelrrsign_dy_1to3, nnetticksrelrrsign_dy_4to6, nnetticksrelrrsign_dy_7to11, nnetticksrelrrsign_lst15_0, nnetticksrelrrsign_lsthrx15_0, nnetticksrelrrsign_md_1, nnetticksrelrrsign_nt_0, nnetticksrelrrsign_nt_1, nnetticksrelrrsign_nt_12to16, nnetticksrelrrsign_nt_17to21, nnetticksrelrrsign_nt_1to3, nnetticksrelrrsign_nt_4to6, nnetticksrelrrsign_nt_7to11, nnetticksrelrrsign_pm_1, nnetticksrelrrsign_toxhr_0, nsameticksrelmultstdev_am_1, nsameticksrelmultstdev_dy_12to16, nsameticksrelmultstdev_dy_17to21, nsameticksrelmultstdev_dy_1to3, nsameticksrelmultstdev_dy_4to6, nsameticksrelmultstdev_dy_7to11, nsameticksrelmultstdev_lst15_0, nsameticksrelmultstdev_lsthrx15_0, nsameticksrelmultstdev_md_1, nsameticksrelmultstdev_nt_0, nsameticksrelmultstdev_nt_1, nsameticksrelmultstdev_nt_12to16, nsameticksrelmultstdev_nt_17to21, nsameticksrelmultstdev_nt_1to3, nsameticksrelmultstdev_nt_4to6, nsameticksrelmultstdev_nt_7to11, nsameticksrelmultstdev_pm_1, nsameticksrelmultstdev_toxhr_0, nsameticksrelrrsign_am_1, nsameticksrelrrsign_dy_12to16, nsameticksrelrrsign_dy_17to21, nsameticksrelrrsign_dy_1to3, ...]\n",
      "Index: []\n",
      "\n",
      "[0 rows x 252 columns]\n",
      "\n",
      "20191203:\n",
      "<class 'pandas.core.frame.DataFrame'>\n",
      "RangeIndex: 2915 entries, 0 to 2914\n",
      "Columns: 252 entries, eqid to tr_toxhr_0\n",
      "dtypes: float64(251), int64(1)\n",
      "memory usage: 5.6 MB\n",
      "Columns with NaN: Empty DataFrame\n",
      "Columns: [eqid, wt, today, tonight, tmwam, dn3sttmwmd, dn1, dn4x1, cftorrrelstd_open_0, liqlog_open_0, llirpnxm_am_1, llirpnxm_dy_12to16, llirpnxm_dy_17to21, llirpnxm_dy_1to3, llirpnxm_dy_4to6, llirpnxm_dy_7to11, llirpnxm_lst15_0, llirpnxm_lsthrx15_0, llirpnxm_md_1, llirpnxm_nt_0, llirpnxm_nt_1, llirpnxm_nt_12to16, llirpnxm_nt_17to21, llirpnxm_nt_1to3, llirpnxm_nt_4to6, llirpnxm_nt_7to11, llirpnxm_pm_1, llirpnxm_toxhr_0, mocrelvol_open_1, mocrelvol_open_13to17, mocrelvol_open_18to22, mocrelvol_open_2to4, mocrelvol_open_5to7, mocrelvol_open_8to12, momr10d_open_0, momr50dx10d_open_0, moorelvol_open_0, moorelvol_open_12to16, moorelvol_open_17to21, moorelvol_open_1to3, moorelvol_open_4to6, moorelvol_open_7to11, nnetticksrelmultstdev_am_1, nnetticksrelmultstdev_dy_12to16, nnetticksrelmultstdev_dy_17to21, nnetticksrelmultstdev_dy_1to3, nnetticksrelmultstdev_dy_4to6, nnetticksrelmultstdev_dy_7to11, nnetticksrelmultstdev_lst15_0, nnetticksrelmultstdev_lsthrx15_0, nnetticksrelmultstdev_md_1, nnetticksrelmultstdev_nt_0, nnetticksrelmultstdev_nt_1, nnetticksrelmultstdev_nt_12to16, nnetticksrelmultstdev_nt_17to21, nnetticksrelmultstdev_nt_1to3, nnetticksrelmultstdev_nt_4to6, nnetticksrelmultstdev_nt_7to11, nnetticksrelmultstdev_pm_1, nnetticksrelmultstdev_toxhr_0, nnetticksrelrrsign_am_1, nnetticksrelrrsign_dy_12to16, nnetticksrelrrsign_dy_17to21, nnetticksrelrrsign_dy_1to3, nnetticksrelrrsign_dy_4to6, nnetticksrelrrsign_dy_7to11, nnetticksrelrrsign_lst15_0, nnetticksrelrrsign_lsthrx15_0, nnetticksrelrrsign_md_1, nnetticksrelrrsign_nt_0, nnetticksrelrrsign_nt_1, nnetticksrelrrsign_nt_12to16, nnetticksrelrrsign_nt_17to21, nnetticksrelrrsign_nt_1to3, nnetticksrelrrsign_nt_4to6, nnetticksrelrrsign_nt_7to11, nnetticksrelrrsign_pm_1, nnetticksrelrrsign_toxhr_0, nsameticksrelmultstdev_am_1, nsameticksrelmultstdev_dy_12to16, nsameticksrelmultstdev_dy_17to21, nsameticksrelmultstdev_dy_1to3, nsameticksrelmultstdev_dy_4to6, nsameticksrelmultstdev_dy_7to11, nsameticksrelmultstdev_lst15_0, nsameticksrelmultstdev_lsthrx15_0, nsameticksrelmultstdev_md_1, nsameticksrelmultstdev_nt_0, nsameticksrelmultstdev_nt_1, nsameticksrelmultstdev_nt_12to16, nsameticksrelmultstdev_nt_17to21, nsameticksrelmultstdev_nt_1to3, nsameticksrelmultstdev_nt_4to6, nsameticksrelmultstdev_nt_7to11, nsameticksrelmultstdev_pm_1, nsameticksrelmultstdev_toxhr_0, nsameticksrelrrsign_am_1, nsameticksrelrrsign_dy_12to16, nsameticksrelrrsign_dy_17to21, nsameticksrelrrsign_dy_1to3, ...]\n",
      "Index: []\n",
      "\n",
      "[0 rows x 252 columns]\n"
     ]
    }
   ],
   "source": [
    "print(f\"20191202:\")\n",
    "data_20191202_1200_df.info()\n",
    "print(f\"Columns with NaN: {data_20191202_1200_df[data_20191202_1200_df.isna().any(axis=COL_AX)]}\")\n",
    "\n",
    "print()\n",
    "\n",
    "print(f\"20191203:\")\n",
    "data_20191203_1200_df.info()\n",
    "print(f\"Columns with NaN: {data_20191203_1200_df[data_20191203_1200_df.isna().any(axis=COL_AX)]}\")"
   ]
  },
  {
   "cell_type": "code",
   "execution_count": 1711,
   "metadata": {},
   "outputs": [
    {
     "name": "stdout",
     "output_type": "stream",
     "text": [
      "20191202 - unique eqid count: 2910\n",
      "20191203 - unique eqid count: 2915\n"
     ]
    }
   ],
   "source": [
    "print(f\"20191202 - unique eqid count: {data_20191202_1200_df.eqid.nunique()}\")\n",
    "print(f\"20191203 - unique eqid count: {data_20191203_1200_df.eqid.nunique()}\")"
   ]
  },
  {
   "cell_type": "code",
   "execution_count": 1712,
   "metadata": {},
   "outputs": [],
   "source": [
    "data_20191202_1200_df.drop('eqid', axis=COL_AX, inplace=True)\n",
    "data_20191203_1200_df.drop('eqid', axis=COL_AX, inplace=True)"
   ]
  },
  {
   "cell_type": "code",
   "execution_count": 1713,
   "metadata": {},
   "outputs": [
    {
     "name": "stdout",
     "output_type": "stream",
     "text": [
      "20191202:\n"
     ]
    },
    {
     "data": {
      "text/html": [
       "<div>\n",
       "<style scoped>\n",
       "    .dataframe tbody tr th:only-of-type {\n",
       "        vertical-align: middle;\n",
       "    }\n",
       "\n",
       "    .dataframe tbody tr th {\n",
       "        vertical-align: top;\n",
       "    }\n",
       "\n",
       "    .dataframe thead th {\n",
       "        text-align: right;\n",
       "    }\n",
       "</style>\n",
       "<table border=\"1\" class=\"dataframe\">\n",
       "  <thead>\n",
       "    <tr style=\"text-align: right;\">\n",
       "      <th></th>\n",
       "      <th>wt</th>\n",
       "      <th>today</th>\n",
       "      <th>tonight</th>\n",
       "      <th>tmwam</th>\n",
       "      <th>dn3sttmwmd</th>\n",
       "      <th>dn1</th>\n",
       "      <th>dn4x1</th>\n",
       "      <th>cftorrrelstd_open_0</th>\n",
       "      <th>liqlog_open_0</th>\n",
       "      <th>llirpnxm_am_1</th>\n",
       "      <th>...</th>\n",
       "      <th>tr_md_1</th>\n",
       "      <th>tr_nt_0</th>\n",
       "      <th>tr_nt_1</th>\n",
       "      <th>tr_nt_12to16</th>\n",
       "      <th>tr_nt_17to21</th>\n",
       "      <th>tr_nt_1to3</th>\n",
       "      <th>tr_nt_4to6</th>\n",
       "      <th>tr_nt_7to11</th>\n",
       "      <th>tr_pm_1</th>\n",
       "      <th>tr_toxhr_0</th>\n",
       "    </tr>\n",
       "  </thead>\n",
       "  <tbody>\n",
       "    <tr>\n",
       "      <th>min</th>\n",
       "      <td>0.000017</td>\n",
       "      <td>-0.056959</td>\n",
       "      <td>-0.074278</td>\n",
       "      <td>-0.057647</td>\n",
       "      <td>-0.172408</td>\n",
       "      <td>-0.160248</td>\n",
       "      <td>-0.211938</td>\n",
       "      <td>-1.842923</td>\n",
       "      <td>-3.395071</td>\n",
       "      <td>-0.011349</td>\n",
       "      <td>...</td>\n",
       "      <td>-0.024689</td>\n",
       "      <td>-0.101875</td>\n",
       "      <td>-0.041802</td>\n",
       "      <td>-0.224477</td>\n",
       "      <td>-0.253916</td>\n",
       "      <td>-0.248580</td>\n",
       "      <td>-0.182809</td>\n",
       "      <td>-0.226581</td>\n",
       "      <td>0.0</td>\n",
       "      <td>-0.027905</td>\n",
       "    </tr>\n",
       "    <tr>\n",
       "      <th>max</th>\n",
       "      <td>0.001446</td>\n",
       "      <td>0.051399</td>\n",
       "      <td>0.064996</td>\n",
       "      <td>0.055767</td>\n",
       "      <td>0.239135</td>\n",
       "      <td>0.099030</td>\n",
       "      <td>0.222372</td>\n",
       "      <td>2.024149</td>\n",
       "      <td>1.571073</td>\n",
       "      <td>0.007322</td>\n",
       "      <td>...</td>\n",
       "      <td>0.064105</td>\n",
       "      <td>0.068691</td>\n",
       "      <td>0.102588</td>\n",
       "      <td>0.254516</td>\n",
       "      <td>0.278915</td>\n",
       "      <td>0.327063</td>\n",
       "      <td>0.174921</td>\n",
       "      <td>0.269118</td>\n",
       "      <td>0.0</td>\n",
       "      <td>0.018218</td>\n",
       "    </tr>\n",
       "  </tbody>\n",
       "</table>\n",
       "<p>2 rows × 251 columns</p>\n",
       "</div>"
      ],
      "text/plain": [
       "           wt     today   tonight     tmwam  dn3sttmwmd       dn1     dn4x1  \\\n",
       "min  0.000017 -0.056959 -0.074278 -0.057647   -0.172408 -0.160248 -0.211938   \n",
       "max  0.001446  0.051399  0.064996  0.055767    0.239135  0.099030  0.222372   \n",
       "\n",
       "     cftorrrelstd_open_0  liqlog_open_0  llirpnxm_am_1  ...   tr_md_1  \\\n",
       "min            -1.842923      -3.395071      -0.011349  ... -0.024689   \n",
       "max             2.024149       1.571073       0.007322  ...  0.064105   \n",
       "\n",
       "      tr_nt_0   tr_nt_1  tr_nt_12to16  tr_nt_17to21  tr_nt_1to3  tr_nt_4to6  \\\n",
       "min -0.101875 -0.041802     -0.224477     -0.253916   -0.248580   -0.182809   \n",
       "max  0.068691  0.102588      0.254516      0.278915    0.327063    0.174921   \n",
       "\n",
       "     tr_nt_7to11  tr_pm_1  tr_toxhr_0  \n",
       "min    -0.226581      0.0   -0.027905  \n",
       "max     0.269118      0.0    0.018218  \n",
       "\n",
       "[2 rows x 251 columns]"
      ]
     },
     "execution_count": 1713,
     "metadata": {},
     "output_type": "execute_result"
    }
   ],
   "source": [
    "print(f\"20191202:\")\n",
    "data_20191202_1200_df.describe().loc[['min', 'max']]"
   ]
  },
  {
   "cell_type": "code",
   "execution_count": 1714,
   "metadata": {},
   "outputs": [
    {
     "name": "stdout",
     "output_type": "stream",
     "text": [
      "20191203:\n"
     ]
    },
    {
     "data": {
      "text/html": [
       "<div>\n",
       "<style scoped>\n",
       "    .dataframe tbody tr th:only-of-type {\n",
       "        vertical-align: middle;\n",
       "    }\n",
       "\n",
       "    .dataframe tbody tr th {\n",
       "        vertical-align: top;\n",
       "    }\n",
       "\n",
       "    .dataframe thead th {\n",
       "        text-align: right;\n",
       "    }\n",
       "</style>\n",
       "<table border=\"1\" class=\"dataframe\">\n",
       "  <thead>\n",
       "    <tr style=\"text-align: right;\">\n",
       "      <th></th>\n",
       "      <th>wt</th>\n",
       "      <th>today</th>\n",
       "      <th>tonight</th>\n",
       "      <th>tmwam</th>\n",
       "      <th>dn3sttmwmd</th>\n",
       "      <th>dn1</th>\n",
       "      <th>dn4x1</th>\n",
       "      <th>cftorrrelstd_open_0</th>\n",
       "      <th>liqlog_open_0</th>\n",
       "      <th>llirpnxm_am_1</th>\n",
       "      <th>...</th>\n",
       "      <th>tr_md_1</th>\n",
       "      <th>tr_nt_0</th>\n",
       "      <th>tr_nt_1</th>\n",
       "      <th>tr_nt_12to16</th>\n",
       "      <th>tr_nt_17to21</th>\n",
       "      <th>tr_nt_1to3</th>\n",
       "      <th>tr_nt_4to6</th>\n",
       "      <th>tr_nt_7to11</th>\n",
       "      <th>tr_pm_1</th>\n",
       "      <th>tr_toxhr_0</th>\n",
       "    </tr>\n",
       "  </thead>\n",
       "  <tbody>\n",
       "    <tr>\n",
       "      <th>min</th>\n",
       "      <td>0.000017</td>\n",
       "      <td>-0.048435</td>\n",
       "      <td>-0.046199</td>\n",
       "      <td>-0.047159</td>\n",
       "      <td>-0.194887</td>\n",
       "      <td>-0.114078</td>\n",
       "      <td>-0.188259</td>\n",
       "      <td>-1.855363</td>\n",
       "      <td>-3.389490</td>\n",
       "      <td>-0.008491</td>\n",
       "      <td>...</td>\n",
       "      <td>-0.112965</td>\n",
       "      <td>-0.23746</td>\n",
       "      <td>-0.101875</td>\n",
       "      <td>-0.226581</td>\n",
       "      <td>-0.253916</td>\n",
       "      <td>-0.248580</td>\n",
       "      <td>-0.203380</td>\n",
       "      <td>-0.194633</td>\n",
       "      <td>-0.036342</td>\n",
       "      <td>-0.070831</td>\n",
       "    </tr>\n",
       "    <tr>\n",
       "      <th>max</th>\n",
       "      <td>0.001440</td>\n",
       "      <td>0.046834</td>\n",
       "      <td>0.074337</td>\n",
       "      <td>0.055817</td>\n",
       "      <td>0.259849</td>\n",
       "      <td>0.106556</td>\n",
       "      <td>0.251362</td>\n",
       "      <td>2.036582</td>\n",
       "      <td>1.573204</td>\n",
       "      <td>0.028806</td>\n",
       "      <td>...</td>\n",
       "      <td>0.057098</td>\n",
       "      <td>0.23246</td>\n",
       "      <td>0.068691</td>\n",
       "      <td>0.254516</td>\n",
       "      <td>0.278915</td>\n",
       "      <td>0.327063</td>\n",
       "      <td>0.174921</td>\n",
       "      <td>0.269118</td>\n",
       "      <td>0.076588</td>\n",
       "      <td>0.104314</td>\n",
       "    </tr>\n",
       "  </tbody>\n",
       "</table>\n",
       "<p>2 rows × 251 columns</p>\n",
       "</div>"
      ],
      "text/plain": [
       "           wt     today   tonight     tmwam  dn3sttmwmd       dn1     dn4x1  \\\n",
       "min  0.000017 -0.048435 -0.046199 -0.047159   -0.194887 -0.114078 -0.188259   \n",
       "max  0.001440  0.046834  0.074337  0.055817    0.259849  0.106556  0.251362   \n",
       "\n",
       "     cftorrrelstd_open_0  liqlog_open_0  llirpnxm_am_1  ...   tr_md_1  \\\n",
       "min            -1.855363      -3.389490      -0.008491  ... -0.112965   \n",
       "max             2.036582       1.573204       0.028806  ...  0.057098   \n",
       "\n",
       "     tr_nt_0   tr_nt_1  tr_nt_12to16  tr_nt_17to21  tr_nt_1to3  tr_nt_4to6  \\\n",
       "min -0.23746 -0.101875     -0.226581     -0.253916   -0.248580   -0.203380   \n",
       "max  0.23246  0.068691      0.254516      0.278915    0.327063    0.174921   \n",
       "\n",
       "     tr_nt_7to11   tr_pm_1  tr_toxhr_0  \n",
       "min    -0.194633 -0.036342   -0.070831  \n",
       "max     0.269118  0.076588    0.104314  \n",
       "\n",
       "[2 rows x 251 columns]"
      ]
     },
     "execution_count": 1714,
     "metadata": {},
     "output_type": "execute_result"
    }
   ],
   "source": [
    "print(f\"20191203:\")\n",
    "data_20191203_1200_df.describe().loc[['min', 'max']]"
   ]
  },
  {
   "cell_type": "markdown",
   "metadata": {},
   "source": [
    "##### Get the responses columns"
   ]
  },
  {
   "cell_type": "code",
   "execution_count": 1715,
   "metadata": {},
   "outputs": [],
   "source": [
    "training_responses = data_20191202_1200_df[RESPONSE_NAME]\n",
    "actual_responses = data_20191203_1200_df[RESPONSE_NAME]"
   ]
  },
  {
   "cell_type": "markdown",
   "metadata": {},
   "source": [
    "##### 20191202_1200 data"
   ]
  },
  {
   "cell_type": "code",
   "execution_count": 1716,
   "metadata": {},
   "outputs": [],
   "source": [
    "data_20191202_1200_df.drop(RESPONSE_NAME, axis=COL_AX, inplace=True)"
   ]
  },
  {
   "cell_type": "code",
   "execution_count": 1717,
   "metadata": {},
   "outputs": [
    {
     "data": {
      "text/plain": [
       "wt              16\n",
       "today           16\n",
       "tonight         16\n",
       "tmwam           16\n",
       "dn3sttmwmd      16\n",
       "              ... \n",
       "tr_nt_1to3      16\n",
       "tr_nt_4to6      16\n",
       "tr_nt_7to11     16\n",
       "tr_pm_1        250\n",
       "tr_toxhr_0      16\n",
       "Length: 250, dtype: int64"
      ]
     },
     "execution_count": 1717,
     "metadata": {},
     "output_type": "execute_result"
    }
   ],
   "source": [
    "data_20191202_1200_df.corr().isna().sum()"
   ]
  },
  {
   "cell_type": "markdown",
   "metadata": {},
   "source": [
    "Some column pairs have NaN correlations, meaning either or both columns have constant values in all rows."
   ]
  },
  {
   "cell_type": "code",
   "execution_count": 1718,
   "metadata": {},
   "outputs": [
    {
     "data": {
      "text/plain": [
       "Index(['llirpnxm_pm_1', 'nnetticksrelrrsign_pm_1', 'nsameticksrelrrsign_pm_1',\n",
       "       'rel2retcfrtxm_pm_1', 'relntrds70tr_pm_1', 'relvol_pm_1',\n",
       "       'rrirpnxm_pm_1', 'rrretstr_pm_1', 'rvdelta_nt_0', 'rvdelta_nt_1',\n",
       "       'rvdelta_nt_12to16', 'rvdelta_nt_17to21', 'rvdelta_nt_1to3',\n",
       "       'rvdelta_nt_4to6', 'rvdelta_nt_7to11', 'tr_pm_1'],\n",
       "      dtype='object')"
      ]
     },
     "execution_count": 1718,
     "metadata": {},
     "output_type": "execute_result"
    }
   ],
   "source": [
    "# Get columns where all rows have the same value\n",
    "constVal_columns = data_20191202_1200_df.columns[data_20191202_1200_df.apply(lambda x: x.nunique() == 1)]\n",
    "constVal_columns"
   ]
  },
  {
   "cell_type": "code",
   "execution_count": 1719,
   "metadata": {},
   "outputs": [],
   "source": [
    "TOBE_REMOVED_20191202_1200_COLUMNS = list(constVal_columns)"
   ]
  },
  {
   "cell_type": "markdown",
   "metadata": {},
   "source": [
    "##### 20191203_1200 data"
   ]
  },
  {
   "cell_type": "code",
   "execution_count": 1720,
   "metadata": {},
   "outputs": [],
   "source": [
    "data_20191203_1200_df.drop(RESPONSE_NAME, axis=COL_AX, inplace=True)"
   ]
  },
  {
   "cell_type": "code",
   "execution_count": 1721,
   "metadata": {},
   "outputs": [
    {
     "data": {
      "text/plain": [
       "wt             7\n",
       "today          7\n",
       "tonight        7\n",
       "tmwam          7\n",
       "dn3sttmwmd     7\n",
       "              ..\n",
       "tr_nt_1to3     7\n",
       "tr_nt_4to6     7\n",
       "tr_nt_7to11    7\n",
       "tr_pm_1        7\n",
       "tr_toxhr_0     7\n",
       "Length: 250, dtype: int64"
      ]
     },
     "execution_count": 1721,
     "metadata": {},
     "output_type": "execute_result"
    }
   ],
   "source": [
    "data_20191203_1200_df.corr().isna().sum()"
   ]
  },
  {
   "cell_type": "code",
   "execution_count": 1722,
   "metadata": {},
   "outputs": [
    {
     "data": {
      "text/plain": [
       "Index(['rvdelta_nt_0', 'rvdelta_nt_1', 'rvdelta_nt_12to16',\n",
       "       'rvdelta_nt_17to21', 'rvdelta_nt_1to3', 'rvdelta_nt_4to6',\n",
       "       'rvdelta_nt_7to11'],\n",
       "      dtype='object')"
      ]
     },
     "execution_count": 1722,
     "metadata": {},
     "output_type": "execute_result"
    }
   ],
   "source": [
    "# Get columns where all rows have the same value\n",
    "constVal_columns = data_20191203_1200_df.columns[data_20191203_1200_df.apply(lambda x: x.nunique() == 1)]\n",
    "constVal_columns"
   ]
  },
  {
   "cell_type": "code",
   "execution_count": 1723,
   "metadata": {},
   "outputs": [],
   "source": [
    "TOBE_REMOVED_20191203_1200_COLUMNS = list(constVal_columns)"
   ]
  },
  {
   "cell_type": "markdown",
   "metadata": {},
   "source": [
    "##### Get training_predictors_df and testing_predictors_df"
   ]
  },
  {
   "cell_type": "code",
   "execution_count": 1724,
   "metadata": {},
   "outputs": [],
   "source": [
    "TOBE_REMOVED_20191202_1200_COLUMNS_set = set(TOBE_REMOVED_20191202_1200_COLUMNS)\n",
    "TOBE_REMOVED_20191203_1200_COLUMNS_set = set(TOBE_REMOVED_20191203_1200_COLUMNS)"
   ]
  },
  {
   "cell_type": "code",
   "execution_count": 1725,
   "metadata": {},
   "outputs": [
    {
     "name": "stdout",
     "output_type": "stream",
     "text": [
      "{'rel2retcfrtxm_pm_1', 'llirpnxm_pm_1', 'relvol_pm_1', 'tr_pm_1', 'rrirpnxm_pm_1', 'nnetticksrelrrsign_pm_1', 'nsameticksrelrrsign_pm_1', 'rrretstr_pm_1', 'relntrds70tr_pm_1'}\n"
     ]
    }
   ],
   "source": [
    "# Appear in TOBE_REMOVED_20191202_1200_COLUMNS_set but not in TOBE_REMOVED_20191203_1200_COLUMNS_set\n",
    "print(TOBE_REMOVED_20191202_1200_COLUMNS_set - TOBE_REMOVED_20191203_1200_COLUMNS_set)"
   ]
  },
  {
   "cell_type": "code",
   "execution_count": 1726,
   "metadata": {},
   "outputs": [
    {
     "name": "stdout",
     "output_type": "stream",
     "text": [
      "set()\n"
     ]
    }
   ],
   "source": [
    "# Appear in TOBE_REMOVED_20191203_1200_COLUMNS_set but not in TOBE_REMOVED_20191202_1200_COLUMNS_set\n",
    "print(TOBE_REMOVED_20191203_1200_COLUMNS_set - TOBE_REMOVED_20191202_1200_COLUMNS_set)"
   ]
  },
  {
   "cell_type": "code",
   "execution_count": 1727,
   "metadata": {},
   "outputs": [
    {
     "data": {
      "text/html": [
       "<div>\n",
       "<style scoped>\n",
       "    .dataframe tbody tr th:only-of-type {\n",
       "        vertical-align: middle;\n",
       "    }\n",
       "\n",
       "    .dataframe tbody tr th {\n",
       "        vertical-align: top;\n",
       "    }\n",
       "\n",
       "    .dataframe thead th {\n",
       "        text-align: right;\n",
       "    }\n",
       "</style>\n",
       "<table border=\"1\" class=\"dataframe\">\n",
       "  <thead>\n",
       "    <tr style=\"text-align: right;\">\n",
       "      <th></th>\n",
       "      <th>rel2retcfrtxm_pm_1</th>\n",
       "      <th>llirpnxm_pm_1</th>\n",
       "      <th>relvol_pm_1</th>\n",
       "      <th>tr_pm_1</th>\n",
       "      <th>rrirpnxm_pm_1</th>\n",
       "      <th>nnetticksrelrrsign_pm_1</th>\n",
       "      <th>nsameticksrelrrsign_pm_1</th>\n",
       "      <th>rrretstr_pm_1</th>\n",
       "      <th>relntrds70tr_pm_1</th>\n",
       "    </tr>\n",
       "  </thead>\n",
       "  <tbody>\n",
       "    <tr>\n",
       "      <th>count</th>\n",
       "      <td>2915.000000</td>\n",
       "      <td>2915.000000</td>\n",
       "      <td>2915.000000</td>\n",
       "      <td>2915.000000</td>\n",
       "      <td>2915.000000</td>\n",
       "      <td>2915.000000</td>\n",
       "      <td>2915.000000</td>\n",
       "      <td>2915.000000</td>\n",
       "      <td>2915.000000</td>\n",
       "    </tr>\n",
       "    <tr>\n",
       "      <th>mean</th>\n",
       "      <td>-0.059021</td>\n",
       "      <td>0.000175</td>\n",
       "      <td>0.065292</td>\n",
       "      <td>0.000131</td>\n",
       "      <td>0.000436</td>\n",
       "      <td>0.627612</td>\n",
       "      <td>0.028928</td>\n",
       "      <td>0.095466</td>\n",
       "      <td>0.214640</td>\n",
       "    </tr>\n",
       "    <tr>\n",
       "      <th>std</th>\n",
       "      <td>0.930332</td>\n",
       "      <td>0.001472</td>\n",
       "      <td>1.079654</td>\n",
       "      <td>0.002753</td>\n",
       "      <td>0.006924</td>\n",
       "      <td>1.188236</td>\n",
       "      <td>1.113209</td>\n",
       "      <td>1.057441</td>\n",
       "      <td>0.447390</td>\n",
       "    </tr>\n",
       "    <tr>\n",
       "      <th>min</th>\n",
       "      <td>-0.500970</td>\n",
       "      <td>-0.006140</td>\n",
       "      <td>-2.443879</td>\n",
       "      <td>-0.036342</td>\n",
       "      <td>-0.043686</td>\n",
       "      <td>-3.927740</td>\n",
       "      <td>-3.323509</td>\n",
       "      <td>-1.218756</td>\n",
       "      <td>0.000000</td>\n",
       "    </tr>\n",
       "    <tr>\n",
       "      <th>25%</th>\n",
       "      <td>-0.442924</td>\n",
       "      <td>-0.000595</td>\n",
       "      <td>-0.649976</td>\n",
       "      <td>0.000000</td>\n",
       "      <td>-0.002610</td>\n",
       "      <td>-0.009547</td>\n",
       "      <td>-0.688276</td>\n",
       "      <td>-0.731324</td>\n",
       "      <td>0.000000</td>\n",
       "    </tr>\n",
       "    <tr>\n",
       "      <th>50%</th>\n",
       "      <td>-0.344290</td>\n",
       "      <td>0.000070</td>\n",
       "      <td>0.087055</td>\n",
       "      <td>0.000000</td>\n",
       "      <td>0.000349</td>\n",
       "      <td>0.399108</td>\n",
       "      <td>0.002476</td>\n",
       "      <td>-0.150509</td>\n",
       "      <td>0.000000</td>\n",
       "    </tr>\n",
       "    <tr>\n",
       "      <th>75%</th>\n",
       "      <td>-0.128492</td>\n",
       "      <td>0.000834</td>\n",
       "      <td>0.768064</td>\n",
       "      <td>0.000000</td>\n",
       "      <td>0.003216</td>\n",
       "      <td>1.151167</td>\n",
       "      <td>0.739804</td>\n",
       "      <td>0.646861</td>\n",
       "      <td>0.177726</td>\n",
       "    </tr>\n",
       "    <tr>\n",
       "      <th>max</th>\n",
       "      <td>4.907223</td>\n",
       "      <td>0.006773</td>\n",
       "      <td>2.534253</td>\n",
       "      <td>0.076588</td>\n",
       "      <td>0.040949</td>\n",
       "      <td>3.927740</td>\n",
       "      <td>3.323509</td>\n",
       "      <td>3.080527</td>\n",
       "      <td>1.886239</td>\n",
       "    </tr>\n",
       "  </tbody>\n",
       "</table>\n",
       "</div>"
      ],
      "text/plain": [
       "       rel2retcfrtxm_pm_1  llirpnxm_pm_1  relvol_pm_1      tr_pm_1  \\\n",
       "count         2915.000000    2915.000000  2915.000000  2915.000000   \n",
       "mean            -0.059021       0.000175     0.065292     0.000131   \n",
       "std              0.930332       0.001472     1.079654     0.002753   \n",
       "min             -0.500970      -0.006140    -2.443879    -0.036342   \n",
       "25%             -0.442924      -0.000595    -0.649976     0.000000   \n",
       "50%             -0.344290       0.000070     0.087055     0.000000   \n",
       "75%             -0.128492       0.000834     0.768064     0.000000   \n",
       "max              4.907223       0.006773     2.534253     0.076588   \n",
       "\n",
       "       rrirpnxm_pm_1  nnetticksrelrrsign_pm_1  nsameticksrelrrsign_pm_1  \\\n",
       "count    2915.000000              2915.000000               2915.000000   \n",
       "mean        0.000436                 0.627612                  0.028928   \n",
       "std         0.006924                 1.188236                  1.113209   \n",
       "min        -0.043686                -3.927740                 -3.323509   \n",
       "25%        -0.002610                -0.009547                 -0.688276   \n",
       "50%         0.000349                 0.399108                  0.002476   \n",
       "75%         0.003216                 1.151167                  0.739804   \n",
       "max         0.040949                 3.927740                  3.323509   \n",
       "\n",
       "       rrretstr_pm_1  relntrds70tr_pm_1  \n",
       "count    2915.000000        2915.000000  \n",
       "mean        0.095466           0.214640  \n",
       "std         1.057441           0.447390  \n",
       "min        -1.218756           0.000000  \n",
       "25%        -0.731324           0.000000  \n",
       "50%        -0.150509           0.000000  \n",
       "75%         0.646861           0.177726  \n",
       "max         3.080527           1.886239  "
      ]
     },
     "execution_count": 1727,
     "metadata": {},
     "output_type": "execute_result"
    }
   ],
   "source": [
    "remove_20191202_stay_20191203_columns = list(TOBE_REMOVED_20191202_1200_COLUMNS_set - TOBE_REMOVED_20191203_1200_COLUMNS_set)\n",
    "data_20191203_1200_df[remove_20191202_stay_20191203_columns].describe()"
   ]
  },
  {
   "cell_type": "code",
   "execution_count": 1728,
   "metadata": {},
   "outputs": [],
   "source": [
    "TOBE_REMOVED_COLUMNS = TOBE_REMOVED_20191202_1200_COLUMNS"
   ]
  },
  {
   "cell_type": "markdown",
   "metadata": {},
   "source": [
    "Since there are variances among those columns, I don't think removing them now benefits the model."
   ]
  },
  {
   "cell_type": "code",
   "execution_count": 1729,
   "metadata": {},
   "outputs": [],
   "source": [
    "data_20191202_1200_working_df = data_20191202_1200_df.drop(TOBE_REMOVED_COLUMNS, axis=COL_AX)\n",
    "data_20191203_1200_working_df = data_20191203_1200_df.drop(TOBE_REMOVED_COLUMNS, axis=COL_AX)"
   ]
  },
  {
   "cell_type": "code",
   "execution_count": 1730,
   "metadata": {},
   "outputs": [],
   "source": [
    "assert set(data_20191203_1200_working_df.columns) == set(data_20191202_1200_working_df.columns)"
   ]
  },
  {
   "cell_type": "code",
   "execution_count": 1731,
   "metadata": {},
   "outputs": [
    {
     "name": "stdout",
     "output_type": "stream",
     "text": [
      "1% negative correlations ranking: [-0.015723667854274332, -0.01967741806603435, -0.021203385402303786, -0.021413152371616444, -0.02155093833759964, -0.02163836569382537, -0.0225021571181047, -0.023071468117029016, -0.023159152657865233, -0.023343377095125212, -0.024276931578257655, -0.024563188978388006, -0.024772137823252095, -0.025041693281809503, -0.02538873260800942, -0.02543909304220645, -0.025811205027254026, -0.025859209450777163, -0.02613362039644677, -0.026339799041727344, -0.026365889998957785, -0.02668191985665629, -0.02671561230328029, -0.026768288418984466, -0.02695185501129509, -0.02715859076413078, -0.02723038638732873, -0.027483550343591456, -0.027947132473239468, -0.028431035353004796, -0.028478755473706305, -0.028867693631344223, -0.02972504590497117, -0.029755800544625198, -0.030299537481567024, -0.03057411824865919, -0.03100852071432065, -0.031021869146968445, -0.03145165486231989, -0.031720495831337445, -0.031727643085943086, -0.031793887370124306, -0.031978681312482674, -0.03224730423560518, -0.03243655461923605, -0.033351606827071625, -0.03339653742575995, -0.03364094013489865, -0.03370708827466783, -0.03420953516050423, -0.03437041914713448, -0.03439674980205966, -0.03457048861323081, -0.03471497617863607, -0.03491764801070397, -0.03531452877348387, -0.035518430341356384, -0.0358176251122852, -0.035983248344278906, -0.03616235178915044, -0.03617507670869466, -0.03628946829603521, -0.03634158853495005, -0.036383342487709025, -0.03650036329194183, -0.03655411889038885, -0.036719961986467375, -0.03699595416055273, -0.03705296772808909, -0.03707807631203047, -0.03714012792613278, -0.03731801566836965, -0.03759705117128494, -0.037683299823285055, -0.03773998241346028, -0.03793055203435752, -0.03891304752678572, -0.03929234791627215, -0.03945443851981734, -0.039554285922659, -0.0395821360949726, -0.039607024756522814, -0.03963415040146008, -0.03977471411533195, -0.04022414388928937, -0.04023243527442391, -0.04059110194070255, -0.04099335801684685, -0.04120563209988961, -0.041391405839830066, -0.04156804887331134, -0.04173395910483648, -0.041788280419789464, -0.04181100655617251, -0.041959201300921414, -0.04206607909805397, -0.04219759396503215, -0.04251290541569308, -0.04258339540362121, -0.04289631979769547, -0.042910979099244635, -0.04311078641643804, -0.043110836466199974, -0.0433883178432375, -0.04347599173639923, -0.04347862871910687, -0.04358129505171904, -0.043741265967628444, -0.044089957649248654, -0.044140399738455516, -0.044418384115768296, -0.04455008892592818, -0.044646271152921746, -0.04558248869853841, -0.04576063590297045, -0.045793867615283014, -0.045882691466726924, -0.04625471958028463, -0.046362383928228945, -0.04645447393108209, -0.046629491292067844, -0.046842539260527304, -0.04720320312445615, -0.04773247826539895, -0.04837795494093656, -0.048435213465283955, -0.0485825356982658, -0.048591819838168356, -0.04863517567285847, -0.04903482542743095, -0.049327896943906546, -0.049871031123514965, -0.05011974981613832, -0.050183365637119594, -0.05109244211199746, -0.05157368017600573, -0.052686922188458184, -0.05278351287025787, -0.05288523368591046, -0.05293266745890906, -0.05298284036079884, -0.05334779895776572, -0.05341603955449037, -0.05460058503693798, -0.05481617832353299, -0.054864529923304345, -0.054917178724251225, -0.055409226522536846, -0.05547410293482975, -0.05551437357657597, -0.0557495649142134, -0.055830557062906974, -0.05610407612506309, -0.056287928256290864, -0.05657094333133337, -0.056852177482811836, -0.05687838653009523, -0.05700155985588524, -0.05710166835868176, -0.05718505573737539, -0.05752148323339217, -0.057771341289921466, -0.05786411043366379, -0.05822904548616318, -0.05850744541863353, -0.058593204808474235, -0.05866929589556304, -0.05882929831691645, -0.0596099840321714, -0.060204120828111475, -0.060352966012512485, -0.06060784945980742, -0.06068384080801625, -0.061069128239503535, -0.061076034573519754, -0.06117579162277283, -0.06133103622892234, -0.06165312195153302, -0.06194362351322245, -0.062176160682537805, -0.06301428076901826, -0.06309845210070308, -0.0633572882776333, -0.06385344587384849, -0.06413522599991141, -0.06439723467638048, -0.06563220162246323, -0.06573929751977037, -0.06582971434971222, -0.0658696827158306, -0.0662698257361602, -0.0664711470526481, -0.06719829869628488, -0.06768704386136126, -0.06825992767668429, -0.06850383895299744, -0.07007055286252831, -0.0702729010512197, -0.07056451875912749, -0.0712571550466082, -0.07175863476807672, -0.07289643528668502, -0.07358033552870064, -0.0744497688608781, -0.07545181910065567, -0.07647386090591266, -0.07847049098807556, -0.07983999114745291, -0.08123739486447218, -0.08297133231703778, -0.08416781991773442, -0.08586549024549747, -0.0863135458975558, -0.08680539262928887, -0.08791422146782409, -0.08981761244067103, -0.09581457392863471, -0.10000001572468852, -0.1002301294383251, -0.10092815881328034, -0.11131193757520391, -0.12343255953621163, -0.12408051039397035, -0.13261606920786234, -0.13653785232673277, -0.14103754333519122, -0.14804720706665978, -0.15159748944059206, -0.17222800946014546, -0.18444323645392652, -0.19711688514022319, -0.22383753995591216, -0.23175408936875436, -0.30599722354974124]\n",
      "99% negative correlations ranking: [0.3814615511206322, 0.3633194191850764, 0.3585261295913061, 0.34250686979685846, 0.3378714011544576, 0.3357240411154904, 0.32944288782684544, 0.31596506909165933, 0.31561504931833256, 0.3154675816371214, 0.31192329038675654, 0.30737390800262004, 0.3012370999220492, 0.29865813515630324, 0.29582619879139177, 0.2943929683987687, 0.29430227940138404, 0.29158333655359675, 0.2907947049574886, 0.29068121823154275, 0.2844334900548098, 0.27559822215042595, 0.2721038286411731, 0.2703302331785415, 0.26488328885564427, 0.2634137772566842, 0.2561838718388965, 0.24671298705176417, 0.24535369880249094, 0.24152278734352062, 0.24065977639777933, 0.23240298154522968, 0.23178040984140735, 0.22796851184696137, 0.22513108117229363, 0.22446730257444927, 0.22362596151470293, 0.21450327240951153, 0.21004561406328337, 0.21000183966363675, 0.19837859461880092, 0.1983558444481129, 0.19762898397883144, 0.19668052477004858, 0.18918387730002256, 0.18365293260878915, 0.18030722087858495, 0.17351013429466308, 0.17272392376114798, 0.1712630618964629, 0.16997315892608006, 0.1666398161377688, 0.16431009319800854, 0.16286277471678215, 0.15133415327224034, 0.1495641842733805, 0.147822159703167, 0.14527200895738052, 0.14354193195213674, 0.1426983653834044, 0.14087978200853477, 0.14007818387844437, 0.135782257681135, 0.13554588214854, 0.1346125375953358, 0.1343782715480317, 0.13268086153954214, 0.13132179966099106, 0.12957552729394517, 0.12846202920405028, 0.12822081828018467, 0.12571164726153514, 0.12471431142120624, 0.12373406133775136, 0.11920323903431641, 0.1171941909182587, 0.11713432675513766, 0.11277383168738397, 0.112618436333608, 0.11171076298850031, 0.11079653195983022, 0.10815360962594797, 0.10746752037057335, 0.10521096652279568, 0.10475030959889298, 0.1041287312262722, 0.09934570375067454, 0.09807305309134115, 0.09671245826943382, 0.09436571272216729, 0.09323147515293749, 0.09231621710970783, 0.09098018945519287, 0.09022125911085008, 0.09012206950896112, 0.0888175567425694, 0.0861691124229701, 0.08603697709837674, 0.08570932663833349, 0.08430759763705158, 0.08394314054853749, 0.08365224038448833, 0.08362006290233073, 0.08207223113004666, 0.08154089626637633, 0.0814144388005219, 0.08083225922745156, 0.080456777158014, 0.07937127076548761, 0.07749112388134383, 0.0765039419238694, 0.0755529665606766, 0.07554657024671323, 0.07547055669272264, 0.07475831156684895, 0.07472640477433305, 0.07465132083455997, 0.07458600274056643, 0.07278881055080098, 0.07232146047558714, 0.07166311202217496, 0.06995875879541788, 0.06812803518939799, 0.06796668853704427, 0.06746687452745843, 0.06693447942675572, 0.06663549792005857, 0.06639163163959955, 0.0660409164628605, 0.0659297520152421, 0.0646862924578152, 0.06434478521265882, 0.06396447083778087, 0.06301585881240956, 0.0627730385955725, 0.06261639311419319, 0.0624541101759274, 0.061842942727221524, 0.06163527669058976, 0.05987364878777813, 0.059694013731163884, 0.0595475110326396, 0.059320030193784776, 0.05910769476166786, 0.05805812924509108, 0.05736405357901426, 0.057348831194410595, 0.057316064328217634, 0.05725185694113838, 0.05691979805975374, 0.0566821743627116, 0.05653802457209175, 0.05505118377878422, 0.05449684518654228, 0.05446279548959145, 0.05438850754073711, 0.05381671532536698, 0.05380089055342876, 0.05327220475229196, 0.0525154191615948, 0.052205503562897805, 0.05217347072894009, 0.051662753950331146, 0.050876674014613446, 0.050773130104779816, 0.05068205911360814, 0.04996342822994589, 0.04956734847665472, 0.049439960771111305, 0.04905449604058821, 0.048978063048688764, 0.04881503807612714, 0.04878712337131577, 0.04822568262602567, 0.04788071762110912, 0.04744332009609318, 0.04724405188131712, 0.047213724033911816, 0.046862723881657124, 0.04683639914279533, 0.046648831989153684, 0.04659487401839154, 0.04659295268700513, 0.04541850432608606, 0.04537517015169521, 0.045298146698795165, 0.04509643057368122, 0.04507619490230663, 0.044726452235803155, 0.0445590553374142, 0.04400060458768983, 0.043869628939409946, 0.04264009770972315, 0.0422644799298488, 0.04225263435662326, 0.041981544777978386, 0.04186202558447913, 0.04172964264694636, 0.04146834618345079, 0.04117816760277292, 0.04101498185578973, 0.040782375979298624, 0.04045250890438239, 0.040306807007166656, 0.040259974624058927, 0.03984479979832922, 0.039337818107694766, 0.03822141048214366, 0.037263966254795285, 0.03644324097919698, 0.03633609471294398, 0.03566986160590406, 0.035623338568461414, 0.03530635070586214, 0.03465854466800798, 0.03452801386067248, 0.03400637714261462, 0.032838761129438156, 0.03273260657725705, 0.032718619904854765, 0.032314770436722075, 0.0320926866657327, 0.031581367489089435, 0.02977716077953836, 0.029213203177058826, 0.028284554224605234, 0.027661574794068503, 0.0275571440194923, 0.027006271323504746, 0.02636498964802077, 0.02588638709701269, 0.025003937280067133, 0.023892959522727596, 0.019120051400570926]\n"
     ]
    },
    {
     "data": {
      "text/html": [
       "<div>\n",
       "<style scoped>\n",
       "    .dataframe tbody tr th:only-of-type {\n",
       "        vertical-align: middle;\n",
       "    }\n",
       "\n",
       "    .dataframe tbody tr th {\n",
       "        vertical-align: top;\n",
       "    }\n",
       "\n",
       "    .dataframe thead th {\n",
       "        text-align: right;\n",
       "    }\n",
       "</style>\n",
       "<table border=\"1\" class=\"dataframe\">\n",
       "  <thead>\n",
       "    <tr style=\"text-align: right;\">\n",
       "      <th></th>\n",
       "      <th>wt</th>\n",
       "      <th>today</th>\n",
       "      <th>tonight</th>\n",
       "      <th>tmwam</th>\n",
       "      <th>dn3sttmwmd</th>\n",
       "      <th>dn1</th>\n",
       "      <th>dn4x1</th>\n",
       "      <th>cftorrrelstd_open_0</th>\n",
       "      <th>liqlog_open_0</th>\n",
       "      <th>llirpnxm_am_1</th>\n",
       "      <th>...</th>\n",
       "      <th>tr_lsthrx15_0</th>\n",
       "      <th>tr_md_1</th>\n",
       "      <th>tr_nt_0</th>\n",
       "      <th>tr_nt_1</th>\n",
       "      <th>tr_nt_12to16</th>\n",
       "      <th>tr_nt_17to21</th>\n",
       "      <th>tr_nt_1to3</th>\n",
       "      <th>tr_nt_4to6</th>\n",
       "      <th>tr_nt_7to11</th>\n",
       "      <th>tr_toxhr_0</th>\n",
       "    </tr>\n",
       "  </thead>\n",
       "  <tbody>\n",
       "    <tr>\n",
       "      <th>count</th>\n",
       "      <td>234.000000</td>\n",
       "      <td>234.000000</td>\n",
       "      <td>234.000000</td>\n",
       "      <td>234.000000</td>\n",
       "      <td>234.000000</td>\n",
       "      <td>234.000000</td>\n",
       "      <td>234.000000</td>\n",
       "      <td>234.000000</td>\n",
       "      <td>234.000000</td>\n",
       "      <td>234.000000</td>\n",
       "      <td>...</td>\n",
       "      <td>234.000000</td>\n",
       "      <td>234.000000</td>\n",
       "      <td>234.000000</td>\n",
       "      <td>234.000000</td>\n",
       "      <td>234.000000</td>\n",
       "      <td>234.000000</td>\n",
       "      <td>234.000000</td>\n",
       "      <td>234.000000</td>\n",
       "      <td>234.000000</td>\n",
       "      <td>234.000000</td>\n",
       "    </tr>\n",
       "    <tr>\n",
       "      <th>mean</th>\n",
       "      <td>0.005605</td>\n",
       "      <td>0.010243</td>\n",
       "      <td>0.004902</td>\n",
       "      <td>0.012930</td>\n",
       "      <td>-0.009600</td>\n",
       "      <td>0.017133</td>\n",
       "      <td>-0.011608</td>\n",
       "      <td>0.000806</td>\n",
       "      <td>-0.000977</td>\n",
       "      <td>0.016243</td>\n",
       "      <td>...</td>\n",
       "      <td>-0.000578</td>\n",
       "      <td>0.028329</td>\n",
       "      <td>0.021589</td>\n",
       "      <td>0.043115</td>\n",
       "      <td>0.001498</td>\n",
       "      <td>0.007794</td>\n",
       "      <td>0.021698</td>\n",
       "      <td>0.016670</td>\n",
       "      <td>0.007666</td>\n",
       "      <td>0.001119</td>\n",
       "    </tr>\n",
       "    <tr>\n",
       "      <th>std</th>\n",
       "      <td>0.142153</td>\n",
       "      <td>0.082554</td>\n",
       "      <td>0.090547</td>\n",
       "      <td>0.075742</td>\n",
       "      <td>0.102808</td>\n",
       "      <td>0.101470</td>\n",
       "      <td>0.104703</td>\n",
       "      <td>0.135452</td>\n",
       "      <td>0.147653</td>\n",
       "      <td>0.094654</td>\n",
       "      <td>...</td>\n",
       "      <td>0.085847</td>\n",
       "      <td>0.085189</td>\n",
       "      <td>0.076074</td>\n",
       "      <td>0.100692</td>\n",
       "      <td>0.079447</td>\n",
       "      <td>0.076603</td>\n",
       "      <td>0.084620</td>\n",
       "      <td>0.076567</td>\n",
       "      <td>0.077065</td>\n",
       "      <td>0.076330</td>\n",
       "    </tr>\n",
       "    <tr>\n",
       "      <th>min</th>\n",
       "      <td>-0.331089</td>\n",
       "      <td>-0.135888</td>\n",
       "      <td>-0.176162</td>\n",
       "      <td>-0.054034</td>\n",
       "      <td>-0.147176</td>\n",
       "      <td>-0.205854</td>\n",
       "      <td>-0.205854</td>\n",
       "      <td>-0.573587</td>\n",
       "      <td>-0.326894</td>\n",
       "      <td>-0.114293</td>\n",
       "      <td>...</td>\n",
       "      <td>-0.397774</td>\n",
       "      <td>-0.112370</td>\n",
       "      <td>-0.106328</td>\n",
       "      <td>-0.108571</td>\n",
       "      <td>-0.077013</td>\n",
       "      <td>-0.070064</td>\n",
       "      <td>-0.088120</td>\n",
       "      <td>-0.066021</td>\n",
       "      <td>-0.065866</td>\n",
       "      <td>-0.110248</td>\n",
       "    </tr>\n",
       "    <tr>\n",
       "      <th>25%</th>\n",
       "      <td>-0.053518</td>\n",
       "      <td>-0.017335</td>\n",
       "      <td>-0.024882</td>\n",
       "      <td>-0.010458</td>\n",
       "      <td>-0.045984</td>\n",
       "      <td>-0.017772</td>\n",
       "      <td>-0.049423</td>\n",
       "      <td>-0.069602</td>\n",
       "      <td>-0.067511</td>\n",
       "      <td>-0.022396</td>\n",
       "      <td>...</td>\n",
       "      <td>-0.024177</td>\n",
       "      <td>-0.012194</td>\n",
       "      <td>-0.004275</td>\n",
       "      <td>-0.009028</td>\n",
       "      <td>-0.024033</td>\n",
       "      <td>-0.012684</td>\n",
       "      <td>-0.008993</td>\n",
       "      <td>-0.008473</td>\n",
       "      <td>-0.015112</td>\n",
       "      <td>-0.020682</td>\n",
       "    </tr>\n",
       "    <tr>\n",
       "      <th>50%</th>\n",
       "      <td>-0.007554</td>\n",
       "      <td>0.005396</td>\n",
       "      <td>0.002039</td>\n",
       "      <td>0.007041</td>\n",
       "      <td>-0.015835</td>\n",
       "      <td>0.008598</td>\n",
       "      <td>-0.018656</td>\n",
       "      <td>-0.015880</td>\n",
       "      <td>-0.006874</td>\n",
       "      <td>0.004661</td>\n",
       "      <td>...</td>\n",
       "      <td>-0.003207</td>\n",
       "      <td>0.014824</td>\n",
       "      <td>0.015916</td>\n",
       "      <td>0.023563</td>\n",
       "      <td>-0.008635</td>\n",
       "      <td>-0.000070</td>\n",
       "      <td>0.008212</td>\n",
       "      <td>0.006469</td>\n",
       "      <td>-0.000312</td>\n",
       "      <td>-0.001980</td>\n",
       "    </tr>\n",
       "    <tr>\n",
       "      <th>75%</th>\n",
       "      <td>0.054009</td>\n",
       "      <td>0.027448</td>\n",
       "      <td>0.024110</td>\n",
       "      <td>0.024353</td>\n",
       "      <td>0.009747</td>\n",
       "      <td>0.037713</td>\n",
       "      <td>0.008564</td>\n",
       "      <td>0.046785</td>\n",
       "      <td>0.063204</td>\n",
       "      <td>0.036062</td>\n",
       "      <td>...</td>\n",
       "      <td>0.013661</td>\n",
       "      <td>0.051530</td>\n",
       "      <td>0.035576</td>\n",
       "      <td>0.066557</td>\n",
       "      <td>0.010156</td>\n",
       "      <td>0.014114</td>\n",
       "      <td>0.030966</td>\n",
       "      <td>0.027635</td>\n",
       "      <td>0.015052</td>\n",
       "      <td>0.011589</td>\n",
       "    </tr>\n",
       "    <tr>\n",
       "      <th>max</th>\n",
       "      <td>1.000000</td>\n",
       "      <td>1.000000</td>\n",
       "      <td>1.000000</td>\n",
       "      <td>1.000000</td>\n",
       "      <td>1.000000</td>\n",
       "      <td>1.000000</td>\n",
       "      <td>1.000000</td>\n",
       "      <td>1.000000</td>\n",
       "      <td>1.000000</td>\n",
       "      <td>1.000000</td>\n",
       "      <td>...</td>\n",
       "      <td>1.000000</td>\n",
       "      <td>1.000000</td>\n",
       "      <td>1.000000</td>\n",
       "      <td>1.000000</td>\n",
       "      <td>1.000000</td>\n",
       "      <td>1.000000</td>\n",
       "      <td>1.000000</td>\n",
       "      <td>1.000000</td>\n",
       "      <td>1.000000</td>\n",
       "      <td>1.000000</td>\n",
       "    </tr>\n",
       "  </tbody>\n",
       "</table>\n",
       "<p>8 rows × 234 columns</p>\n",
       "</div>"
      ],
      "text/plain": [
       "               wt       today     tonight       tmwam  dn3sttmwmd         dn1  \\\n",
       "count  234.000000  234.000000  234.000000  234.000000  234.000000  234.000000   \n",
       "mean     0.005605    0.010243    0.004902    0.012930   -0.009600    0.017133   \n",
       "std      0.142153    0.082554    0.090547    0.075742    0.102808    0.101470   \n",
       "min     -0.331089   -0.135888   -0.176162   -0.054034   -0.147176   -0.205854   \n",
       "25%     -0.053518   -0.017335   -0.024882   -0.010458   -0.045984   -0.017772   \n",
       "50%     -0.007554    0.005396    0.002039    0.007041   -0.015835    0.008598   \n",
       "75%      0.054009    0.027448    0.024110    0.024353    0.009747    0.037713   \n",
       "max      1.000000    1.000000    1.000000    1.000000    1.000000    1.000000   \n",
       "\n",
       "            dn4x1  cftorrrelstd_open_0  liqlog_open_0  llirpnxm_am_1  ...  \\\n",
       "count  234.000000           234.000000     234.000000     234.000000  ...   \n",
       "mean    -0.011608             0.000806      -0.000977       0.016243  ...   \n",
       "std      0.104703             0.135452       0.147653       0.094654  ...   \n",
       "min     -0.205854            -0.573587      -0.326894      -0.114293  ...   \n",
       "25%     -0.049423            -0.069602      -0.067511      -0.022396  ...   \n",
       "50%     -0.018656            -0.015880      -0.006874       0.004661  ...   \n",
       "75%      0.008564             0.046785       0.063204       0.036062  ...   \n",
       "max      1.000000             1.000000       1.000000       1.000000  ...   \n",
       "\n",
       "       tr_lsthrx15_0     tr_md_1     tr_nt_0     tr_nt_1  tr_nt_12to16  \\\n",
       "count     234.000000  234.000000  234.000000  234.000000    234.000000   \n",
       "mean       -0.000578    0.028329    0.021589    0.043115      0.001498   \n",
       "std         0.085847    0.085189    0.076074    0.100692      0.079447   \n",
       "min        -0.397774   -0.112370   -0.106328   -0.108571     -0.077013   \n",
       "25%        -0.024177   -0.012194   -0.004275   -0.009028     -0.024033   \n",
       "50%        -0.003207    0.014824    0.015916    0.023563     -0.008635   \n",
       "75%         0.013661    0.051530    0.035576    0.066557      0.010156   \n",
       "max         1.000000    1.000000    1.000000    1.000000      1.000000   \n",
       "\n",
       "       tr_nt_17to21  tr_nt_1to3  tr_nt_4to6  tr_nt_7to11  tr_toxhr_0  \n",
       "count    234.000000  234.000000  234.000000   234.000000  234.000000  \n",
       "mean       0.007794    0.021698    0.016670     0.007666    0.001119  \n",
       "std        0.076603    0.084620    0.076567     0.077065    0.076330  \n",
       "min       -0.070064   -0.088120   -0.066021    -0.065866   -0.110248  \n",
       "25%       -0.012684   -0.008993   -0.008473    -0.015112   -0.020682  \n",
       "50%       -0.000070    0.008212    0.006469    -0.000312   -0.001980  \n",
       "75%        0.014114    0.030966    0.027635     0.015052    0.011589  \n",
       "max        1.000000    1.000000    1.000000     1.000000    1.000000  \n",
       "\n",
       "[8 rows x 234 columns]"
      ]
     },
     "execution_count": 1731,
     "metadata": {},
     "output_type": "execute_result"
    }
   ],
   "source": [
    "print(f\"1% negative correlations ranking: {sorted(data_20191202_1200_working_df.corr().quantile(0.1), reverse=True)}\")\n",
    "print(f\"99% negative correlations ranking: {sorted(data_20191202_1200_working_df.corr().quantile(0.9), reverse=True)}\")\n",
    "data_20191202_1200_working_df.corr().describe()"
   ]
  },
  {
   "cell_type": "code",
   "execution_count": 1732,
   "metadata": {},
   "outputs": [],
   "source": [
    "training_predictors_df = data_20191202_1200_working_df.copy()\n",
    "testing_predictors_df = data_20191203_1200_working_df.copy()"
   ]
  },
  {
   "cell_type": "code",
   "execution_count": 1733,
   "metadata": {},
   "outputs": [
    {
     "data": {
      "text/plain": [
       "[3.5999999999999996, 0.6732191627416693]"
      ]
     },
     "execution_count": 1733,
     "metadata": {},
     "output_type": "execute_result"
    }
   ],
   "source": [
    "sorted(training_predictors_df.quantile(0.25) / training_predictors_df.quantile(0.01), reverse=True)[:2]"
   ]
  },
  {
   "cell_type": "code",
   "execution_count": 1734,
   "metadata": {},
   "outputs": [
    {
     "data": {
      "text/plain": [
       "[45.058525418022505, 40.858359303391275]"
      ]
     },
     "execution_count": 1734,
     "metadata": {},
     "output_type": "execute_result"
    }
   ],
   "source": [
    "sorted(training_predictors_df.quantile(0.99) / training_predictors_df.quantile(0.75), reverse=True)[:2]"
   ]
  },
  {
   "cell_type": "code",
   "execution_count": 1735,
   "metadata": {},
   "outputs": [
    {
     "data": {
      "text/plain": [
       "(array([  1.,   0.,   0.,   1.,   0.,   0.,   0.,   0.,   0.,   0.,   0.,\n",
       "          0.,   0.,   0.,   1.,   1.,   2.,   0.,   1.,   1.,   0.,   1.,\n",
       "          0.,   1.,   2.,   0.,   3.,   1.,   3.,   0.,   4.,   1.,   2.,\n",
       "          2.,   4.,   6.,   8.,  10.,  12.,   5.,  12.,  18.,  20.,  26.,\n",
       "         28.,  45.,  40.,  62.,  72.,  88., 126., 129., 173., 216., 229.,\n",
       "        262., 242., 186., 165., 136., 120.,  75.,  73.,  44.,  35.,  37.,\n",
       "         33.,  17.,  18.,  18.,   8.,   5.,   8.,   6.,  13.,   5.,   6.,\n",
       "          7.,   3.,   4.,   5.,   6.,   3.,   0.,   1.,   1.,   1.,   1.,\n",
       "          0.,   2.,   0.,   0.,   1.,   1.,   0.,   1.,   1.,   0.,   1.,\n",
       "          2.]),\n",
       " array([-6.563500e-02, -6.446313e-02, -6.329126e-02, -6.211939e-02,\n",
       "        -6.094752e-02, -5.977565e-02, -5.860378e-02, -5.743191e-02,\n",
       "        -5.626004e-02, -5.508817e-02, -5.391630e-02, -5.274443e-02,\n",
       "        -5.157256e-02, -5.040069e-02, -4.922882e-02, -4.805695e-02,\n",
       "        -4.688508e-02, -4.571321e-02, -4.454134e-02, -4.336947e-02,\n",
       "        -4.219760e-02, -4.102573e-02, -3.985386e-02, -3.868199e-02,\n",
       "        -3.751012e-02, -3.633825e-02, -3.516638e-02, -3.399451e-02,\n",
       "        -3.282264e-02, -3.165077e-02, -3.047890e-02, -2.930703e-02,\n",
       "        -2.813516e-02, -2.696329e-02, -2.579142e-02, -2.461955e-02,\n",
       "        -2.344768e-02, -2.227581e-02, -2.110394e-02, -1.993207e-02,\n",
       "        -1.876020e-02, -1.758833e-02, -1.641646e-02, -1.524459e-02,\n",
       "        -1.407272e-02, -1.290085e-02, -1.172898e-02, -1.055711e-02,\n",
       "        -9.385240e-03, -8.213370e-03, -7.041500e-03, -5.869630e-03,\n",
       "        -4.697760e-03, -3.525890e-03, -2.354020e-03, -1.182150e-03,\n",
       "        -1.028000e-05,  1.161590e-03,  2.333460e-03,  3.505330e-03,\n",
       "         4.677200e-03,  5.849070e-03,  7.020940e-03,  8.192810e-03,\n",
       "         9.364680e-03,  1.053655e-02,  1.170842e-02,  1.288029e-02,\n",
       "         1.405216e-02,  1.522403e-02,  1.639590e-02,  1.756777e-02,\n",
       "         1.873964e-02,  1.991151e-02,  2.108338e-02,  2.225525e-02,\n",
       "         2.342712e-02,  2.459899e-02,  2.577086e-02,  2.694273e-02,\n",
       "         2.811460e-02,  2.928647e-02,  3.045834e-02,  3.163021e-02,\n",
       "         3.280208e-02,  3.397395e-02,  3.514582e-02,  3.631769e-02,\n",
       "         3.748956e-02,  3.866143e-02,  3.983330e-02,  4.100517e-02,\n",
       "         4.217704e-02,  4.334891e-02,  4.452078e-02,  4.569265e-02,\n",
       "         4.686452e-02,  4.803639e-02,  4.920826e-02,  5.038013e-02,\n",
       "         5.155200e-02]),\n",
       " <BarContainer object of 100 artists>)"
      ]
     },
     "execution_count": 1735,
     "metadata": {},
     "output_type": "execute_result"
    },
    {
     "data": {
      "image/png": "[encoded data removed]",
      "text/plain": [
       "<Figure size 640x480 with 1 Axes>"
      ]
     },
     "metadata": {},
     "output_type": "display_data"
    }
   ],
   "source": [
    "plt.hist(training_responses, bins=100)"
   ]
  },
  {
   "cell_type": "markdown",
   "metadata": {},
   "source": [
    "##### Detect influential points"
   ]
  },
  {
   "cell_type": "markdown",
   "metadata": {},
   "source": [
    "I will use Mahalanobis distance, which computes distances from the data's centre and create an oval boundary."
   ]
  },
  {
   "cell_type": "code",
   "execution_count": 1736,
   "metadata": {},
   "outputs": [],
   "source": [
    "mean_vector = np.mean(training_predictors_df, axis=0)\n",
    "cov_matrix = np.cov(training_predictors_df, rowvar=False)\n",
    "inv_cov_matrix = np.linalg.inv(cov_matrix)"
   ]
  },
  {
   "cell_type": "code",
   "execution_count": 1737,
   "metadata": {},
   "outputs": [],
   "source": [
    "mahalanobis_distances = []\n",
    "for index, row in training_predictors_df.iterrows():\n",
    "    mahalanobis_distance = scipy.spatial.distance.mahalanobis(row, mean_vector, inv_cov_matrix)\n",
    "    mahalanobis_distances.append(mahalanobis_distance)"
   ]
  },
  {
   "cell_type": "code",
   "execution_count": 1738,
   "metadata": {},
   "outputs": [
    {
     "data": {
      "text/html": [
       "<div>\n",
       "<style scoped>\n",
       "    .dataframe tbody tr th:only-of-type {\n",
       "        vertical-align: middle;\n",
       "    }\n",
       "\n",
       "    .dataframe tbody tr th {\n",
       "        vertical-align: top;\n",
       "    }\n",
       "\n",
       "    .dataframe thead th {\n",
       "        text-align: right;\n",
       "    }\n",
       "</style>\n",
       "<table border=\"1\" class=\"dataframe\">\n",
       "  <thead>\n",
       "    <tr style=\"text-align: right;\">\n",
       "      <th></th>\n",
       "      <th>wt</th>\n",
       "      <th>today</th>\n",
       "      <th>tonight</th>\n",
       "      <th>tmwam</th>\n",
       "      <th>dn3sttmwmd</th>\n",
       "      <th>dn1</th>\n",
       "      <th>dn4x1</th>\n",
       "      <th>cftorrrelstd_open_0</th>\n",
       "      <th>liqlog_open_0</th>\n",
       "      <th>llirpnxm_am_1</th>\n",
       "      <th>...</th>\n",
       "      <th>tr_md_1</th>\n",
       "      <th>tr_nt_0</th>\n",
       "      <th>tr_nt_1</th>\n",
       "      <th>tr_nt_12to16</th>\n",
       "      <th>tr_nt_17to21</th>\n",
       "      <th>tr_nt_1to3</th>\n",
       "      <th>tr_nt_4to6</th>\n",
       "      <th>tr_nt_7to11</th>\n",
       "      <th>tr_toxhr_0</th>\n",
       "      <th>mahalanobis_dist</th>\n",
       "    </tr>\n",
       "  </thead>\n",
       "  <tbody>\n",
       "    <tr>\n",
       "      <th>0</th>\n",
       "      <td>0.000594</td>\n",
       "      <td>-0.016720</td>\n",
       "      <td>-0.015436</td>\n",
       "      <td>-0.002487</td>\n",
       "      <td>0.011511</td>\n",
       "      <td>-0.038052</td>\n",
       "      <td>0.025530</td>\n",
       "      <td>0.231635</td>\n",
       "      <td>-0.065247</td>\n",
       "      <td>0.002597</td>\n",
       "      <td>...</td>\n",
       "      <td>0.0</td>\n",
       "      <td>0.0</td>\n",
       "      <td>0.0</td>\n",
       "      <td>0.0</td>\n",
       "      <td>0.000000</td>\n",
       "      <td>0.0</td>\n",
       "      <td>0.0</td>\n",
       "      <td>0.000000</td>\n",
       "      <td>0.0</td>\n",
       "      <td>10.671336</td>\n",
       "    </tr>\n",
       "    <tr>\n",
       "      <th>1</th>\n",
       "      <td>0.001446</td>\n",
       "      <td>0.001475</td>\n",
       "      <td>-0.007683</td>\n",
       "      <td>-0.001346</td>\n",
       "      <td>0.027832</td>\n",
       "      <td>-0.006712</td>\n",
       "      <td>0.029269</td>\n",
       "      <td>-0.482915</td>\n",
       "      <td>1.571073</td>\n",
       "      <td>-0.000055</td>\n",
       "      <td>...</td>\n",
       "      <td>0.0</td>\n",
       "      <td>0.0</td>\n",
       "      <td>0.0</td>\n",
       "      <td>0.0</td>\n",
       "      <td>0.000000</td>\n",
       "      <td>0.0</td>\n",
       "      <td>0.0</td>\n",
       "      <td>0.000000</td>\n",
       "      <td>0.0</td>\n",
       "      <td>10.792084</td>\n",
       "    </tr>\n",
       "    <tr>\n",
       "      <th>2</th>\n",
       "      <td>0.000069</td>\n",
       "      <td>-0.019774</td>\n",
       "      <td>-0.013203</td>\n",
       "      <td>-0.003210</td>\n",
       "      <td>-0.001507</td>\n",
       "      <td>-0.040861</td>\n",
       "      <td>0.005203</td>\n",
       "      <td>0.165615</td>\n",
       "      <td>-2.223915</td>\n",
       "      <td>0.000659</td>\n",
       "      <td>...</td>\n",
       "      <td>0.0</td>\n",
       "      <td>0.0</td>\n",
       "      <td>0.0</td>\n",
       "      <td>0.0</td>\n",
       "      <td>0.000000</td>\n",
       "      <td>0.0</td>\n",
       "      <td>0.0</td>\n",
       "      <td>0.000000</td>\n",
       "      <td>0.0</td>\n",
       "      <td>12.353677</td>\n",
       "    </tr>\n",
       "    <tr>\n",
       "      <th>3</th>\n",
       "      <td>0.000120</td>\n",
       "      <td>-0.000934</td>\n",
       "      <td>-0.002772</td>\n",
       "      <td>-0.000651</td>\n",
       "      <td>0.005818</td>\n",
       "      <td>-0.004393</td>\n",
       "      <td>0.006443</td>\n",
       "      <td>-1.229984</td>\n",
       "      <td>-1.670970</td>\n",
       "      <td>-0.000372</td>\n",
       "      <td>...</td>\n",
       "      <td>0.0</td>\n",
       "      <td>0.0</td>\n",
       "      <td>0.0</td>\n",
       "      <td>0.0</td>\n",
       "      <td>0.000000</td>\n",
       "      <td>0.0</td>\n",
       "      <td>0.0</td>\n",
       "      <td>0.000000</td>\n",
       "      <td>0.0</td>\n",
       "      <td>12.362570</td>\n",
       "    </tr>\n",
       "    <tr>\n",
       "      <th>4</th>\n",
       "      <td>0.000892</td>\n",
       "      <td>0.004249</td>\n",
       "      <td>0.002662</td>\n",
       "      <td>-0.000931</td>\n",
       "      <td>-0.034163</td>\n",
       "      <td>0.007955</td>\n",
       "      <td>-0.037853</td>\n",
       "      <td>-1.326470</td>\n",
       "      <td>0.342333</td>\n",
       "      <td>-0.000857</td>\n",
       "      <td>...</td>\n",
       "      <td>0.0</td>\n",
       "      <td>0.0</td>\n",
       "      <td>0.0</td>\n",
       "      <td>0.0</td>\n",
       "      <td>0.012116</td>\n",
       "      <td>0.0</td>\n",
       "      <td>0.0</td>\n",
       "      <td>-0.055974</td>\n",
       "      <td>0.0</td>\n",
       "      <td>15.332916</td>\n",
       "    </tr>\n",
       "  </tbody>\n",
       "</table>\n",
       "<p>5 rows × 235 columns</p>\n",
       "</div>"
      ],
      "text/plain": [
       "         wt     today   tonight     tmwam  dn3sttmwmd       dn1     dn4x1  \\\n",
       "0  0.000594 -0.016720 -0.015436 -0.002487    0.011511 -0.038052  0.025530   \n",
       "1  0.001446  0.001475 -0.007683 -0.001346    0.027832 -0.006712  0.029269   \n",
       "2  0.000069 -0.019774 -0.013203 -0.003210   -0.001507 -0.040861  0.005203   \n",
       "3  0.000120 -0.000934 -0.002772 -0.000651    0.005818 -0.004393  0.006443   \n",
       "4  0.000892  0.004249  0.002662 -0.000931   -0.034163  0.007955 -0.037853   \n",
       "\n",
       "   cftorrrelstd_open_0  liqlog_open_0  llirpnxm_am_1  ...  tr_md_1  tr_nt_0  \\\n",
       "0             0.231635      -0.065247       0.002597  ...      0.0      0.0   \n",
       "1            -0.482915       1.571073      -0.000055  ...      0.0      0.0   \n",
       "2             0.165615      -2.223915       0.000659  ...      0.0      0.0   \n",
       "3            -1.229984      -1.670970      -0.000372  ...      0.0      0.0   \n",
       "4            -1.326470       0.342333      -0.000857  ...      0.0      0.0   \n",
       "\n",
       "   tr_nt_1  tr_nt_12to16  tr_nt_17to21  tr_nt_1to3  tr_nt_4to6  tr_nt_7to11  \\\n",
       "0      0.0           0.0      0.000000         0.0         0.0     0.000000   \n",
       "1      0.0           0.0      0.000000         0.0         0.0     0.000000   \n",
       "2      0.0           0.0      0.000000         0.0         0.0     0.000000   \n",
       "3      0.0           0.0      0.000000         0.0         0.0     0.000000   \n",
       "4      0.0           0.0      0.012116         0.0         0.0    -0.055974   \n",
       "\n",
       "   tr_toxhr_0  mahalanobis_dist  \n",
       "0         0.0         10.671336  \n",
       "1         0.0         10.792084  \n",
       "2         0.0         12.353677  \n",
       "3         0.0         12.362570  \n",
       "4         0.0         15.332916  \n",
       "\n",
       "[5 rows x 235 columns]"
      ]
     },
     "execution_count": 1738,
     "metadata": {},
     "output_type": "execute_result"
    }
   ],
   "source": [
    "training_predictors_df['mahalanobis_dist'] = mahalanobis_distances\n",
    "training_predictors_df.head()"
   ]
  },
  {
   "cell_type": "code",
   "execution_count": 1739,
   "metadata": {},
   "outputs": [],
   "source": [
    "#TODO: Need discussion\n",
    "mahal_threshold = 3 # Typical 'mahal_threshold' is 3\n",
    "outlier_significance_val = .001"
   ]
  },
  {
   "cell_type": "code",
   "execution_count": 1740,
   "metadata": {},
   "outputs": [],
   "source": [
    "training_predictors_df['mahal_p_value'] = 1 - scipy.stats.chi2.cdf(training_predictors_df['mahalanobis_dist'], mahal_threshold)"
   ]
  },
  {
   "cell_type": "code",
   "execution_count": 1741,
   "metadata": {},
   "outputs": [],
   "source": [
    "outlier_condition = (training_predictors_df['mahal_p_value'] < outlier_significance_val)"
   ]
  },
  {
   "cell_type": "code",
   "execution_count": 1742,
   "metadata": {},
   "outputs": [],
   "source": [
    "nonOutlier_indices = training_predictors_df[~outlier_condition].index"
   ]
  },
  {
   "cell_type": "code",
   "execution_count": 1743,
   "metadata": {},
   "outputs": [],
   "source": [
    "temp_col = 'response'\n",
    "training_predictors_df[temp_col] = training_responses\n",
    "\n",
    "training_predictors_df = training_predictors_df[~outlier_condition]\n",
    "\n",
    "training_responses = training_predictors_df[temp_col]\n",
    "training_predictors_df.drop(temp_col, axis=COL_AX, inplace=True)"
   ]
  },
  {
   "cell_type": "code",
   "execution_count": 1744,
   "metadata": {},
   "outputs": [
    {
     "data": {
      "text/html": [
       "<div>\n",
       "<style scoped>\n",
       "    .dataframe tbody tr th:only-of-type {\n",
       "        vertical-align: middle;\n",
       "    }\n",
       "\n",
       "    .dataframe tbody tr th {\n",
       "        vertical-align: top;\n",
       "    }\n",
       "\n",
       "    .dataframe thead th {\n",
       "        text-align: right;\n",
       "    }\n",
       "</style>\n",
       "<table border=\"1\" class=\"dataframe\">\n",
       "  <thead>\n",
       "    <tr style=\"text-align: right;\">\n",
       "      <th></th>\n",
       "      <th>wt</th>\n",
       "      <th>today</th>\n",
       "      <th>tonight</th>\n",
       "      <th>tmwam</th>\n",
       "      <th>dn3sttmwmd</th>\n",
       "      <th>dn1</th>\n",
       "      <th>dn4x1</th>\n",
       "      <th>cftorrrelstd_open_0</th>\n",
       "      <th>liqlog_open_0</th>\n",
       "      <th>llirpnxm_am_1</th>\n",
       "      <th>...</th>\n",
       "      <th>tr_lsthrx15_0</th>\n",
       "      <th>tr_md_1</th>\n",
       "      <th>tr_nt_0</th>\n",
       "      <th>tr_nt_1</th>\n",
       "      <th>tr_nt_12to16</th>\n",
       "      <th>tr_nt_17to21</th>\n",
       "      <th>tr_nt_1to3</th>\n",
       "      <th>tr_nt_4to6</th>\n",
       "      <th>tr_nt_7to11</th>\n",
       "      <th>tr_toxhr_0</th>\n",
       "    </tr>\n",
       "  </thead>\n",
       "  <tbody>\n",
       "    <tr>\n",
       "      <th>0</th>\n",
       "      <td>0.000594</td>\n",
       "      <td>-0.016720</td>\n",
       "      <td>-0.015436</td>\n",
       "      <td>-0.002487</td>\n",
       "      <td>0.011511</td>\n",
       "      <td>-0.038052</td>\n",
       "      <td>0.025530</td>\n",
       "      <td>0.231635</td>\n",
       "      <td>-0.065247</td>\n",
       "      <td>0.002597</td>\n",
       "      <td>...</td>\n",
       "      <td>0.0</td>\n",
       "      <td>0.0</td>\n",
       "      <td>0.0</td>\n",
       "      <td>0.0</td>\n",
       "      <td>0.0</td>\n",
       "      <td>0.000000</td>\n",
       "      <td>0.0</td>\n",
       "      <td>0.0</td>\n",
       "      <td>0.000000</td>\n",
       "      <td>0.0</td>\n",
       "    </tr>\n",
       "    <tr>\n",
       "      <th>1</th>\n",
       "      <td>0.001446</td>\n",
       "      <td>0.001475</td>\n",
       "      <td>-0.007683</td>\n",
       "      <td>-0.001346</td>\n",
       "      <td>0.027832</td>\n",
       "      <td>-0.006712</td>\n",
       "      <td>0.029269</td>\n",
       "      <td>-0.482915</td>\n",
       "      <td>1.571073</td>\n",
       "      <td>-0.000055</td>\n",
       "      <td>...</td>\n",
       "      <td>0.0</td>\n",
       "      <td>0.0</td>\n",
       "      <td>0.0</td>\n",
       "      <td>0.0</td>\n",
       "      <td>0.0</td>\n",
       "      <td>0.000000</td>\n",
       "      <td>0.0</td>\n",
       "      <td>0.0</td>\n",
       "      <td>0.000000</td>\n",
       "      <td>0.0</td>\n",
       "    </tr>\n",
       "    <tr>\n",
       "      <th>2</th>\n",
       "      <td>0.000069</td>\n",
       "      <td>-0.019774</td>\n",
       "      <td>-0.013203</td>\n",
       "      <td>-0.003210</td>\n",
       "      <td>-0.001507</td>\n",
       "      <td>-0.040861</td>\n",
       "      <td>0.005203</td>\n",
       "      <td>0.165615</td>\n",
       "      <td>-2.223915</td>\n",
       "      <td>0.000659</td>\n",
       "      <td>...</td>\n",
       "      <td>0.0</td>\n",
       "      <td>0.0</td>\n",
       "      <td>0.0</td>\n",
       "      <td>0.0</td>\n",
       "      <td>0.0</td>\n",
       "      <td>0.000000</td>\n",
       "      <td>0.0</td>\n",
       "      <td>0.0</td>\n",
       "      <td>0.000000</td>\n",
       "      <td>0.0</td>\n",
       "    </tr>\n",
       "    <tr>\n",
       "      <th>3</th>\n",
       "      <td>0.000120</td>\n",
       "      <td>-0.000934</td>\n",
       "      <td>-0.002772</td>\n",
       "      <td>-0.000651</td>\n",
       "      <td>0.005818</td>\n",
       "      <td>-0.004393</td>\n",
       "      <td>0.006443</td>\n",
       "      <td>-1.229984</td>\n",
       "      <td>-1.670970</td>\n",
       "      <td>-0.000372</td>\n",
       "      <td>...</td>\n",
       "      <td>0.0</td>\n",
       "      <td>0.0</td>\n",
       "      <td>0.0</td>\n",
       "      <td>0.0</td>\n",
       "      <td>0.0</td>\n",
       "      <td>0.000000</td>\n",
       "      <td>0.0</td>\n",
       "      <td>0.0</td>\n",
       "      <td>0.000000</td>\n",
       "      <td>0.0</td>\n",
       "    </tr>\n",
       "    <tr>\n",
       "      <th>4</th>\n",
       "      <td>0.000892</td>\n",
       "      <td>0.004249</td>\n",
       "      <td>0.002662</td>\n",
       "      <td>-0.000931</td>\n",
       "      <td>-0.034163</td>\n",
       "      <td>0.007955</td>\n",
       "      <td>-0.037853</td>\n",
       "      <td>-1.326470</td>\n",
       "      <td>0.342333</td>\n",
       "      <td>-0.000857</td>\n",
       "      <td>...</td>\n",
       "      <td>0.0</td>\n",
       "      <td>0.0</td>\n",
       "      <td>0.0</td>\n",
       "      <td>0.0</td>\n",
       "      <td>0.0</td>\n",
       "      <td>0.012116</td>\n",
       "      <td>0.0</td>\n",
       "      <td>0.0</td>\n",
       "      <td>-0.055974</td>\n",
       "      <td>0.0</td>\n",
       "    </tr>\n",
       "  </tbody>\n",
       "</table>\n",
       "<p>5 rows × 234 columns</p>\n",
       "</div>"
      ],
      "text/plain": [
       "         wt     today   tonight     tmwam  dn3sttmwmd       dn1     dn4x1  \\\n",
       "0  0.000594 -0.016720 -0.015436 -0.002487    0.011511 -0.038052  0.025530   \n",
       "1  0.001446  0.001475 -0.007683 -0.001346    0.027832 -0.006712  0.029269   \n",
       "2  0.000069 -0.019774 -0.013203 -0.003210   -0.001507 -0.040861  0.005203   \n",
       "3  0.000120 -0.000934 -0.002772 -0.000651    0.005818 -0.004393  0.006443   \n",
       "4  0.000892  0.004249  0.002662 -0.000931   -0.034163  0.007955 -0.037853   \n",
       "\n",
       "   cftorrrelstd_open_0  liqlog_open_0  llirpnxm_am_1  ...  tr_lsthrx15_0  \\\n",
       "0             0.231635      -0.065247       0.002597  ...            0.0   \n",
       "1            -0.482915       1.571073      -0.000055  ...            0.0   \n",
       "2             0.165615      -2.223915       0.000659  ...            0.0   \n",
       "3            -1.229984      -1.670970      -0.000372  ...            0.0   \n",
       "4            -1.326470       0.342333      -0.000857  ...            0.0   \n",
       "\n",
       "   tr_md_1  tr_nt_0  tr_nt_1  tr_nt_12to16  tr_nt_17to21  tr_nt_1to3  \\\n",
       "0      0.0      0.0      0.0           0.0      0.000000         0.0   \n",
       "1      0.0      0.0      0.0           0.0      0.000000         0.0   \n",
       "2      0.0      0.0      0.0           0.0      0.000000         0.0   \n",
       "3      0.0      0.0      0.0           0.0      0.000000         0.0   \n",
       "4      0.0      0.0      0.0           0.0      0.012116         0.0   \n",
       "\n",
       "   tr_nt_4to6  tr_nt_7to11  tr_toxhr_0  \n",
       "0         0.0     0.000000         0.0  \n",
       "1         0.0     0.000000         0.0  \n",
       "2         0.0     0.000000         0.0  \n",
       "3         0.0     0.000000         0.0  \n",
       "4         0.0    -0.055974         0.0  \n",
       "\n",
       "[5 rows x 234 columns]"
      ]
     },
     "execution_count": 1744,
     "metadata": {},
     "output_type": "execute_result"
    }
   ],
   "source": [
    "training_predictors_df.drop(['mahalanobis_dist', 'mahal_p_value'], axis = COL_AX, inplace=True)\n",
    "training_predictors_df.reset_index(drop=True)\n",
    "training_predictors_df.head()"
   ]
  },
  {
   "cell_type": "markdown",
   "metadata": {},
   "source": [
    "##### Check \"Should we do interacting terms?\""
   ]
  },
  {
   "cell_type": "code",
   "execution_count": 1745,
   "metadata": {},
   "outputs": [],
   "source": [
    "# We need to discuss further on feature description to determine."
   ]
  },
  {
   "cell_type": "markdown",
   "metadata": {},
   "source": [
    "##### If needed, transform the data"
   ]
  },
  {
   "cell_type": "code",
   "execution_count": 1746,
   "metadata": {},
   "outputs": [],
   "source": [
    "# TODO: SIGNIFICANT ERROR IN LATER PART IF YOU DO THIS:\n",
    "\n",
    "# temp_training_predictors_df = training_predictors_df + np.ceil(abs(sorted(training_predictors_df.min())[0]))\n",
    "# training_predictors_df = np.log(temp_training_predictors_df)\n",
    "# print(sorted(temp_training_predictors_df.min())[:5])\n",
    "# temp_training_predictors_df.head()"
   ]
  },
  {
   "cell_type": "markdown",
   "metadata": {},
   "source": [
    "I will use LASSO for the next step of feature selection because there are a lot of outliers, and LASSO works by restricting the sum of the absolute value of the coefficients to being less than a set value, so the impact of outliers is significantly curtailed."
   ]
  },
  {
   "cell_type": "code",
   "execution_count": 1747,
   "metadata": {},
   "outputs": [
    {
     "name": "stdout",
     "output_type": "stream",
     "text": [
      "Shape of training observations: (2175, 234)\n",
      "Number of training responses: 2175\n",
      "\n",
      "Shape of testing observations: (2915, 234)\n",
      "Number of actual responses: 2915\n"
     ]
    }
   ],
   "source": [
    "print(f\"Shape of training observations: {training_predictors_df.shape}\")\n",
    "print(f\"Number of training responses: {len(training_responses)}\")\n",
    "print()\n",
    "print(f\"Shape of testing observations: {testing_predictors_df.shape}\")\n",
    "print(f\"Number of actual responses: {len(actual_responses)}\")"
   ]
  },
  {
   "cell_type": "markdown",
   "metadata": {},
   "source": [
    "##### PCA"
   ]
  },
  {
   "cell_type": "markdown",
   "metadata": {},
   "source": [
    "Need some discussions"
   ]
  },
  {
   "cell_type": "markdown",
   "metadata": {},
   "source": [
    "#### Build a multiple linear regression model"
   ]
  },
  {
   "cell_type": "markdown",
   "metadata": {},
   "source": [
    "##### Retrieve the beta(s)"
   ]
  },
  {
   "cell_type": "code",
   "execution_count": 1748,
   "metadata": {},
   "outputs": [
    {
     "name": "stderr",
     "output_type": "stream",
     "text": [
      "/Library/Frameworks/Python.framework/Versions/3.11/lib/python3.11/site-packages/sklearn/linear_model/_coordinate_descent.py:614: ConvergenceWarning: Objective did not converge. You might want to increase the number of iterations. Duality gap: 1.1398462450448732e-05, tolerance: 8.262315101070412e-06\n",
      "  model = cd_fast.enet_coordinate_descent_gram(\n",
      "/Library/Frameworks/Python.framework/Versions/3.11/lib/python3.11/site-packages/sklearn/linear_model/_coordinate_descent.py:614: ConvergenceWarning: Objective did not converge. You might want to increase the number of iterations. Duality gap: 1.1471394280669622e-05, tolerance: 8.262315101070412e-06\n",
      "  model = cd_fast.enet_coordinate_descent_gram(\n",
      "/Library/Frameworks/Python.framework/Versions/3.11/lib/python3.11/site-packages/sklearn/linear_model/_coordinate_descent.py:614: ConvergenceWarning: Objective did not converge. You might want to increase the number of iterations. Duality gap: 1.087883783043933e-05, tolerance: 8.262315101070412e-06\n",
      "  model = cd_fast.enet_coordinate_descent_gram(\n",
      "/Library/Frameworks/Python.framework/Versions/3.11/lib/python3.11/site-packages/sklearn/linear_model/_coordinate_descent.py:614: ConvergenceWarning: Objective did not converge. You might want to increase the number of iterations. Duality gap: 1.2798971371581758e-05, tolerance: 8.262315101070412e-06\n",
      "  model = cd_fast.enet_coordinate_descent_gram(\n",
      "/Library/Frameworks/Python.framework/Versions/3.11/lib/python3.11/site-packages/sklearn/linear_model/_coordinate_descent.py:614: ConvergenceWarning: Objective did not converge. You might want to increase the number of iterations. Duality gap: 1.3338784989283536e-05, tolerance: 8.262315101070412e-06\n",
      "  model = cd_fast.enet_coordinate_descent_gram(\n",
      "/Library/Frameworks/Python.framework/Versions/3.11/lib/python3.11/site-packages/sklearn/linear_model/_coordinate_descent.py:614: ConvergenceWarning: Objective did not converge. You might want to increase the number of iterations. Duality gap: 1.2572373163981243e-05, tolerance: 8.418624286691362e-06\n",
      "  model = cd_fast.enet_coordinate_descent_gram(\n",
      "/Library/Frameworks/Python.framework/Versions/3.11/lib/python3.11/site-packages/sklearn/linear_model/_coordinate_descent.py:614: ConvergenceWarning: Objective did not converge. You might want to increase the number of iterations. Duality gap: 1.486732672394131e-05, tolerance: 8.418624286691362e-06\n",
      "  model = cd_fast.enet_coordinate_descent_gram(\n",
      "/Library/Frameworks/Python.framework/Versions/3.11/lib/python3.11/site-packages/sklearn/linear_model/_coordinate_descent.py:614: ConvergenceWarning: Objective did not converge. You might want to increase the number of iterations. Duality gap: 1.4123519593740863e-05, tolerance: 8.418624286691362e-06\n",
      "  model = cd_fast.enet_coordinate_descent_gram(\n",
      "/Library/Frameworks/Python.framework/Versions/3.11/lib/python3.11/site-packages/sklearn/linear_model/_coordinate_descent.py:614: ConvergenceWarning: Objective did not converge. You might want to increase the number of iterations. Duality gap: 8.359861555094078e-06, tolerance: 8.24925184562566e-06\n",
      "  model = cd_fast.enet_coordinate_descent_gram(\n",
      "/Library/Frameworks/Python.framework/Versions/3.11/lib/python3.11/site-packages/sklearn/linear_model/_coordinate_descent.py:614: ConvergenceWarning: Objective did not converge. You might want to increase the number of iterations. Duality gap: 1.4970199821086327e-05, tolerance: 8.245589248268068e-06\n",
      "  model = cd_fast.enet_coordinate_descent_gram(\n",
      "/Library/Frameworks/Python.framework/Versions/3.11/lib/python3.11/site-packages/sklearn/linear_model/_coordinate_descent.py:614: ConvergenceWarning: Objective did not converge. You might want to increase the number of iterations. Duality gap: 1.4824599548282635e-05, tolerance: 8.245589248268068e-06\n",
      "  model = cd_fast.enet_coordinate_descent_gram(\n",
      "/Library/Frameworks/Python.framework/Versions/3.11/lib/python3.11/site-packages/sklearn/linear_model/_coordinate_descent.py:614: ConvergenceWarning: Objective did not converge. You might want to increase the number of iterations. Duality gap: 1.6501342298844146e-05, tolerance: 8.245589248268068e-06\n",
      "  model = cd_fast.enet_coordinate_descent_gram(\n",
      "/Library/Frameworks/Python.framework/Versions/3.11/lib/python3.11/site-packages/sklearn/linear_model/_coordinate_descent.py:614: ConvergenceWarning: Objective did not converge. You might want to increase the number of iterations. Duality gap: 8.967069663280702e-06, tolerance: 8.245589248268068e-06\n",
      "  model = cd_fast.enet_coordinate_descent_gram(\n",
      "/Library/Frameworks/Python.framework/Versions/3.11/lib/python3.11/site-packages/sklearn/linear_model/_coordinate_descent.py:614: ConvergenceWarning: Objective did not converge. You might want to increase the number of iterations. Duality gap: 8.669979486862489e-06, tolerance: 8.245589248268068e-06\n",
      "  model = cd_fast.enet_coordinate_descent_gram(\n",
      "/Library/Frameworks/Python.framework/Versions/3.11/lib/python3.11/site-packages/sklearn/linear_model/_coordinate_descent.py:614: ConvergenceWarning: Objective did not converge. You might want to increase the number of iterations. Duality gap: 8.513490609828728e-06, tolerance: 8.245589248268068e-06\n",
      "  model = cd_fast.enet_coordinate_descent_gram(\n",
      "/Library/Frameworks/Python.framework/Versions/3.11/lib/python3.11/site-packages/sklearn/linear_model/_coordinate_descent.py:614: ConvergenceWarning: Objective did not converge. You might want to increase the number of iterations. Duality gap: 8.703917535629602e-06, tolerance: 8.053902323577414e-06\n",
      "  model = cd_fast.enet_coordinate_descent_gram(\n",
      "/Library/Frameworks/Python.framework/Versions/3.11/lib/python3.11/site-packages/sklearn/linear_model/_coordinate_descent.py:614: ConvergenceWarning: Objective did not converge. You might want to increase the number of iterations. Duality gap: 1.0878203312532364e-05, tolerance: 8.053902323577414e-06\n",
      "  model = cd_fast.enet_coordinate_descent_gram(\n",
      "/Library/Frameworks/Python.framework/Versions/3.11/lib/python3.11/site-packages/sklearn/linear_model/_coordinate_descent.py:614: ConvergenceWarning: Objective did not converge. You might want to increase the number of iterations. Duality gap: 1.208446803247637e-05, tolerance: 7.89572519338964e-06\n",
      "  model = cd_fast.enet_coordinate_descent_gram(\n",
      "/Library/Frameworks/Python.framework/Versions/3.11/lib/python3.11/site-packages/sklearn/linear_model/_coordinate_descent.py:614: ConvergenceWarning: Objective did not converge. You might want to increase the number of iterations. Duality gap: 1.1644153091502907e-05, tolerance: 7.89572519338964e-06\n",
      "  model = cd_fast.enet_coordinate_descent_gram(\n",
      "/Library/Frameworks/Python.framework/Versions/3.11/lib/python3.11/site-packages/sklearn/linear_model/_coordinate_descent.py:614: ConvergenceWarning: Objective did not converge. You might want to increase the number of iterations. Duality gap: 9.650605765666731e-06, tolerance: 7.89572519338964e-06\n",
      "  model = cd_fast.enet_coordinate_descent_gram(\n",
      "/Library/Frameworks/Python.framework/Versions/3.11/lib/python3.11/site-packages/sklearn/linear_model/_coordinate_descent.py:614: ConvergenceWarning: Objective did not converge. You might want to increase the number of iterations. Duality gap: 9.210603132338291e-06, tolerance: 7.89572519338964e-06\n",
      "  model = cd_fast.enet_coordinate_descent_gram(\n",
      "/Library/Frameworks/Python.framework/Versions/3.11/lib/python3.11/site-packages/sklearn/linear_model/_coordinate_descent.py:614: ConvergenceWarning: Objective did not converge. You might want to increase the number of iterations. Duality gap: 8.712547381287128e-06, tolerance: 7.89572519338964e-06\n",
      "  model = cd_fast.enet_coordinate_descent_gram(\n",
      "/Library/Frameworks/Python.framework/Versions/3.11/lib/python3.11/site-packages/sklearn/linear_model/_coordinate_descent.py:614: ConvergenceWarning: Objective did not converge. You might want to increase the number of iterations. Duality gap: 8.49645353229872e-06, tolerance: 7.89572519338964e-06\n",
      "  model = cd_fast.enet_coordinate_descent_gram(\n",
      "/Library/Frameworks/Python.framework/Versions/3.11/lib/python3.11/site-packages/sklearn/linear_model/_coordinate_descent.py:614: ConvergenceWarning: Objective did not converge. You might want to increase the number of iterations. Duality gap: 1.2578871499153294e-05, tolerance: 8.009604176165675e-06\n",
      "  model = cd_fast.enet_coordinate_descent_gram(\n",
      "/Library/Frameworks/Python.framework/Versions/3.11/lib/python3.11/site-packages/sklearn/linear_model/_coordinate_descent.py:614: ConvergenceWarning: Objective did not converge. You might want to increase the number of iterations. Duality gap: 1.2023544287774468e-05, tolerance: 8.009604176165675e-06\n",
      "  model = cd_fast.enet_coordinate_descent_gram(\n",
      "/Library/Frameworks/Python.framework/Versions/3.11/lib/python3.11/site-packages/sklearn/linear_model/_coordinate_descent.py:614: ConvergenceWarning: Objective did not converge. You might want to increase the number of iterations. Duality gap: 8.945981524500352e-06, tolerance: 8.009604176165675e-06\n",
      "  model = cd_fast.enet_coordinate_descent_gram(\n",
      "/Library/Frameworks/Python.framework/Versions/3.11/lib/python3.11/site-packages/sklearn/linear_model/_coordinate_descent.py:614: ConvergenceWarning: Objective did not converge. You might want to increase the number of iterations. Duality gap: 9.380667752113825e-06, tolerance: 7.716170271352248e-06\n",
      "  model = cd_fast.enet_coordinate_descent_gram(\n",
      "/Library/Frameworks/Python.framework/Versions/3.11/lib/python3.11/site-packages/sklearn/linear_model/_coordinate_descent.py:614: ConvergenceWarning: Objective did not converge. You might want to increase the number of iterations. Duality gap: 1.212551042333379e-05, tolerance: 7.716170271352248e-06\n",
      "  model = cd_fast.enet_coordinate_descent_gram(\n",
      "/Library/Frameworks/Python.framework/Versions/3.11/lib/python3.11/site-packages/sklearn/linear_model/_coordinate_descent.py:628: ConvergenceWarning: Objective did not converge. You might want to increase the number of iterations, check the scale of the features or consider increasing regularisation. Duality gap: 3.955e-05, tolerance: 8.974e-06\n",
      "  model = cd_fast.enet_coordinate_descent(\n"
     ]
    },
    {
     "data": {
      "text/plain": [
       "142"
      ]
     },
     "execution_count": 1748,
     "metadata": {},
     "output_type": "execute_result"
    }
   ],
   "source": [
    "import sklearn.linear_model\n",
    "\n",
    "multiple_linreg = sklearn.linear_model.LassoCV(cv=10) # Higher cv, Lower bias\n",
    "multiple_linreg.fit(training_predictors_df, training_responses)\n",
    "len(list(filter(lambda x: x != 0, multiple_linreg.coef_)))"
   ]
  },
  {
   "cell_type": "code",
   "execution_count": 1749,
   "metadata": {},
   "outputs": [
    {
     "name": "stdout",
     "output_type": "stream",
     "text": [
      "142\n"
     ]
    }
   ],
   "source": [
    "# Since LASSO's penalty term is a function of abs(beta), the resulting beta(s) are non-negative.\n",
    "positive_beta_indices = np.nonzero(multiple_linreg.coef_)[0]\n",
    "print(len(positive_beta_indices))"
   ]
  },
  {
   "cell_type": "markdown",
   "metadata": {},
   "source": [
    "##### Make predictions"
   ]
  },
  {
   "cell_type": "code",
   "execution_count": 1750,
   "metadata": {},
   "outputs": [],
   "source": [
    "predicted_responses = multiple_linreg.predict(testing_predictors_df)"
   ]
  },
  {
   "cell_type": "markdown",
   "metadata": {},
   "source": [
    "#### Model evaluation"
   ]
  },
  {
   "cell_type": "code",
   "execution_count": 1751,
   "metadata": {},
   "outputs": [],
   "source": [
    "from sklearn.metrics import mean_squared_error, r2_score"
   ]
  },
  {
   "cell_type": "code",
   "execution_count": 1752,
   "metadata": {},
   "outputs": [
    {
     "name": "stdout",
     "output_type": "stream",
     "text": [
      "Mean Squared Error: 4.1379906737067914e-05\n"
     ]
    }
   ],
   "source": [
    "mse = mean_squared_error(actual_responses, predicted_responses)\n",
    "print(f\"Mean Squared Error: {mse}\")"
   ]
  },
  {
   "cell_type": "code",
   "execution_count": 1753,
   "metadata": {},
   "outputs": [
    {
     "name": "stdout",
     "output_type": "stream",
     "text": [
      "R-Squared: 0.550453797237621\n"
     ]
    }
   ],
   "source": [
    "# Higher better. 1 is perfect prediction\n",
    "r_squared = r2_score(actual_responses, predicted_responses)\n",
    "print(f\"R-Squared: {r_squared}\")"
   ]
  },
  {
   "cell_type": "code",
   "execution_count": 1754,
   "metadata": {},
   "outputs": [],
   "source": [
    "residuals = actual_responses - predicted_responses"
   ]
  },
  {
   "cell_type": "markdown",
   "metadata": {},
   "source": [
    "#### Check linear regression assumptions"
   ]
  },
  {
   "cell_type": "markdown",
   "metadata": {},
   "source": [
    "##### Residuals must be normally distributed w/ Q-Q plot"
   ]
  },
  {
   "cell_type": "code",
   "execution_count": 1755,
   "metadata": {},
   "outputs": [
    {
     "name": "stdout",
     "output_type": "stream",
     "text": [
      "Shapiro-Wilk Test: Residuals NOT normally distributed.\n"
     ]
    },
    {
     "data": {
      "image/png": "[encoded data removed]",
      "text/plain": [
       "<Figure size 640x480 with 1 Axes>"
      ]
     },
     "metadata": {},
     "output_type": "display_data"
    }
   ],
   "source": [
    "import statsmodels.api as sm\n",
    "helper.shapiro_test(residuals)\n",
    "sm.qqplot(np.array(residuals), line = '45'); # A semicolon to avoid 2 similar plots -- this has been the library's bug for 5 years!"
   ]
  },
  {
   "cell_type": "markdown",
   "metadata": {},
   "source": [
    "##### Mean of residuals should be 0"
   ]
  },
  {
   "cell_type": "code",
   "execution_count": 1756,
   "metadata": {},
   "outputs": [
    {
     "data": {
      "text/plain": [
       "-0.0007220652115021963"
      ]
     },
     "execution_count": 1756,
     "metadata": {},
     "output_type": "execute_result"
    }
   ],
   "source": [
    "np.mean(residuals)"
   ]
  },
  {
   "cell_type": "markdown",
   "metadata": {},
   "source": [
    "##### Check for multi-collinearity"
   ]
  },
  {
   "cell_type": "code",
   "execution_count": 1757,
   "metadata": {},
   "outputs": [
    {
     "name": "stdout",
     "output_type": "stream",
     "text": [
      "VIF = 2.2244654584004566. Some dependent predictors exist.\n"
     ]
    }
   ],
   "source": [
    "helper.vif_test(r_squared)"
   ]
  },
  {
   "cell_type": "markdown",
   "metadata": {},
   "source": [
    "##### Residuals have a fixed variance"
   ]
  },
  {
   "cell_type": "code",
   "execution_count": 1758,
   "metadata": {},
   "outputs": [
    {
     "name": "stdout",
     "output_type": "stream",
     "text": [
      "Breusch-Pagan Test: Residuals have constant variance.\n"
     ]
    },
    {
     "data": {
      "image/png": "[encoded data removed]",
      "text/plain": [
       "<Figure size 640x480 with 1 Axes>"
      ]
     },
     "metadata": {},
     "output_type": "display_data"
    }
   ],
   "source": [
    "# White test if only use 1 predictor (simple linear regression)\n",
    "# for multiple linear regression, use bp-test\n",
    "\n",
    "helper.bp_test(residuals, testing_predictors_df)\n",
    "\n",
    "plt.scatter(x=predicted_responses, y = residuals, color = 'r')  # Replace X[:, 0] with the desired predictor variable\n",
    "plt.xlabel('Predicted Responses')  # Replace 'X' with the label of the predictor variable\n",
    "plt.ylabel('Residuals')\n",
    "plt.title('Heteroskedasticity Check\\n(yes means funnel shape)')\n",
    "plt.show()"
   ]
  },
  {
   "cell_type": "code",
   "execution_count": 1759,
   "metadata": {},
   "outputs": [
    {
     "name": "stdout",
     "output_type": "stream",
     "text": [
      "Note: you may need to restart the kernel to use updated packages.\n"
     ]
    }
   ],
   "source": [
    "%pip freeze > dependencies.txt"
   ]
  }
 ],
 "metadata": {
  "kernelspec": {
   "display_name": "Python 3",
   "language": "python",
   "name": "python3"
  },
  "language_info": {
   "codemirror_mode": {
    "name": "ipython",
    "version": 3
   },
   "file_extension": ".py",
   "mimetype": "text/x-python",
   "name": "python",
   "nbconvert_exporter": "python",
   "pygments_lexer": "ipython3",
   "version": "3.11.3"
  },
  "orig_nbformat": 4
 },
 "nbformat": 4,
 "nbformat_minor": 2
}
