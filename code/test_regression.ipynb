{
 "cells": [
  {
   "cell_type": "code",
   "execution_count": null,
   "metadata": {},
   "outputs": [],
   "source": [
    "import consts, test_helper\n",
    "import importlib\n",
    "import pandas as pd\n",
    "import numpy as np\n",
    "import matplotlib.pyplot as plt\n",
    "import sklearn, scipy, requests"
   ]
  },
  {
   "cell_type": "code",
   "execution_count": null,
   "metadata": {},
   "outputs": [],
   "source": [
    "importlib.reload(consts)\n",
    "importlib.reload(test_helper)"
   ]
  },
  {
   "cell_type": "code",
   "execution_count": null,
   "metadata": {},
   "outputs": [],
   "source": [
    "# USER\n",
    "USER = \"RYAN\"\n",
    "FILE_PATH = consts.PATH_MAP[USER]\n",
    "\n",
    "ROW = consts.ROW\n",
    "COL = consts.COL\n",
    "CLEANED_DATA_PATH = consts.CLEANED_DATA_PATH\n",
    "DATA_PATH = consts.RAW_DATA_PATH\n",
    "RESPONSE_NAME = consts.RESPONSE_NAME\n",
    "\n",
    "TRAIN_START_DATE = \"20150101\"\n",
    "TRAIN_END_DATE = \"20150601\" # Up to but not including\n",
    "TEST_START_DATE = \"20150701\"\n",
    "TEST_END_DATE = \"20150801\"\n",
    "\n",
    "LASSO = 'LASSO'\n",
    "XGBOOST = 'xgboost'\n",
    "\n",
    "# REGRESSION_TYPES = helper.Regression('OLS').list_all_regression_types()\n",
    "# REGRESSION_TYPES"
   ]
  },
  {
   "cell_type": "code",
   "execution_count": null,
   "metadata": {},
   "outputs": [],
   "source": [
    "list_of_interacting_terms = [[\"relvol_nt_0\",\"rrirpnxm_nt_0\"], \n",
    "                            [\"relvol_lst15_0\", \"rrirpnxm_lst15_0\"],\n",
    "                            [\"relvol_lsthrx15_0\", \"rrirpnxm_lsthrx15_0\"],\n",
    "                            [\"relvol_toxhr_0\", \"rrirpnxm_toxhr_0\"]]\n",
    "\n",
    "FEATURE_COL_NAMES = [\"rrirpnxm_nt_0\", \"rrirpnxm_lst15_0\", \"rrirpnxm_lsthrx15_0\", \"rrirpnxm_toxhr_0\"]"
   ]
  },
  {
   "cell_type": "code",
   "execution_count": null,
   "metadata": {},
   "outputs": [],
   "source": [
    "importlib.reload(test_helper)\n",
    "data = test_helper.Data(FILE_PATH)\n",
    "train_df = data.update_and_get_train_df(FILE_PATH, \"20190701\", movingBack_dayCount = 31, years_count = 1)"
   ]
  },
  {
   "cell_type": "code",
   "execution_count": null,
   "metadata": {},
   "outputs": [],
   "source": [
    "importlib.reload(test_helper)\n",
    "test_dfs = data.get_df_between_date(data_path = FILE_PATH, start_date=\"20150701\", end_date=\"20150801\")"
   ]
  },
  {
   "cell_type": "code",
   "execution_count": null,
   "metadata": {},
   "outputs": [],
   "source": [
    "importlib.reload(test_helper)\n",
    "ols_model = test_helper.Regression(data_path = FILE_PATH)\n",
    "ols_model.train(train_df, feature_col_names = FEATURE_COL_NAMES, interacting_terms_list = list_of_interacting_terms, hyperparam_dict={'fit_intercept': False, 'positive':True})\n",
    "ols_model.get_metric(dataframes = test_dfs)"
   ]
  },
  {
   "cell_type": "code",
   "execution_count": null,
   "metadata": {},
   "outputs": [],
   "source": [
    "importlib.reload(test_helper)\n",
    "full_ols_model = test_helper.Regression(data_path = FILE_PATH)\n",
    "full_ols_model.train(train_df)\n",
    "full_ols_model.get_metric(test_dfs)"
   ]
  },
  {
   "cell_type": "code",
   "execution_count": null,
   "metadata": {},
   "outputs": [],
   "source": [
    "importlib.reload(test_helper)\n",
    "hyperparams = {'max_iter':900}\n",
    "training_params = {'sample_weight': None}\n",
    "lasso_model = test_helper.Regression(regression_type=\"Lasso\", data_path=FILE_PATH, hyperparam_dict=hyperparams )\n",
    "lasso_model.train(train_df, feature_col_names = FEATURE_COL_NAMES, interacting_terms_list = list_of_interacting_terms)\n",
    "lasso_model.get_metric(dataframes = test_dfs)"
   ]
  },
  {
   "cell_type": "code",
   "execution_count": null,
   "metadata": {},
   "outputs": [],
   "source": [
    "importlib.reload(test_helper)\n",
    "hyperparams = {'max_iter':900}\n",
    "training_params = {'sample_weight': None}\n",
    "test_helper.experiment(LASSO, FILE_PATH, train_df=train_df, test_dfs=test_dfs, features=FEATURE_COL_NAMES, model_hyperparams=hyperparams, training_hyperparams=training_params, interacting_terms=list_of_interacting_terms)\n",
    "#(0.02999211607260984, 0.00022296778636828244, 0.8806654508326743)"
   ]
  },
  {
   "cell_type": "code",
   "execution_count": null,
   "metadata": {},
   "outputs": [],
   "source": [
    "xgb_model = test_helper.Regression(regression_type=\"XGBoost\", data_path=FILE_PATH, hyperparam_dict={'max_depth': 6})\n",
    "xgb_model.train(train_df, feature_col_names = FEATURE_COL_NAMES, interacting_terms_list = list_of_interacting_terms)\n",
    "xgb_model.get_metric(test_dfs)\n",
    "# Equivalent to\n",
    "test_helper.experiment(XGBOOST, FILE_PATH, \n",
    "                    train_df=train_df,\n",
    "                    test_dfs=test_dfs,\n",
    "                    features=FEATURE_COL_NAMES,\n",
    "                    interacting_terms=list_of_interacting_terms,\n",
    "                    model_hyperparams={'max_depth':6},\n",
    "                    training_hyperparams=None)\n"
   ]
  },
  {
   "cell_type": "code",
   "execution_count": null,
   "metadata": {},
   "outputs": [],
   "source": [
    "# Itereate over hyperparameter :\n",
    "importlib.reload(test_helper)\n",
    "metrics = test_helper.iterate_hyperparam(XGBOOST, hyperparam_name='max_depth', hyperparam_values=[int(x) for x in np.linspace(1,10,10)], data_path=FILE_PATH, train_df=train_df, test_dfs=test_dfs, features=FEATURE_COL_NAMES,interacting_terms=list_of_interacting_terms )\n",
    "mean_returns = metrics[1]\n",
    "plt.scatter(list(mean_returns.keys()),list(mean_returns.values()))\n",
    "plt.show()\n"
   ]
  }
 ],
 "metadata": {
  "kernelspec": {
   "display_name": "Python 3",
   "language": "python",
   "name": "python3"
  },
  "language_info": {
   "codemirror_mode": {
    "name": "ipython",
    "version": 3
   },
   "file_extension": ".py",
   "mimetype": "text/x-python",
   "name": "python",
   "nbconvert_exporter": "python",
   "pygments_lexer": "ipython3",
   "version": "3.10.12"
  },
  "vscode": {
   "interpreter": {
    "hash": "b0fa6594d8f4cbf19f97940f81e996739fb7646882a419484c72d19e05852a7e"
   }
  }
 },
 "nbformat": 4,
 "nbformat_minor": 2
}
