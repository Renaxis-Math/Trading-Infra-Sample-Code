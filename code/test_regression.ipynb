{
 "cells": [
  {
   "cell_type": "code",
   "execution_count": 26,
   "metadata": {},
   "outputs": [],
   "source": [
    "import consts, test_helper\n",
    "import importlib\n",
    "import pandas as pd\n",
    "import numpy as np\n",
    "import matplotlib.pyplot as plt\n",
    "import sklearn, scipy, requests"
   ]
  },
  {
   "cell_type": "code",
   "execution_count": 27,
   "metadata": {},
   "outputs": [
    {
     "data": {
      "text/plain": [
       "<module 'test_helper' from '/Users/mike/Documents/School/Fa23/Clinic/code/test_helper.py'>"
      ]
     },
     "execution_count": 27,
     "metadata": {},
     "output_type": "execute_result"
    }
   ],
   "source": [
    "importlib.reload(consts)\n",
    "importlib.reload(test_helper)"
   ]
  },
  {
   "cell_type": "code",
   "execution_count": 28,
   "metadata": {},
   "outputs": [],
   "source": [
    "# USER\n",
    "USER = \"RYAN\"\n",
    "FILE_PATH = consts.PATH_MAP[USER]\n",
    "\n",
    "ROW = consts.ROW\n",
    "COL = consts.COL\n",
    "CLEANED_DATA_PATH = consts.CLEANED_DATA_PATH\n",
    "DATA_PATH = consts.RAW_DATA_PATH\n",
    "RESPONSE_NAME = consts.RESPONSE_NAME\n",
    "\n",
    "TRAIN_START_DATE = \"20150101\"\n",
    "TRAIN_END_DATE = \"20150601\" # Up to but not including\n",
    "TEST_START_DATE = \"20150701\"\n",
    "TEST_END_DATE = \"20150801\"\n",
    "\n",
    "# REGRESSION_TYPES = helper.Regression('OLS').list_all_regression_types()\n",
    "# REGRESSION_TYPES"
   ]
  },
  {
   "cell_type": "code",
   "execution_count": 29,
   "metadata": {},
   "outputs": [],
   "source": [
    "list_of_interacting_terms = [[\"relvol_nt_0\",\"rrirpnxm_nt_0\"], \n",
    "                            [\"relvol_lst15_0\", \"rrirpnxm_lst15_0\"],\n",
    "                            [\"relvol_lsthrx15_0\", \"rrirpnxm_lsthrx15_0\"],\n",
    "                            [\"relvol_toxhr_0\", \"rrirpnxm_toxhr_0\"]]\n",
    "\n",
    "FEATURE_COL_NAMES = [\"rrirpnxm_nt_0\", \"rrirpnxm_lst15_0\", \"rrirpnxm_lsthrx15_0\", \"rrirpnxm_toxhr_0\"]"
   ]
  },
  {
   "cell_type": "code",
   "execution_count": 30,
   "metadata": {},
   "outputs": [
    {
     "name": "stdout",
     "output_type": "stream",
     "text": [
      "No YYYYMMDD datetime matched.\n",
      "\n",
      "Filtered File Dates: ['data.20180531_1200', 'data.20180601_1200', 'data.20180604_1200', 'data.20180605_1200', 'data.20180606_1200', 'data.20180607_1200', 'data.20180608_1200', 'data.20180611_1200', 'data.20180612_1200', 'data.20180613_1200', 'data.20180614_1200', 'data.20180615_1200', 'data.20180618_1200', 'data.20180619_1200', 'data.20180620_1200', 'data.20180621_1200', 'data.20180622_1200', 'data.20180625_1200', 'data.20180626_1200', 'data.20180627_1200', 'data.20180628_1200', 'data.20180629_1200', 'data.20180702_1200', 'data.20180703_1200', 'data.20180705_1200', 'data.20180706_1200', 'data.20180709_1200', 'data.20180710_1200', 'data.20180711_1200', 'data.20180712_1200', 'data.20180713_1200', 'data.20180716_1200', 'data.20180717_1200', 'data.20180718_1200', 'data.20180719_1200', 'data.20180720_1200', 'data.20180723_1200', 'data.20180724_1200', 'data.20180725_1200', 'data.20180726_1200', 'data.20180727_1200', 'data.20180730_1200', 'data.20180731_1200', 'data.20180801_1200', 'data.20180802_1200', 'data.20180803_1200', 'data.20180806_1200', 'data.20180807_1200', 'data.20180808_1200', 'data.20180809_1200', 'data.20180810_1200', 'data.20180813_1200', 'data.20180814_1200', 'data.20180815_1200', 'data.20180816_1200', 'data.20180817_1200', 'data.20180820_1200', 'data.20180821_1200', 'data.20180822_1200', 'data.20180823_1200', 'data.20180824_1200', 'data.20180827_1200', 'data.20180828_1200', 'data.20180829_1200', 'data.20180830_1200', 'data.20180831_1200', 'data.20180904_1200', 'data.20180905_1200', 'data.20180906_1200', 'data.20180907_1200', 'data.20180910_1200', 'data.20180911_1200', 'data.20180912_1200', 'data.20180913_1200', 'data.20180914_1200', 'data.20180917_1200', 'data.20180918_1200', 'data.20180919_1200', 'data.20180920_1200', 'data.20180921_1200', 'data.20180924_1200', 'data.20180925_1200', 'data.20180926_1200', 'data.20180927_1200', 'data.20180928_1200', 'data.20181001_1200', 'data.20181002_1200', 'data.20181003_1200', 'data.20181004_1200', 'data.20181005_1200', 'data.20181008_1200', 'data.20181009_1200', 'data.20181010_1200', 'data.20181011_1200', 'data.20181012_1200', 'data.20181015_1200', 'data.20181016_1200', 'data.20181017_1200', 'data.20181018_1200', 'data.20181019_1200', 'data.20181022_1200', 'data.20181023_1200', 'data.20181024_1200', 'data.20181025_1200', 'data.20181026_1200', 'data.20181029_1200', 'data.20181030_1200', 'data.20181031_1200', 'data.20181101_1200', 'data.20181102_1200', 'data.20181105_1200', 'data.20181106_1200', 'data.20181107_1200', 'data.20181108_1200', 'data.20181109_1200', 'data.20181112_1200', 'data.20181113_1200', 'data.20181114_1200', 'data.20181115_1200', 'data.20181116_1200', 'data.20181119_1200', 'data.20181120_1200', 'data.20181121_1200', 'data.20181123_1200', 'data.20181126_1200', 'data.20181127_1200', 'data.20181128_1200', 'data.20181129_1200', 'data.20181130_1200', 'data.20181203_1200', 'data.20181204_1200', 'data.20181206_1200', 'data.20181207_1200', 'data.20181210_1200', 'data.20181211_1200', 'data.20181212_1200', 'data.20181213_1200', 'data.20181214_1200', 'data.20181217_1200', 'data.20181218_1200', 'data.20181219_1200', 'data.20181220_1200', 'data.20181221_1200', 'data.20181224_1200', 'data.20181226_1200', 'data.20181227_1200', 'data.20181228_1200', 'data.20181231_1200', 'data.20190102_1200', 'data.20190103_1200', 'data.20190104_1200', 'data.20190107_1200', 'data.20190108_1200', 'data.20190109_1200', 'data.20190110_1200', 'data.20190111_1200', 'data.20190114_1200', 'data.20190115_1200', 'data.20190116_1200', 'data.20190117_1200', 'data.20190118_1200', 'data.20190122_1200', 'data.20190123_1200', 'data.20190124_1200', 'data.20190125_1200', 'data.20190128_1200', 'data.20190129_1200', 'data.20190130_1200', 'data.20190131_1200', 'data.20190201_1200', 'data.20190204_1200', 'data.20190205_1200', 'data.20190206_1200', 'data.20190207_1200', 'data.20190208_1200', 'data.20190211_1200', 'data.20190212_1200', 'data.20190213_1200', 'data.20190214_1200', 'data.20190215_1200', 'data.20190219_1200', 'data.20190220_1200', 'data.20190221_1200', 'data.20190222_1200', 'data.20190225_1200', 'data.20190226_1200', 'data.20190227_1200', 'data.20190228_1200', 'data.20190301_1200', 'data.20190304_1200', 'data.20190305_1200', 'data.20190306_1200', 'data.20190307_1200', 'data.20190308_1200', 'data.20190311_1200', 'data.20190312_1200', 'data.20190313_1200', 'data.20190314_1200', 'data.20190315_1200', 'data.20190318_1200', 'data.20190319_1200', 'data.20190320_1200', 'data.20190321_1200', 'data.20190322_1200', 'data.20190325_1200', 'data.20190326_1200', 'data.20190327_1200', 'data.20190328_1200', 'data.20190329_1200', 'data.20190401_1200', 'data.20190402_1200', 'data.20190403_1200', 'data.20190404_1200', 'data.20190405_1200', 'data.20190408_1200', 'data.20190409_1200', 'data.20190410_1200', 'data.20190411_1200', 'data.20190412_1200', 'data.20190415_1200', 'data.20190416_1200', 'data.20190417_1200', 'data.20190418_1200', 'data.20190422_1200', 'data.20190423_1200', 'data.20190424_1200', 'data.20190425_1200', 'data.20190426_1200', 'data.20190429_1200', 'data.20190430_1200', 'data.20190501_1200', 'data.20190502_1200', 'data.20190503_1200', 'data.20190506_1200', 'data.20190507_1200', 'data.20190508_1200', 'data.20190509_1200', 'data.20190510_1200', 'data.20190513_1200', 'data.20190514_1200', 'data.20190515_1200', 'data.20190516_1200', 'data.20190517_1200', 'data.20190520_1200', 'data.20190521_1200', 'data.20190522_1200', 'data.20190523_1200', 'data.20190524_1200', 'data.20190528_1200', 'data.20190529_1200', 'data.20190530_1200', 'data.20190531_1200']\n",
      "\n"
     ]
    }
   ],
   "source": [
    "importlib.reload(test_helper)\n",
    "data = test_helper.Data(FILE_PATH)\n",
    "train_df = data.update_and_get_train_df(FILE_PATH, \"20190701\", movingBack_dayCount = 31, years_count = 1)"
   ]
  },
  {
   "cell_type": "code",
   "execution_count": 31,
   "metadata": {},
   "outputs": [
    {
     "name": "stdout",
     "output_type": "stream",
     "text": [
      "Filtered File Dates: ['data.20150701_1200', 'data.20150702_1200', 'data.20150706_1200', 'data.20150707_1200', 'data.20150708_1200', 'data.20150709_1200', 'data.20150710_1200', 'data.20150713_1200', 'data.20150714_1200', 'data.20150715_1200', 'data.20150716_1200', 'data.20150717_1200', 'data.20150720_1200', 'data.20150721_1200', 'data.20150722_1200', 'data.20150723_1200', 'data.20150724_1200', 'data.20150727_1200', 'data.20150728_1200', 'data.20150729_1200', 'data.20150730_1200', 'data.20150731_1200']\n",
      "\n"
     ]
    }
   ],
   "source": [
    "importlib.reload(test_helper)\n",
    "test_dfs = data.get_df_between_date(data_path = FILE_PATH, start_date=\"20150701\", end_date=\"20150801\")"
   ]
  },
  {
   "cell_type": "code",
   "execution_count": 32,
   "metadata": {},
   "outputs": [
    {
     "name": "stdout",
     "output_type": "stream",
     "text": [
      "No YYYYMMDD datetime matched.\n",
      "\n",
      "You're using: OLS.\n",
      "\n",
      "Available hyperparams: {'fit_intercept': True, 'copy_X': True, 'n_jobs': None, 'positive': False}\n",
      "Features being used: [\"('relvol_nt_0', 'rrirpnxm_nt_0')\", \"('relvol_lst15_0', 'rrirpnxm_lst15_0')\", \"('relvol_lsthrx15_0', 'rrirpnxm_lsthrx15_0')\", \"('relvol_toxhr_0', 'rrirpnxm_toxhr_0')\", 'rrirpnxm_nt_0', 'rrirpnxm_lst15_0', 'rrirpnxm_lsthrx15_0', 'rrirpnxm_toxhr_0']\n"
     ]
    },
    {
     "data": {
      "text/plain": [
       "(0.03106576056947642, 0.00023269608826127447, 0.9954860021549081)"
      ]
     },
     "execution_count": 32,
     "metadata": {},
     "output_type": "execute_result"
    }
   ],
   "source": [
    "importlib.reload(test_helper)\n",
    "ols_model = test_helper.Regression(data_path = FILE_PATH)\n",
    "ols_model.train(train_df, feature_col_names = FEATURE_COL_NAMES, interacting_terms_list = list_of_interacting_terms, hyperparam_dict={'fit_intercept': False, 'positive':True})\n",
    "ols_model.get_metric(dataframes = test_dfs)"
   ]
  },
  {
   "cell_type": "code",
   "execution_count": 33,
   "metadata": {},
   "outputs": [
    {
     "name": "stdout",
     "output_type": "stream",
     "text": [
      "No YYYYMMDD datetime matched.\n",
      "\n",
      "You're using: OLS.\n",
      "\n",
      "Available hyperparams: {'fit_intercept': True, 'copy_X': True, 'n_jobs': None, 'positive': False}\n",
      "Features being used: ['eqid', 'wt', 'today', 'tmwam', 'dn3sttmwmd', 'dn1', 'dn4x1', 'cftorrrelstd_open_0', 'liqlog_open_0', 'llirpnxm_am_1', 'llirpnxm_dy_12to16', 'llirpnxm_dy_17to21', 'llirpnxm_dy_1to3', 'llirpnxm_dy_4to6', 'llirpnxm_dy_7to11', 'llirpnxm_lst15_0', 'llirpnxm_lsthrx15_0', 'llirpnxm_md_1', 'llirpnxm_nt_0', 'llirpnxm_nt_1', 'llirpnxm_nt_12to16', 'llirpnxm_nt_17to21', 'llirpnxm_nt_1to3', 'llirpnxm_nt_4to6', 'llirpnxm_nt_7to11', 'llirpnxm_pm_1', 'llirpnxm_toxhr_0', 'mocrelvol_open_1', 'mocrelvol_open_13to17', 'mocrelvol_open_18to22', 'mocrelvol_open_2to4', 'mocrelvol_open_5to7', 'mocrelvol_open_8to12', 'momr10d_open_0', 'momr50dx10d_open_0', 'moorelvol_open_0', 'moorelvol_open_12to16', 'moorelvol_open_17to21', 'moorelvol_open_1to3', 'moorelvol_open_4to6', 'moorelvol_open_7to11', 'nnetticksrelmultstdev_am_1', 'nnetticksrelmultstdev_dy_12to16', 'nnetticksrelmultstdev_dy_17to21', 'nnetticksrelmultstdev_dy_1to3', 'nnetticksrelmultstdev_dy_4to6', 'nnetticksrelmultstdev_dy_7to11', 'nnetticksrelmultstdev_lst15_0', 'nnetticksrelmultstdev_lsthrx15_0', 'nnetticksrelmultstdev_md_1', 'nnetticksrelmultstdev_nt_0', 'nnetticksrelmultstdev_nt_1', 'nnetticksrelmultstdev_nt_12to16', 'nnetticksrelmultstdev_nt_17to21', 'nnetticksrelmultstdev_nt_1to3', 'nnetticksrelmultstdev_nt_4to6', 'nnetticksrelmultstdev_nt_7to11', 'nnetticksrelmultstdev_pm_1', 'nnetticksrelmultstdev_toxhr_0', 'nnetticksrelrrsign_am_1', 'nnetticksrelrrsign_dy_12to16', 'nnetticksrelrrsign_dy_17to21', 'nnetticksrelrrsign_dy_1to3', 'nnetticksrelrrsign_dy_4to6', 'nnetticksrelrrsign_dy_7to11', 'nnetticksrelrrsign_lst15_0', 'nnetticksrelrrsign_lsthrx15_0', 'nnetticksrelrrsign_md_1', 'nnetticksrelrrsign_nt_0', 'nnetticksrelrrsign_nt_1', 'nnetticksrelrrsign_nt_12to16', 'nnetticksrelrrsign_nt_17to21', 'nnetticksrelrrsign_nt_1to3', 'nnetticksrelrrsign_nt_4to6', 'nnetticksrelrrsign_nt_7to11', 'nnetticksrelrrsign_pm_1', 'nnetticksrelrrsign_toxhr_0', 'nsameticksrelmultstdev_am_1', 'nsameticksrelmultstdev_dy_12to16', 'nsameticksrelmultstdev_dy_17to21', 'nsameticksrelmultstdev_dy_1to3', 'nsameticksrelmultstdev_dy_4to6', 'nsameticksrelmultstdev_dy_7to11', 'nsameticksrelmultstdev_lst15_0', 'nsameticksrelmultstdev_lsthrx15_0', 'nsameticksrelmultstdev_md_1', 'nsameticksrelmultstdev_nt_0', 'nsameticksrelmultstdev_nt_1', 'nsameticksrelmultstdev_nt_12to16', 'nsameticksrelmultstdev_nt_17to21', 'nsameticksrelmultstdev_nt_1to3', 'nsameticksrelmultstdev_nt_4to6', 'nsameticksrelmultstdev_nt_7to11', 'nsameticksrelmultstdev_pm_1', 'nsameticksrelmultstdev_toxhr_0', 'nsameticksrelrrsign_am_1', 'nsameticksrelrrsign_dy_12to16', 'nsameticksrelrrsign_dy_17to21', 'nsameticksrelrrsign_dy_1to3', 'nsameticksrelrrsign_dy_4to6', 'nsameticksrelrrsign_dy_7to11', 'nsameticksrelrrsign_lst15_0', 'nsameticksrelrrsign_lsthrx15_0', 'nsameticksrelrrsign_md_1', 'nsameticksrelrrsign_nt_0', 'nsameticksrelrrsign_nt_1', 'nsameticksrelrrsign_nt_12to16', 'nsameticksrelrrsign_nt_17to21', 'nsameticksrelrrsign_nt_1to3', 'nsameticksrelrrsign_nt_4to6', 'nsameticksrelrrsign_nt_7to11', 'nsameticksrelrrsign_pm_1', 'nsameticksrelrrsign_toxhr_0', 'qe_fwd1_open_0', 'qe_nt0_open_0', 'qe_prv1_open_0', 'qe_prv2_open_0', 'rel2retcfrtxm_am_1', 'rel2retcfrtxm_dy_12to16', 'rel2retcfrtxm_dy_17to21', 'rel2retcfrtxm_dy_1to3', 'rel2retcfrtxm_dy_4to6', 'rel2retcfrtxm_dy_7to11', 'rel2retcfrtxm_lst15_0', 'rel2retcfrtxm_lsthrx15_0', 'rel2retcfrtxm_md_1', 'rel2retcfrtxm_nt_0', 'rel2retcfrtxm_nt_1', 'rel2retcfrtxm_nt_12to16', 'rel2retcfrtxm_nt_17to21', 'rel2retcfrtxm_nt_1to3', 'rel2retcfrtxm_nt_4to6', 'rel2retcfrtxm_nt_7to11', 'rel2retcfrtxm_pm_1', 'rel2retcfrtxm_toxhr_0', 'relavgts70tr_close_1', 'relavgts70tr_close_12to16', 'relavgts70tr_close_17to21', 'relavgts70tr_close_1to3', 'relavgts70tr_close_4to6', 'relavgts70tr_close_7to11', 'relavgts70tr_now_0', 'relntrds70tr_am_1', 'relntrds70tr_dy_12to16', 'relntrds70tr_dy_17to21', 'relntrds70tr_dy_1to3', 'relntrds70tr_dy_4to6', 'relntrds70tr_dy_7to11', 'relntrds70tr_lst15_0', 'relntrds70tr_lsthrx15_0', 'relntrds70tr_md_1', 'relntrds70tr_nt_0', 'relntrds70tr_nt_1', 'relntrds70tr_nt_12to16', 'relntrds70tr_nt_17to21', 'relntrds70tr_nt_1to3', 'relntrds70tr_nt_4to6', 'relntrds70tr_nt_7to11', 'relntrds70tr_pm_1', 'relntrds70tr_toxhr_0', 'relvol_am_1', 'relvol_dy_12to16', 'relvol_dy_17to21', 'relvol_dy_1to3', 'relvol_dy_4to6', 'relvol_dy_7to11', 'relvol_lst15_0', 'relvol_lsthrx15_0', 'relvol_md_1', 'relvol_nt_0', 'relvol_nt_1', 'relvol_nt_12to16', 'relvol_nt_17to21', 'relvol_nt_1to3', 'relvol_nt_4to6', 'relvol_nt_7to11', 'relvol_pm_1', 'relvol_toxhr_0', 'rrirpnxm_am_1', 'rrirpnxm_dy_12to16', 'rrirpnxm_dy_17to21', 'rrirpnxm_dy_1to3', 'rrirpnxm_dy_4to6', 'rrirpnxm_dy_7to11', 'rrirpnxm_lst15_0', 'rrirpnxm_lsthrx15_0', 'rrirpnxm_md_1', 'rrirpnxm_nt_0', 'rrirpnxm_nt_1', 'rrirpnxm_nt_12to16', 'rrirpnxm_nt_17to21', 'rrirpnxm_nt_1to3', 'rrirpnxm_nt_4to6', 'rrirpnxm_nt_7to11', 'rrirpnxm_pm_1', 'rrirpnxm_toxhr_0', 'rrretstr_am_1', 'rrretstr_dy_12to16', 'rrretstr_dy_17to21', 'rrretstr_dy_1to3', 'rrretstr_dy_4to6', 'rrretstr_dy_7to11', 'rrretstr_lst15_0', 'rrretstr_lsthrx15_0', 'rrretstr_md_1', 'rrretstr_nt_0', 'rrretstr_nt_1', 'rrretstr_nt_12to16', 'rrretstr_nt_17to21', 'rrretstr_nt_1to3', 'rrretstr_nt_4to6', 'rrretstr_nt_7to11', 'rrretstr_pm_1', 'rrretstr_toxhr_0', 'rvdelta_am_1', 'rvdelta_dy_12to16', 'rvdelta_dy_17to21', 'rvdelta_dy_1to3', 'rvdelta_dy_4to6', 'rvdelta_dy_7to11', 'rvdelta_lst15_0', 'rvdelta_lsthrx15_0', 'rvdelta_md_1', 'rvdelta_nt_0', 'rvdelta_nt_1', 'rvdelta_nt_12to16', 'rvdelta_nt_17to21', 'rvdelta_nt_1to3', 'rvdelta_nt_4to6', 'rvdelta_nt_7to11', 'rvdelta_pm_1', 'rvdelta_toxhr_0', 'totrisklog_open_0', 'tr_am_1', 'tr_dy_12to16', 'tr_dy_17to21', 'tr_dy_1to3', 'tr_dy_4to6', 'tr_dy_7to11', 'tr_lst15_0', 'tr_lsthrx15_0', 'tr_md_1', 'tr_nt_0', 'tr_nt_1', 'tr_nt_12to16', 'tr_nt_17to21', 'tr_nt_1to3', 'tr_nt_4to6', 'tr_nt_7to11', 'tr_pm_1', 'tr_toxhr_0']\n"
     ]
    },
    {
     "data": {
      "text/plain": [
       "(0.9209163827296906, 0.0067170703912272835, 1.016981924374905)"
      ]
     },
     "execution_count": 33,
     "metadata": {},
     "output_type": "execute_result"
    }
   ],
   "source": [
    "importlib.reload(test_helper)\n",
    "full_ols_model = test_helper.Regression(data_path = FILE_PATH)\n",
    "full_ols_model.train(train_df)\n",
    "full_ols_model.get_metric(test_dfs)"
   ]
  },
  {
   "cell_type": "code",
   "execution_count": 34,
   "metadata": {},
   "outputs": [
    {
     "name": "stdout",
     "output_type": "stream",
     "text": [
      "No YYYYMMDD datetime matched.\n",
      "\n",
      "You're using: LASSO.\n",
      "\n",
      "Available hyperparams: {'eps': 0.001, 'n_alphas': 100, 'alphas': None, 'fit_intercept': True, 'precompute': 'auto', 'max_iter': 1000, 'tol': 0.0001, 'copy_X': True, 'cv': None, 'verbose': False, 'n_jobs': None, 'positive': False, 'random_state': None, 'selection': 'cyclic'}\n",
      "Features being used: [\"('relvol_nt_0', 'rrirpnxm_nt_0')\", \"('relvol_lst15_0', 'rrirpnxm_lst15_0')\", \"('relvol_lsthrx15_0', 'rrirpnxm_lsthrx15_0')\", \"('relvol_toxhr_0', 'rrirpnxm_toxhr_0')\", 'rrirpnxm_nt_0', 'rrirpnxm_lst15_0', 'rrirpnxm_lsthrx15_0', 'rrirpnxm_toxhr_0']\n"
     ]
    },
    {
     "data": {
      "text/plain": [
       "(0.032073395564528505, 0.00024760358885082384, 1.1173959088759213)"
      ]
     },
     "execution_count": 34,
     "metadata": {},
     "output_type": "execute_result"
    }
   ],
   "source": [
    "importlib.reload(test_helper)\n",
    "lasso_model = test_helper.Regression(regression_type=\"Lasso\", data_path=FILE_PATH )\n",
    "lasso_model.train(train_df, feature_col_names = FEATURE_COL_NAMES, interacting_terms_list = list_of_interacting_terms, hyperparam_dict={'random_state': 1})\n",
    "lasso_model.get_metric(dataframes = test_dfs)"
   ]
  },
  {
   "cell_type": "code",
   "execution_count": 37,
   "metadata": {},
   "outputs": [
    {
     "name": "stdout",
     "output_type": "stream",
     "text": [
      "Conducting 15 on a Lasso model with hyperparams:\n",
      "None\n",
      "No YYYYMMDD datetime matched.\n",
      "\n",
      "You're using: LASSO.\n",
      "\n",
      "Available hyperparams: {'eps': 0.001, 'n_alphas': 100, 'alphas': None, 'fit_intercept': True, 'precompute': 'auto', 'max_iter': 1000, 'tol': 0.0001, 'copy_X': True, 'cv': None, 'verbose': False, 'n_jobs': None, 'positive': False, 'random_state': None, 'selection': 'cyclic'}\n",
      "Features being used: [\"('relvol_nt_0', 'rrirpnxm_nt_0')\", \"('relvol_lst15_0', 'rrirpnxm_lst15_0')\", \"('relvol_lsthrx15_0', 'rrirpnxm_lsthrx15_0')\", \"('relvol_toxhr_0', 'rrirpnxm_toxhr_0')\", 'rrirpnxm_nt_0', 'rrirpnxm_lst15_0', 'rrirpnxm_lsthrx15_0', 'rrirpnxm_toxhr_0']\n",
      "No YYYYMMDD datetime matched.\n",
      "\n",
      "You're using: LASSO.\n",
      "\n",
      "Available hyperparams: {'eps': 0.001, 'n_alphas': 100, 'alphas': None, 'fit_intercept': True, 'precompute': 'auto', 'max_iter': 1000, 'tol': 0.0001, 'copy_X': True, 'cv': None, 'verbose': False, 'n_jobs': None, 'positive': False, 'random_state': None, 'selection': 'cyclic'}\n",
      "Features being used: [\"('relvol_nt_0', 'rrirpnxm_nt_0')\", \"('relvol_lst15_0', 'rrirpnxm_lst15_0')\", \"('relvol_lsthrx15_0', 'rrirpnxm_lsthrx15_0')\", \"('relvol_toxhr_0', 'rrirpnxm_toxhr_0')\", 'rrirpnxm_nt_0', 'rrirpnxm_lst15_0', 'rrirpnxm_lsthrx15_0', 'rrirpnxm_toxhr_0']\n",
      "No YYYYMMDD datetime matched.\n",
      "\n",
      "You're using: LASSO.\n",
      "\n",
      "Available hyperparams: {'eps': 0.001, 'n_alphas': 100, 'alphas': None, 'fit_intercept': True, 'precompute': 'auto', 'max_iter': 1000, 'tol': 0.0001, 'copy_X': True, 'cv': None, 'verbose': False, 'n_jobs': None, 'positive': False, 'random_state': None, 'selection': 'cyclic'}\n",
      "Features being used: [\"('relvol_nt_0', 'rrirpnxm_nt_0')\", \"('relvol_lst15_0', 'rrirpnxm_lst15_0')\", \"('relvol_lsthrx15_0', 'rrirpnxm_lsthrx15_0')\", \"('relvol_toxhr_0', 'rrirpnxm_toxhr_0')\", 'rrirpnxm_nt_0', 'rrirpnxm_lst15_0', 'rrirpnxm_lsthrx15_0', 'rrirpnxm_toxhr_0']\n",
      "No YYYYMMDD datetime matched.\n",
      "\n",
      "You're using: LASSO.\n",
      "\n",
      "Available hyperparams: {'eps': 0.001, 'n_alphas': 100, 'alphas': None, 'fit_intercept': True, 'precompute': 'auto', 'max_iter': 1000, 'tol': 0.0001, 'copy_X': True, 'cv': None, 'verbose': False, 'n_jobs': None, 'positive': False, 'random_state': None, 'selection': 'cyclic'}\n",
      "Features being used: [\"('relvol_nt_0', 'rrirpnxm_nt_0')\", \"('relvol_lst15_0', 'rrirpnxm_lst15_0')\", \"('relvol_lsthrx15_0', 'rrirpnxm_lsthrx15_0')\", \"('relvol_toxhr_0', 'rrirpnxm_toxhr_0')\", 'rrirpnxm_nt_0', 'rrirpnxm_lst15_0', 'rrirpnxm_lsthrx15_0', 'rrirpnxm_toxhr_0']\n",
      "No YYYYMMDD datetime matched.\n",
      "\n",
      "You're using: LASSO.\n",
      "\n",
      "Available hyperparams: {'eps': 0.001, 'n_alphas': 100, 'alphas': None, 'fit_intercept': True, 'precompute': 'auto', 'max_iter': 1000, 'tol': 0.0001, 'copy_X': True, 'cv': None, 'verbose': False, 'n_jobs': None, 'positive': False, 'random_state': None, 'selection': 'cyclic'}\n",
      "Features being used: [\"('relvol_nt_0', 'rrirpnxm_nt_0')\", \"('relvol_lst15_0', 'rrirpnxm_lst15_0')\", \"('relvol_lsthrx15_0', 'rrirpnxm_lsthrx15_0')\", \"('relvol_toxhr_0', 'rrirpnxm_toxhr_0')\", 'rrirpnxm_nt_0', 'rrirpnxm_lst15_0', 'rrirpnxm_lsthrx15_0', 'rrirpnxm_toxhr_0']\n",
      "No YYYYMMDD datetime matched.\n",
      "\n",
      "You're using: LASSO.\n",
      "\n",
      "Available hyperparams: {'eps': 0.001, 'n_alphas': 100, 'alphas': None, 'fit_intercept': True, 'precompute': 'auto', 'max_iter': 1000, 'tol': 0.0001, 'copy_X': True, 'cv': None, 'verbose': False, 'n_jobs': None, 'positive': False, 'random_state': None, 'selection': 'cyclic'}\n",
      "Features being used: [\"('relvol_nt_0', 'rrirpnxm_nt_0')\", \"('relvol_lst15_0', 'rrirpnxm_lst15_0')\", \"('relvol_lsthrx15_0', 'rrirpnxm_lsthrx15_0')\", \"('relvol_toxhr_0', 'rrirpnxm_toxhr_0')\", 'rrirpnxm_nt_0', 'rrirpnxm_lst15_0', 'rrirpnxm_lsthrx15_0', 'rrirpnxm_toxhr_0']\n",
      "No YYYYMMDD datetime matched.\n",
      "\n",
      "You're using: LASSO.\n",
      "\n",
      "Available hyperparams: {'eps': 0.001, 'n_alphas': 100, 'alphas': None, 'fit_intercept': True, 'precompute': 'auto', 'max_iter': 1000, 'tol': 0.0001, 'copy_X': True, 'cv': None, 'verbose': False, 'n_jobs': None, 'positive': False, 'random_state': None, 'selection': 'cyclic'}\n",
      "Features being used: [\"('relvol_nt_0', 'rrirpnxm_nt_0')\", \"('relvol_lst15_0', 'rrirpnxm_lst15_0')\", \"('relvol_lsthrx15_0', 'rrirpnxm_lsthrx15_0')\", \"('relvol_toxhr_0', 'rrirpnxm_toxhr_0')\", 'rrirpnxm_nt_0', 'rrirpnxm_lst15_0', 'rrirpnxm_lsthrx15_0', 'rrirpnxm_toxhr_0']\n",
      "No YYYYMMDD datetime matched.\n",
      "\n",
      "You're using: LASSO.\n",
      "\n",
      "Available hyperparams: {'eps': 0.001, 'n_alphas': 100, 'alphas': None, 'fit_intercept': True, 'precompute': 'auto', 'max_iter': 1000, 'tol': 0.0001, 'copy_X': True, 'cv': None, 'verbose': False, 'n_jobs': None, 'positive': False, 'random_state': None, 'selection': 'cyclic'}\n",
      "Features being used: [\"('relvol_nt_0', 'rrirpnxm_nt_0')\", \"('relvol_lst15_0', 'rrirpnxm_lst15_0')\", \"('relvol_lsthrx15_0', 'rrirpnxm_lsthrx15_0')\", \"('relvol_toxhr_0', 'rrirpnxm_toxhr_0')\", 'rrirpnxm_nt_0', 'rrirpnxm_lst15_0', 'rrirpnxm_lsthrx15_0', 'rrirpnxm_toxhr_0']\n",
      "No YYYYMMDD datetime matched.\n",
      "\n",
      "You're using: LASSO.\n",
      "\n",
      "Available hyperparams: {'eps': 0.001, 'n_alphas': 100, 'alphas': None, 'fit_intercept': True, 'precompute': 'auto', 'max_iter': 1000, 'tol': 0.0001, 'copy_X': True, 'cv': None, 'verbose': False, 'n_jobs': None, 'positive': False, 'random_state': None, 'selection': 'cyclic'}\n",
      "Features being used: [\"('relvol_nt_0', 'rrirpnxm_nt_0')\", \"('relvol_lst15_0', 'rrirpnxm_lst15_0')\", \"('relvol_lsthrx15_0', 'rrirpnxm_lsthrx15_0')\", \"('relvol_toxhr_0', 'rrirpnxm_toxhr_0')\", 'rrirpnxm_nt_0', 'rrirpnxm_lst15_0', 'rrirpnxm_lsthrx15_0', 'rrirpnxm_toxhr_0']\n",
      "No YYYYMMDD datetime matched.\n",
      "\n",
      "You're using: LASSO.\n",
      "\n",
      "Available hyperparams: {'eps': 0.001, 'n_alphas': 100, 'alphas': None, 'fit_intercept': True, 'precompute': 'auto', 'max_iter': 1000, 'tol': 0.0001, 'copy_X': True, 'cv': None, 'verbose': False, 'n_jobs': None, 'positive': False, 'random_state': None, 'selection': 'cyclic'}\n",
      "Features being used: [\"('relvol_nt_0', 'rrirpnxm_nt_0')\", \"('relvol_lst15_0', 'rrirpnxm_lst15_0')\", \"('relvol_lsthrx15_0', 'rrirpnxm_lsthrx15_0')\", \"('relvol_toxhr_0', 'rrirpnxm_toxhr_0')\", 'rrirpnxm_nt_0', 'rrirpnxm_lst15_0', 'rrirpnxm_lsthrx15_0', 'rrirpnxm_toxhr_0']\n",
      "No YYYYMMDD datetime matched.\n",
      "\n",
      "You're using: LASSO.\n",
      "\n",
      "Available hyperparams: {'eps': 0.001, 'n_alphas': 100, 'alphas': None, 'fit_intercept': True, 'precompute': 'auto', 'max_iter': 1000, 'tol': 0.0001, 'copy_X': True, 'cv': None, 'verbose': False, 'n_jobs': None, 'positive': False, 'random_state': None, 'selection': 'cyclic'}\n",
      "Features being used: [\"('relvol_nt_0', 'rrirpnxm_nt_0')\", \"('relvol_lst15_0', 'rrirpnxm_lst15_0')\", \"('relvol_lsthrx15_0', 'rrirpnxm_lsthrx15_0')\", \"('relvol_toxhr_0', 'rrirpnxm_toxhr_0')\", 'rrirpnxm_nt_0', 'rrirpnxm_lst15_0', 'rrirpnxm_lsthrx15_0', 'rrirpnxm_toxhr_0']\n",
      "No YYYYMMDD datetime matched.\n",
      "\n",
      "You're using: LASSO.\n",
      "\n",
      "Available hyperparams: {'eps': 0.001, 'n_alphas': 100, 'alphas': None, 'fit_intercept': True, 'precompute': 'auto', 'max_iter': 1000, 'tol': 0.0001, 'copy_X': True, 'cv': None, 'verbose': False, 'n_jobs': None, 'positive': False, 'random_state': None, 'selection': 'cyclic'}\n",
      "Features being used: [\"('relvol_nt_0', 'rrirpnxm_nt_0')\", \"('relvol_lst15_0', 'rrirpnxm_lst15_0')\", \"('relvol_lsthrx15_0', 'rrirpnxm_lsthrx15_0')\", \"('relvol_toxhr_0', 'rrirpnxm_toxhr_0')\", 'rrirpnxm_nt_0', 'rrirpnxm_lst15_0', 'rrirpnxm_lsthrx15_0', 'rrirpnxm_toxhr_0']\n",
      "No YYYYMMDD datetime matched.\n",
      "\n",
      "You're using: LASSO.\n",
      "\n",
      "Available hyperparams: {'eps': 0.001, 'n_alphas': 100, 'alphas': None, 'fit_intercept': True, 'precompute': 'auto', 'max_iter': 1000, 'tol': 0.0001, 'copy_X': True, 'cv': None, 'verbose': False, 'n_jobs': None, 'positive': False, 'random_state': None, 'selection': 'cyclic'}\n",
      "Features being used: [\"('relvol_nt_0', 'rrirpnxm_nt_0')\", \"('relvol_lst15_0', 'rrirpnxm_lst15_0')\", \"('relvol_lsthrx15_0', 'rrirpnxm_lsthrx15_0')\", \"('relvol_toxhr_0', 'rrirpnxm_toxhr_0')\", 'rrirpnxm_nt_0', 'rrirpnxm_lst15_0', 'rrirpnxm_lsthrx15_0', 'rrirpnxm_toxhr_0']\n",
      "No YYYYMMDD datetime matched.\n",
      "\n",
      "You're using: LASSO.\n",
      "\n",
      "Available hyperparams: {'eps': 0.001, 'n_alphas': 100, 'alphas': None, 'fit_intercept': True, 'precompute': 'auto', 'max_iter': 1000, 'tol': 0.0001, 'copy_X': True, 'cv': None, 'verbose': False, 'n_jobs': None, 'positive': False, 'random_state': None, 'selection': 'cyclic'}\n",
      "Features being used: [\"('relvol_nt_0', 'rrirpnxm_nt_0')\", \"('relvol_lst15_0', 'rrirpnxm_lst15_0')\", \"('relvol_lsthrx15_0', 'rrirpnxm_lsthrx15_0')\", \"('relvol_toxhr_0', 'rrirpnxm_toxhr_0')\", 'rrirpnxm_nt_0', 'rrirpnxm_lst15_0', 'rrirpnxm_lsthrx15_0', 'rrirpnxm_toxhr_0']\n",
      "No YYYYMMDD datetime matched.\n",
      "\n",
      "You're using: LASSO.\n",
      "\n",
      "Available hyperparams: {'eps': 0.001, 'n_alphas': 100, 'alphas': None, 'fit_intercept': True, 'precompute': 'auto', 'max_iter': 1000, 'tol': 0.0001, 'copy_X': True, 'cv': None, 'verbose': False, 'n_jobs': None, 'positive': False, 'random_state': None, 'selection': 'cyclic'}\n",
      "Features being used: [\"('relvol_nt_0', 'rrirpnxm_nt_0')\", \"('relvol_lst15_0', 'rrirpnxm_lst15_0')\", \"('relvol_lsthrx15_0', 'rrirpnxm_lsthrx15_0')\", \"('relvol_toxhr_0', 'rrirpnxm_toxhr_0')\", 'rrirpnxm_nt_0', 'rrirpnxm_lst15_0', 'rrirpnxm_lsthrx15_0', 'rrirpnxm_toxhr_0']\n",
      "Average Metrics across 15:\n",
      "response_corr = 0.0320733955645285\n",
      "mean_return = 0.00024760358885082384\n",
      "scale factor = 1.1173959088759209\n"
     ]
    }
   ],
   "source": [
    "# Lasso Experiment:\n",
    "importlib.reload(test_helper)\n",
    "# No hyperparams in this exp\n",
    "test_helper.lasso_exp(FILE_PATH, train_df = train_df, test_dfs = test_dfs, interacting_terms_list = list_of_interacting_terms, feature_col_names = FEATURE_COL_NAMES, num_trials = 15)"
   ]
  },
  {
   "cell_type": "code",
   "execution_count": 40,
   "metadata": {},
   "outputs": [
    {
     "name": "stdout",
     "output_type": "stream",
     "text": [
      "No YYYYMMDD datetime matched.\n",
      "\n",
      "You're using: XGBOOST.\n",
      "\n",
      "Available hyperparams: {'n_estimators': None, 'objective': 'reg:squarederror', 'max_depth': None, 'max_leaves': None, 'max_bin': None, 'grow_policy': None, 'learning_rate': None, 'verbosity': None, 'booster': None, 'tree_method': None, 'gamma': None, 'min_child_weight': None, 'max_delta_step': None, 'subsample': None, 'sampling_method': None, 'colsample_bytree': None, 'colsample_bylevel': None, 'colsample_bynode': None, 'reg_alpha': None, 'reg_lambda': None, 'scale_pos_weight': None, 'base_score': None, 'missing': nan, 'num_parallel_tree': None, 'random_state': None, 'n_jobs': None, 'monotone_constraints': None, 'interaction_constraints': None, 'importance_type': None, 'device': None, 'validate_parameters': None, 'enable_categorical': False, 'feature_types': None, 'max_cat_to_onehot': None, 'max_cat_threshold': None, 'multi_strategy': None, 'eval_metric': None, 'early_stopping_rounds': None, 'callbacks': None}\n",
      "Features being used: [\"('relvol_nt_0', 'rrirpnxm_nt_0')\", \"('relvol_lst15_0', 'rrirpnxm_lst15_0')\", \"('relvol_lsthrx15_0', 'rrirpnxm_lsthrx15_0')\", \"('relvol_toxhr_0', 'rrirpnxm_toxhr_0')\", 'rrirpnxm_nt_0', 'rrirpnxm_lst15_0', 'rrirpnxm_lsthrx15_0', 'rrirpnxm_toxhr_0']\n",
      "response_corr = 0.011482916871108395\n",
      "mean_return = 0.00018141080745390475\n",
      "scale factor = 0.12422154098749161\n"
     ]
    },
    {
     "data": {
      "text/plain": [
       "(0.011482916871108395, 0.00018141080745390475, 0.12422154)"
      ]
     },
     "execution_count": 40,
     "metadata": {},
     "output_type": "execute_result"
    }
   ],
   "source": [
    "importlib.reload(test_helper)\n",
    "xgb_model = test_helper.Regression(regression_type=\"XGBoost\", data_path=FILE_PATH)\n",
    "xgb_model.train(train_df, feature_col_names = FEATURE_COL_NAMES, interacting_terms_list = list_of_interacting_terms, hyperparam_dict={'random_state': 1})\n",
    "xgb_model.get_metric(test_dfs)"
   ]
  }
 ],
 "metadata": {
  "kernelspec": {
   "display_name": "Python 3",
   "language": "python",
   "name": "python3"
  },
  "language_info": {
   "codemirror_mode": {
    "name": "ipython",
    "version": 3
   },
   "file_extension": ".py",
   "mimetype": "text/x-python",
   "name": "python",
   "nbconvert_exporter": "python",
   "pygments_lexer": "ipython3",
   "version": "3.10.12"
  }
 },
 "nbformat": 4,
 "nbformat_minor": 2
}
