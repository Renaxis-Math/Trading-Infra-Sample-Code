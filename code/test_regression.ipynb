{
 "cells": [
  {
   "cell_type": "code",
   "execution_count": 230,
   "metadata": {},
   "outputs": [],
   "source": [
    "import helper, consts, test_helper\n",
    "import importlib\n",
    "importlib.reload(consts)\n",
    "importlib.reload(test_helper)\n",
    "import pandas as pd\n",
    "import numpy as np\n",
    "import matplotlib.pyplot as plt\n",
    "import sklearn, scipy, requests"
   ]
  },
  {
   "cell_type": "code",
   "execution_count": 231,
   "metadata": {},
   "outputs": [],
   "source": [
    "# USER\n",
    "USER = \"HOANG\"\n",
    "FILE_PATH = consts.PATH_MAP[USER]\n",
    "\n",
    "ROW = consts.ROW\n",
    "COL = consts.COL\n",
    "CLEANED_DATA_PATH = consts.CLEANED_DATA_PATH\n",
    "DATA_PATH = consts.RAW_DATA_PATH\n",
    "RESPONSE_NAME = consts.RESPONSE_NAME\n",
    "\n",
    "TRAIN_START_DATE = \"20150101\"\n",
    "TRAIN_END_DATE = \"20150601\" # Up to but not including\n",
    "TEST_START_DATE = \"20150701\"\n",
    "TEST_END_DATE = \"20150801\"\n",
    "\n",
    "# REGRESSION_TYPES = helper.Regression('OLS').list_all_regression_types()\n",
    "# REGRESSION_TYPES"
   ]
  },
  {
   "cell_type": "code",
   "execution_count": 232,
   "metadata": {},
   "outputs": [],
   "source": [
    "list_of_interacting_terms = [[\"relvol_nt_0\",\"rrirpnxm_nt_0\"], \n",
    "                            [\"relvol_lst15_0\", \"rrirpnxm_lst15_0\"],\n",
    "                            [\"relvol_lsthrx15_0\", \"rrirpnxm_lsthrx15_0\"],\n",
    "                            [\"relvol_toxhr_0\", \"rrirpnxm_toxhr_0\"]]\n",
    "\n",
    "FEATURE_COL_NAMES = [\"rrirpnxm_nt_0\", \"rrirpnxm_lst15_0\", \"rrirpnxm_lsthrx15_0\", \"rrirpnxm_toxhr_0\"]"
   ]
  },
  {
   "cell_type": "code",
   "execution_count": 233,
   "metadata": {},
   "outputs": [
    {
     "name": "stdout",
     "output_type": "stream",
     "text": [
      "Filtered File Dates: ['data.20150102_1200', 'data.20150105_1200', 'data.20150106_1200', 'data.20150107_1200', 'data.20150108_1200', 'data.20150109_1200', 'data.20150112_1200', 'data.20150113_1200', 'data.20150114_1200', 'data.20150115_1200', 'data.20150116_1200', 'data.20150120_1200', 'data.20150121_1200', 'data.20150122_1200', 'data.20150123_1200', 'data.20150126_1200', 'data.20150127_1200', 'data.20150128_1200', 'data.20150129_1200', 'data.20150130_1200', 'data.20150202_1200', 'data.20150203_1200', 'data.20150204_1200', 'data.20150205_1200', 'data.20150206_1200', 'data.20150209_1200', 'data.20150210_1200', 'data.20150211_1200', 'data.20150212_1200', 'data.20150213_1200', 'data.20150217_1200', 'data.20150218_1200', 'data.20150219_1200', 'data.20150220_1200', 'data.20150223_1200', 'data.20150224_1200', 'data.20150225_1200', 'data.20150226_1200', 'data.20150227_1200', 'data.20150302_1200', 'data.20150303_1200', 'data.20150304_1200', 'data.20150305_1200', 'data.20150306_1200', 'data.20150309_1200', 'data.20150310_1200', 'data.20150311_1200', 'data.20150312_1200', 'data.20150313_1200', 'data.20150316_1200', 'data.20150317_1200', 'data.20150318_1200', 'data.20150319_1200', 'data.20150320_1200', 'data.20150323_1200', 'data.20150324_1200', 'data.20150325_1200', 'data.20150326_1200', 'data.20150327_1200', 'data.20150330_1200', 'data.20150331_1200', 'data.20150401_1200', 'data.20150402_1200', 'data.20150406_1200', 'data.20150407_1200', 'data.20150408_1200', 'data.20150409_1200', 'data.20150410_1200', 'data.20150413_1200', 'data.20150414_1200', 'data.20150415_1200', 'data.20150416_1200', 'data.20150417_1200', 'data.20150420_1200', 'data.20150421_1200', 'data.20150422_1200', 'data.20150423_1200', 'data.20150424_1200', 'data.20150427_1200', 'data.20150428_1200', 'data.20150429_1200', 'data.20150430_1200', 'data.20150501_1200', 'data.20150504_1200', 'data.20150505_1200', 'data.20150506_1200', 'data.20150507_1200', 'data.20150508_1200', 'data.20150511_1200', 'data.20150512_1200', 'data.20150513_1200', 'data.20150514_1200', 'data.20150515_1200', 'data.20150518_1200', 'data.20150519_1200', 'data.20150520_1200', 'data.20150521_1200', 'data.20150522_1200', 'data.20150526_1200', 'data.20150527_1200', 'data.20150528_1200', 'data.20150529_1200']\n",
      "\n"
     ]
    }
   ],
   "source": [
    "importlib.reload(test_helper)\n",
    "data = test_helper.Data(FILE_PATH)\n",
    "train_df = data.update_and_get_train_df(FILE_PATH, \"20150701\", 31)"
   ]
  },
  {
   "cell_type": "code",
   "execution_count": 234,
   "metadata": {},
   "outputs": [
    {
     "name": "stdout",
     "output_type": "stream",
     "text": [
      "Filtered File Dates: ['data.20150701_1200', 'data.20150702_1200', 'data.20150706_1200', 'data.20150707_1200', 'data.20150708_1200', 'data.20150709_1200', 'data.20150710_1200', 'data.20150713_1200', 'data.20150714_1200', 'data.20150715_1200', 'data.20150716_1200', 'data.20150717_1200', 'data.20150720_1200', 'data.20150721_1200', 'data.20150722_1200', 'data.20150723_1200', 'data.20150724_1200', 'data.20150727_1200', 'data.20150728_1200', 'data.20150729_1200', 'data.20150730_1200', 'data.20150731_1200']\n",
      "\n"
     ]
    }
   ],
   "source": [
    "importlib.reload(test_helper)\n",
    "test_dfs = data.get_df_between_date(data_path = FILE_PATH, start_date=\"20150701\", end_date=\"20150801\")"
   ]
  },
  {
   "cell_type": "code",
   "execution_count": 235,
   "metadata": {},
   "outputs": [
    {
     "name": "stdout",
     "output_type": "stream",
     "text": [
      "You're using: OLS\n",
      "Available hyperparams: {'fit_intercept': True, 'copy_X': True, 'n_jobs': None, 'positive': False}\n",
      "Features being used: ['rrirpnxm_nt_0', 'rrirpnxm_lst15_0', 'rrirpnxm_lsthrx15_0', 'rrirpnxm_toxhr_0', \"('relvol_nt_0', 'rrirpnxm_nt_0')\", \"('relvol_lst15_0', 'rrirpnxm_lst15_0')\", \"('relvol_lsthrx15_0', 'rrirpnxm_lsthrx15_0')\", \"('relvol_toxhr_0', 'rrirpnxm_toxhr_0')\"]\n",
      "response_corr = 0.02878764732263456\n",
      "mean_return = 0.00020496155663289543\n",
      "scale factor = 0.7251932290867417\n"
     ]
    }
   ],
   "source": [
    "importlib.reload(test_helper)\n",
    "ols_model = test_helper.Regression(data_path = FILE_PATH)\n",
    "ols_model.train(FEATURE_COL_NAMES, list_of_interacting_terms, dataframe = train_df)\n",
    "ols_model.get_metric(dataframes = test_dfs)"
   ]
  },
  {
   "cell_type": "code",
   "execution_count": 237,
   "metadata": {},
   "outputs": [
    {
     "name": "stdout",
     "output_type": "stream",
     "text": [
      "You're using: LASSO\n",
      "Available hyperparams: {'eps': 0.001, 'n_alphas': 100, 'alphas': None, 'fit_intercept': True, 'precompute': 'auto', 'max_iter': 1000, 'tol': 0.0001, 'copy_X': True, 'cv': None, 'verbose': False, 'n_jobs': None, 'positive': False, 'random_state': None, 'selection': 'cyclic'}\n",
      "Features being used: ['rrirpnxm_nt_0', 'rrirpnxm_lst15_0', 'rrirpnxm_lsthrx15_0', 'rrirpnxm_toxhr_0', \"('relvol_nt_0', 'rrirpnxm_nt_0')\", \"('relvol_lst15_0', 'rrirpnxm_lst15_0')\", \"('relvol_lsthrx15_0', 'rrirpnxm_lsthrx15_0')\", \"('relvol_toxhr_0', 'rrirpnxm_toxhr_0')\"]\n",
      "response_corr = 0.02999197590687863\n",
      "mean_return = 0.00022296778636828244\n",
      "scale factor = 0.8806622869201416\n"
     ]
    }
   ],
   "source": [
    "lasso_model = test_helper.Regression(regression_type=\"Lasso\", data_path=FILE_PATH )\n",
    "lasso_model.train(FEATURE_COL_NAMES, list_of_interacting_terms, dataframe = train_df)\n",
    "lasso_model.get_metric(dataframes = test_dfs)"
   ]
  },
  {
   "cell_type": "code",
   "execution_count": 238,
   "metadata": {},
   "outputs": [
    {
     "name": "stdout",
     "output_type": "stream",
     "text": [
      "You're using: XGBOOST\n",
      "Available hyperparams: {'n_estimators': None, 'objective': 'reg:squarederror', 'max_depth': None, 'max_leaves': None, 'max_bin': None, 'grow_policy': None, 'learning_rate': None, 'verbosity': None, 'booster': None, 'tree_method': None, 'gamma': None, 'min_child_weight': None, 'max_delta_step': None, 'subsample': None, 'sampling_method': None, 'colsample_bytree': None, 'colsample_bylevel': None, 'colsample_bynode': None, 'reg_alpha': None, 'reg_lambda': None, 'scale_pos_weight': None, 'base_score': None, 'missing': nan, 'num_parallel_tree': None, 'random_state': None, 'n_jobs': None, 'monotone_constraints': None, 'interaction_constraints': None, 'importance_type': None, 'device': None, 'validate_parameters': None, 'enable_categorical': False, 'feature_types': None, 'max_cat_to_onehot': None, 'max_cat_threshold': None, 'multi_strategy': None, 'eval_metric': None, 'early_stopping_rounds': None, 'callbacks': None}\n",
      "Features being used: ['rrirpnxm_nt_0', 'rrirpnxm_lst15_0', 'rrirpnxm_lsthrx15_0', 'rrirpnxm_toxhr_0', \"('relvol_nt_0', 'rrirpnxm_nt_0')\", \"('relvol_lst15_0', 'rrirpnxm_lst15_0')\", \"('relvol_lsthrx15_0', 'rrirpnxm_lsthrx15_0')\", \"('relvol_toxhr_0', 'rrirpnxm_toxhr_0')\"]\n",
      "response_corr = 0.012792559357910644\n",
      "mean_return = 9.302697083344255e-05\n",
      "scale factor = 0.08863221853971481\n"
     ]
    }
   ],
   "source": [
    "xgb_model = test_helper.Regression(regression_type=\"XGBoost\", data_path=FILE_PATH)\n",
    "xgb_model.train(FEATURE_COL_NAMES, list_of_interacting_terms, dataframe = train_df)\n",
    "xgb_model.get_metric(dataframes = test_dfs)"
   ]
  }
 ],
 "metadata": {
  "kernelspec": {
   "display_name": "Python 3",
   "language": "python",
   "name": "python3"
  },
  "language_info": {
   "codemirror_mode": {
    "name": "ipython",
    "version": 3
   },
   "file_extension": ".py",
   "mimetype": "text/x-python",
   "name": "python",
   "nbconvert_exporter": "python",
   "pygments_lexer": "ipython3",
   "version": "3.11.3"
  }
 },
 "nbformat": 4,
 "nbformat_minor": 2
}
