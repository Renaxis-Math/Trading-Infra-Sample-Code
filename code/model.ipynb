{
 "cells": [
  {
   "cell_type": "code",
   "execution_count": 16,
   "metadata": {},
   "outputs": [],
   "source": [
    "import consts, helper\n",
    "import importlib\n",
    "import pandas as pd\n",
    "import numpy as np\n",
    "import matplotlib.pyplot as plt\n",
    "import sklearn, scipy, requests"
   ]
  },
  {
   "cell_type": "code",
   "execution_count": 17,
   "metadata": {},
   "outputs": [
    {
     "data": {
      "text/plain": [
       "<module 'helper' from '/Users/hoangchu/Downloads/Clinic/Clinic/code/helper.py'>"
      ]
     },
     "execution_count": 17,
     "metadata": {},
     "output_type": "execute_result"
    }
   ],
   "source": [
    "importlib.reload(consts)\n",
    "importlib.reload(helper)"
   ]
  },
  {
   "cell_type": "code",
   "execution_count": 18,
   "metadata": {},
   "outputs": [],
   "source": [
    "# USER\n",
    "USER = \"HOANG\"\n",
    "FILE_PATH = consts.PATH_MAP[USER]\n",
    "\n",
    "ROW = consts.ROW\n",
    "COL = consts.COL\n",
    "CLEANED_DATA_PATH = consts.CLEANED_DATA_PATH\n",
    "DATA_PATH = consts.RAW_DATA_PATH\n",
    "RESPONSE_NAME = consts.RESPONSE_NAME\n",
    "\n",
    "TRAIN_START_DATE = \"20150101\"\n",
    "TRAIN_END_DATE = \"20150601\" # Up to but not including\n",
    "TEST_START_DATE = \"20150701\"\n",
    "TEST_END_DATE = \"20150801\"\n",
    "\n",
    "# REGRESSION_TYPES = helper.Regression('OLS').list_all_regression_types()\n",
    "# REGRESSION_TYPES"
   ]
  },
  {
   "cell_type": "code",
   "execution_count": 19,
   "metadata": {},
   "outputs": [],
   "source": [
    "list_of_interacting_terms = [[\"relvol_nt_0\",\"rrirpnxm_nt_0\"], \n",
    "                            [\"relvol_lst15_0\", \"rrirpnxm_lst15_0\"],\n",
    "                            [\"relvol_lsthrx15_0\", \"rrirpnxm_lsthrx15_0\"],\n",
    "                            [\"relvol_toxhr_0\", \"rrirpnxm_toxhr_0\"]]\n",
    "\n",
    "FEATURE_COL_NAMES = [\"rrirpnxm_nt_0\", \"rrirpnxm_lst15_0\", \"rrirpnxm_lsthrx15_0\", \"rrirpnxm_toxhr_0\"]"
   ]
  },
  {
   "cell_type": "code",
   "execution_count": 20,
   "metadata": {},
   "outputs": [
    {
     "name": "stdout",
     "output_type": "stream",
     "text": [
      "Filtered File Dates: ['data.20150102_1200', 'data.20150105_1200', 'data.20150106_1200', 'data.20150107_1200', 'data.20150108_1200', 'data.20150109_1200', 'data.20150112_1200', 'data.20150113_1200', 'data.20150114_1200', 'data.20150115_1200', 'data.20150116_1200', 'data.20150120_1200', 'data.20150121_1200', 'data.20150122_1200', 'data.20150123_1200', 'data.20150126_1200', 'data.20150127_1200', 'data.20150128_1200', 'data.20150129_1200', 'data.20150130_1200', 'data.20150202_1200', 'data.20150203_1200', 'data.20150204_1200', 'data.20150205_1200', 'data.20150206_1200', 'data.20150209_1200', 'data.20150210_1200', 'data.20150211_1200', 'data.20150212_1200', 'data.20150213_1200', 'data.20150217_1200', 'data.20150218_1200', 'data.20150219_1200', 'data.20150220_1200', 'data.20150223_1200', 'data.20150224_1200', 'data.20150225_1200', 'data.20150226_1200', 'data.20150227_1200', 'data.20150302_1200', 'data.20150303_1200', 'data.20150304_1200', 'data.20150305_1200', 'data.20150306_1200', 'data.20150309_1200', 'data.20150310_1200', 'data.20150311_1200', 'data.20150312_1200', 'data.20150313_1200', 'data.20150316_1200', 'data.20150317_1200', 'data.20150318_1200', 'data.20150319_1200', 'data.20150320_1200', 'data.20150323_1200', 'data.20150324_1200', 'data.20150325_1200', 'data.20150326_1200', 'data.20150327_1200', 'data.20150330_1200', 'data.20150331_1200', 'data.20150401_1200', 'data.20150402_1200', 'data.20150406_1200', 'data.20150407_1200', 'data.20150408_1200', 'data.20150409_1200', 'data.20150410_1200', 'data.20150413_1200', 'data.20150414_1200', 'data.20150415_1200', 'data.20150416_1200', 'data.20150417_1200', 'data.20150420_1200', 'data.20150421_1200', 'data.20150422_1200', 'data.20150423_1200', 'data.20150424_1200', 'data.20150427_1200', 'data.20150428_1200', 'data.20150429_1200', 'data.20150430_1200', 'data.20150501_1200', 'data.20150504_1200', 'data.20150505_1200', 'data.20150506_1200', 'data.20150507_1200', 'data.20150508_1200', 'data.20150511_1200', 'data.20150512_1200', 'data.20150513_1200', 'data.20150514_1200', 'data.20150515_1200', 'data.20150518_1200', 'data.20150519_1200', 'data.20150520_1200', 'data.20150521_1200', 'data.20150522_1200', 'data.20150526_1200', 'data.20150527_1200', 'data.20150528_1200', 'data.20150529_1200']\n",
      "\n"
     ]
    }
   ],
   "source": [
    "data = helper.Data(FILE_PATH)\n",
    "train_df = data.update_and_get_train_df(FILE_PATH, \"20150701\", movingBack_dayCount = 31, years_count = 1)"
   ]
  },
  {
   "cell_type": "code",
   "execution_count": 21,
   "metadata": {},
   "outputs": [
    {
     "name": "stdout",
     "output_type": "stream",
     "text": [
      "Filtered File Dates: ['data.20150701_1200', 'data.20150702_1200', 'data.20150706_1200', 'data.20150707_1200', 'data.20150708_1200', 'data.20150709_1200', 'data.20150710_1200', 'data.20150713_1200', 'data.20150714_1200', 'data.20150715_1200', 'data.20150716_1200', 'data.20150717_1200', 'data.20150720_1200', 'data.20150721_1200', 'data.20150722_1200', 'data.20150723_1200', 'data.20150724_1200', 'data.20150727_1200', 'data.20150728_1200', 'data.20150729_1200', 'data.20150730_1200', 'data.20150731_1200']\n",
      "\n"
     ]
    }
   ],
   "source": [
    "importlib.reload(helper)\n",
    "test_dfs = data.get_df_between_date(data_path = FILE_PATH, start_date=\"20150701\", end_date=\"20150801\")"
   ]
  },
  {
   "cell_type": "code",
   "execution_count": 22,
   "metadata": {},
   "outputs": [
    {
     "name": "stdout",
     "output_type": "stream",
     "text": [
      "You're using: OLS.\n",
      "\n",
      "Features being used: [\"('relvol_nt_0', 'rrirpnxm_nt_0')\", \"('relvol_lst15_0', 'rrirpnxm_lst15_0')\", \"('relvol_lsthrx15_0', 'rrirpnxm_lsthrx15_0')\", \"('relvol_toxhr_0', 'rrirpnxm_toxhr_0')\", 'rrirpnxm_nt_0', 'rrirpnxm_lst15_0', 'rrirpnxm_lsthrx15_0', 'rrirpnxm_toxhr_0']\n",
      "response_corr = 0.028787647322633562\n",
      "mean_return = 0.00020496155663289543\n",
      "scale factor = 0.7251932290867386\n"
     ]
    }
   ],
   "source": [
    "importlib.reload(helper)\n",
    "ols_model = helper.Regression(data_path = FILE_PATH)\n",
    "ols_model.train(train_df, feature_col_names = FEATURE_COL_NAMES, interacting_terms_list = list_of_interacting_terms)\n",
    "ols_model.get_metric(dataframes = test_dfs)"
   ]
  },
  {
   "cell_type": "code",
   "execution_count": 23,
   "metadata": {},
   "outputs": [
    {
     "name": "stdout",
     "output_type": "stream",
     "text": [
      "You're using: OLS.\n",
      "\n",
      "Features being used: ['eqid', 'wt', 'today', 'tmwam', 'dn3sttmwmd', 'dn1', 'dn4x1', 'cftorrrelstd_open_0', 'liqlog_open_0', 'llirpnxm_am_1', 'llirpnxm_dy_12to16', 'llirpnxm_dy_17to21', 'llirpnxm_dy_1to3', 'llirpnxm_dy_4to6', 'llirpnxm_dy_7to11', 'llirpnxm_lst15_0', 'llirpnxm_lsthrx15_0', 'llirpnxm_md_1', 'llirpnxm_nt_0', 'llirpnxm_nt_1', 'llirpnxm_nt_12to16', 'llirpnxm_nt_17to21', 'llirpnxm_nt_1to3', 'llirpnxm_nt_4to6', 'llirpnxm_nt_7to11', 'llirpnxm_pm_1', 'llirpnxm_toxhr_0', 'mocrelvol_open_1', 'mocrelvol_open_13to17', 'mocrelvol_open_18to22', 'mocrelvol_open_2to4', 'mocrelvol_open_5to7', 'mocrelvol_open_8to12', 'momr10d_open_0', 'momr50dx10d_open_0', 'moorelvol_open_0', 'moorelvol_open_12to16', 'moorelvol_open_17to21', 'moorelvol_open_1to3', 'moorelvol_open_4to6', 'moorelvol_open_7to11', 'nnetticksrelmultstdev_am_1', 'nnetticksrelmultstdev_dy_12to16', 'nnetticksrelmultstdev_dy_17to21', 'nnetticksrelmultstdev_dy_1to3', 'nnetticksrelmultstdev_dy_4to6', 'nnetticksrelmultstdev_dy_7to11', 'nnetticksrelmultstdev_lst15_0', 'nnetticksrelmultstdev_lsthrx15_0', 'nnetticksrelmultstdev_md_1', 'nnetticksrelmultstdev_nt_0', 'nnetticksrelmultstdev_nt_1', 'nnetticksrelmultstdev_nt_12to16', 'nnetticksrelmultstdev_nt_17to21', 'nnetticksrelmultstdev_nt_1to3', 'nnetticksrelmultstdev_nt_4to6', 'nnetticksrelmultstdev_nt_7to11', 'nnetticksrelmultstdev_pm_1', 'nnetticksrelmultstdev_toxhr_0', 'nnetticksrelrrsign_am_1', 'nnetticksrelrrsign_dy_12to16', 'nnetticksrelrrsign_dy_17to21', 'nnetticksrelrrsign_dy_1to3', 'nnetticksrelrrsign_dy_4to6', 'nnetticksrelrrsign_dy_7to11', 'nnetticksrelrrsign_lst15_0', 'nnetticksrelrrsign_lsthrx15_0', 'nnetticksrelrrsign_md_1', 'nnetticksrelrrsign_nt_0', 'nnetticksrelrrsign_nt_1', 'nnetticksrelrrsign_nt_12to16', 'nnetticksrelrrsign_nt_17to21', 'nnetticksrelrrsign_nt_1to3', 'nnetticksrelrrsign_nt_4to6', 'nnetticksrelrrsign_nt_7to11', 'nnetticksrelrrsign_pm_1', 'nnetticksrelrrsign_toxhr_0', 'nsameticksrelmultstdev_am_1', 'nsameticksrelmultstdev_dy_12to16', 'nsameticksrelmultstdev_dy_17to21', 'nsameticksrelmultstdev_dy_1to3', 'nsameticksrelmultstdev_dy_4to6', 'nsameticksrelmultstdev_dy_7to11', 'nsameticksrelmultstdev_lst15_0', 'nsameticksrelmultstdev_lsthrx15_0', 'nsameticksrelmultstdev_md_1', 'nsameticksrelmultstdev_nt_0', 'nsameticksrelmultstdev_nt_1', 'nsameticksrelmultstdev_nt_12to16', 'nsameticksrelmultstdev_nt_17to21', 'nsameticksrelmultstdev_nt_1to3', 'nsameticksrelmultstdev_nt_4to6', 'nsameticksrelmultstdev_nt_7to11', 'nsameticksrelmultstdev_pm_1', 'nsameticksrelmultstdev_toxhr_0', 'nsameticksrelrrsign_am_1', 'nsameticksrelrrsign_dy_12to16', 'nsameticksrelrrsign_dy_17to21', 'nsameticksrelrrsign_dy_1to3', 'nsameticksrelrrsign_dy_4to6', 'nsameticksrelrrsign_dy_7to11', 'nsameticksrelrrsign_lst15_0', 'nsameticksrelrrsign_lsthrx15_0', 'nsameticksrelrrsign_md_1', 'nsameticksrelrrsign_nt_0', 'nsameticksrelrrsign_nt_1', 'nsameticksrelrrsign_nt_12to16', 'nsameticksrelrrsign_nt_17to21', 'nsameticksrelrrsign_nt_1to3', 'nsameticksrelrrsign_nt_4to6', 'nsameticksrelrrsign_nt_7to11', 'nsameticksrelrrsign_pm_1', 'nsameticksrelrrsign_toxhr_0', 'qe_fwd1_open_0', 'qe_nt0_open_0', 'qe_prv1_open_0', 'qe_prv2_open_0', 'rel2retcfrtxm_am_1', 'rel2retcfrtxm_dy_12to16', 'rel2retcfrtxm_dy_17to21', 'rel2retcfrtxm_dy_1to3', 'rel2retcfrtxm_dy_4to6', 'rel2retcfrtxm_dy_7to11', 'rel2retcfrtxm_lst15_0', 'rel2retcfrtxm_lsthrx15_0', 'rel2retcfrtxm_md_1', 'rel2retcfrtxm_nt_0', 'rel2retcfrtxm_nt_1', 'rel2retcfrtxm_nt_12to16', 'rel2retcfrtxm_nt_17to21', 'rel2retcfrtxm_nt_1to3', 'rel2retcfrtxm_nt_4to6', 'rel2retcfrtxm_nt_7to11', 'rel2retcfrtxm_pm_1', 'rel2retcfrtxm_toxhr_0', 'relavgts70tr_close_1', 'relavgts70tr_close_12to16', 'relavgts70tr_close_17to21', 'relavgts70tr_close_1to3', 'relavgts70tr_close_4to6', 'relavgts70tr_close_7to11', 'relavgts70tr_now_0', 'relntrds70tr_am_1', 'relntrds70tr_dy_12to16', 'relntrds70tr_dy_17to21', 'relntrds70tr_dy_1to3', 'relntrds70tr_dy_4to6', 'relntrds70tr_dy_7to11', 'relntrds70tr_lst15_0', 'relntrds70tr_lsthrx15_0', 'relntrds70tr_md_1', 'relntrds70tr_nt_0', 'relntrds70tr_nt_1', 'relntrds70tr_nt_12to16', 'relntrds70tr_nt_17to21', 'relntrds70tr_nt_1to3', 'relntrds70tr_nt_4to6', 'relntrds70tr_nt_7to11', 'relntrds70tr_pm_1', 'relntrds70tr_toxhr_0', 'relvol_am_1', 'relvol_dy_12to16', 'relvol_dy_17to21', 'relvol_dy_1to3', 'relvol_dy_4to6', 'relvol_dy_7to11', 'relvol_lst15_0', 'relvol_lsthrx15_0', 'relvol_md_1', 'relvol_nt_0', 'relvol_nt_1', 'relvol_nt_12to16', 'relvol_nt_17to21', 'relvol_nt_1to3', 'relvol_nt_4to6', 'relvol_nt_7to11', 'relvol_pm_1', 'relvol_toxhr_0', 'rrirpnxm_am_1', 'rrirpnxm_dy_12to16', 'rrirpnxm_dy_17to21', 'rrirpnxm_dy_1to3', 'rrirpnxm_dy_4to6', 'rrirpnxm_dy_7to11', 'rrirpnxm_lst15_0', 'rrirpnxm_lsthrx15_0', 'rrirpnxm_md_1', 'rrirpnxm_nt_0', 'rrirpnxm_nt_1', 'rrirpnxm_nt_12to16', 'rrirpnxm_nt_17to21', 'rrirpnxm_nt_1to3', 'rrirpnxm_nt_4to6', 'rrirpnxm_nt_7to11', 'rrirpnxm_pm_1', 'rrirpnxm_toxhr_0', 'rrretstr_am_1', 'rrretstr_dy_12to16', 'rrretstr_dy_17to21', 'rrretstr_dy_1to3', 'rrretstr_dy_4to6', 'rrretstr_dy_7to11', 'rrretstr_lst15_0', 'rrretstr_lsthrx15_0', 'rrretstr_md_1', 'rrretstr_nt_0', 'rrretstr_nt_1', 'rrretstr_nt_12to16', 'rrretstr_nt_17to21', 'rrretstr_nt_1to3', 'rrretstr_nt_4to6', 'rrretstr_nt_7to11', 'rrretstr_pm_1', 'rrretstr_toxhr_0', 'rvdelta_am_1', 'rvdelta_dy_12to16', 'rvdelta_dy_17to21', 'rvdelta_dy_1to3', 'rvdelta_dy_4to6', 'rvdelta_dy_7to11', 'rvdelta_lst15_0', 'rvdelta_lsthrx15_0', 'rvdelta_md_1', 'rvdelta_nt_0', 'rvdelta_nt_1', 'rvdelta_nt_12to16', 'rvdelta_nt_17to21', 'rvdelta_nt_1to3', 'rvdelta_nt_4to6', 'rvdelta_nt_7to11', 'rvdelta_pm_1', 'rvdelta_toxhr_0', 'totrisklog_open_0', 'tr_am_1', 'tr_dy_12to16', 'tr_dy_17to21', 'tr_dy_1to3', 'tr_dy_4to6', 'tr_dy_7to11', 'tr_lst15_0', 'tr_lsthrx15_0', 'tr_md_1', 'tr_nt_0', 'tr_nt_1', 'tr_nt_12to16', 'tr_nt_17to21', 'tr_nt_1to3', 'tr_nt_4to6', 'tr_nt_7to11', 'tr_pm_1', 'tr_toxhr_0']\n",
      "response_corr = 0.9207720799467564\n",
      "mean_return = 0.006711605293769198\n",
      "scale factor = 1.0009535436572445\n"
     ]
    }
   ],
   "source": [
    "importlib.reload(helper)\n",
    "full_ols_model = helper.Regression(data_path = FILE_PATH)\n",
    "full_ols_model.train(train_df)\n",
    "full_ols_model.get_metric(test_dfs)"
   ]
  },
  {
   "cell_type": "code",
   "execution_count": 24,
   "metadata": {},
   "outputs": [
    {
     "name": "stdout",
     "output_type": "stream",
     "text": [
      "You're using: LASSO.\n",
      "\n",
      "Features being used: [\"('relvol_nt_0', 'rrirpnxm_nt_0')\", \"('relvol_lst15_0', 'rrirpnxm_lst15_0')\", \"('relvol_lsthrx15_0', 'rrirpnxm_lsthrx15_0')\", \"('relvol_toxhr_0', 'rrirpnxm_toxhr_0')\", 'rrirpnxm_nt_0', 'rrirpnxm_lst15_0', 'rrirpnxm_lsthrx15_0', 'rrirpnxm_toxhr_0']\n",
      "response_corr = 0.029992116072609713\n",
      "mean_return = 0.00022296778636828244\n",
      "scale factor = 0.8806654508326743\n"
     ]
    }
   ],
   "source": [
    "importlib.reload(helper)\n",
    "lasso_model = helper.Regression(regression_type=\"Lasso\", data_path=FILE_PATH )\n",
    "lasso_model.train(train_df, feature_col_names = FEATURE_COL_NAMES, interacting_terms_list = list_of_interacting_terms)\n",
    "lasso_model.get_metric(dataframes = test_dfs)"
   ]
  },
  {
   "cell_type": "code",
   "execution_count": 25,
   "metadata": {},
   "outputs": [
    {
     "name": "stdout",
     "output_type": "stream",
     "text": [
      "You're using: XGBOOST.\n",
      "\n",
      "Features being used: [\"('relvol_nt_0', 'rrirpnxm_nt_0')\", \"('relvol_lst15_0', 'rrirpnxm_lst15_0')\", \"('relvol_lsthrx15_0', 'rrirpnxm_lsthrx15_0')\", \"('relvol_toxhr_0', 'rrirpnxm_toxhr_0')\", 'rrirpnxm_nt_0', 'rrirpnxm_lst15_0', 'rrirpnxm_lsthrx15_0', 'rrirpnxm_toxhr_0']\n",
      "response_corr = 0.011650857689114391\n",
      "mean_return = 9.24366214809855e-05\n",
      "scale factor = 0.08073174208402634\n"
     ]
    }
   ],
   "source": [
    "xgb_model = helper.Regression(regression_type=\"XGBoost\", data_path=FILE_PATH)\n",
    "xgb_model.train(train_df, feature_col_names = FEATURE_COL_NAMES, interacting_terms_list = list_of_interacting_terms)\n",
    "xgb_model.get_metric(test_dfs)"
   ]
  }
 ],
 "metadata": {
  "kernelspec": {
   "display_name": "Python 3",
   "language": "python",
   "name": "python3"
  },
  "language_info": {
   "codemirror_mode": {
    "name": "ipython",
    "version": 3
   },
   "file_extension": ".py",
   "mimetype": "text/x-python",
   "name": "python",
   "nbconvert_exporter": "python",
   "pygments_lexer": "ipython3",
   "version": "3.11.3"
  },
  "vscode": {
   "interpreter": {
    "hash": "b0fa6594d8f4cbf19f97940f81e996739fb7646882a419484c72d19e05852a7e"
   }
  }
 },
 "nbformat": 4,
 "nbformat_minor": 2
}
