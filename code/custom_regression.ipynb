{
 "cells": [
  {
   "cell_type": "markdown",
   "metadata": {},
   "source": [
    "### Imports"
   ]
  },
  {
   "cell_type": "code",
   "execution_count": 1,
   "metadata": {},
   "outputs": [
    {
     "name": "stdout",
     "output_type": "stream",
     "text": [
      "Requirement already satisfied: aiofiles==22.1.0 in /opt/homebrew/lib/python3.10/site-packages (from -r dependencies.txt (line 1)) (22.1.0)\n",
      "Requirement already satisfied: aiosqlite==0.18.0 in /opt/homebrew/lib/python3.10/site-packages (from -r dependencies.txt (line 2)) (0.18.0)\n",
      "Requirement already satisfied: anyio==3.6.2 in /Users/rosy/Library/Python/3.10/lib/python/site-packages (from -r dependencies.txt (line 3)) (3.6.2)\n",
      "Requirement already satisfied: appnope==0.1.3 in /Users/rosy/Library/Python/3.10/lib/python/site-packages (from -r dependencies.txt (line 4)) (0.1.3)\n",
      "Requirement already satisfied: argon2-cffi==21.3.0 in /Users/rosy/Library/Python/3.10/lib/python/site-packages (from -r dependencies.txt (line 5)) (21.3.0)\n",
      "Requirement already satisfied: argon2-cffi-bindings==21.2.0 in /Users/rosy/Library/Python/3.10/lib/python/site-packages (from -r dependencies.txt (line 6)) (21.2.0)\n",
      "Requirement already satisfied: arrow==1.2.3 in /Users/rosy/Library/Python/3.10/lib/python/site-packages (from -r dependencies.txt (line 7)) (1.2.3)\n",
      "Requirement already satisfied: asttokens==2.2.1 in /Users/rosy/Library/Python/3.10/lib/python/site-packages (from -r dependencies.txt (line 8)) (2.2.1)\n",
      "Requirement already satisfied: attrs==22.2.0 in /Users/rosy/Library/Python/3.10/lib/python/site-packages (from -r dependencies.txt (line 9)) (22.2.0)\n",
      "Requirement already satisfied: Babel==2.12.1 in /opt/homebrew/lib/python3.10/site-packages (from -r dependencies.txt (line 10)) (2.12.1)\n",
      "Requirement already satisfied: backcall==0.2.0 in /Users/rosy/Library/Python/3.10/lib/python/site-packages (from -r dependencies.txt (line 11)) (0.2.0)\n",
      "Requirement already satisfied: bardapi==0.1.38 in /opt/homebrew/lib/python3.10/site-packages (from -r dependencies.txt (line 12)) (0.1.38)\n",
      "Requirement already satisfied: beautifulsoup4==4.11.2 in /Users/rosy/Library/Python/3.10/lib/python/site-packages (from -r dependencies.txt (line 13)) (4.11.2)\n",
      "Requirement already satisfied: bleach==6.0.0 in /Users/rosy/Library/Python/3.10/lib/python/site-packages (from -r dependencies.txt (line 14)) (6.0.0)\n",
      "Requirement already satisfied: browser-cookie3==0.19.1 in /opt/homebrew/lib/python3.10/site-packages (from -r dependencies.txt (line 15)) (0.19.1)\n",
      "Requirement already satisfied: cachetools==5.3.2 in /opt/homebrew/lib/python3.10/site-packages (from -r dependencies.txt (line 16)) (5.3.2)\n",
      "Requirement already satisfied: certifi==2022.12.7 in /opt/homebrew/lib/python3.10/site-packages (from -r dependencies.txt (line 17)) (2022.12.7)\n",
      "Requirement already satisfied: cffi==1.15.1 in /Users/rosy/Library/Python/3.10/lib/python/site-packages (from -r dependencies.txt (line 18)) (1.15.1)\n",
      "Requirement already satisfied: charset-normalizer==3.1.0 in /opt/homebrew/lib/python3.10/site-packages (from -r dependencies.txt (line 19)) (3.1.0)\n",
      "Requirement already satisfied: colorama==0.4.6 in /opt/homebrew/lib/python3.10/site-packages (from -r dependencies.txt (line 20)) (0.4.6)\n",
      "Requirement already satisfied: comm==0.1.2 in /Users/rosy/Library/Python/3.10/lib/python/site-packages (from -r dependencies.txt (line 21)) (0.1.2)\n",
      "Requirement already satisfied: contourpy==1.1.1 in /opt/homebrew/lib/python3.10/site-packages (from -r dependencies.txt (line 22)) (1.1.1)\n",
      "Requirement already satisfied: cycler==0.11.0 in /opt/homebrew/lib/python3.10/site-packages (from -r dependencies.txt (line 23)) (0.11.0)\n",
      "Requirement already satisfied: debugpy==1.6.6 in /Users/rosy/Library/Python/3.10/lib/python/site-packages (from -r dependencies.txt (line 24)) (1.6.6)\n",
      "Requirement already satisfied: decorator==5.1.1 in /Users/rosy/Library/Python/3.10/lib/python/site-packages (from -r dependencies.txt (line 25)) (5.1.1)\n",
      "Requirement already satisfied: deep-translator==1.11.4 in /opt/homebrew/lib/python3.10/site-packages (from -r dependencies.txt (line 26)) (1.11.4)\n",
      "Requirement already satisfied: defusedxml==0.7.1 in /Users/rosy/Library/Python/3.10/lib/python/site-packages (from -r dependencies.txt (line 27)) (0.7.1)\n",
      "Requirement already satisfied: executing==1.2.0 in /Users/rosy/Library/Python/3.10/lib/python/site-packages (from -r dependencies.txt (line 28)) (1.2.0)\n",
      "Requirement already satisfied: fastjsonschema==2.16.3 in /Users/rosy/Library/Python/3.10/lib/python/site-packages (from -r dependencies.txt (line 29)) (2.16.3)\n",
      "Requirement already satisfied: fonttools==4.42.1 in /opt/homebrew/lib/python3.10/site-packages (from -r dependencies.txt (line 30)) (4.42.1)\n",
      "Requirement already satisfied: fqdn==1.5.1 in /Users/rosy/Library/Python/3.10/lib/python/site-packages (from -r dependencies.txt (line 31)) (1.5.1)\n",
      "Requirement already satisfied: google==3.0.0 in /opt/homebrew/lib/python3.10/site-packages (from -r dependencies.txt (line 32)) (3.0.0)\n",
      "Requirement already satisfied: google-ai-generativelanguage==0.3.3 in /opt/homebrew/lib/python3.10/site-packages (from -r dependencies.txt (line 33)) (0.3.3)\n",
      "Requirement already satisfied: google-api-core==2.12.0 in /opt/homebrew/lib/python3.10/site-packages (from -r dependencies.txt (line 34)) (2.12.0)\n",
      "Requirement already satisfied: google-auth==2.23.4 in /opt/homebrew/lib/python3.10/site-packages (from -r dependencies.txt (line 35)) (2.23.4)\n",
      "Requirement already satisfied: google-cloud-core==2.3.3 in /opt/homebrew/lib/python3.10/site-packages (from -r dependencies.txt (line 36)) (2.3.3)\n",
      "Requirement already satisfied: google-cloud-translate==3.12.1 in /opt/homebrew/lib/python3.10/site-packages (from -r dependencies.txt (line 37)) (3.12.1)\n",
      "Requirement already satisfied: google-generativeai==0.2.2 in /opt/homebrew/lib/python3.10/site-packages (from -r dependencies.txt (line 38)) (0.2.2)\n",
      "Requirement already satisfied: googleapis-common-protos==1.61.0 in /opt/homebrew/lib/python3.10/site-packages (from -r dependencies.txt (line 39)) (1.61.0)\n",
      "Requirement already satisfied: grpcio==1.59.2 in /opt/homebrew/lib/python3.10/site-packages (from -r dependencies.txt (line 40)) (1.59.2)\n",
      "Requirement already satisfied: grpcio-status==1.59.2 in /opt/homebrew/lib/python3.10/site-packages (from -r dependencies.txt (line 41)) (1.59.2)\n",
      "Requirement already satisfied: h11==0.14.0 in /opt/homebrew/lib/python3.10/site-packages (from -r dependencies.txt (line 42)) (0.14.0)\n",
      "Requirement already satisfied: h2==4.1.0 in /opt/homebrew/lib/python3.10/site-packages (from -r dependencies.txt (line 43)) (4.1.0)\n",
      "Requirement already satisfied: hpack==4.0.0 in /opt/homebrew/lib/python3.10/site-packages (from -r dependencies.txt (line 44)) (4.0.0)\n",
      "Requirement already satisfied: httpcore==0.18.0 in /opt/homebrew/lib/python3.10/site-packages (from -r dependencies.txt (line 45)) (0.18.0)\n",
      "Requirement already satisfied: httpx==0.25.0 in /opt/homebrew/lib/python3.10/site-packages (from -r dependencies.txt (line 46)) (0.25.0)\n",
      "Requirement already satisfied: hyperframe==6.0.1 in /opt/homebrew/lib/python3.10/site-packages (from -r dependencies.txt (line 47)) (6.0.1)\n",
      "Requirement already satisfied: idna==3.4 in /Users/rosy/Library/Python/3.10/lib/python/site-packages (from -r dependencies.txt (line 48)) (3.4)\n",
      "Requirement already satisfied: ipykernel==6.21.3 in /Users/rosy/Library/Python/3.10/lib/python/site-packages (from -r dependencies.txt (line 49)) (6.21.3)\n",
      "Requirement already satisfied: ipython==8.11.0 in /Users/rosy/Library/Python/3.10/lib/python/site-packages (from -r dependencies.txt (line 50)) (8.11.0)\n",
      "Requirement already satisfied: ipython-genutils==0.2.0 in /Users/rosy/Library/Python/3.10/lib/python/site-packages (from -r dependencies.txt (line 51)) (0.2.0)\n",
      "Requirement already satisfied: ipywidgets==8.0.4 in /Users/rosy/Library/Python/3.10/lib/python/site-packages (from -r dependencies.txt (line 52)) (8.0.4)\n",
      "Requirement already satisfied: isoduration==20.11.0 in /Users/rosy/Library/Python/3.10/lib/python/site-packages (from -r dependencies.txt (line 53)) (20.11.0)\n",
      "Requirement already satisfied: jedi==0.18.2 in /Users/rosy/Library/Python/3.10/lib/python/site-packages (from -r dependencies.txt (line 54)) (0.18.2)\n",
      "Requirement already satisfied: Jinja2==3.1.2 in /Users/rosy/Library/Python/3.10/lib/python/site-packages (from -r dependencies.txt (line 55)) (3.1.2)\n",
      "Requirement already satisfied: joblib==1.2.0 in /opt/homebrew/lib/python3.10/site-packages (from -r dependencies.txt (line 56)) (1.2.0)\n",
      "Requirement already satisfied: json5==0.9.11 in /opt/homebrew/lib/python3.10/site-packages (from -r dependencies.txt (line 57)) (0.9.11)\n",
      "Requirement already satisfied: jsonpointer==2.3 in /Users/rosy/Library/Python/3.10/lib/python/site-packages (from -r dependencies.txt (line 58)) (2.3)\n",
      "Requirement already satisfied: jsonschema==4.17.3 in /Users/rosy/Library/Python/3.10/lib/python/site-packages (from -r dependencies.txt (line 59)) (4.17.3)\n",
      "Requirement already satisfied: jupyter==1.0.0 in /Users/rosy/Library/Python/3.10/lib/python/site-packages (from -r dependencies.txt (line 60)) (1.0.0)\n",
      "Requirement already satisfied: jupyter-console==6.6.3 in /Users/rosy/Library/Python/3.10/lib/python/site-packages (from -r dependencies.txt (line 61)) (6.6.3)\n",
      "Requirement already satisfied: jupyter-events==0.6.3 in /Users/rosy/Library/Python/3.10/lib/python/site-packages (from -r dependencies.txt (line 62)) (0.6.3)\n",
      "Requirement already satisfied: jupyter-ydoc==0.2.2 in /opt/homebrew/lib/python3.10/site-packages (from -r dependencies.txt (line 63)) (0.2.2)\n",
      "Requirement already satisfied: jupyter_client==8.0.3 in /Users/rosy/Library/Python/3.10/lib/python/site-packages (from -r dependencies.txt (line 64)) (8.0.3)\n",
      "Requirement already satisfied: jupyter_core==5.2.0 in /Users/rosy/Library/Python/3.10/lib/python/site-packages (from -r dependencies.txt (line 65)) (5.2.0)\n",
      "Requirement already satisfied: jupyter_server==2.4.0 in /Users/rosy/Library/Python/3.10/lib/python/site-packages (from -r dependencies.txt (line 66)) (2.4.0)\n",
      "Requirement already satisfied: jupyter_server_fileid==0.8.0 in /opt/homebrew/lib/python3.10/site-packages (from -r dependencies.txt (line 67)) (0.8.0)\n",
      "Requirement already satisfied: jupyter_server_terminals==0.4.4 in /Users/rosy/Library/Python/3.10/lib/python/site-packages (from -r dependencies.txt (line 68)) (0.4.4)\n",
      "Requirement already satisfied: jupyter_server_ydoc==0.6.1 in /opt/homebrew/lib/python3.10/site-packages (from -r dependencies.txt (line 69)) (0.6.1)\n",
      "Requirement already satisfied: jupyterlab==3.6.1 in /opt/homebrew/lib/python3.10/site-packages (from -r dependencies.txt (line 70)) (3.6.1)\n",
      "Requirement already satisfied: jupyterlab-pygments==0.2.2 in /Users/rosy/Library/Python/3.10/lib/python/site-packages (from -r dependencies.txt (line 71)) (0.2.2)\n",
      "Requirement already satisfied: jupyterlab-widgets==3.0.5 in /Users/rosy/Library/Python/3.10/lib/python/site-packages (from -r dependencies.txt (line 72)) (3.0.5)\n",
      "Requirement already satisfied: jupyterlab_server==2.20.0 in /opt/homebrew/lib/python3.10/site-packages (from -r dependencies.txt (line 73)) (2.20.0)\n",
      "Requirement already satisfied: kiwisolver==1.4.5 in /opt/homebrew/lib/python3.10/site-packages (from -r dependencies.txt (line 74)) (1.4.5)\n",
      "Requirement already satisfied: langdetect==1.0.9 in /opt/homebrew/lib/python3.10/site-packages (from -r dependencies.txt (line 75)) (1.0.9)\n",
      "Requirement already satisfied: lz4==4.3.2 in /opt/homebrew/lib/python3.10/site-packages (from -r dependencies.txt (line 76)) (4.3.2)\n",
      "Requirement already satisfied: MarkupSafe==2.1.2 in /Users/rosy/Library/Python/3.10/lib/python/site-packages (from -r dependencies.txt (line 77)) (2.1.2)\n",
      "Requirement already satisfied: matplotlib==3.8.0 in /opt/homebrew/lib/python3.10/site-packages (from -r dependencies.txt (line 78)) (3.8.0)\n",
      "Requirement already satisfied: matplotlib-inline==0.1.6 in /Users/rosy/Library/Python/3.10/lib/python/site-packages (from -r dependencies.txt (line 79)) (0.1.6)\n",
      "Requirement already satisfied: mistune==2.0.5 in /Users/rosy/Library/Python/3.10/lib/python/site-packages (from -r dependencies.txt (line 80)) (2.0.5)\n",
      "Requirement already satisfied: nbclassic==0.5.3 in /Users/rosy/Library/Python/3.10/lib/python/site-packages (from -r dependencies.txt (line 81)) (0.5.3)\n",
      "Requirement already satisfied: nbclient==0.7.2 in /Users/rosy/Library/Python/3.10/lib/python/site-packages (from -r dependencies.txt (line 82)) (0.7.2)\n",
      "Requirement already satisfied: nbconvert==7.2.9 in /Users/rosy/Library/Python/3.10/lib/python/site-packages (from -r dependencies.txt (line 83)) (7.2.9)\n",
      "Requirement already satisfied: nbformat==5.7.3 in /Users/rosy/Library/Python/3.10/lib/python/site-packages (from -r dependencies.txt (line 84)) (5.7.3)\n",
      "Requirement already satisfied: nest-asyncio==1.5.6 in /Users/rosy/Library/Python/3.10/lib/python/site-packages (from -r dependencies.txt (line 85)) (1.5.6)\n",
      "Requirement already satisfied: notebook==6.5.3 in /Users/rosy/Library/Python/3.10/lib/python/site-packages (from -r dependencies.txt (line 86)) (6.5.3)\n",
      "Requirement already satisfied: notebook_shim==0.2.2 in /Users/rosy/Library/Python/3.10/lib/python/site-packages (from -r dependencies.txt (line 87)) (0.2.2)\n",
      "Requirement already satisfied: numpy==1.24.2 in /opt/homebrew/lib/python3.10/site-packages (from -r dependencies.txt (line 88)) (1.24.2)\n",
      "Requirement already satisfied: packaging==23.0 in /Users/rosy/Library/Python/3.10/lib/python/site-packages (from -r dependencies.txt (line 89)) (23.0)\n",
      "Requirement already satisfied: pandas==1.5.3 in /opt/homebrew/lib/python3.10/site-packages (from -r dependencies.txt (line 90)) (1.5.3)\n",
      "Requirement already satisfied: pandocfilters==1.5.0 in /Users/rosy/Library/Python/3.10/lib/python/site-packages (from -r dependencies.txt (line 91)) (1.5.0)\n",
      "Requirement already satisfied: parso==0.8.3 in /Users/rosy/Library/Python/3.10/lib/python/site-packages (from -r dependencies.txt (line 92)) (0.8.3)\n",
      "Requirement already satisfied: patsy==0.5.3 in /opt/homebrew/lib/python3.10/site-packages (from -r dependencies.txt (line 93)) (0.5.3)\n",
      "Requirement already satisfied: pexpect==4.8.0 in /Users/rosy/Library/Python/3.10/lib/python/site-packages (from -r dependencies.txt (line 94)) (4.8.0)\n",
      "Requirement already satisfied: pickleshare==0.7.5 in /Users/rosy/Library/Python/3.10/lib/python/site-packages (from -r dependencies.txt (line 95)) (0.7.5)\n",
      "Requirement already satisfied: Pillow==10.0.1 in /opt/homebrew/lib/python3.10/site-packages (from -r dependencies.txt (line 96)) (10.0.1)\n",
      "Requirement already satisfied: platformdirs==3.1.0 in /Users/rosy/Library/Python/3.10/lib/python/site-packages (from -r dependencies.txt (line 97)) (3.1.0)\n",
      "Requirement already satisfied: prometheus-client==0.16.0 in /Users/rosy/Library/Python/3.10/lib/python/site-packages (from -r dependencies.txt (line 98)) (0.16.0)\n",
      "Requirement already satisfied: prompt-toolkit==3.0.38 in /Users/rosy/Library/Python/3.10/lib/python/site-packages (from -r dependencies.txt (line 99)) (3.0.38)\n",
      "Requirement already satisfied: proto-plus==1.22.3 in /opt/homebrew/lib/python3.10/site-packages (from -r dependencies.txt (line 100)) (1.22.3)\n",
      "Requirement already satisfied: protobuf==4.24.4 in /opt/homebrew/lib/python3.10/site-packages (from -r dependencies.txt (line 101)) (4.24.4)\n",
      "Requirement already satisfied: psutil==5.9.4 in /Users/rosy/Library/Python/3.10/lib/python/site-packages (from -r dependencies.txt (line 102)) (5.9.4)\n",
      "Requirement already satisfied: ptyprocess==0.7.0 in /Users/rosy/Library/Python/3.10/lib/python/site-packages (from -r dependencies.txt (line 103)) (0.7.0)\n",
      "Requirement already satisfied: pure-eval==0.2.2 in /Users/rosy/Library/Python/3.10/lib/python/site-packages (from -r dependencies.txt (line 104)) (0.2.2)\n",
      "Requirement already satisfied: pyasn1==0.5.0 in /opt/homebrew/lib/python3.10/site-packages (from -r dependencies.txt (line 105)) (0.5.0)\n",
      "Requirement already satisfied: pyasn1-modules==0.3.0 in /opt/homebrew/lib/python3.10/site-packages (from -r dependencies.txt (line 106)) (0.3.0)\n",
      "Requirement already satisfied: pycparser==2.21 in /Users/rosy/Library/Python/3.10/lib/python/site-packages (from -r dependencies.txt (line 107)) (2.21)\n",
      "Requirement already satisfied: pycryptodomex==3.19.0 in /opt/homebrew/lib/python3.10/site-packages (from -r dependencies.txt (line 108)) (3.19.0)\n",
      "Requirement already satisfied: Pygments==2.14.0 in /Users/rosy/Library/Python/3.10/lib/python/site-packages (from -r dependencies.txt (line 109)) (2.14.0)\n",
      "Requirement already satisfied: pyparsing==3.1.1 in /opt/homebrew/lib/python3.10/site-packages (from -r dependencies.txt (line 110)) (3.1.1)\n",
      "Requirement already satisfied: pyrsistent==0.19.3 in /Users/rosy/Library/Python/3.10/lib/python/site-packages (from -r dependencies.txt (line 111)) (0.19.3)\n",
      "Requirement already satisfied: python-dateutil==2.8.2 in /opt/homebrew/lib/python3.10/site-packages (from -r dependencies.txt (line 112)) (2.8.2)\n",
      "Requirement already satisfied: python-json-logger==2.0.7 in /Users/rosy/Library/Python/3.10/lib/python/site-packages (from -r dependencies.txt (line 113)) (2.0.7)\n",
      "Requirement already satisfied: pytz==2023.3 in /opt/homebrew/lib/python3.10/site-packages (from -r dependencies.txt (line 114)) (2023.3)\n",
      "Requirement already satisfied: PyYAML==6.0 in /Users/rosy/Library/Python/3.10/lib/python/site-packages (from -r dependencies.txt (line 115)) (6.0)\n",
      "Requirement already satisfied: pyzmq==25.0.0 in /Users/rosy/Library/Python/3.10/lib/python/site-packages (from -r dependencies.txt (line 116)) (25.0.0)\n",
      "Requirement already satisfied: qtconsole==5.4.0 in /Users/rosy/Library/Python/3.10/lib/python/site-packages (from -r dependencies.txt (line 117)) (5.4.0)\n",
      "Requirement already satisfied: QtPy==2.3.0 in /Users/rosy/Library/Python/3.10/lib/python/site-packages (from -r dependencies.txt (line 118)) (2.3.0)\n",
      "Requirement already satisfied: requests==2.28.2 in /opt/homebrew/lib/python3.10/site-packages (from -r dependencies.txt (line 119)) (2.28.2)\n",
      "Requirement already satisfied: rfc3339-validator==0.1.4 in /Users/rosy/Library/Python/3.10/lib/python/site-packages (from -r dependencies.txt (line 120)) (0.1.4)\n",
      "Requirement already satisfied: rfc3986-validator==0.1.1 in /Users/rosy/Library/Python/3.10/lib/python/site-packages (from -r dependencies.txt (line 121)) (0.1.1)\n",
      "Requirement already satisfied: rsa==4.9 in /opt/homebrew/lib/python3.10/site-packages (from -r dependencies.txt (line 122)) (4.9)\n",
      "Requirement already satisfied: scikit-learn==1.2.2 in /opt/homebrew/lib/python3.10/site-packages (from -r dependencies.txt (line 123)) (1.2.2)\n",
      "Requirement already satisfied: scipy==1.10.1 in /opt/homebrew/lib/python3.10/site-packages (from -r dependencies.txt (line 124)) (1.10.1)\n",
      "Requirement already satisfied: seaborn==0.13.0 in /opt/homebrew/lib/python3.10/site-packages (from -r dependencies.txt (line 125)) (0.13.0)\n",
      "Requirement already satisfied: Send2Trash==1.8.0 in /Users/rosy/Library/Python/3.10/lib/python/site-packages (from -r dependencies.txt (line 126)) (1.8.0)\n",
      "Requirement already satisfied: six==1.16.0 in /opt/homebrew/lib/python3.10/site-packages (from -r dependencies.txt (line 127)) (1.16.0)\n",
      "Requirement already satisfied: sklearn==0.0.post9 in /opt/homebrew/lib/python3.10/site-packages (from -r dependencies.txt (line 128)) (0.0.post9)\n",
      "Requirement already satisfied: sniffio==1.3.0 in /Users/rosy/Library/Python/3.10/lib/python/site-packages (from -r dependencies.txt (line 129)) (1.3.0)\n",
      "Requirement already satisfied: soupsieve==2.4 in /Users/rosy/Library/Python/3.10/lib/python/site-packages (from -r dependencies.txt (line 130)) (2.4)\n",
      "Requirement already satisfied: stack-data==0.6.2 in /Users/rosy/Library/Python/3.10/lib/python/site-packages (from -r dependencies.txt (line 131)) (0.6.2)\n",
      "Requirement already satisfied: statsmodels==0.14.0 in /opt/homebrew/lib/python3.10/site-packages (from -r dependencies.txt (line 132)) (0.14.0)\n",
      "Requirement already satisfied: terminado==0.17.1 in /Users/rosy/Library/Python/3.10/lib/python/site-packages (from -r dependencies.txt (line 133)) (0.17.1)\n",
      "Requirement already satisfied: threadpoolctl==3.1.0 in /opt/homebrew/lib/python3.10/site-packages (from -r dependencies.txt (line 134)) (3.1.0)\n",
      "Requirement already satisfied: tinycss2==1.2.1 in /Users/rosy/Library/Python/3.10/lib/python/site-packages (from -r dependencies.txt (line 135)) (1.2.1)\n",
      "Requirement already satisfied: tomli==2.0.1 in /opt/homebrew/lib/python3.10/site-packages (from -r dependencies.txt (line 136)) (2.0.1)\n",
      "Requirement already satisfied: tornado==6.2 in /Users/rosy/Library/Python/3.10/lib/python/site-packages (from -r dependencies.txt (line 137)) (6.2)\n",
      "Requirement already satisfied: tqdm==4.66.1 in /opt/homebrew/lib/python3.10/site-packages (from -r dependencies.txt (line 138)) (4.66.1)\n",
      "Requirement already satisfied: traitlets==5.9.0 in /Users/rosy/Library/Python/3.10/lib/python/site-packages (from -r dependencies.txt (line 139)) (5.9.0)\n",
      "Requirement already satisfied: tzdata==2023.3 in /opt/homebrew/lib/python3.10/site-packages (from -r dependencies.txt (line 140)) (2023.3)\n",
      "Requirement already satisfied: uri-template==1.2.0 in /Users/rosy/Library/Python/3.10/lib/python/site-packages (from -r dependencies.txt (line 141)) (1.2.0)\n",
      "Requirement already satisfied: urllib3==1.26.18 in /opt/homebrew/lib/python3.10/site-packages (from -r dependencies.txt (line 142)) (1.26.18)\n",
      "Requirement already satisfied: utils==1.0.1 in /opt/homebrew/lib/python3.10/site-packages (from -r dependencies.txt (line 143)) (1.0.1)\n",
      "Requirement already satisfied: wcwidth==0.2.6 in /Users/rosy/Library/Python/3.10/lib/python/site-packages (from -r dependencies.txt (line 144)) (0.2.6)\n",
      "Requirement already satisfied: webcolors==1.12 in /Users/rosy/Library/Python/3.10/lib/python/site-packages (from -r dependencies.txt (line 145)) (1.12)\n",
      "Requirement already satisfied: webencodings==0.5.1 in /Users/rosy/Library/Python/3.10/lib/python/site-packages (from -r dependencies.txt (line 146)) (0.5.1)\n",
      "Requirement already satisfied: websocket-client==1.5.1 in /Users/rosy/Library/Python/3.10/lib/python/site-packages (from -r dependencies.txt (line 147)) (1.5.1)\n",
      "Requirement already satisfied: widgetsnbextension==4.0.5 in /Users/rosy/Library/Python/3.10/lib/python/site-packages (from -r dependencies.txt (line 148)) (4.0.5)\n",
      "Requirement already satisfied: xgboost==2.0.0 in /opt/homebrew/lib/python3.10/site-packages (from -r dependencies.txt (line 149)) (2.0.0)\n",
      "Requirement already satisfied: y-py==0.5.9 in /opt/homebrew/lib/python3.10/site-packages (from -r dependencies.txt (line 150)) (0.5.9)\n",
      "Requirement already satisfied: ypy-websocket==0.8.2 in /opt/homebrew/lib/python3.10/site-packages (from -r dependencies.txt (line 151)) (0.8.2)\n",
      "\n",
      "\u001b[1m[\u001b[0m\u001b[34;49mnotice\u001b[0m\u001b[1;39;49m]\u001b[0m\u001b[39;49m A new release of pip is available: \u001b[0m\u001b[31;49m23.0.1\u001b[0m\u001b[39;49m -> \u001b[0m\u001b[32;49m23.3.1\u001b[0m\n",
      "\u001b[1m[\u001b[0m\u001b[34;49mnotice\u001b[0m\u001b[1;39;49m]\u001b[0m\u001b[39;49m To update, run: \u001b[0m\u001b[32;49mpython3.10 -m pip install --upgrade pip\u001b[0m\n",
      "Note: you may need to restart the kernel to use updated packages.\n"
     ]
    }
   ],
   "source": [
    "%pip install -r dependencies.txt"
   ]
  },
  {
   "cell_type": "code",
   "execution_count": 2,
   "metadata": {},
   "outputs": [
    {
     "data": {
      "text/plain": [
       "<module 'helper' from '/Users/rosy/Clinic/Clinic/code/helper.py'>"
      ]
     },
     "execution_count": 2,
     "metadata": {},
     "output_type": "execute_result"
    }
   ],
   "source": [
    "import pandas as pd\n",
    "import numpy as np\n",
    "import sklearn\n",
    "import matplotlib.pyplot as plt\n",
    "import requests\n",
    "import scipy\n",
    "import importlib\n",
    "import helper, consts\n",
    "importlib.reload(consts)\n",
    "importlib.reload(helper)"
   ]
  },
  {
   "cell_type": "markdown",
   "metadata": {},
   "source": [
    "### CONSTANTS"
   ]
  },
  {
   "cell_type": "code",
   "execution_count": 3,
   "metadata": {},
   "outputs": [],
   "source": [
    "ROW = consts.ROW\n",
    "COL = consts.COL\n",
    "CLEANED_DATA_PATH = consts.CLEANED_DATA_PATH\n",
    "DATA_PATH = consts.RAW_DATA_PATH\n",
    "RESPONSE_NAME = consts.RESPONSE_NAME\n",
    "\n",
    "# TRAIN_START_DATE = \"20150101\"\n",
    "# TRAIN_END_DATE = \"20150601\" # Up to but not including\n",
    "TEST_DATE = '20170103'"
   ]
  },
  {
   "cell_type": "code",
   "execution_count": 4,
   "metadata": {},
   "outputs": [],
   "source": [
    "trainRange = helper.get_train_from_testday(TEST_DATE)\n",
    "training_range = f\"{trainRange[0]}-{trainRange[1]}\"\n",
    "train_start_date = trainRange[0]\n",
    "train_end_date = trainRange[1]"
   ]
  },
  {
   "cell_type": "code",
   "execution_count": 5,
   "metadata": {},
   "outputs": [
    {
     "name": "stdout",
     "output_type": "stream",
     "text": [
      "1: OLS\n",
      "2: LASSO\n",
      "3: XGBOOST\n"
     ]
    }
   ],
   "source": [
    "REGRESSION_TYPES = helper.Regression('OLS').list_all_regression_types()\n",
    "REGRESSION_TYPES"
   ]
  },
  {
   "cell_type": "markdown",
   "metadata": {},
   "source": [
    "### Read data"
   ]
  },
  {
   "cell_type": "code",
   "execution_count": 6,
   "metadata": {},
   "outputs": [
    {
     "name": "stdout",
     "output_type": "stream",
     "text": [
      "<class 'pandas.core.frame.DataFrame'>\n",
      "Int64Index: 758878 entries, 0 to 2978\n",
      "Data columns (total 9 columns):\n",
      " #   Column               Non-Null Count   Dtype  \n",
      "---  ------               --------------   -----  \n",
      " 0   rrirpnxm_nt_0        758878 non-null  float64\n",
      " 1   rrirpnxm_lst15_0     758878 non-null  float64\n",
      " 2   rrirpnxm_lsthrx15_0  758878 non-null  float64\n",
      " 3   rrirpnxm_toxhr_0     758878 non-null  float64\n",
      " 4   relvol_nt_0          758878 non-null  float64\n",
      " 5   relvol_lst15_0       758878 non-null  float64\n",
      " 6   relvol_lsthrx15_0    758878 non-null  float64\n",
      " 7   relvol_toxhr_0       758878 non-null  float64\n",
      " 8   tonight              758878 non-null  float64\n",
      "dtypes: float64(9)\n",
      "memory usage: 57.9 MB\n"
     ]
    }
   ],
   "source": [
    "importlib.reload(helper)\n",
    "x_cols = [\"rrirpnxm_nt_0\", \"rrirpnxm_lst15_0\",\"rrirpnxm_lsthrx15_0\", \"rrirpnxm_toxhr_0\"]\n",
    "relvol_cols = [\"relvol_nt_0\", \"relvol_lst15_0\", \"relvol_lsthrx15_0\", \"relvol_toxhr_0\"]\n",
    "x_cols += relvol_cols\n",
    "train_df, test_df = helper.get_train_test_df(train_start_date, train_end_date, TEST_DATE, x_cols)\n",
    "train_df.info()\n"
   ]
  },
  {
   "cell_type": "markdown",
   "metadata": {},
   "source": [
    "### Interaction Terms"
   ]
  },
  {
   "cell_type": "code",
   "execution_count": 7,
   "metadata": {},
   "outputs": [
    {
     "data": {
      "text/plain": [
       "[['relvol_nt_0', 'rrirpnxm_nt_0'],\n",
       " ['relvol_lst15_0', 'rrirpnxm_lst15_0'],\n",
       " ['relvol_lsthrx15_0', 'rrirpnxm_lsthrx15_0'],\n",
       " ['relvol_toxhr_0', 'rrirpnxm_toxhr_0']]"
      ]
     },
     "execution_count": 7,
     "metadata": {},
     "output_type": "execute_result"
    }
   ],
   "source": [
    "importlib.reload(helper)\n",
    "interactingTerms = [[relvol, col] for relvol,col in zip(relvol_cols,x_cols)]\n",
    "interactingTerms"
   ]
  },
  {
   "cell_type": "code",
   "execution_count": 8,
   "metadata": {},
   "outputs": [
    {
     "data": {
      "text/plain": [
       "Index(['rrirpnxm_nt_0', 'rrirpnxm_lst15_0', 'rrirpnxm_lsthrx15_0',\n",
       "       'rrirpnxm_toxhr_0', 'relvol_nt_0', 'relvol_lst15_0',\n",
       "       'relvol_lsthrx15_0', 'relvol_toxhr_0', 'tonight'],\n",
       "      dtype='object')"
      ]
     },
     "execution_count": 8,
     "metadata": {},
     "output_type": "execute_result"
    }
   ],
   "source": [
    "train_df.columns"
   ]
  },
  {
   "cell_type": "code",
   "execution_count": 9,
   "metadata": {},
   "outputs": [],
   "source": [
    "importlib.reload(helper)\n",
    "interactingTerms_df = helper.get_df_with_interaction_terms(train_df, interactingTerms)"
   ]
  },
  {
   "cell_type": "code",
   "execution_count": 10,
   "metadata": {},
   "outputs": [
    {
     "data": {
      "text/plain": [
       "Index(['rrirpnxm_nt_0', 'rrirpnxm_lst15_0', 'rrirpnxm_lsthrx15_0',\n",
       "       'rrirpnxm_toxhr_0', 'relvol_nt_0', 'relvol_lst15_0',\n",
       "       'relvol_lsthrx15_0', 'relvol_toxhr_0', 'tonight',\n",
       "       '('relvol_nt_0', 'rrirpnxm_nt_0')',\n",
       "       '('relvol_lst15_0', 'rrirpnxm_lst15_0')',\n",
       "       '('relvol_lsthrx15_0', 'rrirpnxm_lsthrx15_0')',\n",
       "       '('relvol_toxhr_0', 'rrirpnxm_toxhr_0')'],\n",
       "      dtype='object')"
      ]
     },
     "execution_count": 10,
     "metadata": {},
     "output_type": "execute_result"
    }
   ],
   "source": [
    "interactingTerms_df.columns"
   ]
  },
  {
   "cell_type": "code",
   "execution_count": 11,
   "metadata": {},
   "outputs": [
    {
     "data": {
      "text/html": [
       "<div>\n",
       "<style scoped>\n",
       "    .dataframe tbody tr th:only-of-type {\n",
       "        vertical-align: middle;\n",
       "    }\n",
       "\n",
       "    .dataframe tbody tr th {\n",
       "        vertical-align: top;\n",
       "    }\n",
       "\n",
       "    .dataframe thead th {\n",
       "        text-align: right;\n",
       "    }\n",
       "</style>\n",
       "<table border=\"1\" class=\"dataframe\">\n",
       "  <thead>\n",
       "    <tr style=\"text-align: right;\">\n",
       "      <th></th>\n",
       "      <th>rrirpnxm_nt_0</th>\n",
       "      <th>rrirpnxm_lst15_0</th>\n",
       "      <th>rrirpnxm_lsthrx15_0</th>\n",
       "      <th>rrirpnxm_toxhr_0</th>\n",
       "      <th>relvol_nt_0</th>\n",
       "      <th>relvol_lst15_0</th>\n",
       "      <th>relvol_lsthrx15_0</th>\n",
       "      <th>relvol_toxhr_0</th>\n",
       "      <th>tonight</th>\n",
       "      <th>('relvol_nt_0', 'rrirpnxm_nt_0')</th>\n",
       "      <th>('relvol_lst15_0', 'rrirpnxm_lst15_0')</th>\n",
       "      <th>('relvol_lsthrx15_0', 'rrirpnxm_lsthrx15_0')</th>\n",
       "      <th>('relvol_toxhr_0', 'rrirpnxm_toxhr_0')</th>\n",
       "    </tr>\n",
       "  </thead>\n",
       "  <tbody>\n",
       "    <tr>\n",
       "      <th>0</th>\n",
       "      <td>0.011807</td>\n",
       "      <td>0.000872</td>\n",
       "      <td>-0.003254</td>\n",
       "      <td>0.003411</td>\n",
       "      <td>-0.146064</td>\n",
       "      <td>0.364969</td>\n",
       "      <td>-0.687345</td>\n",
       "      <td>-0.480458</td>\n",
       "      <td>0.018082</td>\n",
       "      <td>-0.001725</td>\n",
       "      <td>0.000318</td>\n",
       "      <td>0.002237</td>\n",
       "      <td>-0.001639</td>\n",
       "    </tr>\n",
       "    <tr>\n",
       "      <th>1</th>\n",
       "      <td>0.002462</td>\n",
       "      <td>0.001497</td>\n",
       "      <td>-0.002905</td>\n",
       "      <td>0.007703</td>\n",
       "      <td>0.371322</td>\n",
       "      <td>0.071521</td>\n",
       "      <td>-0.217405</td>\n",
       "      <td>0.254765</td>\n",
       "      <td>0.005392</td>\n",
       "      <td>0.000914</td>\n",
       "      <td>0.000107</td>\n",
       "      <td>0.000632</td>\n",
       "      <td>0.001962</td>\n",
       "    </tr>\n",
       "    <tr>\n",
       "      <th>2</th>\n",
       "      <td>-0.007588</td>\n",
       "      <td>-0.001964</td>\n",
       "      <td>0.008323</td>\n",
       "      <td>-0.001865</td>\n",
       "      <td>-0.825926</td>\n",
       "      <td>-0.808777</td>\n",
       "      <td>-1.799015</td>\n",
       "      <td>-2.003263</td>\n",
       "      <td>-0.003484</td>\n",
       "      <td>0.006267</td>\n",
       "      <td>0.001588</td>\n",
       "      <td>-0.014973</td>\n",
       "      <td>0.003736</td>\n",
       "    </tr>\n",
       "    <tr>\n",
       "      <th>3</th>\n",
       "      <td>0.001151</td>\n",
       "      <td>-0.001417</td>\n",
       "      <td>-0.002717</td>\n",
       "      <td>0.002050</td>\n",
       "      <td>-0.997409</td>\n",
       "      <td>-1.053669</td>\n",
       "      <td>-1.104886</td>\n",
       "      <td>-0.665714</td>\n",
       "      <td>0.002358</td>\n",
       "      <td>-0.001148</td>\n",
       "      <td>0.001493</td>\n",
       "      <td>0.003002</td>\n",
       "      <td>-0.001365</td>\n",
       "    </tr>\n",
       "    <tr>\n",
       "      <th>4</th>\n",
       "      <td>-0.024748</td>\n",
       "      <td>0.007290</td>\n",
       "      <td>0.008241</td>\n",
       "      <td>-0.007426</td>\n",
       "      <td>1.238193</td>\n",
       "      <td>0.597488</td>\n",
       "      <td>0.688099</td>\n",
       "      <td>1.075536</td>\n",
       "      <td>-0.005949</td>\n",
       "      <td>-0.030643</td>\n",
       "      <td>0.004356</td>\n",
       "      <td>0.005671</td>\n",
       "      <td>-0.007987</td>\n",
       "    </tr>\n",
       "  </tbody>\n",
       "</table>\n",
       "</div>"
      ],
      "text/plain": [
       "   rrirpnxm_nt_0  rrirpnxm_lst15_0  rrirpnxm_lsthrx15_0  rrirpnxm_toxhr_0  \\\n",
       "0       0.011807          0.000872            -0.003254          0.003411   \n",
       "1       0.002462          0.001497            -0.002905          0.007703   \n",
       "2      -0.007588         -0.001964             0.008323         -0.001865   \n",
       "3       0.001151         -0.001417            -0.002717          0.002050   \n",
       "4      -0.024748          0.007290             0.008241         -0.007426   \n",
       "\n",
       "   relvol_nt_0  relvol_lst15_0  relvol_lsthrx15_0  relvol_toxhr_0   tonight  \\\n",
       "0    -0.146064        0.364969          -0.687345       -0.480458  0.018082   \n",
       "1     0.371322        0.071521          -0.217405        0.254765  0.005392   \n",
       "2    -0.825926       -0.808777          -1.799015       -2.003263 -0.003484   \n",
       "3    -0.997409       -1.053669          -1.104886       -0.665714  0.002358   \n",
       "4     1.238193        0.597488           0.688099        1.075536 -0.005949   \n",
       "\n",
       "   ('relvol_nt_0', 'rrirpnxm_nt_0')  ('relvol_lst15_0', 'rrirpnxm_lst15_0')  \\\n",
       "0                         -0.001725                                0.000318   \n",
       "1                          0.000914                                0.000107   \n",
       "2                          0.006267                                0.001588   \n",
       "3                         -0.001148                                0.001493   \n",
       "4                         -0.030643                                0.004356   \n",
       "\n",
       "   ('relvol_lsthrx15_0', 'rrirpnxm_lsthrx15_0')  \\\n",
       "0                                      0.002237   \n",
       "1                                      0.000632   \n",
       "2                                     -0.014973   \n",
       "3                                      0.003002   \n",
       "4                                      0.005671   \n",
       "\n",
       "   ('relvol_toxhr_0', 'rrirpnxm_toxhr_0')  \n",
       "0                               -0.001639  \n",
       "1                                0.001962  \n",
       "2                                0.003736  \n",
       "3                               -0.001365  \n",
       "4                               -0.007987  "
      ]
     },
     "execution_count": 11,
     "metadata": {},
     "output_type": "execute_result"
    }
   ],
   "source": [
    "interactingTerms_df.head()"
   ]
  },
  {
   "cell_type": "code",
   "execution_count": 12,
   "metadata": {},
   "outputs": [
    {
     "data": {
      "text/html": [
       "<div>\n",
       "<style scoped>\n",
       "    .dataframe tbody tr th:only-of-type {\n",
       "        vertical-align: middle;\n",
       "    }\n",
       "\n",
       "    .dataframe tbody tr th {\n",
       "        vertical-align: top;\n",
       "    }\n",
       "\n",
       "    .dataframe thead th {\n",
       "        text-align: right;\n",
       "    }\n",
       "</style>\n",
       "<table border=\"1\" class=\"dataframe\">\n",
       "  <thead>\n",
       "    <tr style=\"text-align: right;\">\n",
       "      <th></th>\n",
       "      <th>rrirpnxm_nt_0</th>\n",
       "      <th>rrirpnxm_lst15_0</th>\n",
       "      <th>rrirpnxm_lsthrx15_0</th>\n",
       "      <th>rrirpnxm_toxhr_0</th>\n",
       "      <th>relvol_nt_0</th>\n",
       "      <th>relvol_lst15_0</th>\n",
       "      <th>relvol_lsthrx15_0</th>\n",
       "      <th>relvol_toxhr_0</th>\n",
       "      <th>tonight</th>\n",
       "    </tr>\n",
       "  </thead>\n",
       "  <tbody>\n",
       "    <tr>\n",
       "      <th>0</th>\n",
       "      <td>-0.008679</td>\n",
       "      <td>0.001378</td>\n",
       "      <td>-0.000874</td>\n",
       "      <td>-0.002152</td>\n",
       "      <td>1.545634</td>\n",
       "      <td>-0.125250</td>\n",
       "      <td>-0.166612</td>\n",
       "      <td>0.213301</td>\n",
       "      <td>-0.002419</td>\n",
       "    </tr>\n",
       "    <tr>\n",
       "      <th>1</th>\n",
       "      <td>0.001467</td>\n",
       "      <td>0.001382</td>\n",
       "      <td>-0.002988</td>\n",
       "      <td>0.014430</td>\n",
       "      <td>-1.695397</td>\n",
       "      <td>-2.074962</td>\n",
       "      <td>-0.545008</td>\n",
       "      <td>-0.614649</td>\n",
       "      <td>-0.007316</td>\n",
       "    </tr>\n",
       "    <tr>\n",
       "      <th>2</th>\n",
       "      <td>-0.006366</td>\n",
       "      <td>-0.005396</td>\n",
       "      <td>-0.004639</td>\n",
       "      <td>-0.004040</td>\n",
       "      <td>-2.200373</td>\n",
       "      <td>-0.734130</td>\n",
       "      <td>-0.002181</td>\n",
       "      <td>-1.813272</td>\n",
       "      <td>0.001317</td>\n",
       "    </tr>\n",
       "    <tr>\n",
       "      <th>3</th>\n",
       "      <td>0.018897</td>\n",
       "      <td>0.005662</td>\n",
       "      <td>0.007848</td>\n",
       "      <td>0.005312</td>\n",
       "      <td>0.031325</td>\n",
       "      <td>0.565102</td>\n",
       "      <td>1.972013</td>\n",
       "      <td>1.339065</td>\n",
       "      <td>-0.001082</td>\n",
       "    </tr>\n",
       "    <tr>\n",
       "      <th>4</th>\n",
       "      <td>-0.007411</td>\n",
       "      <td>0.000137</td>\n",
       "      <td>0.007318</td>\n",
       "      <td>0.012983</td>\n",
       "      <td>-0.371560</td>\n",
       "      <td>-0.427308</td>\n",
       "      <td>-0.199421</td>\n",
       "      <td>-0.577842</td>\n",
       "      <td>-0.004875</td>\n",
       "    </tr>\n",
       "  </tbody>\n",
       "</table>\n",
       "</div>"
      ],
      "text/plain": [
       "   rrirpnxm_nt_0  rrirpnxm_lst15_0  rrirpnxm_lsthrx15_0  rrirpnxm_toxhr_0  \\\n",
       "0      -0.008679          0.001378            -0.000874         -0.002152   \n",
       "1       0.001467          0.001382            -0.002988          0.014430   \n",
       "2      -0.006366         -0.005396            -0.004639         -0.004040   \n",
       "3       0.018897          0.005662             0.007848          0.005312   \n",
       "4      -0.007411          0.000137             0.007318          0.012983   \n",
       "\n",
       "   relvol_nt_0  relvol_lst15_0  relvol_lsthrx15_0  relvol_toxhr_0   tonight  \n",
       "0     1.545634       -0.125250          -0.166612        0.213301 -0.002419  \n",
       "1    -1.695397       -2.074962          -0.545008       -0.614649 -0.007316  \n",
       "2    -2.200373       -0.734130          -0.002181       -1.813272  0.001317  \n",
       "3     0.031325        0.565102           1.972013        1.339065 -0.001082  \n",
       "4    -0.371560       -0.427308          -0.199421       -0.577842 -0.004875  "
      ]
     },
     "execution_count": 12,
     "metadata": {},
     "output_type": "execute_result"
    }
   ],
   "source": [
    "test_df.head()"
   ]
  },
  {
   "cell_type": "code",
   "execution_count": 13,
   "metadata": {},
   "outputs": [],
   "source": [
    "# rosy: making my own interacting terms\n",
    "\n",
    "col_pairs = [\n",
    "    ['relvol_nt_0', 'rrirpnxm_nt_0'],\n",
    "    [\"relvol_lst15_0\", \"rrirpnxm_lst15_0\"],\n",
    "    [\"relvol_toxhr_0\", \"rrirpnxm_toxhr_0\"],\n",
    "    [\"relvol_lsthrx15_0\", \"rrirpnxm_lsthrx15_0\"],\n",
    "]\n",
    "interaction_terms_train_df = helper.get_df_with_interaction_terms(train_df, col_pairs)\n",
    "interaction_terms_test_df = helper.get_df_with_interaction_terms(test_df, col_pairs)"
   ]
  },
  {
   "cell_type": "markdown",
   "metadata": {},
   "source": [
    "### Transform the data if needed"
   ]
  },
  {
   "cell_type": "markdown",
   "metadata": {},
   "source": [
    "#### Ordinary Least Squares"
   ]
  },
  {
   "cell_type": "code",
   "execution_count": 14,
   "metadata": {},
   "outputs": [
    {
     "data": {
      "text/plain": [
       "array([ 2.75945836e-02, -1.05238435e-02, -9.46327080e-03, -7.40189264e-03,\n",
       "        3.25078674e-06,  4.38396523e-06, -1.22252426e-05, -4.84805211e-06,\n",
       "        4.53573580e-05])"
      ]
     },
     "execution_count": 14,
     "metadata": {},
     "output_type": "execute_result"
    }
   ],
   "source": [
    "importlib.reload(helper)\n",
    "ols_regression_model = helper.Regression('OLS')\n",
    "model_attributes = ols_regression_model.execute(train_df, RESPONSE_NAME, test_df)\n",
    "model_attributes"
   ]
  },
  {
   "cell_type": "code",
   "execution_count": 15,
   "metadata": {},
   "outputs": [
    {
     "name": "stdout",
     "output_type": "stream",
     "text": [
      "1. Weighted Correlation:\n",
      "[[1.        0.0169153]\n",
      " [0.0169153 1.       ]]\n",
      "\n",
      "2. Weighted Mean Return:\n",
      "0.00016425082726671087\n",
      "\n",
      "3. Weighted Scale Factor:\n",
      "[0.45400396]\n",
      "\n"
     ]
    }
   ],
   "source": [
    "ols_regression_model.get_metric()"
   ]
  },
  {
   "cell_type": "markdown",
   "metadata": {},
   "source": [
    "#### OLS w/ Interacting Terms"
   ]
  },
  {
   "cell_type": "code",
   "execution_count": 16,
   "metadata": {},
   "outputs": [
    {
     "name": "stdout",
     "output_type": "stream",
     "text": [
      "1. Weighted Correlation:\n",
      "[[1.         0.03062293]\n",
      " [0.03062293 1.        ]]\n",
      "\n",
      "2. Weighted Mean Return:\n",
      "0.00024943332656896097\n",
      "\n",
      "3. Weighted Scale Factor:\n",
      "[0.96172654]\n",
      "\n"
     ]
    }
   ],
   "source": [
    "weights = helper.get_weights(train_df)\n",
    "ols_interacting_model = helper.Regression('OLS')\n",
    "ols_interacting_model.execute(interactingTerms_df, RESPONSE_NAME, interactingTerms_df, weights)\n",
    "ols_interacting_model.get_metric()"
   ]
  },
  {
   "cell_type": "markdown",
   "metadata": {},
   "source": [
    "#### LASSO"
   ]
  },
  {
   "cell_type": "code",
   "execution_count": 17,
   "metadata": {},
   "outputs": [
    {
     "name": "stdout",
     "output_type": "stream",
     "text": [
      "1. Weighted Correlation:\n",
      "[[1.         0.01006693]\n",
      " [0.01006693 1.        ]]\n",
      "\n",
      "2. Weighted Mean Return:\n",
      "0.0001718312375909994\n",
      "\n",
      "3. Weighted Scale Factor:\n",
      "[0.34676277]\n",
      "\n"
     ]
    }
   ],
   "source": [
    "cv = 10\n",
    "\n",
    "weights = helper.get_weights(train_df)\n",
    "lasso_model = helper.Regression('LASSO')\n",
    "lasso_model.execute(train_df, RESPONSE_NAME, test_df, cv, weights)\n",
    "lasso_model.get_metric()"
   ]
  },
  {
   "cell_type": "markdown",
   "metadata": {},
   "source": [
    "### XGBoost\n",
    "\n"
   ]
  },
  {
   "cell_type": "code",
   "execution_count": 18,
   "metadata": {},
   "outputs": [],
   "source": [
    "importlib.reload(helper)\n",
    "weights = helper.get_weights(train_df)\n",
    "xgb_model = helper.Regression('XGBOOST')"
   ]
  },
  {
   "cell_type": "code",
   "execution_count": 19,
   "metadata": {},
   "outputs": [
    {
     "name": "stderr",
     "output_type": "stream",
     "text": [
      "/opt/homebrew/lib/python3.10/site-packages/xgboost/core.py:726: FutureWarning: Pass `objective` as keyword args.\n",
      "  warnings.warn(msg, FutureWarning)\n"
     ]
    },
    {
     "name": "stdout",
     "output_type": "stream",
     "text": [
      "1. Weighted Correlation:\n",
      "[[1.         0.01196483]\n",
      " [0.01196483 1.        ]]\n",
      "\n",
      "2. Weighted Mean Return:\n",
      "0.0001346201191264064\n",
      "\n",
      "3. Weighted Scale Factor:\n",
      "[0.30265543]\n",
      "\n"
     ]
    }
   ],
   "source": [
    "model_attributes = xgb_model.execute(train_df, RESPONSE_NAME, test_df, weights)\n",
    "xgb_model.get_metric()"
   ]
  },
  {
   "attachments": {},
   "cell_type": "markdown",
   "metadata": {},
   "source": [
    "get feature importance df"
   ]
  },
  {
   "cell_type": "code",
   "execution_count": 20,
   "metadata": {},
   "outputs": [
    {
     "data": {
      "text/plain": [
       "array([ 4.2700906e+00, -1.0467501e+00, -1.4197532e+00, -8.0576015e-01,\n",
       "        1.6635506e-03,  2.1685448e-03, -2.1877391e-03,  3.2627885e-04,\n",
       "        2.0233319e-04], dtype=float32)"
      ]
     },
     "execution_count": 20,
     "metadata": {},
     "output_type": "execute_result"
    }
   ],
   "source": [
    "feature_importance = xgb_model.model.feature_importances_\n",
    "feature_importance"
   ]
  },
  {
   "cell_type": "code",
   "execution_count": 21,
   "metadata": {},
   "outputs": [
    {
     "data": {
      "text/html": [
       "<div>\n",
       "<style scoped>\n",
       "    .dataframe tbody tr th:only-of-type {\n",
       "        vertical-align: middle;\n",
       "    }\n",
       "\n",
       "    .dataframe tbody tr th {\n",
       "        vertical-align: top;\n",
       "    }\n",
       "\n",
       "    .dataframe thead th {\n",
       "        text-align: right;\n",
       "    }\n",
       "</style>\n",
       "<table border=\"1\" class=\"dataframe\">\n",
       "  <thead>\n",
       "    <tr style=\"text-align: right;\">\n",
       "      <th></th>\n",
       "      <th>Feature</th>\n",
       "      <th>Importance</th>\n",
       "    </tr>\n",
       "  </thead>\n",
       "  <tbody>\n",
       "    <tr>\n",
       "      <th>0</th>\n",
       "      <td>rrirpnxm_nt_0</td>\n",
       "      <td>4.270091</td>\n",
       "    </tr>\n",
       "    <tr>\n",
       "      <th>5</th>\n",
       "      <td>relvol_lst15_0</td>\n",
       "      <td>0.002169</td>\n",
       "    </tr>\n",
       "    <tr>\n",
       "      <th>4</th>\n",
       "      <td>relvol_nt_0</td>\n",
       "      <td>0.001664</td>\n",
       "    </tr>\n",
       "    <tr>\n",
       "      <th>7</th>\n",
       "      <td>relvol_toxhr_0</td>\n",
       "      <td>0.000326</td>\n",
       "    </tr>\n",
       "    <tr>\n",
       "      <th>8</th>\n",
       "      <td>tonight</td>\n",
       "      <td>0.000202</td>\n",
       "    </tr>\n",
       "    <tr>\n",
       "      <th>6</th>\n",
       "      <td>relvol_lsthrx15_0</td>\n",
       "      <td>-0.002188</td>\n",
       "    </tr>\n",
       "    <tr>\n",
       "      <th>3</th>\n",
       "      <td>rrirpnxm_toxhr_0</td>\n",
       "      <td>-0.805760</td>\n",
       "    </tr>\n",
       "    <tr>\n",
       "      <th>1</th>\n",
       "      <td>rrirpnxm_lst15_0</td>\n",
       "      <td>-1.046750</td>\n",
       "    </tr>\n",
       "    <tr>\n",
       "      <th>2</th>\n",
       "      <td>rrirpnxm_lsthrx15_0</td>\n",
       "      <td>-1.419753</td>\n",
       "    </tr>\n",
       "  </tbody>\n",
       "</table>\n",
       "</div>"
      ],
      "text/plain": [
       "               Feature  Importance\n",
       "0        rrirpnxm_nt_0    4.270091\n",
       "5       relvol_lst15_0    0.002169\n",
       "4          relvol_nt_0    0.001664\n",
       "7       relvol_toxhr_0    0.000326\n",
       "8              tonight    0.000202\n",
       "6    relvol_lsthrx15_0   -0.002188\n",
       "3     rrirpnxm_toxhr_0   -0.805760\n",
       "1     rrirpnxm_lst15_0   -1.046750\n",
       "2  rrirpnxm_lsthrx15_0   -1.419753"
      ]
     },
     "execution_count": 21,
     "metadata": {},
     "output_type": "execute_result"
    }
   ],
   "source": [
    "# Create a DataFrame to display feature importance\n",
    "importance_df = pd.DataFrame({'Feature': train_df.columns, 'Importance': feature_importance})\n",
    "\n",
    "# Sort the DataFrame by importance in descending order\n",
    "importance_df = importance_df.sort_values(by='Importance', ascending=False)\n",
    "\n",
    "importance_df"
   ]
  }
 ],
 "metadata": {
  "kernelspec": {
   "display_name": "Python 3",
   "language": "python",
   "name": "python3"
  },
  "language_info": {
   "codemirror_mode": {
    "name": "ipython",
    "version": 3
   },
   "file_extension": ".py",
   "mimetype": "text/x-python",
   "name": "python",
   "nbconvert_exporter": "python",
   "pygments_lexer": "ipython3",
   "version": "3.10.10"
  },
  "vscode": {
   "interpreter": {
    "hash": "b0fa6594d8f4cbf19f97940f81e996739fb7646882a419484c72d19e05852a7e"
   }
  }
 },
 "nbformat": 4,
 "nbformat_minor": 2
}
