{
 "cells": [
  {
   "cell_type": "markdown",
   "metadata": {},
   "source": [
    "### Imports"
   ]
  },
  {
   "cell_type": "code",
   "execution_count": 633,
   "metadata": {},
   "outputs": [
    {
     "name": "stdout",
     "output_type": "stream",
     "text": [
      "Requirement already satisfied: absl-py==1.4.0 in /Users/hoangchu/Library/Python/3.11/lib/python/site-packages (from -r dependencies.txt (line 1)) (1.4.0)\n",
      "Requirement already satisfied: appnope==0.1.3 in /Users/hoangchu/Library/Python/3.11/lib/python/site-packages (from -r dependencies.txt (line 2)) (0.1.3)\n",
      "Requirement already satisfied: asttokens==2.2.1 in /Users/hoangchu/Library/Python/3.11/lib/python/site-packages (from -r dependencies.txt (line 3)) (2.2.1)\n",
      "Requirement already satisfied: astunparse==1.6.3 in /Library/Frameworks/Python.framework/Versions/3.11/lib/python3.11/site-packages (from -r dependencies.txt (line 4)) (1.6.3)\n",
      "Requirement already satisfied: attrs==23.1.0 in /Library/Frameworks/Python.framework/Versions/3.11/lib/python3.11/site-packages (from -r dependencies.txt (line 5)) (23.1.0)\n",
      "Requirement already satisfied: backcall==0.2.0 in /Users/hoangchu/Library/Python/3.11/lib/python/site-packages (from -r dependencies.txt (line 6)) (0.2.0)\n",
      "Requirement already satisfied: certifi==2023.5.7 in /Library/Frameworks/Python.framework/Versions/3.11/lib/python3.11/site-packages (from -r dependencies.txt (line 7)) (2023.5.7)\n",
      "Requirement already satisfied: chardet==5.2.0 in /Library/Frameworks/Python.framework/Versions/3.11/lib/python3.11/site-packages (from -r dependencies.txt (line 8)) (5.2.0)\n",
      "Requirement already satisfied: charset-normalizer==3.2.0 in /Library/Frameworks/Python.framework/Versions/3.11/lib/python3.11/site-packages (from -r dependencies.txt (line 9)) (3.2.0)\n",
      "Requirement already satisfied: click==8.1.3 in /Library/Frameworks/Python.framework/Versions/3.11/lib/python3.11/site-packages (from -r dependencies.txt (line 10)) (8.1.3)\n",
      "Requirement already satisfied: click-plugins==1.1.1 in /Library/Frameworks/Python.framework/Versions/3.11/lib/python3.11/site-packages (from -r dependencies.txt (line 11)) (1.1.1)\n",
      "Requirement already satisfied: cligj==0.7.2 in /Library/Frameworks/Python.framework/Versions/3.11/lib/python3.11/site-packages (from -r dependencies.txt (line 12)) (0.7.2)\n",
      "Requirement already satisfied: comm==0.1.3 in /Users/hoangchu/Library/Python/3.11/lib/python/site-packages (from -r dependencies.txt (line 13)) (0.1.3)\n",
      "Requirement already satisfied: contourpy==1.1.0 in /Library/Frameworks/Python.framework/Versions/3.11/lib/python3.11/site-packages (from -r dependencies.txt (line 14)) (1.1.0)\n",
      "Requirement already satisfied: cycler==0.11.0 in /Library/Frameworks/Python.framework/Versions/3.11/lib/python3.11/site-packages (from -r dependencies.txt (line 15)) (0.11.0)\n",
      "Requirement already satisfied: debugpy==1.6.7 in /Users/hoangchu/Library/Python/3.11/lib/python/site-packages (from -r dependencies.txt (line 16)) (1.6.7)\n",
      "Requirement already satisfied: decorator==5.1.1 in /Users/hoangchu/Library/Python/3.11/lib/python/site-packages (from -r dependencies.txt (line 17)) (5.1.1)\n",
      "Requirement already satisfied: executing==1.2.0 in /Users/hoangchu/Library/Python/3.11/lib/python/site-packages (from -r dependencies.txt (line 18)) (1.2.0)\n",
      "Requirement already satisfied: Fiona==1.9.4.post1 in /Library/Frameworks/Python.framework/Versions/3.11/lib/python3.11/site-packages (from -r dependencies.txt (line 19)) (1.9.4.post1)\n",
      "Requirement already satisfied: fonttools==4.40.0 in /Library/Frameworks/Python.framework/Versions/3.11/lib/python3.11/site-packages (from -r dependencies.txt (line 20)) (4.40.0)\n",
      "Requirement already satisfied: geopandas==0.13.2 in /Library/Frameworks/Python.framework/Versions/3.11/lib/python3.11/site-packages (from -r dependencies.txt (line 21)) (0.13.2)\n",
      "Requirement already satisfied: idna==3.4 in /Library/Frameworks/Python.framework/Versions/3.11/lib/python3.11/site-packages (from -r dependencies.txt (line 22)) (3.4)\n",
      "Requirement already satisfied: ipykernel==6.23.3 in /Users/hoangchu/Library/Python/3.11/lib/python/site-packages (from -r dependencies.txt (line 23)) (6.23.3)\n",
      "Requirement already satisfied: ipython==8.14.0 in /Users/hoangchu/Library/Python/3.11/lib/python/site-packages (from -r dependencies.txt (line 24)) (8.14.0)\n",
      "Requirement already satisfied: jedi==0.18.2 in /Users/hoangchu/Library/Python/3.11/lib/python/site-packages (from -r dependencies.txt (line 25)) (0.18.2)\n",
      "Requirement already satisfied: joblib==1.3.2 in /Library/Frameworks/Python.framework/Versions/3.11/lib/python3.11/site-packages (from -r dependencies.txt (line 26)) (1.3.2)\n",
      "Requirement already satisfied: jupyter_client==8.3.0 in /Users/hoangchu/Library/Python/3.11/lib/python/site-packages (from -r dependencies.txt (line 27)) (8.3.0)\n",
      "Requirement already satisfied: jupyter_core==5.3.1 in /Users/hoangchu/Library/Python/3.11/lib/python/site-packages (from -r dependencies.txt (line 28)) (5.3.1)\n",
      "Requirement already satisfied: kiwisolver==1.4.4 in /Library/Frameworks/Python.framework/Versions/3.11/lib/python3.11/site-packages (from -r dependencies.txt (line 29)) (1.4.4)\n",
      "Requirement already satisfied: matplotlib==3.7.2 in /Library/Frameworks/Python.framework/Versions/3.11/lib/python3.11/site-packages (from -r dependencies.txt (line 30)) (3.7.2)\n",
      "Requirement already satisfied: matplotlib-inline==0.1.6 in /Users/hoangchu/Library/Python/3.11/lib/python/site-packages (from -r dependencies.txt (line 31)) (0.1.6)\n",
      "Requirement already satisfied: nest-asyncio==1.5.6 in /Users/hoangchu/Library/Python/3.11/lib/python/site-packages (from -r dependencies.txt (line 32)) (1.5.6)\n",
      "Requirement already satisfied: numpy==1.25.0 in /Library/Frameworks/Python.framework/Versions/3.11/lib/python3.11/site-packages (from -r dependencies.txt (line 33)) (1.25.0)\n",
      "Requirement already satisfied: ortools==9.7.2996 in /Users/hoangchu/Library/Python/3.11/lib/python/site-packages (from -r dependencies.txt (line 34)) (9.7.2996)\n",
      "Requirement already satisfied: packaging==23.1 in /Users/hoangchu/Library/Python/3.11/lib/python/site-packages (from -r dependencies.txt (line 35)) (23.1)\n",
      "Requirement already satisfied: pandas==2.0.2 in /Library/Frameworks/Python.framework/Versions/3.11/lib/python3.11/site-packages (from -r dependencies.txt (line 36)) (2.0.2)\n",
      "Requirement already satisfied: parso==0.8.3 in /Users/hoangchu/Library/Python/3.11/lib/python/site-packages (from -r dependencies.txt (line 37)) (0.8.3)\n",
      "Requirement already satisfied: patsy==0.5.3 in /Library/Frameworks/Python.framework/Versions/3.11/lib/python3.11/site-packages (from -r dependencies.txt (line 38)) (0.5.3)\n",
      "Requirement already satisfied: pexpect==4.8.0 in /Users/hoangchu/Library/Python/3.11/lib/python/site-packages (from -r dependencies.txt (line 39)) (4.8.0)\n",
      "Requirement already satisfied: pickleshare==0.7.5 in /Users/hoangchu/Library/Python/3.11/lib/python/site-packages (from -r dependencies.txt (line 40)) (0.7.5)\n",
      "Requirement already satisfied: Pillow==10.0.0 in /Library/Frameworks/Python.framework/Versions/3.11/lib/python3.11/site-packages (from -r dependencies.txt (line 41)) (10.0.0)\n",
      "Requirement already satisfied: platformdirs==3.8.0 in /Users/hoangchu/Library/Python/3.11/lib/python/site-packages (from -r dependencies.txt (line 42)) (3.8.0)\n",
      "Requirement already satisfied: prompt-toolkit==3.0.38 in /Users/hoangchu/Library/Python/3.11/lib/python/site-packages (from -r dependencies.txt (line 43)) (3.0.38)\n",
      "Requirement already satisfied: protobuf==4.23.4 in /Users/hoangchu/Library/Python/3.11/lib/python/site-packages (from -r dependencies.txt (line 44)) (4.23.4)\n",
      "Requirement already satisfied: psutil==5.9.5 in /Users/hoangchu/Library/Python/3.11/lib/python/site-packages (from -r dependencies.txt (line 45)) (5.9.5)\n",
      "Requirement already satisfied: ptyprocess==0.7.0 in /Users/hoangchu/Library/Python/3.11/lib/python/site-packages (from -r dependencies.txt (line 46)) (0.7.0)\n",
      "Requirement already satisfied: pure-eval==0.2.2 in /Users/hoangchu/Library/Python/3.11/lib/python/site-packages (from -r dependencies.txt (line 47)) (0.2.2)\n",
      "Requirement already satisfied: pyflowchart==0.3.1 in /Library/Frameworks/Python.framework/Versions/3.11/lib/python3.11/site-packages (from -r dependencies.txt (line 48)) (0.3.1)\n",
      "Requirement already satisfied: Pygments==2.15.1 in /Users/hoangchu/Library/Python/3.11/lib/python/site-packages (from -r dependencies.txt (line 49)) (2.15.1)\n",
      "Requirement already satisfied: pyparsing==3.0.9 in /Library/Frameworks/Python.framework/Versions/3.11/lib/python3.11/site-packages (from -r dependencies.txt (line 50)) (3.0.9)\n",
      "Requirement already satisfied: pyproj==3.6.0 in /Library/Frameworks/Python.framework/Versions/3.11/lib/python3.11/site-packages (from -r dependencies.txt (line 51)) (3.6.0)\n",
      "Requirement already satisfied: python-dateutil==2.8.2 in /Users/hoangchu/Library/Python/3.11/lib/python/site-packages (from -r dependencies.txt (line 52)) (2.8.2)\n",
      "Requirement already satisfied: pytz==2023.3 in /Library/Frameworks/Python.framework/Versions/3.11/lib/python3.11/site-packages (from -r dependencies.txt (line 53)) (2023.3)\n",
      "Requirement already satisfied: pyzmq==25.1.0 in /Users/hoangchu/Library/Python/3.11/lib/python/site-packages (from -r dependencies.txt (line 54)) (25.1.0)\n",
      "Requirement already satisfied: requests==2.31.0 in /Library/Frameworks/Python.framework/Versions/3.11/lib/python3.11/site-packages (from -r dependencies.txt (line 55)) (2.31.0)\n",
      "Requirement already satisfied: scikit-learn==1.3.0 in /Library/Frameworks/Python.framework/Versions/3.11/lib/python3.11/site-packages (from -r dependencies.txt (line 56)) (1.3.0)\n",
      "Requirement already satisfied: scipy==1.11.1 in /Users/hoangchu/Library/Python/3.11/lib/python/site-packages (from -r dependencies.txt (line 57)) (1.11.1)\n",
      "Requirement already satisfied: shapely==2.0.1 in /Library/Frameworks/Python.framework/Versions/3.11/lib/python3.11/site-packages (from -r dependencies.txt (line 58)) (2.0.1)\n",
      "Requirement already satisfied: six==1.16.0 in /Users/hoangchu/Library/Python/3.11/lib/python/site-packages (from -r dependencies.txt (line 59)) (1.16.0)\n",
      "Requirement already satisfied: sklearn==0.0.post9 in /Library/Frameworks/Python.framework/Versions/3.11/lib/python3.11/site-packages (from -r dependencies.txt (line 60)) (0.0.post9)\n",
      "Requirement already satisfied: stack-data==0.6.2 in /Users/hoangchu/Library/Python/3.11/lib/python/site-packages (from -r dependencies.txt (line 61)) (0.6.2)\n",
      "Requirement already satisfied: statsmodels==0.14.0 in /Library/Frameworks/Python.framework/Versions/3.11/lib/python3.11/site-packages (from -r dependencies.txt (line 62)) (0.14.0)\n",
      "Requirement already satisfied: threadpoolctl==3.2.0 in /Library/Frameworks/Python.framework/Versions/3.11/lib/python3.11/site-packages (from -r dependencies.txt (line 63)) (3.2.0)\n",
      "Requirement already satisfied: tornado==6.3.2 in /Users/hoangchu/Library/Python/3.11/lib/python/site-packages (from -r dependencies.txt (line 64)) (6.3.2)\n",
      "Requirement already satisfied: traitlets==5.9.0 in /Users/hoangchu/Library/Python/3.11/lib/python/site-packages (from -r dependencies.txt (line 65)) (5.9.0)\n",
      "Requirement already satisfied: tzdata==2023.3 in /Library/Frameworks/Python.framework/Versions/3.11/lib/python3.11/site-packages (from -r dependencies.txt (line 66)) (2023.3)\n",
      "Requirement already satisfied: urllib3==2.0.5 in /Library/Frameworks/Python.framework/Versions/3.11/lib/python3.11/site-packages (from -r dependencies.txt (line 67)) (2.0.5)\n",
      "Requirement already satisfied: wcwidth==0.2.6 in /Users/hoangchu/Library/Python/3.11/lib/python/site-packages (from -r dependencies.txt (line 68)) (0.2.6)\n",
      "Requirement already satisfied: wheel<1.0,>=0.23.0 in /Library/Frameworks/Python.framework/Versions/3.11/lib/python3.11/site-packages (from astunparse==1.6.3->-r dependencies.txt (line 4)) (0.41.2)\n",
      "Note: you may need to restart the kernel to use updated packages.\n"
     ]
    }
   ],
   "source": [
    "%pip install -r dependencies.txt"
   ]
  },
  {
   "cell_type": "code",
   "execution_count": 634,
   "metadata": {},
   "outputs": [
    {
     "data": {
      "text/plain": [
       "<module 'helper' from '/Users/hoangchu/Documents/Clinic/code/helper.py'>"
      ]
     },
     "execution_count": 634,
     "metadata": {},
     "output_type": "execute_result"
    }
   ],
   "source": [
    "import pandas as pd\n",
    "import numpy as np\n",
    "import sklearn\n",
    "import matplotlib.pyplot as plt\n",
    "import requests\n",
    "import scipy\n",
    "import importlib\n",
    "import helper, consts\n",
    "importlib.reload(consts)\n",
    "importlib.reload(helper)"
   ]
  },
  {
   "cell_type": "markdown",
   "metadata": {},
   "source": [
    "### CONSTANTS"
   ]
  },
  {
   "cell_type": "code",
   "execution_count": 635,
   "metadata": {},
   "outputs": [],
   "source": [
    "ROW = consts.ROW\n",
    "COL = consts.COL\n",
    "CLEANED_DATA_PATH = consts.CLEANED_DATA_PATH\n",
    "RESPONSE_NAME = consts.RESPONSE_NAME\n",
    "\n",
    "TRAIN_FILE = \"training_data.csv\"\n",
    "TEST_FILE = \"testing_data.csv\""
   ]
  },
  {
   "cell_type": "code",
   "execution_count": 636,
   "metadata": {},
   "outputs": [
    {
     "name": "stdout",
     "output_type": "stream",
     "text": [
      "1: OLS\n",
      "2: LASSO\n"
     ]
    }
   ],
   "source": [
    "REGRESSION_TYPES = helper.Regression('OLS').list_all_regression_types()\n",
    "REGRESSION_TYPES"
   ]
  },
  {
   "cell_type": "markdown",
   "metadata": {},
   "source": [
    "### Read data"
   ]
  },
  {
   "cell_type": "code",
   "execution_count": 637,
   "metadata": {},
   "outputs": [],
   "source": [
    "train_df = pd.read_csv(CLEANED_DATA_PATH + TRAIN_FILE)\n",
    "test_df = pd.read_csv(CLEANED_DATA_PATH + TEST_FILE)"
   ]
  },
  {
   "cell_type": "code",
   "execution_count": 638,
   "metadata": {},
   "outputs": [
    {
     "data": {
      "text/html": [
       "<div>\n",
       "<style scoped>\n",
       "    .dataframe tbody tr th:only-of-type {\n",
       "        vertical-align: middle;\n",
       "    }\n",
       "\n",
       "    .dataframe tbody tr th {\n",
       "        vertical-align: top;\n",
       "    }\n",
       "\n",
       "    .dataframe thead th {\n",
       "        text-align: right;\n",
       "    }\n",
       "</style>\n",
       "<table border=\"1\" class=\"dataframe\">\n",
       "  <thead>\n",
       "    <tr style=\"text-align: right;\">\n",
       "      <th></th>\n",
       "      <th>wt</th>\n",
       "      <th>today</th>\n",
       "      <th>tonight</th>\n",
       "      <th>tmwam</th>\n",
       "      <th>dn3sttmwmd</th>\n",
       "      <th>dn1</th>\n",
       "      <th>dn4x1</th>\n",
       "      <th>cftorrrelstd_open_0</th>\n",
       "      <th>liqlog_open_0</th>\n",
       "      <th>llirpnxm_am_1</th>\n",
       "      <th>...</th>\n",
       "      <th>tr_md_1</th>\n",
       "      <th>tr_nt_0</th>\n",
       "      <th>tr_nt_1</th>\n",
       "      <th>tr_nt_12to16</th>\n",
       "      <th>tr_nt_17to21</th>\n",
       "      <th>tr_nt_1to3</th>\n",
       "      <th>tr_nt_4to6</th>\n",
       "      <th>tr_nt_7to11</th>\n",
       "      <th>tr_toxhr_0</th>\n",
       "      <th>rrirpnxm_nt_0</th>\n",
       "    </tr>\n",
       "  </thead>\n",
       "  <tbody>\n",
       "    <tr>\n",
       "      <th>0</th>\n",
       "      <td>0.000594</td>\n",
       "      <td>-0.016720</td>\n",
       "      <td>-0.015436</td>\n",
       "      <td>-0.002487</td>\n",
       "      <td>0.011511</td>\n",
       "      <td>-0.038052</td>\n",
       "      <td>0.025530</td>\n",
       "      <td>0.231635</td>\n",
       "      <td>-0.065247</td>\n",
       "      <td>0.002597</td>\n",
       "      <td>...</td>\n",
       "      <td>0.0</td>\n",
       "      <td>0.0</td>\n",
       "      <td>0.0</td>\n",
       "      <td>0.0</td>\n",
       "      <td>0.000000</td>\n",
       "      <td>0.0</td>\n",
       "      <td>0.0</td>\n",
       "      <td>0.000000</td>\n",
       "      <td>0.0</td>\n",
       "      <td>0.015402</td>\n",
       "    </tr>\n",
       "    <tr>\n",
       "      <th>1</th>\n",
       "      <td>0.001446</td>\n",
       "      <td>0.001475</td>\n",
       "      <td>-0.007683</td>\n",
       "      <td>-0.001346</td>\n",
       "      <td>0.027832</td>\n",
       "      <td>-0.006712</td>\n",
       "      <td>0.029269</td>\n",
       "      <td>-0.482915</td>\n",
       "      <td>1.571073</td>\n",
       "      <td>-0.000055</td>\n",
       "      <td>...</td>\n",
       "      <td>0.0</td>\n",
       "      <td>0.0</td>\n",
       "      <td>0.0</td>\n",
       "      <td>0.0</td>\n",
       "      <td>0.000000</td>\n",
       "      <td>0.0</td>\n",
       "      <td>0.0</td>\n",
       "      <td>0.000000</td>\n",
       "      <td>0.0</td>\n",
       "      <td>0.005125</td>\n",
       "    </tr>\n",
       "    <tr>\n",
       "      <th>2</th>\n",
       "      <td>0.000069</td>\n",
       "      <td>-0.019774</td>\n",
       "      <td>-0.013203</td>\n",
       "      <td>-0.003210</td>\n",
       "      <td>-0.001507</td>\n",
       "      <td>-0.040861</td>\n",
       "      <td>0.005203</td>\n",
       "      <td>0.165615</td>\n",
       "      <td>-2.223915</td>\n",
       "      <td>0.000659</td>\n",
       "      <td>...</td>\n",
       "      <td>0.0</td>\n",
       "      <td>0.0</td>\n",
       "      <td>0.0</td>\n",
       "      <td>0.0</td>\n",
       "      <td>0.000000</td>\n",
       "      <td>0.0</td>\n",
       "      <td>0.0</td>\n",
       "      <td>0.000000</td>\n",
       "      <td>0.0</td>\n",
       "      <td>-0.006332</td>\n",
       "    </tr>\n",
       "    <tr>\n",
       "      <th>3</th>\n",
       "      <td>0.000120</td>\n",
       "      <td>-0.000934</td>\n",
       "      <td>-0.002772</td>\n",
       "      <td>-0.000651</td>\n",
       "      <td>0.005818</td>\n",
       "      <td>-0.004393</td>\n",
       "      <td>0.006443</td>\n",
       "      <td>-1.229984</td>\n",
       "      <td>-1.670970</td>\n",
       "      <td>-0.000372</td>\n",
       "      <td>...</td>\n",
       "      <td>0.0</td>\n",
       "      <td>0.0</td>\n",
       "      <td>0.0</td>\n",
       "      <td>0.0</td>\n",
       "      <td>0.000000</td>\n",
       "      <td>0.0</td>\n",
       "      <td>0.0</td>\n",
       "      <td>0.000000</td>\n",
       "      <td>0.0</td>\n",
       "      <td>0.001978</td>\n",
       "    </tr>\n",
       "    <tr>\n",
       "      <th>4</th>\n",
       "      <td>0.000892</td>\n",
       "      <td>0.004249</td>\n",
       "      <td>0.002662</td>\n",
       "      <td>-0.000931</td>\n",
       "      <td>-0.034163</td>\n",
       "      <td>0.007955</td>\n",
       "      <td>-0.037853</td>\n",
       "      <td>-1.326470</td>\n",
       "      <td>0.342333</td>\n",
       "      <td>-0.000857</td>\n",
       "      <td>...</td>\n",
       "      <td>0.0</td>\n",
       "      <td>0.0</td>\n",
       "      <td>0.0</td>\n",
       "      <td>0.0</td>\n",
       "      <td>0.012116</td>\n",
       "      <td>0.0</td>\n",
       "      <td>0.0</td>\n",
       "      <td>-0.055974</td>\n",
       "      <td>0.0</td>\n",
       "      <td>0.003413</td>\n",
       "    </tr>\n",
       "  </tbody>\n",
       "</table>\n",
       "<p>5 rows × 235 columns</p>\n",
       "</div>"
      ],
      "text/plain": [
       "         wt     today   tonight     tmwam  dn3sttmwmd       dn1     dn4x1  \\\n",
       "0  0.000594 -0.016720 -0.015436 -0.002487    0.011511 -0.038052  0.025530   \n",
       "1  0.001446  0.001475 -0.007683 -0.001346    0.027832 -0.006712  0.029269   \n",
       "2  0.000069 -0.019774 -0.013203 -0.003210   -0.001507 -0.040861  0.005203   \n",
       "3  0.000120 -0.000934 -0.002772 -0.000651    0.005818 -0.004393  0.006443   \n",
       "4  0.000892  0.004249  0.002662 -0.000931   -0.034163  0.007955 -0.037853   \n",
       "\n",
       "   cftorrrelstd_open_0  liqlog_open_0  llirpnxm_am_1  ...  tr_md_1  tr_nt_0  \\\n",
       "0             0.231635      -0.065247       0.002597  ...      0.0      0.0   \n",
       "1            -0.482915       1.571073      -0.000055  ...      0.0      0.0   \n",
       "2             0.165615      -2.223915       0.000659  ...      0.0      0.0   \n",
       "3            -1.229984      -1.670970      -0.000372  ...      0.0      0.0   \n",
       "4            -1.326470       0.342333      -0.000857  ...      0.0      0.0   \n",
       "\n",
       "   tr_nt_1  tr_nt_12to16  tr_nt_17to21  tr_nt_1to3  tr_nt_4to6  tr_nt_7to11  \\\n",
       "0      0.0           0.0      0.000000         0.0         0.0     0.000000   \n",
       "1      0.0           0.0      0.000000         0.0         0.0     0.000000   \n",
       "2      0.0           0.0      0.000000         0.0         0.0     0.000000   \n",
       "3      0.0           0.0      0.000000         0.0         0.0     0.000000   \n",
       "4      0.0           0.0      0.012116         0.0         0.0    -0.055974   \n",
       "\n",
       "   tr_toxhr_0  rrirpnxm_nt_0  \n",
       "0         0.0       0.015402  \n",
       "1         0.0       0.005125  \n",
       "2         0.0      -0.006332  \n",
       "3         0.0       0.001978  \n",
       "4         0.0       0.003413  \n",
       "\n",
       "[5 rows x 235 columns]"
      ]
     },
     "execution_count": 638,
     "metadata": {},
     "output_type": "execute_result"
    }
   ],
   "source": [
    "train_df.head()"
   ]
  },
  {
   "cell_type": "markdown",
   "metadata": {},
   "source": [
    "### Interaction Terms"
   ]
  },
  {
   "cell_type": "code",
   "execution_count": 639,
   "metadata": {},
   "outputs": [
    {
     "name": "stdout",
     "output_type": "stream",
     "text": [
      "[['rvdelta_pm_1']] missing or already been grouped!\n",
      "[['rvdelta_nt_1']] missing or already been grouped!\n",
      "[['rvdelta_nt_1to3']] missing or already been grouped!\n",
      "[['rvdelta_dy_4to6']] missing or already been grouped!\n",
      "[['rvdelta_nt_4to6']] missing or already been grouped!\n",
      "[['rvdelta_nt_7to11']] missing or already been grouped!\n",
      "[['rvdelta_nt_12to16']] missing or already been grouped!\n",
      "[['rvdelta_nt_17to21']] missing or already been grouped!\n",
      "[['rvdelta_pm_1']] missing or already been grouped!\n",
      "[['rvdelta_nt_1']] missing or already been grouped!\n",
      "[['rvdelta_nt_1to3']] missing or already been grouped!\n",
      "[['rvdelta_dy_4to6']] missing or already been grouped!\n",
      "[['rvdelta_nt_4to6']] missing or already been grouped!\n",
      "[['rvdelta_nt_7to11']] missing or already been grouped!\n",
      "[['rvdelta_nt_12to16']] missing or already been grouped!\n",
      "[['rvdelta_nt_17to21']] missing or already been grouped!\n"
     ]
    }
   ],
   "source": [
    "col_pairs = [\n",
    "    ['relvol_lsthrx15_0', 'rrirpnxm_lst15_0'],\n",
    "    [\"rvdelta_toxhr_0\", \"rrirpnxm_toxhr_0\"],\n",
    "    [\"rvdelta_am_1\", \"rrirpnxm_am_1\"],\n",
    "    [\"rvdelta_md_1\", \"rrirpnxm_md_1\"],\n",
    "    [\"rvdelta_pm_1\", \"rrirpnxm_pm_1\"],\n",
    "    [\"rvdelta_nt_1\", \"rrirpnxm_nt_1\"],\n",
    "    [\"rvdelta_dy_1to3\", \"rrirpnxm_dy_1to3\"],\n",
    "    [\"rvdelta_nt_1to3\", \"rrirpnxm_1to3\"],\n",
    "    [\"rvdelta_dy_4to6\", \"rrirpnxm_4to6\"],\n",
    "    [\"rvdelta_nt_4to6\", \"rrirpnxm_nt_4to6\"],\n",
    "    [\"rvdelta_dy_7to11\", \"rrirpnxm_dy_7to11\"],\n",
    "    [\"rvdelta_nt_7to11\", \"rrirpnxm_nt_7to11\"],\n",
    "    [\"rvdelta_dy_12to16\", \"rrirpnxm_dy_12to16\"],\n",
    "    [\"rvdelta_nt_12to16\", \"rrirpnxm_nt_12to16\"],\n",
    "    [\"rvdelta_dy_17to21\", \"rrirpnxm_dy_17to21\"],\n",
    "    [\"rvdelta_nt_17to21\", \"rrirpnxm_nt_17to21\"]\n",
    "]\n",
    "interaction_terms_train_df = helper.get_df_with_interaction_terms(train_df, col_pairs)\n",
    "interaction_terms_test_df = helper.get_df_with_interaction_terms(test_df, col_pairs)"
   ]
  },
  {
   "cell_type": "markdown",
   "metadata": {},
   "source": [
    "### Transform the data if needed"
   ]
  },
  {
   "cell_type": "markdown",
   "metadata": {},
   "source": [
    "### Run regressions"
   ]
  },
  {
   "cell_type": "markdown",
   "metadata": {},
   "source": [
    "#### Ordinary Least Squares"
   ]
  },
  {
   "cell_type": "code",
   "execution_count": 640,
   "metadata": {},
   "outputs": [
    {
     "name": "stdout",
     "output_type": "stream",
     "text": [
      "1. Weighted Correlation:\n",
      "[[1.         0.72854457]\n",
      " [0.72854457 1.        ]]\n",
      "\n",
      "2. Weighted Mean Return:\n",
      "0.005221154716981131\n",
      "\n",
      "3. Weighted Scale Factor:\n",
      "[0.62839211]\n",
      "\n"
     ]
    }
   ],
   "source": [
    "ols_regression_model = helper.Regression('OLS')\n",
    "ols_regression_model.execute(train_df, RESPONSE_NAME, test_df)\n",
    "ols_regression_model.get_metric()"
   ]
  },
  {
   "cell_type": "markdown",
   "metadata": {},
   "source": [
    "#### OLS w/ Interacting Terms"
   ]
  },
  {
   "cell_type": "code",
   "execution_count": 641,
   "metadata": {},
   "outputs": [
    {
     "name": "stdout",
     "output_type": "stream",
     "text": [
      "1. Weighted Correlation:\n",
      "[[1.         0.73491725]\n",
      " [0.73491725 1.        ]]\n",
      "\n",
      "2. Weighted Mean Return:\n",
      "0.005242186620926244\n",
      "\n",
      "3. Weighted Scale Factor:\n",
      "[0.63591755]\n",
      "\n"
     ]
    }
   ],
   "source": [
    "ols_interacting_model = helper.Regression('OLS')\n",
    "ols_interacting_model.execute(interaction_terms_train_df, RESPONSE_NAME, interaction_terms_test_df)\n",
    "ols_interacting_model.get_metric()"
   ]
  },
  {
   "cell_type": "markdown",
   "metadata": {},
   "source": [
    "#### LASSO"
   ]
  },
  {
   "cell_type": "code",
   "execution_count": 642,
   "metadata": {},
   "outputs": [
    {
     "name": "stderr",
     "output_type": "stream",
     "text": [
      "/Library/Frameworks/Python.framework/Versions/3.11/lib/python3.11/site-packages/sklearn/linear_model/_coordinate_descent.py:614: ConvergenceWarning: Objective did not converge. You might want to increase the number of iterations. Duality gap: 1.0401833624877621e-05, tolerance: 7.8081290168e-06\n",
      "  model = cd_fast.enet_coordinate_descent_gram(\n",
      "/Library/Frameworks/Python.framework/Versions/3.11/lib/python3.11/site-packages/sklearn/linear_model/_coordinate_descent.py:614: ConvergenceWarning: Objective did not converge. You might want to increase the number of iterations. Duality gap: 1.5080694954108798e-05, tolerance: 7.8081290168e-06\n",
      "  model = cd_fast.enet_coordinate_descent_gram(\n",
      "/Library/Frameworks/Python.framework/Versions/3.11/lib/python3.11/site-packages/sklearn/linear_model/_coordinate_descent.py:614: ConvergenceWarning: Objective did not converge. You might want to increase the number of iterations. Duality gap: 1.4147997432035347e-05, tolerance: 7.8081290168e-06\n",
      "  model = cd_fast.enet_coordinate_descent_gram(\n",
      "/Library/Frameworks/Python.framework/Versions/3.11/lib/python3.11/site-packages/sklearn/linear_model/_coordinate_descent.py:614: ConvergenceWarning: Objective did not converge. You might want to increase the number of iterations. Duality gap: 1.3926997872948377e-05, tolerance: 7.8081290168e-06\n",
      "  model = cd_fast.enet_coordinate_descent_gram(\n",
      "/Library/Frameworks/Python.framework/Versions/3.11/lib/python3.11/site-packages/sklearn/linear_model/_coordinate_descent.py:614: ConvergenceWarning: Objective did not converge. You might want to increase the number of iterations. Duality gap: 1.2506318470259514e-05, tolerance: 7.616718463e-06\n",
      "  model = cd_fast.enet_coordinate_descent_gram(\n",
      "/Library/Frameworks/Python.framework/Versions/3.11/lib/python3.11/site-packages/sklearn/linear_model/_coordinate_descent.py:614: ConvergenceWarning: Objective did not converge. You might want to increase the number of iterations. Duality gap: 1.3381740430230826e-05, tolerance: 7.616718463e-06\n",
      "  model = cd_fast.enet_coordinate_descent_gram(\n",
      "/Library/Frameworks/Python.framework/Versions/3.11/lib/python3.11/site-packages/sklearn/linear_model/_coordinate_descent.py:614: ConvergenceWarning: Objective did not converge. You might want to increase the number of iterations. Duality gap: 8.699320796039939e-06, tolerance: 7.616718463e-06\n",
      "  model = cd_fast.enet_coordinate_descent_gram(\n",
      "/Library/Frameworks/Python.framework/Versions/3.11/lib/python3.11/site-packages/sklearn/linear_model/_coordinate_descent.py:614: ConvergenceWarning: Objective did not converge. You might want to increase the number of iterations. Duality gap: 8.27998431845653e-06, tolerance: 7.616718463e-06\n",
      "  model = cd_fast.enet_coordinate_descent_gram(\n",
      "/Library/Frameworks/Python.framework/Versions/3.11/lib/python3.11/site-packages/sklearn/linear_model/_coordinate_descent.py:614: ConvergenceWarning: Objective did not converge. You might want to increase the number of iterations. Duality gap: 8.802442982625003e-06, tolerance: 7.616718463e-06\n",
      "  model = cd_fast.enet_coordinate_descent_gram(\n",
      "/Library/Frameworks/Python.framework/Versions/3.11/lib/python3.11/site-packages/sklearn/linear_model/_coordinate_descent.py:614: ConvergenceWarning: Objective did not converge. You might want to increase the number of iterations. Duality gap: 8.418603237511646e-06, tolerance: 7.069752974100005e-06\n",
      "  model = cd_fast.enet_coordinate_descent_gram(\n"
     ]
    },
    {
     "name": "stdout",
     "output_type": "stream",
     "text": [
      "1. Weighted Correlation:\n",
      "[[1.        0.7379731]\n",
      " [0.7379731 1.       ]]\n",
      "\n",
      "2. Weighted Mean Return:\n",
      "0.005155882675814751\n",
      "\n",
      "3. Weighted Scale Factor:\n",
      "[1.06295937]\n",
      "\n"
     ]
    }
   ],
   "source": [
    "lasso_model = helper.Regression('LASSO')\n",
    "lasso_model.execute(train_df, RESPONSE_NAME, test_df)\n",
    "lasso_model.get_metric()"
   ]
  },
  {
   "cell_type": "markdown",
   "metadata": {},
   "source": []
  }
 ],
 "metadata": {
  "kernelspec": {
   "display_name": "Python 3",
   "language": "python",
   "name": "python3"
  },
  "language_info": {
   "codemirror_mode": {
    "name": "ipython",
    "version": 3
   },
   "file_extension": ".py",
   "mimetype": "text/x-python",
   "name": "python",
   "nbconvert_exporter": "python",
   "pygments_lexer": "ipython3",
   "version": "3.11.3"
  }
 },
 "nbformat": 4,
 "nbformat_minor": 2
}
