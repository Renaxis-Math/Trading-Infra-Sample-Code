{
 "cells": [
  {
   "cell_type": "markdown",
   "metadata": {},
   "source": [
    "### Imports"
   ]
  },
  {
   "cell_type": "code",
   "execution_count": 86,
   "metadata": {},
   "outputs": [
    {
     "name": "stdout",
     "output_type": "stream",
     "text": [
      "Requirement already satisfied: aiofiles==22.1.0 in /usr/local/lib/python3.10/site-packages (from -r dependencies.txt (line 1)) (22.1.0)\n",
      "Requirement already satisfied: aiosqlite==0.18.0 in /usr/local/lib/python3.10/site-packages (from -r dependencies.txt (line 2)) (0.18.0)\n",
      "Requirement already satisfied: anyio==3.6.2 in /usr/local/lib/python3.10/site-packages (from -r dependencies.txt (line 3)) (3.6.2)\n",
      "Requirement already satisfied: appnope==0.1.3 in /Users/mike/Library/Python/3.10/lib/python/site-packages (from -r dependencies.txt (line 4)) (0.1.3)\n",
      "Requirement already satisfied: argon2-cffi==21.3.0 in /usr/local/lib/python3.10/site-packages (from -r dependencies.txt (line 5)) (21.3.0)\n",
      "Requirement already satisfied: argon2-cffi-bindings==21.2.0 in /usr/local/lib/python3.10/site-packages (from -r dependencies.txt (line 6)) (21.2.0)\n",
      "Requirement already satisfied: arrow==1.2.3 in /usr/local/lib/python3.10/site-packages (from -r dependencies.txt (line 7)) (1.2.3)\n",
      "Requirement already satisfied: asttokens==2.2.1 in /usr/local/lib/python3.10/site-packages (from -r dependencies.txt (line 8)) (2.2.1)\n",
      "Requirement already satisfied: attrs==22.2.0 in /usr/local/lib/python3.10/site-packages (from -r dependencies.txt (line 9)) (22.2.0)\n",
      "Requirement already satisfied: Babel==2.12.1 in /usr/local/lib/python3.10/site-packages (from -r dependencies.txt (line 10)) (2.12.1)\n",
      "Requirement already satisfied: backcall==0.2.0 in /Users/mike/Library/Python/3.10/lib/python/site-packages (from -r dependencies.txt (line 11)) (0.2.0)\n",
      "Requirement already satisfied: bardapi==0.1.38 in /usr/local/lib/python3.10/site-packages (from -r dependencies.txt (line 12)) (0.1.38)\n",
      "Requirement already satisfied: beautifulsoup4==4.11.2 in /usr/local/lib/python3.10/site-packages (from -r dependencies.txt (line 13)) (4.11.2)\n",
      "Requirement already satisfied: bleach==6.0.0 in /usr/local/lib/python3.10/site-packages (from -r dependencies.txt (line 14)) (6.0.0)\n",
      "Requirement already satisfied: browser-cookie3==0.19.1 in /usr/local/lib/python3.10/site-packages (from -r dependencies.txt (line 15)) (0.19.1)\n",
      "Requirement already satisfied: cachetools==5.3.2 in /usr/local/lib/python3.10/site-packages (from -r dependencies.txt (line 16)) (5.3.2)\n",
      "Requirement already satisfied: certifi==2022.12.7 in /usr/local/lib/python3.10/site-packages (from -r dependencies.txt (line 17)) (2022.12.7)\n",
      "Requirement already satisfied: cffi==1.15.1 in /usr/local/lib/python3.10/site-packages (from -r dependencies.txt (line 18)) (1.15.1)\n",
      "Requirement already satisfied: charset-normalizer==3.1.0 in /usr/local/lib/python3.10/site-packages (from -r dependencies.txt (line 19)) (3.1.0)\n",
      "Requirement already satisfied: colorama==0.4.6 in /usr/local/lib/python3.10/site-packages (from -r dependencies.txt (line 20)) (0.4.6)\n",
      "Requirement already satisfied: comm==0.1.2 in /usr/local/lib/python3.10/site-packages (from -r dependencies.txt (line 21)) (0.1.2)\n",
      "Requirement already satisfied: contourpy==1.1.1 in /usr/local/lib/python3.10/site-packages (from -r dependencies.txt (line 22)) (1.1.1)\n",
      "Requirement already satisfied: cycler==0.11.0 in /usr/local/lib/python3.10/site-packages (from -r dependencies.txt (line 23)) (0.11.0)\n",
      "Requirement already satisfied: debugpy==1.6.6 in /usr/local/lib/python3.10/site-packages (from -r dependencies.txt (line 24)) (1.6.6)\n",
      "Requirement already satisfied: decorator==5.1.1 in /Users/mike/Library/Python/3.10/lib/python/site-packages (from -r dependencies.txt (line 25)) (5.1.1)\n",
      "Requirement already satisfied: deep-translator==1.11.4 in /usr/local/lib/python3.10/site-packages (from -r dependencies.txt (line 26)) (1.11.4)\n",
      "Requirement already satisfied: defusedxml==0.7.1 in /usr/local/lib/python3.10/site-packages (from -r dependencies.txt (line 27)) (0.7.1)\n",
      "Requirement already satisfied: executing==1.2.0 in /Users/mike/Library/Python/3.10/lib/python/site-packages (from -r dependencies.txt (line 28)) (1.2.0)\n",
      "Requirement already satisfied: fastjsonschema==2.16.3 in /usr/local/lib/python3.10/site-packages (from -r dependencies.txt (line 29)) (2.16.3)\n",
      "Requirement already satisfied: fonttools==4.42.1 in /usr/local/lib/python3.10/site-packages (from -r dependencies.txt (line 30)) (4.42.1)\n",
      "Requirement already satisfied: fqdn==1.5.1 in /usr/local/lib/python3.10/site-packages (from -r dependencies.txt (line 31)) (1.5.1)\n",
      "Requirement already satisfied: google-ai-generativelanguage==0.3.3 in /usr/local/lib/python3.10/site-packages (from -r dependencies.txt (line 32)) (0.3.3)\n",
      "Requirement already satisfied: google-api-core==2.12.0 in /usr/local/lib/python3.10/site-packages (from -r dependencies.txt (line 33)) (2.12.0)\n",
      "Requirement already satisfied: google-auth==2.23.4 in /usr/local/lib/python3.10/site-packages (from -r dependencies.txt (line 34)) (2.23.4)\n",
      "Requirement already satisfied: google-cloud-core==2.3.3 in /usr/local/lib/python3.10/site-packages (from -r dependencies.txt (line 35)) (2.3.3)\n",
      "Requirement already satisfied: google-cloud-translate==3.12.1 in /usr/local/lib/python3.10/site-packages (from -r dependencies.txt (line 36)) (3.12.1)\n",
      "Requirement already satisfied: google-generativeai==0.2.2 in /usr/local/lib/python3.10/site-packages (from -r dependencies.txt (line 37)) (0.2.2)\n",
      "Requirement already satisfied: googleapis-common-protos==1.61.0 in /usr/local/lib/python3.10/site-packages (from -r dependencies.txt (line 38)) (1.61.0)\n",
      "Requirement already satisfied: grpcio==1.59.2 in /usr/local/lib/python3.10/site-packages (from -r dependencies.txt (line 39)) (1.59.2)\n",
      "Requirement already satisfied: grpcio-status==1.59.2 in /usr/local/lib/python3.10/site-packages (from -r dependencies.txt (line 40)) (1.59.2)\n",
      "Requirement already satisfied: h11==0.14.0 in /usr/local/lib/python3.10/site-packages (from -r dependencies.txt (line 41)) (0.14.0)\n",
      "Requirement already satisfied: h2==4.1.0 in /usr/local/lib/python3.10/site-packages (from -r dependencies.txt (line 42)) (4.1.0)\n",
      "Requirement already satisfied: hpack==4.0.0 in /usr/local/lib/python3.10/site-packages (from -r dependencies.txt (line 43)) (4.0.0)\n",
      "Requirement already satisfied: httpcore==0.18.0 in /usr/local/lib/python3.10/site-packages (from -r dependencies.txt (line 44)) (0.18.0)\n",
      "Requirement already satisfied: httpx==0.25.0 in /usr/local/lib/python3.10/site-packages (from -r dependencies.txt (line 45)) (0.25.0)\n",
      "Requirement already satisfied: hyperframe==6.0.1 in /usr/local/lib/python3.10/site-packages (from -r dependencies.txt (line 46)) (6.0.1)\n",
      "Requirement already satisfied: idna==3.4 in /usr/local/lib/python3.10/site-packages (from -r dependencies.txt (line 47)) (3.4)\n",
      "Requirement already satisfied: ipykernel==6.21.3 in /usr/local/lib/python3.10/site-packages (from -r dependencies.txt (line 48)) (6.21.3)\n",
      "Requirement already satisfied: ipython==8.11.0 in /usr/local/lib/python3.10/site-packages (from -r dependencies.txt (line 49)) (8.11.0)\n",
      "Requirement already satisfied: ipython-genutils==0.2.0 in /usr/local/lib/python3.10/site-packages (from -r dependencies.txt (line 50)) (0.2.0)\n",
      "Requirement already satisfied: ipywidgets==8.0.4 in /usr/local/lib/python3.10/site-packages (from -r dependencies.txt (line 51)) (8.0.4)\n",
      "Requirement already satisfied: isoduration==20.11.0 in /usr/local/lib/python3.10/site-packages (from -r dependencies.txt (line 52)) (20.11.0)\n",
      "Requirement already satisfied: jedi==0.18.2 in /usr/local/lib/python3.10/site-packages (from -r dependencies.txt (line 53)) (0.18.2)\n",
      "Requirement already satisfied: Jinja2==3.1.2 in /usr/local/lib/python3.10/site-packages (from -r dependencies.txt (line 54)) (3.1.2)\n",
      "Requirement already satisfied: joblib==1.2.0 in /usr/local/lib/python3.10/site-packages (from -r dependencies.txt (line 55)) (1.2.0)\n",
      "Requirement already satisfied: json5==0.9.11 in /usr/local/lib/python3.10/site-packages (from -r dependencies.txt (line 56)) (0.9.11)\n",
      "Requirement already satisfied: jsonpointer==2.3 in /usr/local/lib/python3.10/site-packages (from -r dependencies.txt (line 57)) (2.3)\n",
      "Requirement already satisfied: jsonschema==4.17.3 in /usr/local/lib/python3.10/site-packages (from -r dependencies.txt (line 58)) (4.17.3)\n",
      "Requirement already satisfied: jupyter==1.0.0 in /usr/local/lib/python3.10/site-packages (from -r dependencies.txt (line 59)) (1.0.0)\n",
      "Requirement already satisfied: jupyter-console==6.6.3 in /usr/local/lib/python3.10/site-packages (from -r dependencies.txt (line 60)) (6.6.3)\n",
      "Requirement already satisfied: jupyter-events==0.6.3 in /usr/local/lib/python3.10/site-packages (from -r dependencies.txt (line 61)) (0.6.3)\n",
      "Requirement already satisfied: jupyter-ydoc==0.2.2 in /usr/local/lib/python3.10/site-packages (from -r dependencies.txt (line 62)) (0.2.2)\n",
      "Requirement already satisfied: jupyter_client==8.0.3 in /usr/local/lib/python3.10/site-packages (from -r dependencies.txt (line 63)) (8.0.3)\n",
      "Requirement already satisfied: jupyter_core==5.2.0 in /usr/local/lib/python3.10/site-packages (from -r dependencies.txt (line 64)) (5.2.0)\n",
      "Requirement already satisfied: jupyter_server==2.4.0 in /usr/local/lib/python3.10/site-packages (from -r dependencies.txt (line 65)) (2.4.0)\n",
      "Requirement already satisfied: jupyter_server_fileid==0.8.0 in /usr/local/lib/python3.10/site-packages (from -r dependencies.txt (line 66)) (0.8.0)\n",
      "Requirement already satisfied: jupyter_server_terminals==0.4.4 in /usr/local/lib/python3.10/site-packages (from -r dependencies.txt (line 67)) (0.4.4)\n",
      "Requirement already satisfied: jupyter_server_ydoc==0.6.1 in /usr/local/lib/python3.10/site-packages (from -r dependencies.txt (line 68)) (0.6.1)\n",
      "Requirement already satisfied: jupyterlab==3.6.1 in /usr/local/lib/python3.10/site-packages (from -r dependencies.txt (line 69)) (3.6.1)\n",
      "Requirement already satisfied: jupyterlab-pygments==0.2.2 in /usr/local/lib/python3.10/site-packages (from -r dependencies.txt (line 70)) (0.2.2)\n",
      "Requirement already satisfied: jupyterlab-widgets==3.0.5 in /usr/local/lib/python3.10/site-packages (from -r dependencies.txt (line 71)) (3.0.5)\n",
      "Requirement already satisfied: jupyterlab_server==2.20.0 in /usr/local/lib/python3.10/site-packages (from -r dependencies.txt (line 72)) (2.20.0)\n",
      "Requirement already satisfied: kiwisolver==1.4.5 in /usr/local/lib/python3.10/site-packages (from -r dependencies.txt (line 73)) (1.4.5)\n",
      "Requirement already satisfied: langdetect==1.0.9 in /usr/local/lib/python3.10/site-packages (from -r dependencies.txt (line 74)) (1.0.9)\n",
      "Requirement already satisfied: lz4==4.3.2 in /usr/local/lib/python3.10/site-packages (from -r dependencies.txt (line 75)) (4.3.2)\n",
      "Requirement already satisfied: MarkupSafe==2.1.2 in /usr/local/lib/python3.10/site-packages (from -r dependencies.txt (line 76)) (2.1.2)\n",
      "Requirement already satisfied: matplotlib==3.8.0 in /usr/local/lib/python3.10/site-packages (from -r dependencies.txt (line 77)) (3.8.0)\n",
      "Requirement already satisfied: matplotlib-inline==0.1.6 in /Users/mike/Library/Python/3.10/lib/python/site-packages (from -r dependencies.txt (line 78)) (0.1.6)\n",
      "Requirement already satisfied: mistune==2.0.5 in /usr/local/lib/python3.10/site-packages (from -r dependencies.txt (line 79)) (2.0.5)\n",
      "Requirement already satisfied: nbclassic==0.5.3 in /usr/local/lib/python3.10/site-packages (from -r dependencies.txt (line 80)) (0.5.3)\n",
      "Requirement already satisfied: nbclient==0.7.2 in /usr/local/lib/python3.10/site-packages (from -r dependencies.txt (line 81)) (0.7.2)\n",
      "Requirement already satisfied: nbconvert==7.2.9 in /usr/local/lib/python3.10/site-packages (from -r dependencies.txt (line 82)) (7.2.9)\n",
      "Requirement already satisfied: nbformat==5.7.3 in /usr/local/lib/python3.10/site-packages (from -r dependencies.txt (line 83)) (5.7.3)\n",
      "Requirement already satisfied: nest-asyncio==1.5.6 in /usr/local/lib/python3.10/site-packages (from -r dependencies.txt (line 84)) (1.5.6)\n",
      "Requirement already satisfied: notebook==6.5.3 in /usr/local/lib/python3.10/site-packages (from -r dependencies.txt (line 85)) (6.5.3)\n",
      "Requirement already satisfied: notebook_shim==0.2.2 in /usr/local/lib/python3.10/site-packages (from -r dependencies.txt (line 86)) (0.2.2)\n",
      "Requirement already satisfied: numpy==1.24.2 in /usr/local/lib/python3.10/site-packages (from -r dependencies.txt (line 87)) (1.24.2)\n",
      "Requirement already satisfied: packaging==23.0 in /usr/local/lib/python3.10/site-packages (from -r dependencies.txt (line 88)) (23.0)\n",
      "Requirement already satisfied: pandas==1.5.3 in /usr/local/lib/python3.10/site-packages (from -r dependencies.txt (line 89)) (1.5.3)\n",
      "Requirement already satisfied: pandocfilters==1.5.0 in /usr/local/lib/python3.10/site-packages (from -r dependencies.txt (line 90)) (1.5.0)\n",
      "Requirement already satisfied: parso==0.8.3 in /Users/mike/Library/Python/3.10/lib/python/site-packages (from -r dependencies.txt (line 91)) (0.8.3)\n",
      "Requirement already satisfied: patsy==0.5.3 in /usr/local/lib/python3.10/site-packages (from -r dependencies.txt (line 92)) (0.5.3)\n",
      "Requirement already satisfied: pexpect==4.8.0 in /Users/mike/Library/Python/3.10/lib/python/site-packages (from -r dependencies.txt (line 93)) (4.8.0)\n",
      "Requirement already satisfied: pickleshare==0.7.5 in /Users/mike/Library/Python/3.10/lib/python/site-packages (from -r dependencies.txt (line 94)) (0.7.5)\n",
      "Requirement already satisfied: Pillow==10.0.1 in /usr/local/lib/python3.10/site-packages (from -r dependencies.txt (line 95)) (10.0.1)\n",
      "Requirement already satisfied: platformdirs==3.1.0 in /usr/local/lib/python3.10/site-packages (from -r dependencies.txt (line 96)) (3.1.0)\n",
      "Requirement already satisfied: prometheus-client==0.16.0 in /usr/local/lib/python3.10/site-packages (from -r dependencies.txt (line 97)) (0.16.0)\n",
      "Requirement already satisfied: prompt-toolkit==3.0.38 in /usr/local/lib/python3.10/site-packages (from -r dependencies.txt (line 98)) (3.0.38)\n",
      "Requirement already satisfied: proto-plus==1.22.3 in /usr/local/lib/python3.10/site-packages (from -r dependencies.txt (line 99)) (1.22.3)\n",
      "Requirement already satisfied: protobuf==4.24.4 in /usr/local/lib/python3.10/site-packages (from -r dependencies.txt (line 100)) (4.24.4)\n",
      "Requirement already satisfied: psutil==5.9.4 in /usr/local/lib/python3.10/site-packages (from -r dependencies.txt (line 101)) (5.9.4)\n",
      "Requirement already satisfied: ptyprocess==0.7.0 in /Users/mike/Library/Python/3.10/lib/python/site-packages (from -r dependencies.txt (line 102)) (0.7.0)\n",
      "Requirement already satisfied: pure-eval==0.2.2 in /Users/mike/Library/Python/3.10/lib/python/site-packages (from -r dependencies.txt (line 103)) (0.2.2)\n",
      "Requirement already satisfied: pyasn1==0.5.0 in /usr/local/lib/python3.10/site-packages (from -r dependencies.txt (line 104)) (0.5.0)\n",
      "Requirement already satisfied: pyasn1-modules==0.3.0 in /usr/local/lib/python3.10/site-packages (from -r dependencies.txt (line 105)) (0.3.0)\n",
      "Requirement already satisfied: pycparser==2.21 in /usr/local/lib/python3.10/site-packages (from -r dependencies.txt (line 106)) (2.21)\n",
      "Requirement already satisfied: pycryptodomex==3.19.0 in /usr/local/lib/python3.10/site-packages (from -r dependencies.txt (line 107)) (3.19.0)\n",
      "Requirement already satisfied: Pygments==2.14.0 in /usr/local/lib/python3.10/site-packages (from -r dependencies.txt (line 108)) (2.14.0)\n",
      "Requirement already satisfied: pyparsing==3.1.1 in /usr/local/lib/python3.10/site-packages (from -r dependencies.txt (line 109)) (3.1.1)\n",
      "Requirement already satisfied: pyrsistent==0.19.3 in /usr/local/lib/python3.10/site-packages (from -r dependencies.txt (line 110)) (0.19.3)\n",
      "Requirement already satisfied: python-dateutil==2.8.2 in /Users/mike/Library/Python/3.10/lib/python/site-packages (from -r dependencies.txt (line 111)) (2.8.2)\n",
      "Requirement already satisfied: python-json-logger==2.0.7 in /usr/local/lib/python3.10/site-packages (from -r dependencies.txt (line 112)) (2.0.7)\n",
      "Requirement already satisfied: pytz==2023.3 in /usr/local/lib/python3.10/site-packages (from -r dependencies.txt (line 113)) (2023.3)\n",
      "Requirement already satisfied: PyYAML==6.0 in /usr/local/lib/python3.10/site-packages (from -r dependencies.txt (line 114)) (6.0)\n",
      "Requirement already satisfied: pyzmq==25.0.0 in /usr/local/lib/python3.10/site-packages (from -r dependencies.txt (line 115)) (25.0.0)\n",
      "Requirement already satisfied: qtconsole==5.4.0 in /usr/local/lib/python3.10/site-packages (from -r dependencies.txt (line 116)) (5.4.0)\n",
      "Requirement already satisfied: QtPy==2.3.0 in /usr/local/lib/python3.10/site-packages (from -r dependencies.txt (line 117)) (2.3.0)\n",
      "Requirement already satisfied: requests==2.28.2 in /usr/local/lib/python3.10/site-packages (from -r dependencies.txt (line 118)) (2.28.2)\n",
      "Requirement already satisfied: rfc3339-validator==0.1.4 in /usr/local/lib/python3.10/site-packages (from -r dependencies.txt (line 119)) (0.1.4)\n",
      "Requirement already satisfied: rfc3986-validator==0.1.1 in /usr/local/lib/python3.10/site-packages (from -r dependencies.txt (line 120)) (0.1.1)\n",
      "Requirement already satisfied: rsa==4.9 in /usr/local/lib/python3.10/site-packages (from -r dependencies.txt (line 121)) (4.9)\n",
      "Requirement already satisfied: scikit-learn==1.2.2 in /usr/local/lib/python3.10/site-packages (from -r dependencies.txt (line 122)) (1.2.2)\n",
      "Requirement already satisfied: scipy==1.10.1 in /usr/local/lib/python3.10/site-packages (from -r dependencies.txt (line 123)) (1.10.1)\n",
      "Requirement already satisfied: seaborn==0.13.0 in /usr/local/lib/python3.10/site-packages (from -r dependencies.txt (line 124)) (0.13.0)\n",
      "Requirement already satisfied: Send2Trash==1.8.0 in /usr/local/lib/python3.10/site-packages (from -r dependencies.txt (line 125)) (1.8.0)\n",
      "Requirement already satisfied: six==1.16.0 in /Users/mike/Library/Python/3.10/lib/python/site-packages (from -r dependencies.txt (line 126)) (1.16.0)\n",
      "Requirement already satisfied: sklearn==0.0.post9 in /usr/local/lib/python3.10/site-packages (from -r dependencies.txt (line 127)) (0.0.post9)\n",
      "Requirement already satisfied: sniffio==1.3.0 in /usr/local/lib/python3.10/site-packages (from -r dependencies.txt (line 128)) (1.3.0)\n",
      "Requirement already satisfied: soupsieve==2.4 in /usr/local/lib/python3.10/site-packages (from -r dependencies.txt (line 129)) (2.4)\n",
      "Requirement already satisfied: stack-data==0.6.2 in /Users/mike/Library/Python/3.10/lib/python/site-packages (from -r dependencies.txt (line 130)) (0.6.2)\n",
      "Requirement already satisfied: statsmodels==0.14.0 in /usr/local/lib/python3.10/site-packages (from -r dependencies.txt (line 131)) (0.14.0)\n",
      "Requirement already satisfied: terminado==0.17.1 in /usr/local/lib/python3.10/site-packages (from -r dependencies.txt (line 132)) (0.17.1)\n",
      "Requirement already satisfied: threadpoolctl==3.1.0 in /usr/local/lib/python3.10/site-packages (from -r dependencies.txt (line 133)) (3.1.0)\n",
      "Requirement already satisfied: tinycss2==1.2.1 in /usr/local/lib/python3.10/site-packages (from -r dependencies.txt (line 134)) (1.2.1)\n",
      "Requirement already satisfied: tomli==2.0.1 in /usr/local/lib/python3.10/site-packages (from -r dependencies.txt (line 135)) (2.0.1)\n",
      "Requirement already satisfied: tornado==6.2 in /usr/local/lib/python3.10/site-packages (from -r dependencies.txt (line 136)) (6.2)\n",
      "Requirement already satisfied: tqdm==4.66.1 in /usr/local/lib/python3.10/site-packages (from -r dependencies.txt (line 137)) (4.66.1)\n",
      "Requirement already satisfied: traitlets==5.9.0 in /usr/local/lib/python3.10/site-packages (from -r dependencies.txt (line 138)) (5.9.0)\n",
      "Requirement already satisfied: tzdata==2023.3 in /usr/local/lib/python3.10/site-packages (from -r dependencies.txt (line 139)) (2023.3)\n",
      "Requirement already satisfied: uri-template==1.2.0 in /usr/local/lib/python3.10/site-packages (from -r dependencies.txt (line 140)) (1.2.0)\n",
      "Collecting urllib3==2.0.5 (from -r dependencies.txt (line 141))\n",
      "  Using cached urllib3-2.0.5-py3-none-any.whl.metadata (6.6 kB)\n",
      "Requirement already satisfied: utils==1.0.1 in /usr/local/lib/python3.10/site-packages (from -r dependencies.txt (line 142)) (1.0.1)\n",
      "Requirement already satisfied: wcwidth==0.2.6 in /Users/mike/Library/Python/3.10/lib/python/site-packages (from -r dependencies.txt (line 143)) (0.2.6)\n",
      "Requirement already satisfied: webcolors==1.12 in /usr/local/lib/python3.10/site-packages (from -r dependencies.txt (line 144)) (1.12)\n",
      "Requirement already satisfied: webencodings==0.5.1 in /usr/local/lib/python3.10/site-packages (from -r dependencies.txt (line 145)) (0.5.1)\n",
      "Requirement already satisfied: websocket-client==1.5.1 in /usr/local/lib/python3.10/site-packages (from -r dependencies.txt (line 146)) (1.5.1)\n",
      "Requirement already satisfied: widgetsnbextension==4.0.5 in /usr/local/lib/python3.10/site-packages (from -r dependencies.txt (line 147)) (4.0.5)\n",
      "Requirement already satisfied: xgboost==2.0.0 in /usr/local/lib/python3.10/site-packages (from -r dependencies.txt (line 148)) (2.0.0)\n",
      "Requirement already satisfied: y-py==0.5.9 in /usr/local/lib/python3.10/site-packages (from -r dependencies.txt (line 149)) (0.5.9)\n",
      "Requirement already satisfied: ypy-websocket==0.8.2 in /usr/local/lib/python3.10/site-packages (from -r dependencies.txt (line 150)) (0.8.2)\n",
      "INFO: pip is looking at multiple versions of requests to determine which version is compatible with other requirements. This could take a while.\n",
      "Collecting jupyterlab_server==2.20.0 (from -r dependencies.txt (line 72))\n",
      "  Using cached jupyterlab_server-2.20.0-py3-none-any.whl (56 kB)\n",
      "Collecting google-api-core==2.12.0 (from -r dependencies.txt (line 33))\n",
      "  Using cached google_api_core-2.12.0-py3-none-any.whl.metadata (2.7 kB)\n",
      "Collecting deep-translator==1.11.4 (from -r dependencies.txt (line 26))\n",
      "  Using cached deep_translator-1.11.4-py3-none-any.whl.metadata (30 kB)\n",
      "Collecting bardapi==0.1.38 (from -r dependencies.txt (line 12))\n",
      "  Using cached bardapi-0.1.38-py3-none-any.whl.metadata (21 kB)\n",
      "\u001b[31mERROR: Cannot install requests==2.28.2 and urllib3==2.0.5 because these package versions have conflicting dependencies.\u001b[0m\u001b[31m\n",
      "\u001b[0m\n",
      "The conflict is caused by:\n",
      "    The user requested urllib3==2.0.5\n",
      "    requests 2.28.2 depends on urllib3<1.27 and >=1.21.1\n",
      "\n",
      "To fix this you could try to:\n",
      "1. loosen the range of package versions you've specified\n",
      "2. remove package versions to allow pip attempt to solve the dependency conflict\n",
      "\n",
      "\u001b[31mERROR: ResolutionImpossible: for help visit https://pip.pypa.io/en/latest/topics/dependency-resolution/#dealing-with-dependency-conflicts\u001b[0m\u001b[31m\n",
      "\u001b[0mNote: you may need to restart the kernel to use updated packages.\n"
     ]
    }
   ],
   "source": [
    "%pip install -r dependencies.txt"
   ]
  },
  {
   "cell_type": "code",
   "execution_count": 87,
   "metadata": {},
   "outputs": [
    {
     "data": {
      "text/plain": [
       "<module 'helper' from '/Users/mike/Documents/School/Fa23/Clinic/code/helper.py'>"
      ]
     },
     "execution_count": 87,
     "metadata": {},
     "output_type": "execute_result"
    }
   ],
   "source": [
    "import pandas as pd\n",
    "import numpy as np\n",
    "import sklearn\n",
    "import matplotlib.pyplot as plt\n",
    "import requests\n",
    "import scipy\n",
    "import importlib\n",
    "import helper, consts\n",
    "importlib.reload(consts)\n",
    "importlib.reload(helper)"
   ]
  },
  {
   "cell_type": "markdown",
   "metadata": {},
   "source": [
    "### CONSTANTS"
   ]
  },
  {
   "cell_type": "code",
   "execution_count": 88,
   "metadata": {},
   "outputs": [],
   "source": [
    "# USER\n",
    "USER = \"RYAN\"\n",
    "FILE_PATH = consts.PATH_MAP[USER]\n",
    "\n",
    "ROW = consts.ROW\n",
    "COL = consts.COL\n",
    "CLEANED_DATA_PATH = consts.CLEANED_DATA_PATH\n",
    "DATA_PATH = consts.RAW_DATA_PATH\n",
    "RESPONSE_NAME = consts.RESPONSE_NAME\n",
    "\n",
    "TRAIN_START_DATE = \"20150101\"\n",
    "TRAIN_END_DATE = \"20150601\" # Up to but not including\n",
    "TEST_START_DATE = \"20150701\"\n",
    "TEST_END_DATE = \"20150801\""
   ]
  },
  {
   "cell_type": "code",
   "execution_count": 89,
   "metadata": {},
   "outputs": [
    {
     "name": "stdout",
     "output_type": "stream",
     "text": [
      "1: OLS\n",
      "2: LASSO\n",
      "3: XGBOOST\n"
     ]
    }
   ],
   "source": [
    "REGRESSION_TYPES = helper.Regression('OLS').list_all_regression_types()\n",
    "REGRESSION_TYPES"
   ]
  },
  {
   "cell_type": "markdown",
   "metadata": {},
   "source": [
    "### Read data"
   ]
  },
  {
   "cell_type": "code",
   "execution_count": 90,
   "metadata": {},
   "outputs": [],
   "source": [
    "train_start, train_end  = helper.get_train_from_testday(TEST_START_DATE)\n",
    "train_start, train_end\n",
    "list_of_interacting_terms = [[\"relvol_nt_0\",\"rrirpnxm_nt_0\" ], \n",
    "                             [\"relvol_lst15_0\",\"rrirpnxm_lst15_0\" ],\n",
    "                             [\"relvol_lsthrx15_0\",\"rrirpnxm_lsthrx15_0\" ],\n",
    "                             [\"relvol_toxhr_0\",\"rrirpnxm_toxhr_0\" ] ]"
   ]
  },
  {
   "cell_type": "code",
   "execution_count": 91,
   "metadata": {},
   "outputs": [
    {
     "name": "stdout",
     "output_type": "stream",
     "text": [
      "['rrirpnxm_nt_0', 'rrirpnxm_lst15_0', 'rrirpnxm_lsthrx15_0', 'rrirpnxm_toxhr_0', \"('relvol_nt_0', 'rrirpnxm_nt_0')\", \"('relvol_lst15_0', 'rrirpnxm_lst15_0')\", \"('relvol_lsthrx15_0', 'rrirpnxm_lsthrx15_0')\", \"('relvol_toxhr_0', 'rrirpnxm_toxhr_0')\"]\n"
     ]
    }
   ],
   "source": [
    "# x_cols = [\"rrirpnxm_nt_0\", \"rrirpnxm_lst15_0\",\"rrirpnxm_lsthrx15_0\", \"rrirpnxm_toxhr_0\", \"relvol_nt_0\"]\n",
    "# train_df = helper.get_df(train_start, train_end, x_cols, FILE_PATH)\n",
    "\n",
    "train_df = pd.read_csv(consts.CLEANED_DATA_PATH)\n",
    "pred_cols = list(train_df.columns)\n",
    "pred_cols.remove(consts.RESPONSE_NAME)\n",
    "print(pred_cols)\n"
   ]
  },
  {
   "cell_type": "markdown",
   "metadata": {},
   "source": [
    "### Interaction Terms"
   ]
  },
  {
   "cell_type": "markdown",
   "metadata": {},
   "source": [
    "### Transform the data if needed"
   ]
  },
  {
   "cell_type": "markdown",
   "metadata": {},
   "source": [
    "#### Ordinary Least Squares"
   ]
  },
  {
   "cell_type": "code",
   "execution_count": 92,
   "metadata": {},
   "outputs": [
    {
     "data": {
      "text/plain": [
       "array([ 4.34327519e-02, -9.87488755e-03, -1.29662094e-03, -2.44584412e-03,\n",
       "       -1.35271653e-02,  2.23409873e-02, -2.65722018e-03,  4.07870349e-03,\n",
       "        2.92545274e-05])"
      ]
     },
     "execution_count": 92,
     "metadata": {},
     "output_type": "execute_result"
    }
   ],
   "source": [
    "importlib.reload(helper)\n",
    "\n",
    "ols_regression_model = helper.Regression('OLS')\n",
    "weights = helper.get_weights(train_df)\n",
    "model_attributes = ols_regression_model.train(train_df, RESPONSE_NAME, weights)\n",
    "model_attributes"
   ]
  },
  {
   "cell_type": "code",
   "execution_count": 93,
   "metadata": {},
   "outputs": [
    {
     "name": "stdout",
     "output_type": "stream",
     "text": [
      "Average Weighted Correlation: 0.030368238594772775\n",
      "Average Mean Return: 0.00022672636319850313\n",
      "Average weighted Scale Factor: 0.8126962387984625\n"
     ]
    },
    {
     "data": {
      "text/plain": [
       "(0.030368238594772775, 0.00022672636319850313, 0.8126962387984625)"
      ]
     },
     "execution_count": 93,
     "metadata": {},
     "output_type": "execute_result"
    }
   ],
   "source": [
    "importlib.reload(helper)\n",
    "ols_regression_model.evaluate_model(TEST_START_DATE, TEST_END_DATE, pred_cols,FILE_PATH, list_of_interacting_terms )"
   ]
  },
  {
   "cell_type": "markdown",
   "metadata": {},
   "source": [
    "#### OLS w/ Interacting Terms"
   ]
  },
  {
   "cell_type": "markdown",
   "metadata": {},
   "source": [
    "#### LASSO"
   ]
  },
  {
   "cell_type": "code",
   "execution_count": 94,
   "metadata": {},
   "outputs": [],
   "source": [
    "lasso_model = helper.Regression('LASSO')\n",
    "weights = helper.get_weights(train_df)"
   ]
  },
  {
   "cell_type": "code",
   "execution_count": 95,
   "metadata": {},
   "outputs": [
    {
     "name": "stdout",
     "output_type": "stream",
     "text": [
      "Average Weighted Correlation: 0.03017650234224054\n",
      "Average Mean Return: 0.0002246880217958093\n",
      "Average weighted Scale Factor: 0.9584213608754041\n"
     ]
    },
    {
     "data": {
      "text/plain": [
       "(0.03017650234224054, 0.0002246880217958093, 0.9584213608754041)"
      ]
     },
     "execution_count": 95,
     "metadata": {},
     "output_type": "execute_result"
    }
   ],
   "source": [
    "importlib.reload(helper)\n",
    "lasso_model.train(train_df, RESPONSE_NAME, weights)\n",
    "lasso_model.evaluate_model(TEST_START_DATE, TEST_END_DATE, pred_cols, FILE_PATH, list_of_interacting_terms)"
   ]
  },
  {
   "cell_type": "markdown",
   "metadata": {},
   "source": [
    "### XGBoost\n",
    "\n"
   ]
  },
  {
   "cell_type": "code",
   "execution_count": 96,
   "metadata": {},
   "outputs": [
    {
     "name": "stderr",
     "output_type": "stream",
     "text": [
      "/usr/local/lib/python3.10/site-packages/xgboost/core.py:726: FutureWarning: Pass `objective` as keyword args.\n",
      "  warnings.warn(msg, FutureWarning)\n"
     ]
    },
    {
     "name": "stdout",
     "output_type": "stream",
     "text": [
      "Average Weighted Correlation: 0.030368238156820052\n",
      "Average Mean Return: 0.00022672636319850313\n",
      "Average weighted Scale Factor: 0.8126963973045349\n"
     ]
    },
    {
     "data": {
      "text/plain": [
       "(0.030368238156820052, 0.00022672636319850313, 0.8126964)"
      ]
     },
     "execution_count": 96,
     "metadata": {},
     "output_type": "execute_result"
    }
   ],
   "source": [
    "xgb_model = helper.Regression('XGboost')\n",
    "weights = helper.get_weights(train_df)\n",
    "xgb_model.train(train_df, RESPONSE_NAME, weights)\n",
    "xgb_model.evaluate_model(TEST_START_DATE, TEST_END_DATE, pred_cols, FILE_PATH, list_of_interacting_terms)"
   ]
  }
 ],
 "metadata": {
  "kernelspec": {
   "display_name": "Python 3",
   "language": "python",
   "name": "python3"
  },
  "language_info": {
   "codemirror_mode": {
    "name": "ipython",
    "version": 3
   },
   "file_extension": ".py",
   "mimetype": "text/x-python",
   "name": "python",
   "nbconvert_exporter": "python",
   "pygments_lexer": "ipython3",
   "version": "3.10.12"
  },
  "vscode": {
   "interpreter": {
    "hash": "b0fa6594d8f4cbf19f97940f81e996739fb7646882a419484c72d19e05852a7e"
   }
  }
 },
 "nbformat": 4,
 "nbformat_minor": 2
}
