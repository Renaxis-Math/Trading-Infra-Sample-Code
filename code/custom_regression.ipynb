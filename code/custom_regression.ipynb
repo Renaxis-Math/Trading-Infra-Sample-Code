{
 "cells": [
  {
   "cell_type": "markdown",
   "metadata": {},
   "source": [
    "### Imports"
   ]
  },
  {
   "cell_type": "code",
   "execution_count": 21,
   "metadata": {},
   "outputs": [
    {
     "name": "stdout",
     "output_type": "stream",
     "text": [
      "Collecting aiofiles==22.1.0 (from -r dependencies.txt (line 1))\n",
      "  Using cached aiofiles-22.1.0-py3-none-any.whl (14 kB)\n",
      "Collecting aiosqlite==0.18.0 (from -r dependencies.txt (line 2))\n",
      "  Using cached aiosqlite-0.18.0-py3-none-any.whl (15 kB)\n",
      "Collecting anyio==3.6.2 (from -r dependencies.txt (line 3))\n",
      "  Using cached anyio-3.6.2-py3-none-any.whl (80 kB)\n",
      "Requirement already satisfied: appnope==0.1.3 in /Users/mike/Library/Python/3.10/lib/python/site-packages (from -r dependencies.txt (line 4)) (0.1.3)\n",
      "Collecting argon2-cffi==21.3.0 (from -r dependencies.txt (line 5))\n",
      "  Using cached argon2_cffi-21.3.0-py3-none-any.whl (14 kB)\n",
      "Collecting argon2-cffi-bindings==21.2.0 (from -r dependencies.txt (line 6))\n",
      "  Using cached argon2_cffi_bindings-21.2.0-cp38-abi3-macosx_10_9_universal2.whl (53 kB)\n",
      "Collecting arrow==1.2.3 (from -r dependencies.txt (line 7))\n",
      "  Using cached arrow-1.2.3-py3-none-any.whl (66 kB)\n",
      "Requirement already satisfied: asttokens==2.2.1 in /usr/local/lib/python3.10/site-packages (from -r dependencies.txt (line 8)) (2.2.1)\n",
      "Collecting attrs==22.2.0 (from -r dependencies.txt (line 9))\n",
      "  Using cached attrs-22.2.0-py3-none-any.whl (60 kB)\n",
      "Collecting Babel==2.12.1 (from -r dependencies.txt (line 10))\n",
      "  Using cached Babel-2.12.1-py3-none-any.whl (10.1 MB)\n",
      "Requirement already satisfied: backcall==0.2.0 in /Users/mike/Library/Python/3.10/lib/python/site-packages (from -r dependencies.txt (line 11)) (0.2.0)\n",
      "Collecting bardapi==0.1.38 (from -r dependencies.txt (line 12))\n",
      "  Using cached bardapi-0.1.38-py3-none-any.whl.metadata (21 kB)\n",
      "Collecting beautifulsoup4==4.11.2 (from -r dependencies.txt (line 13))\n",
      "  Using cached beautifulsoup4-4.11.2-py3-none-any.whl (129 kB)\n",
      "Collecting bleach==6.0.0 (from -r dependencies.txt (line 14))\n",
      "  Using cached bleach-6.0.0-py3-none-any.whl (162 kB)\n",
      "Collecting browser-cookie3==0.19.1 (from -r dependencies.txt (line 15))\n",
      "  Using cached browser_cookie3-0.19.1-py3-none-any.whl.metadata (632 bytes)\n",
      "Collecting cachetools==5.3.2 (from -r dependencies.txt (line 16))\n",
      "  Using cached cachetools-5.3.2-py3-none-any.whl.metadata (5.2 kB)\n",
      "Collecting certifi==2022.12.7 (from -r dependencies.txt (line 17))\n",
      "  Using cached certifi-2022.12.7-py3-none-any.whl (155 kB)\n",
      "Collecting cffi==1.15.1 (from -r dependencies.txt (line 18))\n",
      "  Using cached cffi-1.15.1-cp310-cp310-macosx_10_9_x86_64.whl (179 kB)\n",
      "Collecting charset-normalizer==3.1.0 (from -r dependencies.txt (line 19))\n",
      "  Using cached charset_normalizer-3.1.0-cp310-cp310-macosx_10_9_x86_64.whl (124 kB)\n",
      "Collecting colorama==0.4.6 (from -r dependencies.txt (line 20))\n",
      "  Using cached colorama-0.4.6-py2.py3-none-any.whl (25 kB)\n",
      "Collecting comm==0.1.2 (from -r dependencies.txt (line 21))\n",
      "  Using cached comm-0.1.2-py3-none-any.whl (6.5 kB)\n",
      "Collecting contourpy==1.1.1 (from -r dependencies.txt (line 22))\n",
      "  Using cached contourpy-1.1.1-cp310-cp310-macosx_10_9_x86_64.whl.metadata (5.9 kB)\n",
      "Requirement already satisfied: cycler==0.11.0 in /usr/local/lib/python3.10/site-packages (from -r dependencies.txt (line 23)) (0.11.0)\n",
      "Collecting debugpy==1.6.6 (from -r dependencies.txt (line 24))\n",
      "  Using cached debugpy-1.6.6-cp310-cp310-macosx_11_0_x86_64.whl (1.7 MB)\n",
      "Requirement already satisfied: decorator==5.1.1 in /Users/mike/Library/Python/3.10/lib/python/site-packages (from -r dependencies.txt (line 25)) (5.1.1)\n",
      "Collecting deep-translator==1.11.4 (from -r dependencies.txt (line 26))\n",
      "  Using cached deep_translator-1.11.4-py3-none-any.whl.metadata (30 kB)\n",
      "Collecting defusedxml==0.7.1 (from -r dependencies.txt (line 27))\n",
      "  Using cached defusedxml-0.7.1-py2.py3-none-any.whl (25 kB)\n",
      "Requirement already satisfied: executing==1.2.0 in /Users/mike/Library/Python/3.10/lib/python/site-packages (from -r dependencies.txt (line 28)) (1.2.0)\n",
      "Collecting fastjsonschema==2.16.3 (from -r dependencies.txt (line 29))\n",
      "  Using cached fastjsonschema-2.16.3-py3-none-any.whl (23 kB)\n",
      "Collecting fonttools==4.42.1 (from -r dependencies.txt (line 30))\n",
      "  Using cached fonttools-4.42.1-cp310-cp310-macosx_10_9_x86_64.whl.metadata (150 kB)\n",
      "Collecting fqdn==1.5.1 (from -r dependencies.txt (line 31))\n",
      "  Using cached fqdn-1.5.1-py3-none-any.whl (9.1 kB)\n",
      "Collecting google-ai-generativelanguage==0.3.3 (from -r dependencies.txt (line 32))\n",
      "  Using cached google_ai_generativelanguage-0.3.3-py3-none-any.whl.metadata (5.1 kB)\n",
      "Collecting google-api-core==2.12.0 (from -r dependencies.txt (line 33))\n",
      "  Using cached google_api_core-2.12.0-py3-none-any.whl.metadata (2.7 kB)\n",
      "Collecting google-auth==2.23.4 (from -r dependencies.txt (line 34))\n",
      "  Using cached google_auth-2.23.4-py2.py3-none-any.whl.metadata (4.7 kB)\n",
      "Collecting google-cloud-core==2.3.3 (from -r dependencies.txt (line 35))\n",
      "  Using cached google_cloud_core-2.3.3-py2.py3-none-any.whl.metadata (2.5 kB)\n",
      "Collecting google-cloud-translate==3.12.1 (from -r dependencies.txt (line 36))\n",
      "  Using cached google_cloud_translate-3.12.1-py2.py3-none-any.whl.metadata (5.2 kB)\n",
      "Collecting google-generativeai==0.2.2 (from -r dependencies.txt (line 37))\n",
      "  Using cached google_generativeai-0.2.2-py3-none-any.whl.metadata (3.1 kB)\n",
      "Collecting googleapis-common-protos==1.61.0 (from -r dependencies.txt (line 38))\n",
      "  Using cached googleapis_common_protos-1.61.0-py2.py3-none-any.whl.metadata (1.5 kB)\n",
      "Collecting grpcio==1.59.2 (from -r dependencies.txt (line 39))\n",
      "  Using cached grpcio-1.59.2-cp310-cp310-macosx_12_0_universal2.whl.metadata (4.0 kB)\n",
      "Collecting grpcio-status==1.59.2 (from -r dependencies.txt (line 40))\n",
      "  Using cached grpcio_status-1.59.2-py3-none-any.whl.metadata (1.3 kB)\n",
      "Collecting h11==0.14.0 (from -r dependencies.txt (line 41))\n",
      "  Using cached h11-0.14.0-py3-none-any.whl (58 kB)\n",
      "Collecting h2==4.1.0 (from -r dependencies.txt (line 42))\n",
      "  Using cached h2-4.1.0-py3-none-any.whl (57 kB)\n",
      "Collecting hpack==4.0.0 (from -r dependencies.txt (line 43))\n",
      "  Using cached hpack-4.0.0-py3-none-any.whl (32 kB)\n",
      "Collecting httpcore==0.18.0 (from -r dependencies.txt (line 44))\n",
      "  Using cached httpcore-0.18.0-py3-none-any.whl.metadata (18 kB)\n",
      "Collecting httpx==0.25.0 (from -r dependencies.txt (line 45))\n",
      "  Using cached httpx-0.25.0-py3-none-any.whl.metadata (7.6 kB)\n",
      "Collecting hyperframe==6.0.1 (from -r dependencies.txt (line 46))\n",
      "  Using cached hyperframe-6.0.1-py3-none-any.whl (12 kB)\n",
      "Requirement already satisfied: idna==3.4 in /usr/local/lib/python3.10/site-packages (from -r dependencies.txt (line 47)) (3.4)\n",
      "Collecting ipykernel==6.21.3 (from -r dependencies.txt (line 48))\n",
      "  Using cached ipykernel-6.21.3-py3-none-any.whl (149 kB)\n",
      "Collecting ipython==8.11.0 (from -r dependencies.txt (line 49))\n",
      "  Using cached ipython-8.11.0-py3-none-any.whl (793 kB)\n",
      "Collecting ipython-genutils==0.2.0 (from -r dependencies.txt (line 50))\n",
      "  Using cached ipython_genutils-0.2.0-py2.py3-none-any.whl (26 kB)\n",
      "Collecting ipywidgets==8.0.4 (from -r dependencies.txt (line 51))\n",
      "  Using cached ipywidgets-8.0.4-py3-none-any.whl (137 kB)\n",
      "Collecting isoduration==20.11.0 (from -r dependencies.txt (line 52))\n",
      "  Using cached isoduration-20.11.0-py3-none-any.whl (11 kB)\n",
      "Requirement already satisfied: jedi==0.18.2 in /usr/local/lib/python3.10/site-packages (from -r dependencies.txt (line 53)) (0.18.2)\n",
      "Collecting Jinja2==3.1.2 (from -r dependencies.txt (line 54))\n",
      "  Using cached Jinja2-3.1.2-py3-none-any.whl (133 kB)\n",
      "Collecting joblib==1.2.0 (from -r dependencies.txt (line 55))\n",
      "  Using cached joblib-1.2.0-py3-none-any.whl (297 kB)\n",
      "Collecting json5==0.9.11 (from -r dependencies.txt (line 56))\n",
      "  Using cached json5-0.9.11-py2.py3-none-any.whl (19 kB)\n",
      "Collecting jsonpointer==2.3 (from -r dependencies.txt (line 57))\n",
      "  Using cached jsonpointer-2.3-py2.py3-none-any.whl (7.8 kB)\n",
      "Collecting jsonschema==4.17.3 (from -r dependencies.txt (line 58))\n",
      "  Using cached jsonschema-4.17.3-py3-none-any.whl (90 kB)\n",
      "Collecting jupyter==1.0.0 (from -r dependencies.txt (line 59))\n",
      "  Using cached jupyter-1.0.0-py2.py3-none-any.whl (2.7 kB)\n",
      "Collecting jupyter-console==6.6.3 (from -r dependencies.txt (line 60))\n",
      "  Using cached jupyter_console-6.6.3-py3-none-any.whl (24 kB)\n",
      "Collecting jupyter-events==0.6.3 (from -r dependencies.txt (line 61))\n",
      "  Using cached jupyter_events-0.6.3-py3-none-any.whl (18 kB)\n",
      "Collecting jupyter-ydoc==0.2.2 (from -r dependencies.txt (line 62))\n",
      "  Using cached jupyter_ydoc-0.2.2-py3-none-any.whl (5.6 kB)\n",
      "Collecting jupyter_client==8.0.3 (from -r dependencies.txt (line 63))\n",
      "  Using cached jupyter_client-8.0.3-py3-none-any.whl (102 kB)\n",
      "Collecting jupyter_core==5.2.0 (from -r dependencies.txt (line 64))\n",
      "  Using cached jupyter_core-5.2.0-py3-none-any.whl (94 kB)\n",
      "Collecting jupyter_server==2.4.0 (from -r dependencies.txt (line 65))\n",
      "  Using cached jupyter_server-2.4.0-py3-none-any.whl (366 kB)\n",
      "Collecting jupyter_server_fileid==0.8.0 (from -r dependencies.txt (line 66))\n",
      "  Using cached jupyter_server_fileid-0.8.0-py3-none-any.whl (15 kB)\n",
      "Collecting jupyter_server_terminals==0.4.4 (from -r dependencies.txt (line 67))\n",
      "  Using cached jupyter_server_terminals-0.4.4-py3-none-any.whl (13 kB)\n",
      "Collecting jupyter_server_ydoc==0.6.1 (from -r dependencies.txt (line 68))\n",
      "  Using cached jupyter_server_ydoc-0.6.1-py3-none-any.whl (11 kB)\n",
      "Collecting jupyterlab==3.6.1 (from -r dependencies.txt (line 69))\n",
      "  Using cached jupyterlab-3.6.1-py3-none-any.whl (8.9 MB)\n",
      "Collecting jupyterlab-pygments==0.2.2 (from -r dependencies.txt (line 70))\n",
      "  Using cached jupyterlab_pygments-0.2.2-py2.py3-none-any.whl (21 kB)\n",
      "Collecting jupyterlab-widgets==3.0.5 (from -r dependencies.txt (line 71))\n",
      "  Using cached jupyterlab_widgets-3.0.5-py3-none-any.whl (384 kB)\n",
      "Collecting jupyterlab_server==2.20.0 (from -r dependencies.txt (line 72))\n",
      "  Using cached jupyterlab_server-2.20.0-py3-none-any.whl (56 kB)\n",
      "Collecting kiwisolver==1.4.5 (from -r dependencies.txt (line 73))\n",
      "  Using cached kiwisolver-1.4.5-cp310-cp310-macosx_10_9_x86_64.whl.metadata (6.4 kB)\n",
      "Collecting langdetect==1.0.9 (from -r dependencies.txt (line 74))\n",
      "  Using cached langdetect-1.0.9.tar.gz (981 kB)\n",
      "  Preparing metadata (setup.py) ... \u001b[?25ldone\n",
      "\u001b[?25hCollecting lz4==4.3.2 (from -r dependencies.txt (line 75))\n",
      "  Using cached lz4-4.3.2-cp310-cp310-macosx_10_9_x86_64.whl (254 kB)\n",
      "Collecting MarkupSafe==2.1.2 (from -r dependencies.txt (line 76))\n",
      "  Using cached MarkupSafe-2.1.2-cp310-cp310-macosx_10_9_x86_64.whl (13 kB)\n",
      "Collecting matplotlib==3.8.0 (from -r dependencies.txt (line 77))\n",
      "  Using cached matplotlib-3.8.0-cp310-cp310-macosx_10_12_x86_64.whl.metadata (5.8 kB)\n",
      "Requirement already satisfied: matplotlib-inline==0.1.6 in /Users/mike/Library/Python/3.10/lib/python/site-packages (from -r dependencies.txt (line 78)) (0.1.6)\n",
      "Collecting mistune==2.0.5 (from -r dependencies.txt (line 79))\n",
      "  Using cached mistune-2.0.5-py2.py3-none-any.whl (24 kB)\n",
      "Collecting nbclassic==0.5.3 (from -r dependencies.txt (line 80))\n",
      "  Using cached nbclassic-0.5.3-py3-none-any.whl (10.0 MB)\n",
      "Collecting nbclient==0.7.2 (from -r dependencies.txt (line 81))\n",
      "  Using cached nbclient-0.7.2-py3-none-any.whl (71 kB)\n",
      "Collecting nbconvert==7.2.9 (from -r dependencies.txt (line 82))\n",
      "  Using cached nbconvert-7.2.9-py3-none-any.whl (274 kB)\n",
      "Collecting nbformat==5.7.3 (from -r dependencies.txt (line 83))\n",
      "  Using cached nbformat-5.7.3-py3-none-any.whl (78 kB)\n",
      "Requirement already satisfied: nest-asyncio==1.5.6 in /usr/local/lib/python3.10/site-packages (from -r dependencies.txt (line 84)) (1.5.6)\n",
      "Collecting notebook==6.5.3 (from -r dependencies.txt (line 85))\n",
      "  Using cached notebook-6.5.3-py3-none-any.whl (529 kB)\n",
      "Collecting notebook_shim==0.2.2 (from -r dependencies.txt (line 86))\n",
      "  Using cached notebook_shim-0.2.2-py3-none-any.whl (13 kB)\n",
      "Collecting numpy==1.24.2 (from -r dependencies.txt (line 87))\n",
      "  Using cached numpy-1.24.2-cp310-cp310-macosx_10_9_x86_64.whl (19.8 MB)\n",
      "Collecting packaging==23.0 (from -r dependencies.txt (line 88))\n",
      "  Using cached packaging-23.0-py3-none-any.whl (42 kB)\n",
      "Collecting pandas==1.5.3 (from -r dependencies.txt (line 89))\n",
      "  Using cached pandas-1.5.3-cp310-cp310-macosx_10_9_x86_64.whl (12.0 MB)\n",
      "Collecting pandocfilters==1.5.0 (from -r dependencies.txt (line 90))\n",
      "  Using cached pandocfilters-1.5.0-py2.py3-none-any.whl (8.7 kB)\n",
      "Requirement already satisfied: parso==0.8.3 in /Users/mike/Library/Python/3.10/lib/python/site-packages (from -r dependencies.txt (line 91)) (0.8.3)\n",
      "Requirement already satisfied: patsy==0.5.3 in /usr/local/lib/python3.10/site-packages (from -r dependencies.txt (line 92)) (0.5.3)\n",
      "Requirement already satisfied: pexpect==4.8.0 in /Users/mike/Library/Python/3.10/lib/python/site-packages (from -r dependencies.txt (line 93)) (4.8.0)\n",
      "Requirement already satisfied: pickleshare==0.7.5 in /Users/mike/Library/Python/3.10/lib/python/site-packages (from -r dependencies.txt (line 94)) (0.7.5)\n",
      "Collecting Pillow==10.0.1 (from -r dependencies.txt (line 95))\n",
      "  Using cached Pillow-10.0.1-cp310-cp310-macosx_10_10_x86_64.whl.metadata (9.5 kB)\n",
      "Collecting platformdirs==3.1.0 (from -r dependencies.txt (line 96))\n",
      "  Using cached platformdirs-3.1.0-py3-none-any.whl (14 kB)\n",
      "Collecting prometheus-client==0.16.0 (from -r dependencies.txt (line 97))\n",
      "  Using cached prometheus_client-0.16.0-py3-none-any.whl (122 kB)\n",
      "Requirement already satisfied: prompt-toolkit==3.0.38 in /usr/local/lib/python3.10/site-packages (from -r dependencies.txt (line 98)) (3.0.38)\n",
      "Collecting proto-plus==1.22.3 (from -r dependencies.txt (line 99))\n",
      "  Using cached proto_plus-1.22.3-py3-none-any.whl.metadata (2.2 kB)\n",
      "Collecting protobuf==4.24.4 (from -r dependencies.txt (line 100))\n",
      "  Using cached protobuf-4.24.4-cp37-abi3-macosx_10_9_universal2.whl.metadata (540 bytes)\n",
      "Collecting psutil==5.9.4 (from -r dependencies.txt (line 101))\n",
      "  Using cached psutil-5.9.4-cp36-abi3-macosx_10_9_x86_64.whl (243 kB)\n",
      "Requirement already satisfied: ptyprocess==0.7.0 in /Users/mike/Library/Python/3.10/lib/python/site-packages (from -r dependencies.txt (line 102)) (0.7.0)\n",
      "Requirement already satisfied: pure-eval==0.2.2 in /Users/mike/Library/Python/3.10/lib/python/site-packages (from -r dependencies.txt (line 103)) (0.2.2)\n",
      "Collecting pyasn1==0.5.0 (from -r dependencies.txt (line 104))\n",
      "  Using cached pyasn1-0.5.0-py2.py3-none-any.whl (83 kB)\n",
      "Collecting pyasn1-modules==0.3.0 (from -r dependencies.txt (line 105))\n",
      "  Using cached pyasn1_modules-0.3.0-py2.py3-none-any.whl (181 kB)\n",
      "Collecting pycparser==2.21 (from -r dependencies.txt (line 106))\n",
      "  Using cached pycparser-2.21-py2.py3-none-any.whl (118 kB)\n",
      "Collecting pycryptodomex==3.19.0 (from -r dependencies.txt (line 107))\n",
      "  Using cached pycryptodomex-3.19.0-cp35-abi3-macosx_10_9_x86_64.whl.metadata (3.4 kB)\n",
      "Collecting Pygments==2.14.0 (from -r dependencies.txt (line 108))\n",
      "  Using cached Pygments-2.14.0-py3-none-any.whl (1.1 MB)\n",
      "Collecting pyparsing==3.1.1 (from -r dependencies.txt (line 109))\n",
      "  Using cached pyparsing-3.1.1-py3-none-any.whl.metadata (5.1 kB)\n",
      "Collecting pyrsistent==0.19.3 (from -r dependencies.txt (line 110))\n",
      "  Using cached pyrsistent-0.19.3-cp310-cp310-macosx_10_9_universal2.whl (82 kB)\n",
      "Requirement already satisfied: python-dateutil==2.8.2 in /Users/mike/Library/Python/3.10/lib/python/site-packages (from -r dependencies.txt (line 111)) (2.8.2)\n",
      "Collecting python-json-logger==2.0.7 (from -r dependencies.txt (line 112))\n",
      "  Using cached python_json_logger-2.0.7-py3-none-any.whl (8.1 kB)\n",
      "Requirement already satisfied: pytz==2023.3 in /usr/local/lib/python3.10/site-packages (from -r dependencies.txt (line 113)) (2023.3)\n",
      "Collecting PyYAML==6.0 (from -r dependencies.txt (line 114))\n",
      "  Using cached PyYAML-6.0-cp310-cp310-macosx_10_9_x86_64.whl (197 kB)\n",
      "Collecting pyzmq==25.0.0 (from -r dependencies.txt (line 115))\n",
      "  Using cached pyzmq-25.0.0-cp310-cp310-macosx_10_15_universal2.whl (1.8 MB)\n",
      "Collecting qtconsole==5.4.0 (from -r dependencies.txt (line 116))\n",
      "  Using cached qtconsole-5.4.0-py3-none-any.whl (121 kB)\n",
      "Collecting QtPy==2.3.0 (from -r dependencies.txt (line 117))\n",
      "  Using cached QtPy-2.3.0-py3-none-any.whl (83 kB)\n",
      "Collecting requests==2.28.2 (from -r dependencies.txt (line 118))\n",
      "  Using cached requests-2.28.2-py3-none-any.whl (62 kB)\n",
      "Collecting rfc3339-validator==0.1.4 (from -r dependencies.txt (line 119))\n",
      "  Using cached rfc3339_validator-0.1.4-py2.py3-none-any.whl (3.5 kB)\n",
      "Collecting rfc3986-validator==0.1.1 (from -r dependencies.txt (line 120))\n",
      "  Using cached rfc3986_validator-0.1.1-py2.py3-none-any.whl (4.2 kB)\n",
      "Collecting rsa==4.9 (from -r dependencies.txt (line 121))\n",
      "  Using cached rsa-4.9-py3-none-any.whl (34 kB)\n",
      "Collecting scikit-learn==1.2.2 (from -r dependencies.txt (line 122))\n",
      "  Using cached scikit_learn-1.2.2-cp310-cp310-macosx_10_9_x86_64.whl (9.1 MB)\n",
      "Collecting scipy==1.10.1 (from -r dependencies.txt (line 123))\n",
      "  Using cached scipy-1.10.1-cp310-cp310-macosx_10_9_x86_64.whl (35.1 MB)\n",
      "Collecting seaborn==0.13.0 (from -r dependencies.txt (line 124))\n",
      "  Using cached seaborn-0.13.0-py3-none-any.whl.metadata (5.3 kB)\n",
      "Collecting Send2Trash==1.8.0 (from -r dependencies.txt (line 125))\n",
      "  Using cached Send2Trash-1.8.0-py3-none-any.whl (18 kB)\n",
      "Requirement already satisfied: six==1.16.0 in /Users/mike/Library/Python/3.10/lib/python/site-packages (from -r dependencies.txt (line 126)) (1.16.0)\n",
      "Requirement already satisfied: sklearn==0.0.post9 in /usr/local/lib/python3.10/site-packages (from -r dependencies.txt (line 127)) (0.0.post9)\n",
      "Collecting sniffio==1.3.0 (from -r dependencies.txt (line 128))\n",
      "  Using cached sniffio-1.3.0-py3-none-any.whl (10 kB)\n",
      "Collecting soupsieve==2.4 (from -r dependencies.txt (line 129))\n",
      "  Using cached soupsieve-2.4-py3-none-any.whl (37 kB)\n",
      "Requirement already satisfied: stack-data==0.6.2 in /Users/mike/Library/Python/3.10/lib/python/site-packages (from -r dependencies.txt (line 130)) (0.6.2)\n",
      "Requirement already satisfied: statsmodels==0.14.0 in /usr/local/lib/python3.10/site-packages (from -r dependencies.txt (line 131)) (0.14.0)\n",
      "Collecting terminado==0.17.1 (from -r dependencies.txt (line 132))\n",
      "  Using cached terminado-0.17.1-py3-none-any.whl (17 kB)\n",
      "Collecting threadpoolctl==3.1.0 (from -r dependencies.txt (line 133))\n",
      "  Using cached threadpoolctl-3.1.0-py3-none-any.whl (14 kB)\n",
      "Collecting tinycss2==1.2.1 (from -r dependencies.txt (line 134))\n",
      "  Using cached tinycss2-1.2.1-py3-none-any.whl (21 kB)\n",
      "Collecting tomli==2.0.1 (from -r dependencies.txt (line 135))\n",
      "  Using cached tomli-2.0.1-py3-none-any.whl (12 kB)\n",
      "Collecting tornado==6.2 (from -r dependencies.txt (line 136))\n",
      "  Using cached tornado-6.2-cp37-abi3-macosx_10_9_x86_64.whl (419 kB)\n",
      "Collecting tqdm==4.66.1 (from -r dependencies.txt (line 137))\n",
      "  Using cached tqdm-4.66.1-py3-none-any.whl.metadata (57 kB)\n",
      "Requirement already satisfied: traitlets==5.9.0 in /usr/local/lib/python3.10/site-packages (from -r dependencies.txt (line 138)) (5.9.0)\n",
      "Requirement already satisfied: tzdata==2023.3 in /usr/local/lib/python3.10/site-packages (from -r dependencies.txt (line 139)) (2023.3)\n",
      "Collecting uri-template==1.2.0 (from -r dependencies.txt (line 140))\n",
      "  Using cached uri_template-1.2.0-py3-none-any.whl (10 kB)\n",
      "Requirement already satisfied: urllib3==2.0.5 in /usr/local/lib/python3.10/site-packages (from -r dependencies.txt (line 141)) (2.0.5)\n",
      "Collecting utils==1.0.1 (from -r dependencies.txt (line 142))\n",
      "  Using cached utils-1.0.1-py2.py3-none-any.whl (21 kB)\n",
      "Requirement already satisfied: wcwidth==0.2.6 in /Users/mike/Library/Python/3.10/lib/python/site-packages (from -r dependencies.txt (line 143)) (0.2.6)\n",
      "Collecting webcolors==1.12 (from -r dependencies.txt (line 144))\n",
      "  Using cached webcolors-1.12-py3-none-any.whl (9.9 kB)\n",
      "Collecting webencodings==0.5.1 (from -r dependencies.txt (line 145))\n",
      "  Using cached webencodings-0.5.1-py2.py3-none-any.whl (11 kB)\n",
      "Collecting websocket-client==1.5.1 (from -r dependencies.txt (line 146))\n",
      "  Using cached websocket_client-1.5.1-py3-none-any.whl (55 kB)\n",
      "Collecting widgetsnbextension==4.0.5 (from -r dependencies.txt (line 147))\n",
      "  Using cached widgetsnbextension-4.0.5-py3-none-any.whl (2.0 MB)\n",
      "Requirement already satisfied: xgboost==2.0.0 in /usr/local/lib/python3.10/site-packages (from -r dependencies.txt (line 148)) (2.0.0)\n",
      "Collecting y-py==0.5.9 (from -r dependencies.txt (line 149))\n",
      "  Using cached y_py-0.5.9-cp310-cp310-macosx_10_9_x86_64.macosx_11_0_arm64.macosx_10_9_universal2.whl (1.4 MB)\n",
      "Collecting ypy-websocket==0.8.2 (from -r dependencies.txt (line 150))\n",
      "  Using cached ypy_websocket-0.8.2-py3-none-any.whl (10 kB)\n",
      "INFO: pip is looking at multiple versions of requests to determine which version is compatible with other requirements. This could take a while.\n",
      "\u001b[31mERROR: Cannot install -r dependencies.txt (line 118) and urllib3==2.0.5 because these package versions have conflicting dependencies.\u001b[0m\u001b[31m\n",
      "\u001b[0m\n",
      "The conflict is caused by:\n",
      "    The user requested urllib3==2.0.5\n",
      "    requests 2.28.2 depends on urllib3<1.27 and >=1.21.1\n",
      "\n",
      "To fix this you could try to:\n",
      "1. loosen the range of package versions you've specified\n",
      "2. remove package versions to allow pip attempt to solve the dependency conflict\n",
      "\n",
      "\u001b[31mERROR: ResolutionImpossible: for help visit https://pip.pypa.io/en/latest/topics/dependency-resolution/#dealing-with-dependency-conflicts\u001b[0m\u001b[31m\n",
      "\u001b[0mNote: you may need to restart the kernel to use updated packages.\n"
     ]
    }
   ],
   "source": [
    "%pip install -r dependencies.txt"
   ]
  },
  {
   "cell_type": "code",
   "execution_count": 22,
   "metadata": {},
   "outputs": [
    {
     "data": {
      "text/plain": [
       "<module 'helper' from '/Users/mike/Documents/School/Fa23/Clinic/code/helper.py'>"
      ]
     },
     "execution_count": 22,
     "metadata": {},
     "output_type": "execute_result"
    }
   ],
   "source": [
    "import pandas as pd\n",
    "import numpy as np\n",
    "import sklearn\n",
    "import matplotlib.pyplot as plt\n",
    "import requests\n",
    "import scipy\n",
    "import importlib\n",
    "import helper, consts\n",
    "importlib.reload(consts)\n",
    "importlib.reload(helper)"
   ]
  },
  {
   "cell_type": "markdown",
   "metadata": {},
   "source": [
    "### CONSTANTS"
   ]
  },
  {
   "cell_type": "code",
   "execution_count": 23,
   "metadata": {},
   "outputs": [],
   "source": [
    "# USER\n",
    "USER = \"RYAN\"\n",
    "FILE_PATH = consts.PATH_MAP[USER]\n",
    "\n",
    "ROW = consts.ROW\n",
    "COL = consts.COL\n",
    "CLEANED_DATA_PATH = consts.CLEANED_DATA_PATH\n",
    "DATA_PATH = consts.RAW_DATA_PATH\n",
    "RESPONSE_NAME = consts.RESPONSE_NAME\n",
    "\n",
    "TRAIN_START_DATE = \"20150101\"\n",
    "TRAIN_END_DATE = \"20150601\" # Up to but not including\n",
    "TEST_START_DATE = \"20150701\"\n",
    "TEST_END_DATE = \"20150801\""
   ]
  },
  {
   "cell_type": "code",
   "execution_count": 24,
   "metadata": {},
   "outputs": [
    {
     "name": "stdout",
     "output_type": "stream",
     "text": [
      "1: OLS\n",
      "2: LASSO\n",
      "3: XGBOOST\n"
     ]
    }
   ],
   "source": [
    "REGRESSION_TYPES = helper.Regression('OLS').list_all_regression_types()\n",
    "REGRESSION_TYPES"
   ]
  },
  {
   "cell_type": "markdown",
   "metadata": {},
   "source": [
    "### Read data"
   ]
  },
  {
   "cell_type": "code",
   "execution_count": 25,
   "metadata": {},
   "outputs": [
    {
     "data": {
      "text/plain": [
       "('20140501', '20150501')"
      ]
     },
     "execution_count": 25,
     "metadata": {},
     "output_type": "execute_result"
    }
   ],
   "source": [
    "train_start, train_end  = helper.get_train_from_testday(TEST_START_DATE)\n",
    "train_start, train_end"
   ]
  },
  {
   "cell_type": "code",
   "execution_count": 26,
   "metadata": {},
   "outputs": [],
   "source": [
    "x_cols = [\"rrirpnxm_nt_0\", \"rrirpnxm_lst15_0\",\"rrirpnxm_lsthrx15_0\", \"rrirpnxm_toxhr_0\", \"relvol_nt_0\"]\n",
    "train_df = helper.get_df(train_start, train_end, x_cols, FILE_PATH)\n",
    "train_df2 = pd.read_csv(consts.CLEANED_DATA_PATH)"
   ]
  },
  {
   "cell_type": "markdown",
   "metadata": {},
   "source": [
    "### Interaction Terms"
   ]
  },
  {
   "cell_type": "code",
   "execution_count": 27,
   "metadata": {},
   "outputs": [],
   "source": [
    "# interactingTerms = [[\"relvol_nt_0\", col] for col in x_cols[:-1]]\n",
    "# interactingTerms"
   ]
  },
  {
   "cell_type": "code",
   "execution_count": 28,
   "metadata": {},
   "outputs": [],
   "source": [
    "# interactingTerms_df = helper.get_df_with_interaction_terms(train_df, interactingTerms)"
   ]
  },
  {
   "cell_type": "code",
   "execution_count": 29,
   "metadata": {},
   "outputs": [],
   "source": [
    "# interactingTerms_df.head()"
   ]
  },
  {
   "cell_type": "code",
   "execution_count": 30,
   "metadata": {},
   "outputs": [],
   "source": [
    "# rosy: making my own interacting terms\n",
    "\n",
    "# col_pairs = [\n",
    "#     ['relvol_nt_0', 'rrirpnxm_nt_0'],\n",
    "#     [\"relvol_lst15_0\", \"rrirpnxm_lst15_0\"],\n",
    "#     [\"relvol_toxhr_0\", \"rrirpnxm_toxhr_0\"],\n",
    "#     [\"relvol_lsthrx15_0\", \"rrirpnxm_lsthrx15_0\"],\n",
    "# ]\n",
    "# interaction_terms_train_df = helper.get_df_with_interaction_terms(train_df, col_pairs)\n",
    "# interaction_terms_test_df = helper.get_df_with_interaction_terms(test_df, col_pairs)"
   ]
  },
  {
   "cell_type": "markdown",
   "metadata": {},
   "source": [
    "### Transform the data if needed"
   ]
  },
  {
   "cell_type": "markdown",
   "metadata": {},
   "source": [
    "#### Ordinary Least Squares"
   ]
  },
  {
   "cell_type": "code",
   "execution_count": 31,
   "metadata": {},
   "outputs": [
    {
     "data": {
      "text/plain": [
       "array([ 3.53454109e-02, -1.70054227e-03, -1.12804130e-03, -2.14339701e-03,\n",
       "        5.69328897e-05,  4.41713229e-05])"
      ]
     },
     "execution_count": 31,
     "metadata": {},
     "output_type": "execute_result"
    }
   ],
   "source": [
    "importlib.reload(helper)\n",
    "\n",
    "ols_regression_model = helper.Regression('OLS')\n",
    "weights = helper.get_weights(train_df)\n",
    "model_attributes = ols_regression_model.train(train_df, RESPONSE_NAME, weights)\n",
    "model_attributes"
   ]
  },
  {
   "cell_type": "code",
   "execution_count": 32,
   "metadata": {},
   "outputs": [
    {
     "name": "stdout",
     "output_type": "stream",
     "text": [
      "Average Weighted Correlation: 0.5169264253443359\n",
      "Average Mean Return: 0.00019003842888847753\n",
      "Average weighted Scale Factor: 0.9836675308378866\n"
     ]
    },
    {
     "data": {
      "text/plain": [
       "(0.5169264253443359, 0.00019003842888847753, 0.9836675308378866)"
      ]
     },
     "execution_count": 32,
     "metadata": {},
     "output_type": "execute_result"
    }
   ],
   "source": [
    "ols_regression_model.evaluateModel(TEST_START_DATE, TEST_END_DATE, x_cols, data_path=FILE_PATH)"
   ]
  },
  {
   "cell_type": "markdown",
   "metadata": {},
   "source": [
    "#### OLS w/ Interacting Terms"
   ]
  },
  {
   "cell_type": "code",
   "execution_count": 33,
   "metadata": {},
   "outputs": [],
   "source": [
    "ols_interacting_model = helper.Regression('OLS')\n",
    "#ols_interacting_model.execute(interactingTerms_df, RESPONSE_NAME, interactingTerms_df)\n",
    "# ols_interacting_model.get_metric()"
   ]
  },
  {
   "cell_type": "markdown",
   "metadata": {},
   "source": [
    "#### LASSO"
   ]
  },
  {
   "cell_type": "code",
   "execution_count": 34,
   "metadata": {},
   "outputs": [],
   "source": [
    "lasso_model = helper.Regression('LASSO')\n",
    "weights = helper.get_weights(train_df)"
   ]
  },
  {
   "cell_type": "code",
   "execution_count": 35,
   "metadata": {},
   "outputs": [
    {
     "name": "stdout",
     "output_type": "stream",
     "text": [
      "Average Weighted Correlation: 0.5165657158406268\n",
      "Average Mean Return: 0.0001706219546206434\n",
      "Average weighted Scale Factor: 1.0569215795138687\n"
     ]
    },
    {
     "data": {
      "text/plain": [
       "(0.5165657158406268, 0.0001706219546206434, 1.0569215795138687)"
      ]
     },
     "execution_count": 35,
     "metadata": {},
     "output_type": "execute_result"
    }
   ],
   "source": [
    "importlib.reload(helper)\n",
    "lasso_model.train(train_df, RESPONSE_NAME, weights)\n",
    "lasso_model.evaluateModel(TEST_START_DATE, TEST_END_DATE, x_cols, FILE_PATH)"
   ]
  },
  {
   "cell_type": "markdown",
   "metadata": {},
   "source": [
    "### XGBoost\n",
    "\n"
   ]
  },
  {
   "cell_type": "code",
   "execution_count": 36,
   "metadata": {},
   "outputs": [
    {
     "name": "stderr",
     "output_type": "stream",
     "text": [
      "/usr/local/lib/python3.10/site-packages/xgboost/core.py:726: FutureWarning: Pass `objective` as keyword args.\n",
      "  warnings.warn(msg, FutureWarning)\n"
     ]
    },
    {
     "name": "stdout",
     "output_type": "stream",
     "text": [
      "Average Weighted Correlation: 0.5169264251681439\n",
      "Average Mean Return: 0.00019003842888847753\n",
      "Average weighted Scale Factor: 0.9836675524711609\n"
     ]
    },
    {
     "data": {
      "text/plain": [
       "(0.5169264251681439, 0.00019003842888847753, 0.98366755)"
      ]
     },
     "execution_count": 36,
     "metadata": {},
     "output_type": "execute_result"
    }
   ],
   "source": [
    "xgb_model = helper.Regression('XGboost')\n",
    "weights = helper.get_weights(train_df)\n",
    "xgb_model.train(train_df, RESPONSE_NAME, weights)\n",
    "xgb_model.evaluateModel(TEST_START_DATE, TEST_END_DATE, x_cols, FILE_PATH)"
   ]
  }
 ],
 "metadata": {
  "kernelspec": {
   "display_name": "Python 3",
   "language": "python",
   "name": "python3"
  },
  "language_info": {
   "codemirror_mode": {
    "name": "ipython",
    "version": 3
   },
   "file_extension": ".py",
   "mimetype": "text/x-python",
   "name": "python",
   "nbconvert_exporter": "python",
   "pygments_lexer": "ipython3",
   "version": "3.10.12"
  },
  "vscode": {
   "interpreter": {
    "hash": "b0fa6594d8f4cbf19f97940f81e996739fb7646882a419484c72d19e05852a7e"
   }
  }
 },
 "nbformat": 4,
 "nbformat_minor": 2
}
