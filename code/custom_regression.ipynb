{
 "cells": [
  {
   "cell_type": "markdown",
   "metadata": {},
   "source": [
    "### Imports"
   ]
  },
  {
   "cell_type": "code",
   "execution_count": 42,
   "metadata": {},
   "outputs": [
    {
     "name": "stdout",
     "output_type": "stream",
     "text": [
      "Requirement already satisfied: absl-py==1.4.0 in /usr/local/lib/python3.10/site-packages (from -r dependencies.txt (line 1)) (1.4.0)\n",
      "Requirement already satisfied: appnope==0.1.3 in /Users/mike/Library/Python/3.10/lib/python/site-packages (from -r dependencies.txt (line 2)) (0.1.3)\n",
      "Requirement already satisfied: asttokens==2.2.1 in /usr/local/lib/python3.10/site-packages (from -r dependencies.txt (line 3)) (2.2.1)\n",
      "Requirement already satisfied: astunparse==1.6.3 in /usr/local/lib/python3.10/site-packages (from -r dependencies.txt (line 4)) (1.6.3)\n",
      "Requirement already satisfied: attrs==23.1.0 in /usr/local/lib/python3.10/site-packages (from -r dependencies.txt (line 5)) (23.1.0)\n",
      "Requirement already satisfied: backcall==0.2.0 in /Users/mike/Library/Python/3.10/lib/python/site-packages (from -r dependencies.txt (line 6)) (0.2.0)\n",
      "Requirement already satisfied: certifi==2023.5.7 in /usr/local/lib/python3.10/site-packages (from -r dependencies.txt (line 7)) (2023.5.7)\n",
      "Requirement already satisfied: chardet==5.2.0 in /usr/local/lib/python3.10/site-packages (from -r dependencies.txt (line 8)) (5.2.0)\n",
      "Requirement already satisfied: charset-normalizer==3.2.0 in /usr/local/lib/python3.10/site-packages (from -r dependencies.txt (line 9)) (3.2.0)\n",
      "Requirement already satisfied: click==8.1.3 in /usr/local/lib/python3.10/site-packages (from -r dependencies.txt (line 10)) (8.1.3)\n",
      "Requirement already satisfied: click-plugins==1.1.1 in /usr/local/lib/python3.10/site-packages (from -r dependencies.txt (line 11)) (1.1.1)\n",
      "Requirement already satisfied: cligj==0.7.2 in /usr/local/lib/python3.10/site-packages (from -r dependencies.txt (line 12)) (0.7.2)\n",
      "Requirement already satisfied: comm==0.1.3 in /usr/local/lib/python3.10/site-packages (from -r dependencies.txt (line 13)) (0.1.3)\n",
      "Requirement already satisfied: contourpy==1.1.0 in /usr/local/lib/python3.10/site-packages (from -r dependencies.txt (line 14)) (1.1.0)\n",
      "Requirement already satisfied: cycler==0.11.0 in /usr/local/lib/python3.10/site-packages (from -r dependencies.txt (line 15)) (0.11.0)\n",
      "Requirement already satisfied: debugpy==1.6.7 in /usr/local/lib/python3.10/site-packages (from -r dependencies.txt (line 16)) (1.6.7)\n",
      "Requirement already satisfied: decorator==5.1.1 in /Users/mike/Library/Python/3.10/lib/python/site-packages (from -r dependencies.txt (line 17)) (5.1.1)\n",
      "Requirement already satisfied: executing==1.2.0 in /Users/mike/Library/Python/3.10/lib/python/site-packages (from -r dependencies.txt (line 18)) (1.2.0)\n",
      "Requirement already satisfied: Fiona==1.9.4.post1 in /usr/local/lib/python3.10/site-packages (from -r dependencies.txt (line 19)) (1.9.4.post1)\n",
      "Requirement already satisfied: fonttools==4.40.0 in /usr/local/lib/python3.10/site-packages (from -r dependencies.txt (line 20)) (4.40.0)\n",
      "Requirement already satisfied: geopandas==0.13.2 in /usr/local/lib/python3.10/site-packages (from -r dependencies.txt (line 21)) (0.13.2)\n",
      "Requirement already satisfied: idna==3.4 in /usr/local/lib/python3.10/site-packages (from -r dependencies.txt (line 22)) (3.4)\n",
      "Requirement already satisfied: ipykernel==6.23.3 in /usr/local/lib/python3.10/site-packages (from -r dependencies.txt (line 23)) (6.23.3)\n",
      "Requirement already satisfied: ipython==8.14.0 in /usr/local/lib/python3.10/site-packages (from -r dependencies.txt (line 24)) (8.14.0)\n",
      "Requirement already satisfied: jedi==0.18.2 in /usr/local/lib/python3.10/site-packages (from -r dependencies.txt (line 25)) (0.18.2)\n",
      "Requirement already satisfied: joblib==1.3.2 in /usr/local/lib/python3.10/site-packages (from -r dependencies.txt (line 26)) (1.3.2)\n",
      "Requirement already satisfied: jupyter_client==8.3.0 in /usr/local/lib/python3.10/site-packages (from -r dependencies.txt (line 27)) (8.3.0)\n",
      "Requirement already satisfied: jupyter_core==5.3.1 in /Users/mike/Library/Python/3.10/lib/python/site-packages (from -r dependencies.txt (line 28)) (5.3.1)\n",
      "Requirement already satisfied: kiwisolver==1.4.4 in /usr/local/lib/python3.10/site-packages (from -r dependencies.txt (line 29)) (1.4.4)\n",
      "Requirement already satisfied: matplotlib==3.7.2 in /usr/local/lib/python3.10/site-packages (from -r dependencies.txt (line 30)) (3.7.2)\n",
      "Requirement already satisfied: matplotlib-inline==0.1.6 in /Users/mike/Library/Python/3.10/lib/python/site-packages (from -r dependencies.txt (line 31)) (0.1.6)\n",
      "Requirement already satisfied: nest-asyncio==1.5.6 in /usr/local/lib/python3.10/site-packages (from -r dependencies.txt (line 32)) (1.5.6)\n",
      "Requirement already satisfied: numpy==1.25.0 in /usr/local/lib/python3.10/site-packages (from -r dependencies.txt (line 33)) (1.25.0)\n",
      "Requirement already satisfied: ortools==9.7.2996 in /usr/local/lib/python3.10/site-packages (from -r dependencies.txt (line 34)) (9.7.2996)\n",
      "Requirement already satisfied: packaging==23.1 in /Users/mike/Library/Python/3.10/lib/python/site-packages (from -r dependencies.txt (line 35)) (23.1)\n",
      "Requirement already satisfied: pandas==2.0.2 in /usr/local/lib/python3.10/site-packages (from -r dependencies.txt (line 36)) (2.0.2)\n",
      "Requirement already satisfied: parso==0.8.3 in /Users/mike/Library/Python/3.10/lib/python/site-packages (from -r dependencies.txt (line 37)) (0.8.3)\n",
      "Requirement already satisfied: patsy==0.5.3 in /usr/local/lib/python3.10/site-packages (from -r dependencies.txt (line 38)) (0.5.3)\n",
      "Requirement already satisfied: pexpect==4.8.0 in /Users/mike/Library/Python/3.10/lib/python/site-packages (from -r dependencies.txt (line 39)) (4.8.0)\n",
      "Requirement already satisfied: pickleshare==0.7.5 in /Users/mike/Library/Python/3.10/lib/python/site-packages (from -r dependencies.txt (line 40)) (0.7.5)\n",
      "Requirement already satisfied: Pillow==10.0.0 in /usr/local/lib/python3.10/site-packages (from -r dependencies.txt (line 41)) (10.0.0)\n",
      "Requirement already satisfied: platformdirs==3.8.0 in /usr/local/lib/python3.10/site-packages (from -r dependencies.txt (line 42)) (3.8.0)\n",
      "Requirement already satisfied: prompt-toolkit==3.0.38 in /usr/local/lib/python3.10/site-packages (from -r dependencies.txt (line 43)) (3.0.38)\n",
      "Requirement already satisfied: protobuf==4.23.4 in /usr/local/lib/python3.10/site-packages (from -r dependencies.txt (line 44)) (4.23.4)\n",
      "Requirement already satisfied: psutil==5.9.5 in /Users/mike/Library/Python/3.10/lib/python/site-packages (from -r dependencies.txt (line 45)) (5.9.5)\n",
      "Requirement already satisfied: ptyprocess==0.7.0 in /Users/mike/Library/Python/3.10/lib/python/site-packages (from -r dependencies.txt (line 46)) (0.7.0)\n",
      "Requirement already satisfied: pure-eval==0.2.2 in /Users/mike/Library/Python/3.10/lib/python/site-packages (from -r dependencies.txt (line 47)) (0.2.2)\n",
      "Requirement already satisfied: pyflowchart==0.3.1 in /usr/local/lib/python3.10/site-packages (from -r dependencies.txt (line 48)) (0.3.1)\n",
      "Requirement already satisfied: Pygments==2.15.1 in /usr/local/lib/python3.10/site-packages (from -r dependencies.txt (line 49)) (2.15.1)\n",
      "Requirement already satisfied: pyparsing==3.0.9 in /usr/local/lib/python3.10/site-packages (from -r dependencies.txt (line 50)) (3.0.9)\n",
      "Requirement already satisfied: pyproj==3.6.0 in /usr/local/lib/python3.10/site-packages (from -r dependencies.txt (line 51)) (3.6.0)\n",
      "Requirement already satisfied: python-dateutil==2.8.2 in /Users/mike/Library/Python/3.10/lib/python/site-packages (from -r dependencies.txt (line 52)) (2.8.2)\n",
      "Requirement already satisfied: pytz==2023.3 in /usr/local/lib/python3.10/site-packages (from -r dependencies.txt (line 53)) (2023.3)\n",
      "Requirement already satisfied: pyzmq==25.1.0 in /usr/local/lib/python3.10/site-packages (from -r dependencies.txt (line 54)) (25.1.0)\n",
      "Requirement already satisfied: requests==2.31.0 in /usr/local/lib/python3.10/site-packages (from -r dependencies.txt (line 55)) (2.31.0)\n",
      "Requirement already satisfied: scikit-learn==1.3.0 in /usr/local/lib/python3.10/site-packages (from -r dependencies.txt (line 56)) (1.3.0)\n",
      "Requirement already satisfied: scipy==1.11.1 in /usr/local/lib/python3.10/site-packages (from -r dependencies.txt (line 57)) (1.11.1)\n",
      "Requirement already satisfied: shapely==2.0.1 in /usr/local/lib/python3.10/site-packages (from -r dependencies.txt (line 58)) (2.0.1)\n",
      "Requirement already satisfied: six==1.16.0 in /Users/mike/Library/Python/3.10/lib/python/site-packages (from -r dependencies.txt (line 59)) (1.16.0)\n",
      "Requirement already satisfied: sklearn==0.0.post9 in /usr/local/lib/python3.10/site-packages (from -r dependencies.txt (line 60)) (0.0.post9)\n",
      "Requirement already satisfied: stack-data==0.6.2 in /Users/mike/Library/Python/3.10/lib/python/site-packages (from -r dependencies.txt (line 61)) (0.6.2)\n",
      "Requirement already satisfied: statsmodels==0.14.0 in /usr/local/lib/python3.10/site-packages (from -r dependencies.txt (line 62)) (0.14.0)\n",
      "Requirement already satisfied: threadpoolctl==3.2.0 in /usr/local/lib/python3.10/site-packages (from -r dependencies.txt (line 63)) (3.2.0)\n",
      "Requirement already satisfied: tornado==6.3.2 in /usr/local/lib/python3.10/site-packages (from -r dependencies.txt (line 64)) (6.3.2)\n",
      "Requirement already satisfied: traitlets==5.9.0 in /usr/local/lib/python3.10/site-packages (from -r dependencies.txt (line 65)) (5.9.0)\n",
      "Requirement already satisfied: tzdata==2023.3 in /usr/local/lib/python3.10/site-packages (from -r dependencies.txt (line 66)) (2023.3)\n",
      "Requirement already satisfied: urllib3==2.0.5 in /usr/local/lib/python3.10/site-packages (from -r dependencies.txt (line 67)) (2.0.5)\n",
      "Requirement already satisfied: wcwidth==0.2.6 in /Users/mike/Library/Python/3.10/lib/python/site-packages (from -r dependencies.txt (line 68)) (0.2.6)\n",
      "Requirement already satisfied: wheel<1.0,>=0.23.0 in /usr/local/lib/python3.10/site-packages (from astunparse==1.6.3->-r dependencies.txt (line 4)) (0.41.0)\n",
      "Note: you may need to restart the kernel to use updated packages.\n"
     ]
    }
   ],
   "source": [
    "%pip install -r dependencies.txt"
   ]
  },
  {
   "cell_type": "code",
   "execution_count": 2,
   "metadata": {},
   "outputs": [
    {
     "data": {
      "text/plain": [
       "<module 'helper' from '/Users/rosy/Clinic/Clinic/code/helper.py'>"
      ]
     },
     "execution_count": 2,
     "metadata": {},
     "output_type": "execute_result"
    }
   ],
   "source": [
    "import pandas as pd\n",
    "import numpy as np\n",
    "import sklearn\n",
    "import matplotlib.pyplot as plt\n",
    "import requests\n",
    "import scipy\n",
    "import importlib\n",
    "import helper, consts\n",
    "importlib.reload(consts)\n",
    "importlib.reload(helper)"
   ]
  },
  {
   "cell_type": "markdown",
   "metadata": {},
   "source": [
    "### CONSTANTS"
   ]
  },
  {
   "cell_type": "code",
   "execution_count": 3,
   "metadata": {},
   "outputs": [],
   "source": [
    "ROW = consts.ROW\n",
    "COL = consts.COL\n",
    "CLEANED_DATA_PATH = consts.CLEANED_DATA_PATH\n",
    "DATA_PATH = consts.DATA_PATH_2015\n",
    "RESPONSE_NAME = consts.RESPONSE_NAME\n",
    "\n",
    "TRAIN_START_DATE = \"20150101\"\n",
    "TRAIN_END_DATE = \"20150601\" # Up to but not including\n",
    "TEST_DATE = \"20150601\""
   ]
  },
  {
   "cell_type": "code",
   "execution_count": 7,
   "metadata": {},
   "outputs": [
    {
     "name": "stdout",
     "output_type": "stream",
     "text": [
      "1: OLS\n",
      "2: LASSO\n",
      "3: XGBOOST\n"
     ]
    }
   ],
   "source": [
    "REGRESSION_TYPES = helper.Regression('OLS').list_all_regression_types()\n",
    "REGRESSION_TYPES"
   ]
  },
  {
   "cell_type": "markdown",
   "metadata": {},
   "source": [
    "### Read data"
   ]
  },
  {
   "cell_type": "code",
   "execution_count": 4,
   "metadata": {},
   "outputs": [],
   "source": [
    "x_cols = [\"rrirpnxm_nt_0\", \"rrirpnxm_lst15_0\",\"rrirpnxm_lsthrx15_0\", \"rrirpnxm_toxhr_0\", \"relvol_nt_0\"]\n",
    "train_df, test_df = helper.get_train_test_df(TRAIN_START_DATE, TRAIN_END_DATE, TEST_DATE, x_cols)"
   ]
  },
  {
   "cell_type": "markdown",
   "metadata": {},
   "source": [
    "### Interaction Terms"
   ]
  },
  {
   "cell_type": "code",
   "execution_count": 5,
   "metadata": {},
   "outputs": [
    {
     "data": {
      "text/plain": [
       "[['relvol_nt_0', 'rrirpnxm_nt_0'],\n",
       " ['relvol_nt_0', 'rrirpnxm_lst15_0'],\n",
       " ['relvol_nt_0', 'rrirpnxm_lsthrx15_0'],\n",
       " ['relvol_nt_0', 'rrirpnxm_toxhr_0']]"
      ]
     },
     "execution_count": 5,
     "metadata": {},
     "output_type": "execute_result"
    }
   ],
   "source": [
    "interactingTerms = [[\"relvol_nt_0\", col] for col in x_cols[:-1]]\n",
    "interactingTerms"
   ]
  },
  {
   "cell_type": "code",
   "execution_count": 6,
   "metadata": {},
   "outputs": [],
   "source": [
    "interactingTerms_df = helper.get_df_with_interaction_terms(train_df, interactingTerms)"
   ]
  },
  {
   "cell_type": "code",
   "execution_count": 7,
   "metadata": {},
   "outputs": [
    {
     "data": {
      "text/html": [
       "<div>\n",
       "<style scoped>\n",
       "    .dataframe tbody tr th:only-of-type {\n",
       "        vertical-align: middle;\n",
       "    }\n",
       "\n",
       "    .dataframe tbody tr th {\n",
       "        vertical-align: top;\n",
       "    }\n",
       "\n",
       "    .dataframe thead th {\n",
       "        text-align: right;\n",
       "    }\n",
       "</style>\n",
       "<table border=\"1\" class=\"dataframe\">\n",
       "  <thead>\n",
       "    <tr style=\"text-align: right;\">\n",
       "      <th></th>\n",
       "      <th>rrirpnxm_nt_0</th>\n",
       "      <th>rrirpnxm_lst15_0</th>\n",
       "      <th>rrirpnxm_lsthrx15_0</th>\n",
       "      <th>rrirpnxm_toxhr_0</th>\n",
       "      <th>relvol_nt_0</th>\n",
       "      <th>tonight</th>\n",
       "      <th>('relvol_nt_0', 'rrirpnxm_nt_0')</th>\n",
       "      <th>('relvol_nt_0', 'rrirpnxm_lst15_0')</th>\n",
       "      <th>('relvol_nt_0', 'rrirpnxm_lsthrx15_0')</th>\n",
       "      <th>('relvol_nt_0', 'rrirpnxm_toxhr_0')</th>\n",
       "    </tr>\n",
       "  </thead>\n",
       "  <tbody>\n",
       "    <tr>\n",
       "      <th>0</th>\n",
       "      <td>0.000000</td>\n",
       "      <td>0.000000</td>\n",
       "      <td>0.000000</td>\n",
       "      <td>0.000000</td>\n",
       "      <td>0.000000</td>\n",
       "      <td>-0.000073</td>\n",
       "      <td>0.000000</td>\n",
       "      <td>0.000000</td>\n",
       "      <td>0.000000</td>\n",
       "      <td>0.000000</td>\n",
       "    </tr>\n",
       "    <tr>\n",
       "      <th>1</th>\n",
       "      <td>-0.003448</td>\n",
       "      <td>0.001921</td>\n",
       "      <td>0.001569</td>\n",
       "      <td>-0.013866</td>\n",
       "      <td>0.969491</td>\n",
       "      <td>-0.004306</td>\n",
       "      <td>-0.003343</td>\n",
       "      <td>0.001862</td>\n",
       "      <td>0.001521</td>\n",
       "      <td>-0.013443</td>\n",
       "    </tr>\n",
       "    <tr>\n",
       "      <th>2</th>\n",
       "      <td>0.000000</td>\n",
       "      <td>-0.002830</td>\n",
       "      <td>-0.001450</td>\n",
       "      <td>0.004245</td>\n",
       "      <td>-0.771546</td>\n",
       "      <td>0.004177</td>\n",
       "      <td>-0.000000</td>\n",
       "      <td>0.002183</td>\n",
       "      <td>0.001119</td>\n",
       "      <td>-0.003275</td>\n",
       "    </tr>\n",
       "    <tr>\n",
       "      <th>3</th>\n",
       "      <td>0.000000</td>\n",
       "      <td>0.000000</td>\n",
       "      <td>0.000000</td>\n",
       "      <td>0.000000</td>\n",
       "      <td>0.000000</td>\n",
       "      <td>-0.000073</td>\n",
       "      <td>0.000000</td>\n",
       "      <td>0.000000</td>\n",
       "      <td>0.000000</td>\n",
       "      <td>0.000000</td>\n",
       "    </tr>\n",
       "    <tr>\n",
       "      <th>4</th>\n",
       "      <td>-0.001338</td>\n",
       "      <td>0.005082</td>\n",
       "      <td>-0.000502</td>\n",
       "      <td>-0.010742</td>\n",
       "      <td>-0.931449</td>\n",
       "      <td>-0.007763</td>\n",
       "      <td>0.001246</td>\n",
       "      <td>-0.004734</td>\n",
       "      <td>0.000468</td>\n",
       "      <td>0.010006</td>\n",
       "    </tr>\n",
       "  </tbody>\n",
       "</table>\n",
       "</div>"
      ],
      "text/plain": [
       "   rrirpnxm_nt_0  rrirpnxm_lst15_0  rrirpnxm_lsthrx15_0  rrirpnxm_toxhr_0  \\\n",
       "0       0.000000          0.000000             0.000000          0.000000   \n",
       "1      -0.003448          0.001921             0.001569         -0.013866   \n",
       "2       0.000000         -0.002830            -0.001450          0.004245   \n",
       "3       0.000000          0.000000             0.000000          0.000000   \n",
       "4      -0.001338          0.005082            -0.000502         -0.010742   \n",
       "\n",
       "   relvol_nt_0   tonight  ('relvol_nt_0', 'rrirpnxm_nt_0')  \\\n",
       "0     0.000000 -0.000073                          0.000000   \n",
       "1     0.969491 -0.004306                         -0.003343   \n",
       "2    -0.771546  0.004177                         -0.000000   \n",
       "3     0.000000 -0.000073                          0.000000   \n",
       "4    -0.931449 -0.007763                          0.001246   \n",
       "\n",
       "   ('relvol_nt_0', 'rrirpnxm_lst15_0')  \\\n",
       "0                             0.000000   \n",
       "1                             0.001862   \n",
       "2                             0.002183   \n",
       "3                             0.000000   \n",
       "4                            -0.004734   \n",
       "\n",
       "   ('relvol_nt_0', 'rrirpnxm_lsthrx15_0')  ('relvol_nt_0', 'rrirpnxm_toxhr_0')  \n",
       "0                                0.000000                             0.000000  \n",
       "1                                0.001521                            -0.013443  \n",
       "2                                0.001119                            -0.003275  \n",
       "3                                0.000000                             0.000000  \n",
       "4                                0.000468                             0.010006  "
      ]
     },
     "execution_count": 7,
     "metadata": {},
     "output_type": "execute_result"
    }
   ],
   "source": [
    "interactingTerms_df.head()"
   ]
  },
  {
   "cell_type": "code",
   "execution_count": 8,
   "metadata": {},
   "outputs": [
    {
     "data": {
      "text/html": [
       "<div>\n",
       "<style scoped>\n",
       "    .dataframe tbody tr th:only-of-type {\n",
       "        vertical-align: middle;\n",
       "    }\n",
       "\n",
       "    .dataframe tbody tr th {\n",
       "        vertical-align: top;\n",
       "    }\n",
       "\n",
       "    .dataframe thead th {\n",
       "        text-align: right;\n",
       "    }\n",
       "</style>\n",
       "<table border=\"1\" class=\"dataframe\">\n",
       "  <thead>\n",
       "    <tr style=\"text-align: right;\">\n",
       "      <th></th>\n",
       "      <th>rrirpnxm_nt_0</th>\n",
       "      <th>rrirpnxm_lst15_0</th>\n",
       "      <th>rrirpnxm_lsthrx15_0</th>\n",
       "      <th>rrirpnxm_toxhr_0</th>\n",
       "      <th>relvol_nt_0</th>\n",
       "      <th>tonight</th>\n",
       "    </tr>\n",
       "  </thead>\n",
       "  <tbody>\n",
       "    <tr>\n",
       "      <th>0</th>\n",
       "      <td>-0.000087</td>\n",
       "      <td>0.000925</td>\n",
       "      <td>-0.000866</td>\n",
       "      <td>-0.002807</td>\n",
       "      <td>0.432604</td>\n",
       "      <td>0.014909</td>\n",
       "    </tr>\n",
       "    <tr>\n",
       "      <th>1</th>\n",
       "      <td>-0.001879</td>\n",
       "      <td>-0.000284</td>\n",
       "      <td>-0.000161</td>\n",
       "      <td>-0.000049</td>\n",
       "      <td>1.130768</td>\n",
       "      <td>-0.002456</td>\n",
       "    </tr>\n",
       "    <tr>\n",
       "      <th>2</th>\n",
       "      <td>-0.006314</td>\n",
       "      <td>0.002057</td>\n",
       "      <td>-0.003269</td>\n",
       "      <td>-0.000509</td>\n",
       "      <td>-1.257813</td>\n",
       "      <td>0.002018</td>\n",
       "    </tr>\n",
       "    <tr>\n",
       "      <th>3</th>\n",
       "      <td>0.008574</td>\n",
       "      <td>0.002091</td>\n",
       "      <td>0.003191</td>\n",
       "      <td>0.016976</td>\n",
       "      <td>0.344154</td>\n",
       "      <td>0.003111</td>\n",
       "    </tr>\n",
       "    <tr>\n",
       "      <th>4</th>\n",
       "      <td>-0.005452</td>\n",
       "      <td>-0.001565</td>\n",
       "      <td>0.004289</td>\n",
       "      <td>0.006091</td>\n",
       "      <td>-0.534876</td>\n",
       "      <td>-0.005646</td>\n",
       "    </tr>\n",
       "  </tbody>\n",
       "</table>\n",
       "</div>"
      ],
      "text/plain": [
       "   rrirpnxm_nt_0  rrirpnxm_lst15_0  rrirpnxm_lsthrx15_0  rrirpnxm_toxhr_0  \\\n",
       "0      -0.000087          0.000925            -0.000866         -0.002807   \n",
       "1      -0.001879         -0.000284            -0.000161         -0.000049   \n",
       "2      -0.006314          0.002057            -0.003269         -0.000509   \n",
       "3       0.008574          0.002091             0.003191          0.016976   \n",
       "4      -0.005452         -0.001565             0.004289          0.006091   \n",
       "\n",
       "   relvol_nt_0   tonight  \n",
       "0     0.432604  0.014909  \n",
       "1     1.130768 -0.002456  \n",
       "2    -1.257813  0.002018  \n",
       "3     0.344154  0.003111  \n",
       "4    -0.534876 -0.005646  "
      ]
     },
     "execution_count": 8,
     "metadata": {},
     "output_type": "execute_result"
    }
   ],
   "source": [
    "test_df.head()"
   ]
  },
  {
   "cell_type": "code",
   "execution_count": 32,
   "metadata": {},
   "outputs": [
    {
     "name": "stdout",
     "output_type": "stream",
     "text": [
      "[['relvol_nt_0']] missing or already been grouped!\n",
      "[['relvol_lst15_0']] missing or already been grouped!\n",
      "[['relvol_toxhr_0']] missing or already been grouped!\n",
      "[['relvol_lsthrx15_0']] missing or already been grouped!\n",
      "[['relvol_nt_0']] missing or already been grouped!\n",
      "[['relvol_lst15_0']] missing or already been grouped!\n",
      "[['relvol_toxhr_0']] missing or already been grouped!\n",
      "[['relvol_lsthrx15_0']] missing or already been grouped!\n"
     ]
    }
   ],
   "source": [
    "# rosy: making my own interacting terms\n",
    "\n",
    "col_pairs = [\n",
    "    ['relvol_nt_0', 'rrirpnxm_nt_0'],\n",
    "    [\"relvol_lst15_0\", \"rrirpnxm_lst15_0\"],\n",
    "    [\"relvol_toxhr_0\", \"rrirpnxm_toxhr_0\"],\n",
    "    [\"relvol_lsthrx15_0\", \"rrirpnxm_lsthrx15_0\"],\n",
    "]\n",
    "interaction_terms_train_df = helper.get_df_with_interaction_terms(train_df, col_pairs)\n",
    "interaction_terms_test_df = helper.get_df_with_interaction_terms(test_df, col_pairs)"
   ]
  },
  {
   "cell_type": "markdown",
   "metadata": {},
   "source": [
    "### Transform the data if needed"
   ]
  },
  {
   "cell_type": "markdown",
   "metadata": {},
   "source": [
    "#### Ordinary Least Squares"
   ]
  },
  {
   "cell_type": "code",
   "execution_count": 9,
   "metadata": {},
   "outputs": [
    {
     "data": {
      "text/plain": [
       "array([3.86475959e-02, 4.68771384e-03, 1.99013644e-03, 1.70877863e-03,\n",
       "       3.94435165e-05, 3.85589377e-05])"
      ]
     },
     "execution_count": 9,
     "metadata": {},
     "output_type": "execute_result"
    }
   ],
   "source": [
    "ols_regression_model = helper.Regression('OLS')\n",
    "model_attributes = ols_regression_model.execute(train_df, RESPONSE_NAME, test_df)\n",
    "model_attributes"
   ]
  },
  {
   "cell_type": "code",
   "execution_count": 10,
   "metadata": {},
   "outputs": [
    {
     "name": "stdout",
     "output_type": "stream",
     "text": [
      "1. Weighted Correlation:\n",
      "[[ 1.         -0.04230618]\n",
      " [-0.04230618  1.        ]]\n",
      "\n",
      "2. Weighted Mean Return:\n",
      "-8.251876590330781e-05\n",
      "\n",
      "3. Weighted Scale Factor:\n",
      "[-1.31304471]\n",
      "\n"
     ]
    }
   ],
   "source": [
    "ols_regression_model.get_metric()"
   ]
  },
  {
   "cell_type": "markdown",
   "metadata": {},
   "source": [
    "#### OLS w/ Interacting Terms"
   ]
  },
  {
   "cell_type": "code",
   "execution_count": 11,
   "metadata": {},
   "outputs": [
    {
     "name": "stdout",
     "output_type": "stream",
     "text": [
      "1. Weighted Correlation:\n",
      "[[1.         0.04006125]\n",
      " [0.04006125 1.        ]]\n",
      "\n",
      "2. Weighted Mean Return:\n",
      "0.00030635630392555457\n",
      "\n",
      "3. Weighted Scale Factor:\n",
      "[1.]\n",
      "\n"
     ]
    }
   ],
   "source": [
    "ols_interacting_model = helper.Regression('OLS')\n",
    "ols_interacting_model.execute(interactingTerms_df, RESPONSE_NAME, interactingTerms_df)\n",
    "ols_interacting_model.get_metric()"
   ]
  },
  {
   "cell_type": "markdown",
   "metadata": {},
   "source": [
    "#### LASSO"
   ]
  },
  {
   "cell_type": "code",
   "execution_count": 12,
   "metadata": {},
   "outputs": [
    {
     "name": "stdout",
     "output_type": "stream",
     "text": [
      "1. Weighted Correlation:\n",
      "[[ 1.         -0.04069795]\n",
      " [-0.04069795  1.        ]]\n",
      "\n",
      "2. Weighted Mean Return:\n",
      "-1.801176844783715e-05\n",
      "\n",
      "3. Weighted Scale Factor:\n",
      "[-1.47184094]\n",
      "\n"
     ]
    }
   ],
   "source": [
    "lasso_model = helper.Regression('LASSO')\n",
    "lasso_model.execute(train_df, RESPONSE_NAME, test_df)\n",
    "lasso_model.get_metric()"
   ]
  },
  {
   "cell_type": "markdown",
   "metadata": {},
   "source": [
    "### XGBoost\n",
    "\n"
   ]
  },
  {
   "cell_type": "code",
   "execution_count": 13,
   "metadata": {},
   "outputs": [
    {
     "name": "stderr",
     "output_type": "stream",
     "text": [
      "/opt/homebrew/lib/python3.10/site-packages/xgboost/core.py:726: FutureWarning: Pass `objective` as keyword args.\n",
      "  warnings.warn(msg, FutureWarning)\n"
     ]
    },
    {
     "name": "stdout",
     "output_type": "stream",
     "text": [
      "1. Weighted Correlation:\n",
      "[[ 1.         -0.04230619]\n",
      " [-0.04230619  1.        ]]\n",
      "\n",
      "2. Weighted Mean Return:\n",
      "-8.251876590330781e-05\n",
      "\n",
      "3. Weighted Scale Factor:\n",
      "[-1.313045]\n",
      "\n"
     ]
    },
    {
     "name": "stderr",
     "output_type": "stream",
     "text": [
      "/Library/Frameworks/Python.framework/Versions/3.11/lib/python3.11/site-packages/xgboost/core.py:726: FutureWarning: Pass `objective` as keyword args.\n",
      "  warnings.warn(msg, FutureWarning)\n"
     ]
    }
   ],
   "source": [
    "xgb_model = helper.Regression('XGboost')\n",
    "xgb_model.execute(train_df, RESPONSE_NAME, test_df)\n",
    "xgb_model.get_metric()"
   ]
  }
 ],
 "metadata": {
  "kernelspec": {
   "display_name": "Python 3",
   "language": "python",
   "name": "python3"
  },
  "language_info": {
   "codemirror_mode": {
    "name": "ipython",
    "version": 3
   },
   "file_extension": ".py",
   "mimetype": "text/x-python",
   "name": "python",
   "nbconvert_exporter": "python",
   "pygments_lexer": "ipython3",
   "version": "3.10.10"
  },
  "vscode": {
   "interpreter": {
    "hash": "b0fa6594d8f4cbf19f97940f81e996739fb7646882a419484c72d19e05852a7e"
   }
  }
 },
 "nbformat": 4,
 "nbformat_minor": 2
}
