{
 "cells": [
  {
   "cell_type": "markdown",
   "metadata": {},
   "source": [
    "### Imports"
   ]
  },
  {
   "cell_type": "code",
   "execution_count": 1,
   "metadata": {},
   "outputs": [
    {
     "name": "stdout",
     "output_type": "stream",
     "text": [
      "Requirement already satisfied: absl-py==1.4.0 in /Library/Frameworks/Python.framework/Versions/3.11/lib/python3.11/site-packages (from -r dependencies.txt (line 1)) (1.4.0)\n",
      "Requirement already satisfied: appnope==0.1.3 in /Users/clinic/Library/Python/3.11/lib/python/site-packages (from -r dependencies.txt (line 2)) (0.1.3)\n",
      "Requirement already satisfied: asttokens==2.2.1 in /Library/Frameworks/Python.framework/Versions/3.11/lib/python3.11/site-packages (from -r dependencies.txt (line 3)) (2.2.1)\n",
      "Requirement already satisfied: astunparse==1.6.3 in /Library/Frameworks/Python.framework/Versions/3.11/lib/python3.11/site-packages (from -r dependencies.txt (line 4)) (1.6.3)\n",
      "Requirement already satisfied: attrs==23.1.0 in /Library/Frameworks/Python.framework/Versions/3.11/lib/python3.11/site-packages (from -r dependencies.txt (line 5)) (23.1.0)\n",
      "Requirement already satisfied: backcall==0.2.0 in /Users/clinic/Library/Python/3.11/lib/python/site-packages (from -r dependencies.txt (line 6)) (0.2.0)\n",
      "Requirement already satisfied: certifi==2023.5.7 in /Library/Frameworks/Python.framework/Versions/3.11/lib/python3.11/site-packages (from -r dependencies.txt (line 7)) (2023.5.7)\n",
      "Requirement already satisfied: chardet==5.2.0 in /Library/Frameworks/Python.framework/Versions/3.11/lib/python3.11/site-packages (from -r dependencies.txt (line 8)) (5.2.0)\n",
      "Requirement already satisfied: charset-normalizer==3.2.0 in /Library/Frameworks/Python.framework/Versions/3.11/lib/python3.11/site-packages (from -r dependencies.txt (line 9)) (3.2.0)\n",
      "Requirement already satisfied: click==8.1.3 in /Library/Frameworks/Python.framework/Versions/3.11/lib/python3.11/site-packages (from -r dependencies.txt (line 10)) (8.1.3)\n",
      "Requirement already satisfied: click-plugins==1.1.1 in /Library/Frameworks/Python.framework/Versions/3.11/lib/python3.11/site-packages (from -r dependencies.txt (line 11)) (1.1.1)\n",
      "Requirement already satisfied: cligj==0.7.2 in /Library/Frameworks/Python.framework/Versions/3.11/lib/python3.11/site-packages (from -r dependencies.txt (line 12)) (0.7.2)\n",
      "Requirement already satisfied: comm==0.1.3 in /Library/Frameworks/Python.framework/Versions/3.11/lib/python3.11/site-packages (from -r dependencies.txt (line 13)) (0.1.3)\n",
      "Requirement already satisfied: contourpy==1.1.0 in /Library/Frameworks/Python.framework/Versions/3.11/lib/python3.11/site-packages (from -r dependencies.txt (line 14)) (1.1.0)\n",
      "Requirement already satisfied: cycler==0.11.0 in /Library/Frameworks/Python.framework/Versions/3.11/lib/python3.11/site-packages (from -r dependencies.txt (line 15)) (0.11.0)\n",
      "Requirement already satisfied: debugpy==1.6.7 in /Library/Frameworks/Python.framework/Versions/3.11/lib/python3.11/site-packages (from -r dependencies.txt (line 16)) (1.6.7)\n",
      "Requirement already satisfied: decorator==5.1.1 in /Users/clinic/Library/Python/3.11/lib/python/site-packages (from -r dependencies.txt (line 17)) (5.1.1)\n",
      "Requirement already satisfied: executing==1.2.0 in /Users/clinic/Library/Python/3.11/lib/python/site-packages (from -r dependencies.txt (line 18)) (1.2.0)\n",
      "Requirement already satisfied: Fiona==1.9.4.post1 in /Library/Frameworks/Python.framework/Versions/3.11/lib/python3.11/site-packages (from -r dependencies.txt (line 19)) (1.9.4.post1)\n",
      "Requirement already satisfied: fonttools==4.40.0 in /Library/Frameworks/Python.framework/Versions/3.11/lib/python3.11/site-packages (from -r dependencies.txt (line 20)) (4.40.0)\n",
      "Requirement already satisfied: geopandas==0.13.2 in /Library/Frameworks/Python.framework/Versions/3.11/lib/python3.11/site-packages (from -r dependencies.txt (line 21)) (0.13.2)\n",
      "Requirement already satisfied: idna==3.4 in /Library/Frameworks/Python.framework/Versions/3.11/lib/python3.11/site-packages (from -r dependencies.txt (line 22)) (3.4)\n",
      "Requirement already satisfied: ipykernel==6.23.3 in /Library/Frameworks/Python.framework/Versions/3.11/lib/python3.11/site-packages (from -r dependencies.txt (line 23)) (6.23.3)\n",
      "Requirement already satisfied: ipython==8.14.0 in /Library/Frameworks/Python.framework/Versions/3.11/lib/python3.11/site-packages (from -r dependencies.txt (line 24)) (8.14.0)\n",
      "Requirement already satisfied: jedi==0.18.2 in /Library/Frameworks/Python.framework/Versions/3.11/lib/python3.11/site-packages (from -r dependencies.txt (line 25)) (0.18.2)\n",
      "Requirement already satisfied: joblib==1.3.2 in /Library/Frameworks/Python.framework/Versions/3.11/lib/python3.11/site-packages (from -r dependencies.txt (line 26)) (1.3.2)\n",
      "Requirement already satisfied: jupyter_client==8.3.0 in /Library/Frameworks/Python.framework/Versions/3.11/lib/python3.11/site-packages (from -r dependencies.txt (line 27)) (8.3.0)\n",
      "Requirement already satisfied: jupyter_core==5.3.1 in /Users/clinic/Library/Python/3.11/lib/python/site-packages (from -r dependencies.txt (line 28)) (5.3.1)\n",
      "Requirement already satisfied: kiwisolver==1.4.4 in /Library/Frameworks/Python.framework/Versions/3.11/lib/python3.11/site-packages (from -r dependencies.txt (line 29)) (1.4.4)\n",
      "Requirement already satisfied: matplotlib==3.7.2 in /Library/Frameworks/Python.framework/Versions/3.11/lib/python3.11/site-packages (from -r dependencies.txt (line 30)) (3.7.2)\n",
      "Requirement already satisfied: matplotlib-inline==0.1.6 in /Users/clinic/Library/Python/3.11/lib/python/site-packages (from -r dependencies.txt (line 31)) (0.1.6)\n",
      "Requirement already satisfied: nest-asyncio==1.5.6 in /Library/Frameworks/Python.framework/Versions/3.11/lib/python3.11/site-packages (from -r dependencies.txt (line 32)) (1.5.6)\n",
      "Requirement already satisfied: numpy==1.25.0 in /Library/Frameworks/Python.framework/Versions/3.11/lib/python3.11/site-packages (from -r dependencies.txt (line 33)) (1.25.0)\n",
      "Requirement already satisfied: ortools==9.7.2996 in /Library/Frameworks/Python.framework/Versions/3.11/lib/python3.11/site-packages (from -r dependencies.txt (line 34)) (9.7.2996)\n",
      "Requirement already satisfied: packaging==23.1 in /Library/Frameworks/Python.framework/Versions/3.11/lib/python3.11/site-packages (from -r dependencies.txt (line 35)) (23.1)\n",
      "Requirement already satisfied: pandas==2.0.2 in /Library/Frameworks/Python.framework/Versions/3.11/lib/python3.11/site-packages (from -r dependencies.txt (line 36)) (2.0.2)\n",
      "Requirement already satisfied: parso==0.8.3 in /Users/clinic/Library/Python/3.11/lib/python/site-packages (from -r dependencies.txt (line 37)) (0.8.3)\n",
      "Requirement already satisfied: patsy==0.5.3 in /Library/Frameworks/Python.framework/Versions/3.11/lib/python3.11/site-packages (from -r dependencies.txt (line 38)) (0.5.3)\n",
      "Requirement already satisfied: pexpect==4.8.0 in /Users/clinic/Library/Python/3.11/lib/python/site-packages (from -r dependencies.txt (line 39)) (4.8.0)\n",
      "Requirement already satisfied: pickleshare==0.7.5 in /Users/clinic/Library/Python/3.11/lib/python/site-packages (from -r dependencies.txt (line 40)) (0.7.5)\n",
      "Requirement already satisfied: Pillow==10.0.0 in /Library/Frameworks/Python.framework/Versions/3.11/lib/python3.11/site-packages (from -r dependencies.txt (line 41)) (10.0.0)\n",
      "Requirement already satisfied: platformdirs==3.8.0 in /Library/Frameworks/Python.framework/Versions/3.11/lib/python3.11/site-packages (from -r dependencies.txt (line 42)) (3.8.0)\n",
      "Requirement already satisfied: prompt-toolkit==3.0.38 in /Library/Frameworks/Python.framework/Versions/3.11/lib/python3.11/site-packages (from -r dependencies.txt (line 43)) (3.0.38)\n",
      "Requirement already satisfied: protobuf==4.23.4 in /Library/Frameworks/Python.framework/Versions/3.11/lib/python3.11/site-packages (from -r dependencies.txt (line 44)) (4.23.4)\n",
      "Requirement already satisfied: psutil==5.9.5 in /Users/clinic/Library/Python/3.11/lib/python/site-packages (from -r dependencies.txt (line 45)) (5.9.5)\n",
      "Requirement already satisfied: ptyprocess==0.7.0 in /Users/clinic/Library/Python/3.11/lib/python/site-packages (from -r dependencies.txt (line 46)) (0.7.0)\n",
      "Requirement already satisfied: pure-eval==0.2.2 in /Users/clinic/Library/Python/3.11/lib/python/site-packages (from -r dependencies.txt (line 47)) (0.2.2)\n",
      "Requirement already satisfied: pyflowchart==0.3.1 in /Library/Frameworks/Python.framework/Versions/3.11/lib/python3.11/site-packages (from -r dependencies.txt (line 48)) (0.3.1)\n",
      "Requirement already satisfied: Pygments==2.15.1 in /Library/Frameworks/Python.framework/Versions/3.11/lib/python3.11/site-packages (from -r dependencies.txt (line 49)) (2.15.1)\n",
      "Requirement already satisfied: pyparsing==3.0.9 in /Library/Frameworks/Python.framework/Versions/3.11/lib/python3.11/site-packages (from -r dependencies.txt (line 50)) (3.0.9)\n",
      "Requirement already satisfied: pyproj==3.6.0 in /Library/Frameworks/Python.framework/Versions/3.11/lib/python3.11/site-packages (from -r dependencies.txt (line 51)) (3.6.0)\n",
      "Requirement already satisfied: python-dateutil==2.8.2 in /Library/Frameworks/Python.framework/Versions/3.11/lib/python3.11/site-packages (from -r dependencies.txt (line 52)) (2.8.2)\n",
      "Requirement already satisfied: pytz==2023.3 in /Library/Frameworks/Python.framework/Versions/3.11/lib/python3.11/site-packages (from -r dependencies.txt (line 53)) (2023.3)\n",
      "Requirement already satisfied: pyzmq==25.1.0 in /Library/Frameworks/Python.framework/Versions/3.11/lib/python3.11/site-packages (from -r dependencies.txt (line 54)) (25.1.0)\n",
      "Requirement already satisfied: requests==2.31.0 in /Library/Frameworks/Python.framework/Versions/3.11/lib/python3.11/site-packages (from -r dependencies.txt (line 55)) (2.31.0)\n",
      "Requirement already satisfied: scikit-learn==1.3.0 in /Library/Frameworks/Python.framework/Versions/3.11/lib/python3.11/site-packages (from -r dependencies.txt (line 56)) (1.3.0)\n",
      "Requirement already satisfied: scipy==1.11.1 in /Library/Frameworks/Python.framework/Versions/3.11/lib/python3.11/site-packages (from -r dependencies.txt (line 57)) (1.11.1)\n",
      "Requirement already satisfied: shapely==2.0.1 in /Library/Frameworks/Python.framework/Versions/3.11/lib/python3.11/site-packages (from -r dependencies.txt (line 58)) (2.0.1)\n",
      "Requirement already satisfied: six==1.16.0 in /Library/Frameworks/Python.framework/Versions/3.11/lib/python3.11/site-packages (from -r dependencies.txt (line 59)) (1.16.0)\n",
      "Requirement already satisfied: sklearn==0.0.post9 in /Library/Frameworks/Python.framework/Versions/3.11/lib/python3.11/site-packages (from -r dependencies.txt (line 60)) (0.0.post9)\n",
      "Requirement already satisfied: stack-data==0.6.2 in /Users/clinic/Library/Python/3.11/lib/python/site-packages (from -r dependencies.txt (line 61)) (0.6.2)\n",
      "Requirement already satisfied: statsmodels==0.14.0 in /Library/Frameworks/Python.framework/Versions/3.11/lib/python3.11/site-packages (from -r dependencies.txt (line 62)) (0.14.0)\n",
      "Requirement already satisfied: threadpoolctl==3.2.0 in /Library/Frameworks/Python.framework/Versions/3.11/lib/python3.11/site-packages (from -r dependencies.txt (line 63)) (3.2.0)\n",
      "Requirement already satisfied: tornado==6.3.2 in /Library/Frameworks/Python.framework/Versions/3.11/lib/python3.11/site-packages (from -r dependencies.txt (line 64)) (6.3.2)\n",
      "Requirement already satisfied: traitlets==5.9.0 in /Library/Frameworks/Python.framework/Versions/3.11/lib/python3.11/site-packages (from -r dependencies.txt (line 65)) (5.9.0)\n",
      "Requirement already satisfied: tzdata==2023.3 in /Library/Frameworks/Python.framework/Versions/3.11/lib/python3.11/site-packages (from -r dependencies.txt (line 66)) (2023.3)\n",
      "Requirement already satisfied: urllib3==2.0.5 in /Library/Frameworks/Python.framework/Versions/3.11/lib/python3.11/site-packages (from -r dependencies.txt (line 67)) (2.0.5)\n",
      "Requirement already satisfied: wcwidth==0.2.6 in /Users/clinic/Library/Python/3.11/lib/python/site-packages (from -r dependencies.txt (line 68)) (0.2.6)\n",
      "Requirement already satisfied: wheel<1.0,>=0.23.0 in /Library/Frameworks/Python.framework/Versions/3.11/lib/python3.11/site-packages (from astunparse==1.6.3->-r dependencies.txt (line 4)) (0.41.2)\n",
      "\n",
      "\u001b[1m[\u001b[0m\u001b[34;49mnotice\u001b[0m\u001b[1;39;49m]\u001b[0m\u001b[39;49m A new release of pip is available: \u001b[0m\u001b[31;49m23.2.1\u001b[0m\u001b[39;49m -> \u001b[0m\u001b[32;49m23.3.1\u001b[0m\n",
      "\u001b[1m[\u001b[0m\u001b[34;49mnotice\u001b[0m\u001b[1;39;49m]\u001b[0m\u001b[39;49m To update, run: \u001b[0m\u001b[32;49mpip3 install --upgrade pip\u001b[0m\n",
      "Note: you may need to restart the kernel to use updated packages.\n"
     ]
    }
   ],
   "source": [
    "%pip install -r dependencies.txt"
   ]
  },
  {
   "cell_type": "code",
   "execution_count": 2,
   "metadata": {},
   "outputs": [
    {
     "data": {
      "text/plain": [
       "<module 'helper' from '/Users/clinic/Documents/Clinic/code/helper.py'>"
      ]
     },
     "execution_count": 2,
     "metadata": {},
     "output_type": "execute_result"
    }
   ],
   "source": [
    "import pandas as pd\n",
    "import numpy as np\n",
    "import sklearn\n",
    "import matplotlib.pyplot as plt\n",
    "import requests\n",
    "import scipy\n",
    "import importlib\n",
    "import helper, consts\n",
    "importlib.reload(consts)\n",
    "importlib.reload(helper)"
   ]
  },
  {
   "cell_type": "markdown",
   "metadata": {},
   "source": [
    "### CONSTANTS"
   ]
  },
  {
   "cell_type": "code",
   "execution_count": 3,
   "metadata": {},
   "outputs": [],
   "source": [
    "ROW = consts.ROW\n",
    "COL = consts.COL\n",
    "CLEANED_DATA_PATH = consts.CLEANED_DATA_PATH\n",
    "RESPONSE_NAME = consts.RESPONSE_NAME\n",
    "\n",
    "TRAIN_FILE = \"training_data.csv\"\n",
    "TEST_FILE = \"testing_data.csv\""
   ]
  },
  {
   "cell_type": "code",
   "execution_count": 4,
   "metadata": {},
   "outputs": [
    {
     "name": "stdout",
     "output_type": "stream",
     "text": [
      "1: OLS\n",
      "2: LASSO\n",
      "3: XGB\n"
     ]
    }
   ],
   "source": [
    "REGRESSION_TYPES = helper.Regression('OLS').list_all_regression_types()\n",
    "REGRESSION_TYPES"
   ]
  },
  {
   "cell_type": "markdown",
   "metadata": {},
   "source": [
    "### Read data"
   ]
  },
  {
   "cell_type": "code",
   "execution_count": 5,
   "metadata": {},
   "outputs": [],
   "source": [
    "train_df = pd.read_csv(CLEANED_DATA_PATH + TRAIN_FILE)\n",
    "test_df = pd.read_csv(CLEANED_DATA_PATH + TEST_FILE)"
   ]
  },
  {
   "cell_type": "code",
   "execution_count": 6,
   "metadata": {},
   "outputs": [
    {
     "data": {
      "text/html": [
       "<div>\n",
       "<style scoped>\n",
       "    .dataframe tbody tr th:only-of-type {\n",
       "        vertical-align: middle;\n",
       "    }\n",
       "\n",
       "    .dataframe tbody tr th {\n",
       "        vertical-align: top;\n",
       "    }\n",
       "\n",
       "    .dataframe thead th {\n",
       "        text-align: right;\n",
       "    }\n",
       "</style>\n",
       "<table border=\"1\" class=\"dataframe\">\n",
       "  <thead>\n",
       "    <tr style=\"text-align: right;\">\n",
       "      <th></th>\n",
       "      <th>wt</th>\n",
       "      <th>today</th>\n",
       "      <th>tonight</th>\n",
       "      <th>tmwam</th>\n",
       "      <th>dn3sttmwmd</th>\n",
       "      <th>dn1</th>\n",
       "      <th>dn4x1</th>\n",
       "      <th>cftorrrelstd_open_0</th>\n",
       "      <th>liqlog_open_0</th>\n",
       "      <th>llirpnxm_am_1</th>\n",
       "      <th>...</th>\n",
       "      <th>tr_md_1</th>\n",
       "      <th>tr_nt_0</th>\n",
       "      <th>tr_nt_1</th>\n",
       "      <th>tr_nt_12to16</th>\n",
       "      <th>tr_nt_17to21</th>\n",
       "      <th>tr_nt_1to3</th>\n",
       "      <th>tr_nt_4to6</th>\n",
       "      <th>tr_nt_7to11</th>\n",
       "      <th>tr_toxhr_0</th>\n",
       "      <th>rrirpnxm_nt_0</th>\n",
       "    </tr>\n",
       "  </thead>\n",
       "  <tbody>\n",
       "    <tr>\n",
       "      <th>0</th>\n",
       "      <td>0.000594</td>\n",
       "      <td>-0.016720</td>\n",
       "      <td>-0.015436</td>\n",
       "      <td>-0.002487</td>\n",
       "      <td>0.011511</td>\n",
       "      <td>-0.038052</td>\n",
       "      <td>0.025530</td>\n",
       "      <td>0.231635</td>\n",
       "      <td>-0.065247</td>\n",
       "      <td>0.002597</td>\n",
       "      <td>...</td>\n",
       "      <td>0.0</td>\n",
       "      <td>0.0</td>\n",
       "      <td>0.0</td>\n",
       "      <td>0.0</td>\n",
       "      <td>0.000000</td>\n",
       "      <td>0.0</td>\n",
       "      <td>0.0</td>\n",
       "      <td>0.000000</td>\n",
       "      <td>0.0</td>\n",
       "      <td>0.015402</td>\n",
       "    </tr>\n",
       "    <tr>\n",
       "      <th>1</th>\n",
       "      <td>0.001446</td>\n",
       "      <td>0.001475</td>\n",
       "      <td>-0.007683</td>\n",
       "      <td>-0.001346</td>\n",
       "      <td>0.027832</td>\n",
       "      <td>-0.006712</td>\n",
       "      <td>0.029269</td>\n",
       "      <td>-0.482915</td>\n",
       "      <td>1.571073</td>\n",
       "      <td>-0.000055</td>\n",
       "      <td>...</td>\n",
       "      <td>0.0</td>\n",
       "      <td>0.0</td>\n",
       "      <td>0.0</td>\n",
       "      <td>0.0</td>\n",
       "      <td>0.000000</td>\n",
       "      <td>0.0</td>\n",
       "      <td>0.0</td>\n",
       "      <td>0.000000</td>\n",
       "      <td>0.0</td>\n",
       "      <td>0.005125</td>\n",
       "    </tr>\n",
       "    <tr>\n",
       "      <th>2</th>\n",
       "      <td>0.000069</td>\n",
       "      <td>-0.019774</td>\n",
       "      <td>-0.013203</td>\n",
       "      <td>-0.003210</td>\n",
       "      <td>-0.001507</td>\n",
       "      <td>-0.040861</td>\n",
       "      <td>0.005203</td>\n",
       "      <td>0.165615</td>\n",
       "      <td>-2.223915</td>\n",
       "      <td>0.000659</td>\n",
       "      <td>...</td>\n",
       "      <td>0.0</td>\n",
       "      <td>0.0</td>\n",
       "      <td>0.0</td>\n",
       "      <td>0.0</td>\n",
       "      <td>0.000000</td>\n",
       "      <td>0.0</td>\n",
       "      <td>0.0</td>\n",
       "      <td>0.000000</td>\n",
       "      <td>0.0</td>\n",
       "      <td>-0.006332</td>\n",
       "    </tr>\n",
       "    <tr>\n",
       "      <th>3</th>\n",
       "      <td>0.000120</td>\n",
       "      <td>-0.000934</td>\n",
       "      <td>-0.002772</td>\n",
       "      <td>-0.000651</td>\n",
       "      <td>0.005818</td>\n",
       "      <td>-0.004393</td>\n",
       "      <td>0.006443</td>\n",
       "      <td>-1.229984</td>\n",
       "      <td>-1.670970</td>\n",
       "      <td>-0.000372</td>\n",
       "      <td>...</td>\n",
       "      <td>0.0</td>\n",
       "      <td>0.0</td>\n",
       "      <td>0.0</td>\n",
       "      <td>0.0</td>\n",
       "      <td>0.000000</td>\n",
       "      <td>0.0</td>\n",
       "      <td>0.0</td>\n",
       "      <td>0.000000</td>\n",
       "      <td>0.0</td>\n",
       "      <td>0.001978</td>\n",
       "    </tr>\n",
       "    <tr>\n",
       "      <th>4</th>\n",
       "      <td>0.000892</td>\n",
       "      <td>0.004249</td>\n",
       "      <td>0.002662</td>\n",
       "      <td>-0.000931</td>\n",
       "      <td>-0.034163</td>\n",
       "      <td>0.007955</td>\n",
       "      <td>-0.037853</td>\n",
       "      <td>-1.326470</td>\n",
       "      <td>0.342333</td>\n",
       "      <td>-0.000857</td>\n",
       "      <td>...</td>\n",
       "      <td>0.0</td>\n",
       "      <td>0.0</td>\n",
       "      <td>0.0</td>\n",
       "      <td>0.0</td>\n",
       "      <td>0.012116</td>\n",
       "      <td>0.0</td>\n",
       "      <td>0.0</td>\n",
       "      <td>-0.055974</td>\n",
       "      <td>0.0</td>\n",
       "      <td>0.003413</td>\n",
       "    </tr>\n",
       "  </tbody>\n",
       "</table>\n",
       "<p>5 rows × 235 columns</p>\n",
       "</div>"
      ],
      "text/plain": [
       "         wt     today   tonight     tmwam  dn3sttmwmd       dn1     dn4x1  \\\n",
       "0  0.000594 -0.016720 -0.015436 -0.002487    0.011511 -0.038052  0.025530   \n",
       "1  0.001446  0.001475 -0.007683 -0.001346    0.027832 -0.006712  0.029269   \n",
       "2  0.000069 -0.019774 -0.013203 -0.003210   -0.001507 -0.040861  0.005203   \n",
       "3  0.000120 -0.000934 -0.002772 -0.000651    0.005818 -0.004393  0.006443   \n",
       "4  0.000892  0.004249  0.002662 -0.000931   -0.034163  0.007955 -0.037853   \n",
       "\n",
       "   cftorrrelstd_open_0  liqlog_open_0  llirpnxm_am_1  ...  tr_md_1  tr_nt_0  \\\n",
       "0             0.231635      -0.065247       0.002597  ...      0.0      0.0   \n",
       "1            -0.482915       1.571073      -0.000055  ...      0.0      0.0   \n",
       "2             0.165615      -2.223915       0.000659  ...      0.0      0.0   \n",
       "3            -1.229984      -1.670970      -0.000372  ...      0.0      0.0   \n",
       "4            -1.326470       0.342333      -0.000857  ...      0.0      0.0   \n",
       "\n",
       "   tr_nt_1  tr_nt_12to16  tr_nt_17to21  tr_nt_1to3  tr_nt_4to6  tr_nt_7to11  \\\n",
       "0      0.0           0.0      0.000000         0.0         0.0     0.000000   \n",
       "1      0.0           0.0      0.000000         0.0         0.0     0.000000   \n",
       "2      0.0           0.0      0.000000         0.0         0.0     0.000000   \n",
       "3      0.0           0.0      0.000000         0.0         0.0     0.000000   \n",
       "4      0.0           0.0      0.012116         0.0         0.0    -0.055974   \n",
       "\n",
       "   tr_toxhr_0  rrirpnxm_nt_0  \n",
       "0         0.0       0.015402  \n",
       "1         0.0       0.005125  \n",
       "2         0.0      -0.006332  \n",
       "3         0.0       0.001978  \n",
       "4         0.0       0.003413  \n",
       "\n",
       "[5 rows x 235 columns]"
      ]
     },
     "execution_count": 6,
     "metadata": {},
     "output_type": "execute_result"
    }
   ],
   "source": [
    "train_df.head()"
   ]
  },
  {
   "cell_type": "markdown",
   "metadata": {},
   "source": [
    "### Interaction Terms"
   ]
  },
  {
   "cell_type": "code",
   "execution_count": 15,
   "metadata": {},
   "outputs": [
    {
     "name": "stdout",
     "output_type": "stream",
     "text": [
      "[['relvol_lsthrx15_0']] missing or already been grouped!\n",
      "[['rvdelta_pm_1']] missing or already been grouped!\n",
      "[['rvdelta_nt_1']] missing or already been grouped!\n",
      "[['rvdelta_nt_1to3']] missing or already been grouped!\n",
      "[['rvdelta_dy_4to6']] missing or already been grouped!\n",
      "[['rvdelta_nt_4to6']] missing or already been grouped!\n",
      "[['rvdelta_nt_7to11']] missing or already been grouped!\n",
      "[['rvdelta_nt_12to16']] missing or already been grouped!\n",
      "[['rvdelta_nt_17to21']] missing or already been grouped!\n",
      "[['relvol_lsthrx15_0']] missing or already been grouped!\n",
      "[['rvdelta_pm_1']] missing or already been grouped!\n",
      "[['rvdelta_nt_1']] missing or already been grouped!\n",
      "[['rvdelta_nt_1to3']] missing or already been grouped!\n",
      "[['rvdelta_dy_4to6']] missing or already been grouped!\n",
      "[['rvdelta_nt_4to6']] missing or already been grouped!\n",
      "[['rvdelta_nt_7to11']] missing or already been grouped!\n",
      "[['rvdelta_nt_12to16']] missing or already been grouped!\n",
      "[['rvdelta_nt_17to21']] missing or already been grouped!\n"
     ]
    }
   ],
   "source": [
    "col_pairs = [\n",
    "    ['relvol_lsthrx15_0', 'rrirpnxm_lst15_0', 'flsdfkjslfjsldfjsldfj'],\n",
    "    [\"rvdelta_toxhr_0\", \"rrirpnxm_toxhr_0\"],\n",
    "    [\"rvdelta_am_1\", \"rrirpnxm_am_1\"],\n",
    "    [\"rvdelta_md_1\", \"rrirpnxm_md_1\"],\n",
    "    [\"rvdelta_pm_1\", \"rrirpnxm_pm_1\"],\n",
    "    [\"rvdelta_nt_1\", \"rrirpnxm_nt_1\"],\n",
    "    [\"rvdelta_dy_1to3\", \"rrirpnxm_dy_1to3\"],\n",
    "    [\"rvdelta_nt_1to3\", \"rrirpnxm_1to3\"],\n",
    "    [\"rvdelta_dy_4to6\", \"rrirpnxm_4to6\"],\n",
    "    [\"rvdelta_nt_4to6\", \"rrirpnxm_nt_4to6\"],\n",
    "    [\"rvdelta_dy_7to11\", \"rrirpnxm_dy_7to11\"],\n",
    "    [\"rvdelta_nt_7to11\", \"rrirpnxm_nt_7to11\"],\n",
    "    [\"rvdelta_dy_12to16\", \"rrirpnxm_dy_12to16\"],\n",
    "    [\"rvdelta_nt_12to16\", \"rrirpnxm_nt_12to16\"],\n",
    "    [\"rvdelta_dy_17to21\", \"rrirpnxm_dy_17to21\"],\n",
    "    [\"rvdelta_nt_17to21\", \"rrirpnxm_nt_17to21\"]\n",
    "]\n",
    "interaction_terms_train_df = helper.get_df_with_interaction_terms(train_df, col_pairs)\n",
    "interaction_terms_test_df = helper.get_df_with_interaction_terms(test_df, col_pairs)"
   ]
  },
  {
   "cell_type": "markdown",
   "metadata": {},
   "source": [
    "### Transform the data if needed"
   ]
  },
  {
   "cell_type": "markdown",
   "metadata": {},
   "source": [
    "### Run regressions"
   ]
  },
  {
   "cell_type": "markdown",
   "metadata": {},
   "source": [
    "#### Ordinary Least Squares"
   ]
  },
  {
   "cell_type": "code",
   "execution_count": 8,
   "metadata": {},
   "outputs": [
    {
     "data": {
      "text/plain": [
       "array([ 8.98398644e-01, -1.41553194e-02,  4.75849747e-03, -1.89818116e-02,\n",
       "       -2.79251550e-02, -6.83896793e-03,  2.92836438e-02,  3.00144034e-04,\n",
       "       -3.42392038e-04, -1.35224361e-01,  1.25140031e-02,  9.04946771e-03,\n",
       "       -4.37903525e-02, -4.00993623e-02, -5.24000562e-04,  1.67262345e-01,\n",
       "        2.64801316e-01,  2.37708240e-01,  1.39049324e+00, -1.16287146e-01,\n",
       "       -7.10573558e-03,  3.20561818e-02,  8.72334414e-02,  4.95293313e-02,\n",
       "       -5.67269378e-02,  1.38687981e-02,  2.15864964e-04, -1.90661792e-05,\n",
       "        8.76847132e-06, -6.91134061e-05, -1.52484256e-05, -2.90190211e-05,\n",
       "       -1.53536623e-04,  4.90236493e-06,  1.20645219e-04, -1.43783880e-06,\n",
       "       -6.06338300e-06,  5.33123824e-05,  1.71898941e-04, -1.81140725e-05,\n",
       "        4.08721746e-03, -5.69108777e-03, -4.04931808e-03, -4.65933688e-03,\n",
       "       -7.29766619e-03, -3.97313407e-03, -1.49425444e-02, -2.20696623e-02,\n",
       "        6.44385918e-02,  2.47113051e-01, -2.37536449e-02,  3.94236903e-03,\n",
       "       -8.53573206e-04,  2.17006504e-02,  3.05542559e-03,  2.31715930e-03,\n",
       "       -6.22292133e-02,  5.16708644e-03,  8.68981325e-06, -6.04106833e-05,\n",
       "       -1.97612635e-05, -3.93637238e-05, -6.70266170e-05,  5.06913593e-05,\n",
       "       -1.42984858e-04,  2.98419141e-05, -1.32667150e-04,  3.43851365e-04,\n",
       "        9.95548802e-05,  1.65655346e-05,  3.69969437e-05, -1.18252065e-05,\n",
       "        1.28997351e-05, -1.10740767e-05, -5.59586376e-05,  6.14341802e-03,\n",
       "       -1.76513818e-02,  1.21640488e-02,  1.87593856e-02,  7.22431374e-03,\n",
       "       -6.23282639e-03,  8.13744284e-02, -5.42757507e-03, -7.17516159e-02,\n",
       "       -1.59099985e-02, -1.72973550e-02,  6.82998012e-04, -4.07918380e-03,\n",
       "        2.11826060e-02,  2.77098589e-02, -9.83038316e-03,  1.91709463e-02,\n",
       "       -6.72465327e-02,  1.69952608e-05,  5.07042058e-05, -5.95662533e-06,\n",
       "        4.64573239e-05,  9.24599843e-06,  3.54329907e-06, -1.17684699e-04,\n",
       "        2.12774890e-04, -5.09899742e-05,  2.35368626e-04, -2.42767136e-04,\n",
       "        5.40016231e-05,  3.24560365e-05,  1.03415987e-04,  9.72179440e-05,\n",
       "       -4.73578628e-05,  1.59311487e-04, -1.18601521e-08,  4.66907793e-09,\n",
       "        2.00974716e-08,  1.79132742e-08, -5.36494292e-05, -9.50174612e-05,\n",
       "       -1.87234343e-05, -3.36652393e-05,  5.87266383e-05, -1.51524994e-05,\n",
       "       -9.47436554e-05, -1.04713548e-04, -6.58446377e-05,  1.43571265e-04,\n",
       "        1.81212288e-04,  5.19700334e-05, -9.73870066e-06, -1.02856396e-04,\n",
       "       -1.58321308e-05,  3.74836348e-05,  1.43028081e-04, -1.50486662e-04,\n",
       "       -7.58452851e-05,  2.20128037e-06, -9.14480404e-06,  8.25791155e-05,\n",
       "        1.68402904e-05, -1.24057779e-04, -1.81556178e-04,  7.64538919e-05,\n",
       "       -4.25578244e-06, -1.95271596e-04, -7.70561467e-05,  1.64380237e-04,\n",
       "       -1.92895595e-04,  1.96707840e-04,  6.04627063e-04,  7.19060826e-05,\n",
       "       -8.73554893e-04, -5.63596560e-05, -4.77010224e-05,  3.09664732e-04,\n",
       "       -4.99052689e-04,  2.41584276e-04, -1.56987074e-04, -2.74813674e+02,\n",
       "       -2.12011634e+01, -1.26302606e+01,  7.74946322e+01, -9.03867846e+01,\n",
       "        2.72767756e+00,  8.88345142e-04,  1.43862440e+02,  1.26132869e+02,\n",
       "       -4.68828233e+01,  1.48682618e+02,  2.12011966e+01,  1.26302891e+01,\n",
       "       -7.74948432e+01,  9.03867090e+01, -2.72765001e+00, -9.69804007e+01,\n",
       "       -1.59799548e-02, -3.16933917e-03,  2.60882194e-03,  1.18765249e-02,\n",
       "        1.50246358e-02,  2.90662427e-03, -7.02074993e-02,  6.42195196e-03,\n",
       "       -1.73435928e-01,  1.17213832e-02,  1.08544393e-02, -4.26020911e-03,\n",
       "       -2.70690082e-02, -1.74531220e-02,  1.20948584e-02, -3.04498430e-03,\n",
       "       -1.33597656e-04,  2.34360306e-05, -1.21505275e-05,  6.32092400e-05,\n",
       "        4.65041206e-05, -5.18297974e-05,  9.74309105e-05,  3.03517789e-05,\n",
       "       -5.30395932e-05, -5.50475166e-04, -9.53968152e-05,  5.31330340e-05,\n",
       "       -2.19404653e-05, -9.38582913e-06, -7.52133488e-06, -5.15736451e-05,\n",
       "       -1.58590861e-04,  1.48682308e+02,  2.12011242e+01,  1.26302622e+01,\n",
       "       -7.74947412e+01,  9.03867798e+01, -2.72761343e+00, -1.13064488e-03,\n",
       "       -1.43862820e+02, -1.26132024e+02,  1.14795769e-03, -4.68829477e+01,\n",
       "        9.72863732e-05, -2.40327330e-01, -4.03520008e-03,  1.14253023e-02,\n",
       "       -2.28949806e-02,  2.40878351e-03,  2.59170143e-02, -1.65380674e-01,\n",
       "       -1.98308465e-01, -8.14058771e-02,  7.18077571e-01,  1.25228328e-01,\n",
       "       -7.27844957e-03, -2.98563915e-03, -4.28599433e-02, -1.67906402e-02,\n",
       "        1.70891548e-02, -1.28189635e-01, -7.82391865e-04])"
      ]
     },
     "execution_count": 8,
     "metadata": {},
     "output_type": "execute_result"
    }
   ],
   "source": [
    "ols_regression_model = helper.Regression('OLS')\n",
    "model_attributes = ols_regression_model.execute(train_df, RESPONSE_NAME, test_df)\n",
    "model_attributes"
   ]
  },
  {
   "cell_type": "code",
   "execution_count": 9,
   "metadata": {},
   "outputs": [
    {
     "name": "stdout",
     "output_type": "stream",
     "text": [
      "1. Weighted Correlation:\n",
      "[[1.         0.72854457]\n",
      " [0.72854457 1.        ]]\n",
      "\n",
      "2. Weighted Mean Return:\n",
      "0.005221154716981131\n",
      "\n",
      "3. Weighted Scale Factor:\n",
      "[0.62839211]\n",
      "\n"
     ]
    }
   ],
   "source": [
    "ols_regression_model.get_metric()"
   ]
  },
  {
   "cell_type": "markdown",
   "metadata": {},
   "source": [
    "#### OLS w/ Interacting Terms"
   ]
  },
  {
   "cell_type": "code",
   "execution_count": 10,
   "metadata": {},
   "outputs": [
    {
     "name": "stdout",
     "output_type": "stream",
     "text": [
      "1. Weighted Correlation:\n",
      "[[1.         0.73491725]\n",
      " [0.73491725 1.        ]]\n",
      "\n",
      "2. Weighted Mean Return:\n",
      "0.005242186620926244\n",
      "\n",
      "3. Weighted Scale Factor:\n",
      "[0.63591755]\n",
      "\n"
     ]
    }
   ],
   "source": [
    "ols_interacting_model = helper.Regression('OLS')\n",
    "ols_interacting_model.execute(interaction_terms_train_df, RESPONSE_NAME, interaction_terms_test_df)\n",
    "ols_interacting_model.get_metric()"
   ]
  },
  {
   "cell_type": "markdown",
   "metadata": {},
   "source": [
    "#### LASSO"
   ]
  },
  {
   "cell_type": "code",
   "execution_count": 11,
   "metadata": {},
   "outputs": [
    {
     "name": "stderr",
     "output_type": "stream",
     "text": [
      "/Library/Frameworks/Python.framework/Versions/3.11/lib/python3.11/site-packages/sklearn/linear_model/_coordinate_descent.py:614: ConvergenceWarning: Objective did not converge. You might want to increase the number of iterations. Duality gap: 1.0401833624877621e-05, tolerance: 7.8081290168e-06\n",
      "  model = cd_fast.enet_coordinate_descent_gram(\n",
      "/Library/Frameworks/Python.framework/Versions/3.11/lib/python3.11/site-packages/sklearn/linear_model/_coordinate_descent.py:614: ConvergenceWarning: Objective did not converge. You might want to increase the number of iterations. Duality gap: 1.5080694954108798e-05, tolerance: 7.8081290168e-06\n",
      "  model = cd_fast.enet_coordinate_descent_gram(\n",
      "/Library/Frameworks/Python.framework/Versions/3.11/lib/python3.11/site-packages/sklearn/linear_model/_coordinate_descent.py:614: ConvergenceWarning: Objective did not converge. You might want to increase the number of iterations. Duality gap: 1.4147997432035347e-05, tolerance: 7.8081290168e-06\n",
      "  model = cd_fast.enet_coordinate_descent_gram(\n",
      "/Library/Frameworks/Python.framework/Versions/3.11/lib/python3.11/site-packages/sklearn/linear_model/_coordinate_descent.py:614: ConvergenceWarning: Objective did not converge. You might want to increase the number of iterations. Duality gap: 1.3926997872948377e-05, tolerance: 7.8081290168e-06\n",
      "  model = cd_fast.enet_coordinate_descent_gram(\n",
      "/Library/Frameworks/Python.framework/Versions/3.11/lib/python3.11/site-packages/sklearn/linear_model/_coordinate_descent.py:614: ConvergenceWarning: Objective did not converge. You might want to increase the number of iterations. Duality gap: 1.2506318470259514e-05, tolerance: 7.616718463e-06\n",
      "  model = cd_fast.enet_coordinate_descent_gram(\n",
      "/Library/Frameworks/Python.framework/Versions/3.11/lib/python3.11/site-packages/sklearn/linear_model/_coordinate_descent.py:614: ConvergenceWarning: Objective did not converge. You might want to increase the number of iterations. Duality gap: 1.3381740430230826e-05, tolerance: 7.616718463e-06\n",
      "  model = cd_fast.enet_coordinate_descent_gram(\n",
      "/Library/Frameworks/Python.framework/Versions/3.11/lib/python3.11/site-packages/sklearn/linear_model/_coordinate_descent.py:614: ConvergenceWarning: Objective did not converge. You might want to increase the number of iterations. Duality gap: 8.699320796039939e-06, tolerance: 7.616718463e-06\n",
      "  model = cd_fast.enet_coordinate_descent_gram(\n",
      "/Library/Frameworks/Python.framework/Versions/3.11/lib/python3.11/site-packages/sklearn/linear_model/_coordinate_descent.py:614: ConvergenceWarning: Objective did not converge. You might want to increase the number of iterations. Duality gap: 8.27998431845653e-06, tolerance: 7.616718463e-06\n",
      "  model = cd_fast.enet_coordinate_descent_gram(\n",
      "/Library/Frameworks/Python.framework/Versions/3.11/lib/python3.11/site-packages/sklearn/linear_model/_coordinate_descent.py:614: ConvergenceWarning: Objective did not converge. You might want to increase the number of iterations. Duality gap: 8.802442982625003e-06, tolerance: 7.616718463e-06\n",
      "  model = cd_fast.enet_coordinate_descent_gram(\n",
      "/Library/Frameworks/Python.framework/Versions/3.11/lib/python3.11/site-packages/sklearn/linear_model/_coordinate_descent.py:614: ConvergenceWarning: Objective did not converge. You might want to increase the number of iterations. Duality gap: 8.418603237511646e-06, tolerance: 7.069752974100005e-06\n",
      "  model = cd_fast.enet_coordinate_descent_gram(\n"
     ]
    },
    {
     "name": "stdout",
     "output_type": "stream",
     "text": [
      "1. Weighted Correlation:\n",
      "[[1.        0.7379731]\n",
      " [0.7379731 1.       ]]\n",
      "\n",
      "2. Weighted Mean Return:\n",
      "0.005155882675814751\n",
      "\n",
      "3. Weighted Scale Factor:\n",
      "[1.0640234]\n",
      "\n"
     ]
    }
   ],
   "source": [
    "lasso_model = helper.Regression('LASSO')\n",
    "lasso_model.execute(train_df, RESPONSE_NAME, test_df)\n",
    "lasso_model.get_metric()"
   ]
  },
  {
   "cell_type": "markdown",
   "metadata": {},
   "source": [
    "### XGBoost\n",
    "\n"
   ]
  },
  {
   "cell_type": "code",
   "execution_count": 13,
   "metadata": {},
   "outputs": [
    {
     "name": "stdout",
     "output_type": "stream",
     "text": [
      "1. Weighted Correlation:\n",
      "[[1.         0.73367871]\n",
      " [0.73367871 1.        ]]\n",
      "\n",
      "2. Weighted Mean Return:\n",
      "0.005332684048027444\n",
      "\n",
      "3. Weighted Scale Factor:\n",
      "[0.63871306]\n",
      "\n"
     ]
    },
    {
     "name": "stderr",
     "output_type": "stream",
     "text": [
      "/Library/Frameworks/Python.framework/Versions/3.11/lib/python3.11/site-packages/xgboost/core.py:726: FutureWarning: Pass `objective` as keyword args.\n",
      "  warnings.warn(msg, FutureWarning)\n"
     ]
    }
   ],
   "source": [
    "xgb_model = helper.Regression('XGB')\n",
    "xgb_model.execute(train_df, RESPONSE_NAME, test_df)\n",
    "xgb_model.get_metric()"
   ]
  }
 ],
 "metadata": {
  "kernelspec": {
   "display_name": "Python 3",
   "language": "python",
   "name": "python3"
  },
  "language_info": {
   "codemirror_mode": {
    "name": "ipython",
    "version": 3
   },
   "file_extension": ".py",
   "mimetype": "text/x-python",
   "name": "python",
   "nbconvert_exporter": "python",
   "pygments_lexer": "ipython3",
   "version": "3.11.5"
  }
 },
 "nbformat": 4,
 "nbformat_minor": 2
}
