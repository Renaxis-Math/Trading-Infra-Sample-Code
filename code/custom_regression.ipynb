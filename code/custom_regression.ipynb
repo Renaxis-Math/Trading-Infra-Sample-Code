{
 "cells": [
  {
   "cell_type": "markdown",
   "metadata": {},
   "source": [
    "### Imports"
   ]
  },
  {
   "cell_type": "code",
   "execution_count": null,
   "metadata": {},
   "outputs": [],
   "source": [
    "%pip install -r dependencies.txt"
   ]
  },
  {
   "cell_type": "code",
   "execution_count": 3,
   "metadata": {},
   "outputs": [
    {
     "data": {
      "text/plain": [
       "<module 'helper' from '/Users/mike/Documents/School/Fa23/Clinic/code/helper.py'>"
      ]
     },
     "execution_count": 3,
     "metadata": {},
     "output_type": "execute_result"
    }
   ],
   "source": [
    "import pandas as pd\n",
    "import numpy as np\n",
    "import sklearn\n",
    "import matplotlib.pyplot as plt\n",
    "import requests\n",
    "import scipy\n",
    "import importlib\n",
    "import helper, consts\n",
    "importlib.reload(consts)\n",
    "importlib.reload(helper)"
   ]
  },
  {
   "cell_type": "markdown",
   "metadata": {},
   "source": [
    "### CONSTANTS"
   ]
  },
  {
   "cell_type": "code",
   "execution_count": 4,
   "metadata": {},
   "outputs": [],
   "source": [
    "ROW = consts.ROW\n",
    "COL = consts.COL\n",
    "CLEANED_DATA_PATH = consts.CLEANED_DATA_PATH\n",
    "DATA_PATH = consts.RAW_DATA_PATH\n",
    "RESPONSE_NAME = consts.RESPONSE_NAME\n",
    "\n",
    "TRAIN_START_DATE = \"20150101\"\n",
    "TRAIN_END_DATE = \"20150601\" # Up to but not including\n",
    "TEST_START_DATE = \"20150701\"\n",
    "TEST_END_DATE = \"20150801\""
   ]
  },
  {
   "cell_type": "code",
   "execution_count": 5,
   "metadata": {},
   "outputs": [
    {
     "name": "stdout",
     "output_type": "stream",
     "text": [
      "1: OLS\n",
      "2: LASSO\n",
      "3: XGBOOST\n"
     ]
    }
   ],
   "source": [
    "REGRESSION_TYPES = helper.Regression('OLS').list_all_regression_types()\n",
    "REGRESSION_TYPES"
   ]
  },
  {
   "cell_type": "markdown",
   "metadata": {},
   "source": [
    "### Read data"
   ]
  },
  {
   "cell_type": "code",
   "execution_count": 6,
   "metadata": {},
   "outputs": [
    {
     "data": {
      "text/plain": [
       "('20140501', '20150531')"
      ]
     },
     "execution_count": 6,
     "metadata": {},
     "output_type": "execute_result"
    }
   ],
   "source": [
    "train_start, train_end  = helper.get_train_from_testday(TEST_START_DATE)\n",
    "train_start, train_end"
   ]
  },
  {
   "cell_type": "code",
   "execution_count": 7,
   "metadata": {},
   "outputs": [],
   "source": [
    "x_cols = [\"rrirpnxm_nt_0\", \"rrirpnxm_lst15_0\",\"rrirpnxm_lsthrx15_0\", \"rrirpnxm_toxhr_0\", \"relvol_nt_0\"]\n",
    "train_df = helper.get_df(TRAIN_START_DATE, TRAIN_END_DATE, x_cols)"
   ]
  },
  {
   "cell_type": "code",
   "execution_count": 8,
   "metadata": {},
   "outputs": [
    {
     "data": {
      "text/plain": [
       "<bound method DataFrame.info of       rrirpnxm_nt_0  rrirpnxm_lst15_0  rrirpnxm_lsthrx15_0  rrirpnxm_toxhr_0  \\\n",
       "0          0.000000          0.000000             0.000000          0.000000   \n",
       "1         -0.003448          0.001921             0.001569         -0.013866   \n",
       "2          0.000000         -0.002830            -0.001450          0.004245   \n",
       "3          0.000000          0.000000             0.000000          0.000000   \n",
       "4         -0.001338          0.005082            -0.000502         -0.010742   \n",
       "...             ...               ...                  ...               ...   \n",
       "3141      -0.021104         -0.002963            -0.008623          0.004042   \n",
       "3142      -0.002111         -0.002174            -0.002763          0.011052   \n",
       "3143       0.004007         -0.002899            -0.003872          0.006881   \n",
       "3144       0.000518         -0.003926            -0.002201          0.000419   \n",
       "3145       0.000000         -0.001642             0.001583          0.000000   \n",
       "\n",
       "      relvol_nt_0   tonight  \n",
       "0        0.000000 -0.000073  \n",
       "1        0.969491 -0.004306  \n",
       "2       -0.771546  0.004177  \n",
       "3        0.000000 -0.000073  \n",
       "4       -0.931449 -0.007763  \n",
       "...           ...       ...  \n",
       "3141    -1.431888 -0.009722  \n",
       "3142    -2.755713 -0.010842  \n",
       "3143    -0.630720 -0.000778  \n",
       "3144    -1.614069  0.006066  \n",
       "3145     0.000000  0.001281  \n",
       "\n",
       "[309918 rows x 6 columns]>"
      ]
     },
     "execution_count": 8,
     "metadata": {},
     "output_type": "execute_result"
    }
   ],
   "source": [
    "train_df.info"
   ]
  },
  {
   "cell_type": "markdown",
   "metadata": {},
   "source": [
    "### Interaction Terms"
   ]
  },
  {
   "cell_type": "code",
   "execution_count": 9,
   "metadata": {},
   "outputs": [],
   "source": [
    "# interactingTerms = [[\"relvol_nt_0\", col] for col in x_cols[:-1]]\n",
    "# interactingTerms"
   ]
  },
  {
   "cell_type": "code",
   "execution_count": 10,
   "metadata": {},
   "outputs": [],
   "source": [
    "# interactingTerms_df = helper.get_df_with_interaction_terms(train_df, interactingTerms)"
   ]
  },
  {
   "cell_type": "code",
   "execution_count": 11,
   "metadata": {},
   "outputs": [],
   "source": [
    "# interactingTerms_df.head()"
   ]
  },
  {
   "cell_type": "code",
   "execution_count": 12,
   "metadata": {},
   "outputs": [],
   "source": [
    "# rosy: making my own interacting terms\n",
    "\n",
    "# col_pairs = [\n",
    "#     ['relvol_nt_0', 'rrirpnxm_nt_0'],\n",
    "#     [\"relvol_lst15_0\", \"rrirpnxm_lst15_0\"],\n",
    "#     [\"relvol_toxhr_0\", \"rrirpnxm_toxhr_0\"],\n",
    "#     [\"relvol_lsthrx15_0\", \"rrirpnxm_lsthrx15_0\"],\n",
    "# ]\n",
    "# interaction_terms_train_df = helper.get_df_with_interaction_terms(train_df, col_pairs)\n",
    "# interaction_terms_test_df = helper.get_df_with_interaction_terms(test_df, col_pairs)"
   ]
  },
  {
   "cell_type": "markdown",
   "metadata": {},
   "source": [
    "### Transform the data if needed"
   ]
  },
  {
   "cell_type": "markdown",
   "metadata": {},
   "source": [
    "#### Ordinary Least Squares"
   ]
  },
  {
   "cell_type": "code",
   "execution_count": 18,
   "metadata": {},
   "outputs": [
    {
     "data": {
      "text/plain": [
       "array([ 3.82282182e-02,  8.60705708e-04, -5.26926641e-03, -6.02416012e-03,\n",
       "        3.63656242e-05,  4.00677571e-05])"
      ]
     },
     "execution_count": 18,
     "metadata": {},
     "output_type": "execute_result"
    }
   ],
   "source": [
    "ols_regression_model = helper.Regression('OLS')\n",
    "weights = helper.get_weights(train_df)\n",
    "model_attributes = ols_regression_model.train(train_df, RESPONSE_NAME, weights)\n",
    "model_attributes"
   ]
  },
  {
   "cell_type": "code",
   "execution_count": 19,
   "metadata": {},
   "outputs": [
    {
     "name": "stdout",
     "output_type": "stream",
     "text": [
      "Average Weighted Correlation: 0.5178389461797139\n",
      "Average Mean Return: 0.0002459467385268191\n",
      "Average weighted Scale Factor: 0.9629946679463024\n"
     ]
    },
    {
     "data": {
      "text/plain": [
       "(0.5178389461797139, 0.0002459467385268191, 0.9629946679463024)"
      ]
     },
     "execution_count": 19,
     "metadata": {},
     "output_type": "execute_result"
    }
   ],
   "source": [
    "ols_regression_model.evaluateModel(TEST_START_DATE, TEST_END_DATE, x_cols)"
   ]
  },
  {
   "cell_type": "markdown",
   "metadata": {},
   "source": [
    "#### OLS w/ Interacting Terms"
   ]
  },
  {
   "cell_type": "code",
   "execution_count": 15,
   "metadata": {},
   "outputs": [],
   "source": [
    "ols_interacting_model = helper.Regression('OLS')\n",
    "#ols_interacting_model.execute(interactingTerms_df, RESPONSE_NAME, interactingTerms_df)\n",
    "# ols_interacting_model.get_metric()"
   ]
  },
  {
   "cell_type": "markdown",
   "metadata": {},
   "source": [
    "#### LASSO"
   ]
  },
  {
   "cell_type": "code",
   "execution_count": 21,
   "metadata": {},
   "outputs": [
    {
     "ename": "TypeError",
     "evalue": "cannot unpack non-iterable float object",
     "output_type": "error",
     "traceback": [
      "\u001b[0;31m---------------------------------------------------------------------------\u001b[0m",
      "\u001b[0;31mTypeError\u001b[0m                                 Traceback (most recent call last)",
      "\u001b[1;32m/Users/mike/Documents/School/Fa23/Clinic/code/custom_regression.ipynb Cell 23\u001b[0m line \u001b[0;36m3\n\u001b[1;32m      <a href='vscode-notebook-cell:/Users/mike/Documents/School/Fa23/Clinic/code/custom_regression.ipynb#X31sZmlsZQ%3D%3D?line=0'>1</a>\u001b[0m lasso_model \u001b[39m=\u001b[39m helper\u001b[39m.\u001b[39mRegression(\u001b[39m'\u001b[39m\u001b[39mLASSO\u001b[39m\u001b[39m'\u001b[39m)\n\u001b[1;32m      <a href='vscode-notebook-cell:/Users/mike/Documents/School/Fa23/Clinic/code/custom_regression.ipynb#X31sZmlsZQ%3D%3D?line=1'>2</a>\u001b[0m weights \u001b[39m=\u001b[39m helper\u001b[39m.\u001b[39mget_weights(train_df)\n\u001b[0;32m----> <a href='vscode-notebook-cell:/Users/mike/Documents/School/Fa23/Clinic/code/custom_regression.ipynb#X31sZmlsZQ%3D%3D?line=2'>3</a>\u001b[0m lasso_model\u001b[39m.\u001b[39;49mtrain(train_df, RESPONSE_NAME, weights)\n\u001b[1;32m      <a href='vscode-notebook-cell:/Users/mike/Documents/School/Fa23/Clinic/code/custom_regression.ipynb#X31sZmlsZQ%3D%3D?line=3'>4</a>\u001b[0m lasso_model\u001b[39m.\u001b[39mevaluateModel(TEST_START_DATE, TEST_END_DATE, x_cols)\n",
      "File \u001b[0;32m~/Documents/School/Fa23/Clinic/code/helper.py:120\u001b[0m, in \u001b[0;36mRegression.train\u001b[0;34m(self, _train_df, _response_col_name, _sample_weight)\u001b[0m\n\u001b[1;32m    118\u001b[0m train_y \u001b[39m=\u001b[39m copied_train_df[_response_col_name]\n\u001b[1;32m    119\u001b[0m regression_function \u001b[39m=\u001b[39m \u001b[39mself\u001b[39m\u001b[39m.\u001b[39mavailableRegressionName_func_map[\u001b[39mself\u001b[39m\u001b[39m.\u001b[39mregression_type]   \n\u001b[0;32m--> 120\u001b[0m model_attributes \u001b[39m=\u001b[39m regression_function(train_X, train_y, _sample_weight) \n\u001b[1;32m    122\u001b[0m \u001b[39mreturn\u001b[39;00m model_attributes\n",
      "File \u001b[0;32m~/Documents/School/Fa23/Clinic/code/helper.py:59\u001b[0m, in \u001b[0;36mRegression.sklearn_LASSO_regression\u001b[0;34m(self, train_X, train_y, cv, sample_weight, allow_internal_update)\u001b[0m\n\u001b[1;32m     56\u001b[0m \u001b[39mfrom\u001b[39;00m \u001b[39msklearn\u001b[39;00m\u001b[39m.\u001b[39;00m\u001b[39mlinear_model\u001b[39;00m \u001b[39mimport\u001b[39;00m LassoCV\n\u001b[1;32m     58\u001b[0m model \u001b[39m=\u001b[39m LassoCV(cv\u001b[39m=\u001b[39mcv, fit_intercept\u001b[39m=\u001b[39m\u001b[39mFalse\u001b[39;00m) \u001b[39m# Higher cv, Lower bias\u001b[39;00m\n\u001b[0;32m---> 59\u001b[0m model\u001b[39m.\u001b[39;49mfit(X\u001b[39m=\u001b[39;49mtrain_X, y\u001b[39m=\u001b[39;49mtrain_y, sample_weight\u001b[39m=\u001b[39;49msample_weight)\n\u001b[1;32m     60\u001b[0m \u001b[39mif\u001b[39;00m allow_internal_update: \u001b[39mself\u001b[39m\u001b[39m.\u001b[39mmodel \u001b[39m=\u001b[39m model\n\u001b[1;32m     61\u001b[0m \u001b[39mreturn\u001b[39;00m model\u001b[39m.\u001b[39mcoef_\n",
      "File \u001b[0;32m/usr/local/lib/python3.10/site-packages/sklearn/base.py:1151\u001b[0m, in \u001b[0;36m_fit_context.<locals>.decorator.<locals>.wrapper\u001b[0;34m(estimator, *args, **kwargs)\u001b[0m\n\u001b[1;32m   1144\u001b[0m     estimator\u001b[39m.\u001b[39m_validate_params()\n\u001b[1;32m   1146\u001b[0m \u001b[39mwith\u001b[39;00m config_context(\n\u001b[1;32m   1147\u001b[0m     skip_parameter_validation\u001b[39m=\u001b[39m(\n\u001b[1;32m   1148\u001b[0m         prefer_skip_nested_validation \u001b[39mor\u001b[39;00m global_skip_validation\n\u001b[1;32m   1149\u001b[0m     )\n\u001b[1;32m   1150\u001b[0m ):\n\u001b[0;32m-> 1151\u001b[0m     \u001b[39mreturn\u001b[39;00m fit_method(estimator, \u001b[39m*\u001b[39;49margs, \u001b[39m*\u001b[39;49m\u001b[39m*\u001b[39;49mkwargs)\n",
      "File \u001b[0;32m/usr/local/lib/python3.10/site-packages/sklearn/linear_model/_coordinate_descent.py:1640\u001b[0m, in \u001b[0;36mLinearModelCV.fit\u001b[0;34m(self, X, y, sample_weight)\u001b[0m\n\u001b[1;32m   1637\u001b[0m cv \u001b[39m=\u001b[39m check_cv(\u001b[39mself\u001b[39m\u001b[39m.\u001b[39mcv)\n\u001b[1;32m   1639\u001b[0m \u001b[39m# Compute path for all folds and compute MSE to get the best alpha\u001b[39;00m\n\u001b[0;32m-> 1640\u001b[0m folds \u001b[39m=\u001b[39m \u001b[39mlist\u001b[39;49m(cv\u001b[39m.\u001b[39;49msplit(X, y))\n\u001b[1;32m   1641\u001b[0m best_mse \u001b[39m=\u001b[39m np\u001b[39m.\u001b[39minf\n\u001b[1;32m   1643\u001b[0m \u001b[39m# We do a double for loop folded in one, in order to be able to\u001b[39;00m\n\u001b[1;32m   1644\u001b[0m \u001b[39m# iterate in parallel on l1_ratio and folds\u001b[39;00m\n",
      "File \u001b[0;32m/usr/local/lib/python3.10/site-packages/sklearn/model_selection/_split.py:2437\u001b[0m, in \u001b[0;36m_CVIterableWrapper.split\u001b[0;34m(self, X, y, groups)\u001b[0m\n\u001b[1;32m   2415\u001b[0m \u001b[39mdef\u001b[39;00m \u001b[39msplit\u001b[39m(\u001b[39mself\u001b[39m, X\u001b[39m=\u001b[39m\u001b[39mNone\u001b[39;00m, y\u001b[39m=\u001b[39m\u001b[39mNone\u001b[39;00m, groups\u001b[39m=\u001b[39m\u001b[39mNone\u001b[39;00m):\n\u001b[1;32m   2416\u001b[0m \u001b[39m    \u001b[39m\u001b[39m\"\"\"Generate indices to split data into training and test set.\u001b[39;00m\n\u001b[1;32m   2417\u001b[0m \n\u001b[1;32m   2418\u001b[0m \u001b[39m    Parameters\u001b[39;00m\n\u001b[0;32m   (...)\u001b[0m\n\u001b[1;32m   2435\u001b[0m \u001b[39m        The testing set indices for that split.\u001b[39;00m\n\u001b[1;32m   2436\u001b[0m \u001b[39m    \"\"\"\u001b[39;00m\n\u001b[0;32m-> 2437\u001b[0m     \u001b[39mfor\u001b[39;00m train, test \u001b[39min\u001b[39;00m \u001b[39mself\u001b[39m\u001b[39m.\u001b[39mcv:\n\u001b[1;32m   2438\u001b[0m         \u001b[39myield\u001b[39;00m train, test\n",
      "\u001b[0;31mTypeError\u001b[0m: cannot unpack non-iterable float object"
     ]
    }
   ],
   "source": [
    "lasso_model = helper.Regression('LASSO')\n",
    "weights = helper.get_weights(train_df)\n",
    "lasso_model.train(train_df, RESPONSE_NAME) # bug, LASSO doesn't take in weights\n",
    "lasso_model.evaluateModel(TEST_START_DATE, TEST_END_DATE, x_cols)"
   ]
  },
  {
   "cell_type": "markdown",
   "metadata": {},
   "source": [
    "### XGBoost\n",
    "\n"
   ]
  },
  {
   "cell_type": "code",
   "execution_count": 22,
   "metadata": {},
   "outputs": [
    {
     "name": "stderr",
     "output_type": "stream",
     "text": [
      "/usr/local/lib/python3.10/site-packages/xgboost/core.py:726: FutureWarning: Pass `objective` as keyword args.\n",
      "  warnings.warn(msg, FutureWarning)\n"
     ]
    },
    {
     "name": "stdout",
     "output_type": "stream",
     "text": [
      "Average Weighted Correlation: 0.5178389460065874\n",
      "Average Mean Return: 0.0002459467385268191\n",
      "Average weighted Scale Factor: 0.9629945158958435\n"
     ]
    },
    {
     "data": {
      "text/plain": [
       "(0.5178389460065874, 0.0002459467385268191, 0.9629945)"
      ]
     },
     "execution_count": 22,
     "metadata": {},
     "output_type": "execute_result"
    }
   ],
   "source": [
    "xgb_model = helper.Regression('XGboost')\n",
    "weights = helper.get_weights(train_df)\n",
    "xgb_model.train(train_df, RESPONSE_NAME, weights)\n",
    "xgb_model.evaluateModel(TEST_START_DATE, TEST_END_DATE, x_cols)"
   ]
  }
 ],
 "metadata": {
  "kernelspec": {
   "display_name": "Python 3",
   "language": "python",
   "name": "python3"
  },
  "language_info": {
   "codemirror_mode": {
    "name": "ipython",
    "version": 3
   },
   "file_extension": ".py",
   "mimetype": "text/x-python",
   "name": "python",
   "nbconvert_exporter": "python",
   "pygments_lexer": "ipython3",
   "version": "3.10.12"
  },
  "vscode": {
   "interpreter": {
    "hash": "b0fa6594d8f4cbf19f97940f81e996739fb7646882a419484c72d19e05852a7e"
   }
  }
 },
 "nbformat": 4,
 "nbformat_minor": 2
}
